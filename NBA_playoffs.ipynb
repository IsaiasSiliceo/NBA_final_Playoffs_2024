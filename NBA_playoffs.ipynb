{
 "cells": [
  {
   "cell_type": "code",
   "execution_count": 2,
   "metadata": {},
   "outputs": [],
   "source": [
    "# Packages\n",
    "\n",
    "# Datos\n",
    "import pandas as pd\n",
    "import numpy as np\n",
    "from scipy import stats \n",
    "import copy\n",
    "import pingouin as pg\n",
    "\n",
    "# Análisis de Factores\n",
    "from sklearn.decomposition import FactorAnalysis\n",
    "\n",
    "# Visualizaciones\n",
    "import plotly.express as px\n",
    "import seaborn as sb\n",
    "\n",
    "pd.DataFrame.iteritems = pd.DataFrame.items\n",
    "\n",
    "\n",
    "DATA_PATH = '/home/chay/EstadisticaMultivariada/NBA_Playoffs/data/'"
   ]
  },
  {
   "cell_type": "markdown",
   "metadata": {},
   "source": [
    "# Análisis de Factores para los finalistas de los Playoffs NBA 2023-2024\n",
    "\n",
    "Autores:\n",
    "- Guillermo Sierra Vargas\n",
    "- Isaias Siliceo Guzmán\n",
    "\n",
    "\n",
    "Estadística Multivariada\n",
    "11/06/2024"
   ]
  },
  {
   "cell_type": "markdown",
   "metadata": {},
   "source": [
    "# Funciones"
   ]
  },
  {
   "cell_type": "code",
   "execution_count": 3,
   "metadata": {},
   "outputs": [],
   "source": [
    "# Función para graficar una matriz de correlaciones en un mapa de calor\n",
    "def plot_heatmap(Corr_mtx):\n",
    "    sb.set_theme(rc={'figure.figsize':(10,8)})\n",
    "    sb.heatmap(Corr_mtx, cmap=\"YlGnBu\", annot=False) "
   ]
  },
  {
   "cell_type": "code",
   "execution_count": 4,
   "metadata": {},
   "outputs": [],
   "source": [
    "def plot_relations(df,dims,color):\n",
    "    fig = px.scatter_matrix(df,dimensions=dims,\n",
    "                       title='Diagrama de dispersión multiple',color=color)\n",
    "    fig.update_layout(\n",
    "        autosize=False,\n",
    "        width=800,\n",
    "        height=800\n",
    "    )\n",
    "    fig.show()"
   ]
  },
  {
   "cell_type": "code",
   "execution_count": 5,
   "metadata": {},
   "outputs": [],
   "source": [
    "# Función para ordenar los eigenvectors de acuerdo a los eigenvalues\n",
    "def sorted_eig(evals,evecs):\n",
    "    # Se obtienen los índices de los evals en orden de mayor a menor\n",
    "    idx = evals.argsort()[::-1]\n",
    "    # Se ordenan los eigenvalores de mayor a menor\n",
    "    evals = evals[idx]\n",
    "    # Se ordenan los eigenvectores de mayor a menor\n",
    "    evecs = evecs[:,idx]\n",
    "    # Se seleccionan aquellos mayores a cero\n",
    "    evals = evals[evals>0]\n",
    "    # Se ordenan en un arreglo\n",
    "    evecs = np.array([list(evecs[:,i]) for i in range(len(evals))])\n",
    "    evecs = evecs.T\n",
    "\n",
    "    return evals, evecs"
   ]
  },
  {
   "cell_type": "code",
   "execution_count": 6,
   "metadata": {},
   "outputs": [],
   "source": [
    "# Implementation of principal component method to estimate Loading matrix\n",
    "def principal_comp_method(m,evals, evecs):\n",
    "    # Build the estimated loading matrix L\n",
    "    #Lr = np.array([np.dot(np.sqrt(evals[i]),evecs[:,i]) for i in range(m)]).T\n",
    "    Lr = np.array([np.dot(np.sqrt(evals[i]),evecs[i]) for i in range(m)])\n",
    "\n",
    "    # Renormalizamos los vectores de Lr\n",
    "    Lr = np.array([Lr[i]/np.linalg.norm(Lr[i]) for i in range(len(Lr))]).T\n",
    "    \n",
    "    # Estimate the communalities by a sum over \n",
    "    communalities = np.sum(Lr**2,axis=1)\n",
    "\n",
    "    Psi = np.ones(len(communalities))-communalities\n",
    "    \n",
    "    # Return Lr and communalities\n",
    "    return Lr, communalities, Psi"
   ]
  },
  {
   "cell_type": "code",
   "execution_count": 107,
   "metadata": {},
   "outputs": [],
   "source": [
    "\"\"\" Método del factor principal\n",
    "    para estimar la matriz de cargas\n",
    "    Input: Matriz S o R\n",
    "           eps \n",
    "    Output: Matriz de cargas Lr\n",
    "           Communalities\n",
    "\n",
    "    If corr is set to False the method is applied with Covariance matrix\n",
    "    If corr is set to True, first we compute the correlation matrix.\n",
    "    \"\"\"\n",
    "def principal_factor_method(mtx,m_val,eps,corr):\n",
    "    \n",
    "    # If corr True, then we compute the correlation matrix\n",
    "    dim = len(mtx)\n",
    "    if (corr == True):\n",
    "        D = 1 /np.sqrt(np.diag(mtx))*np.eye(dim)\n",
    "        mtx = np.dot(D,np.dot(mtx,D))\n",
    "        # Compute the inverse of mtx\n",
    "        mtx_inv = np.linalg.inv(mtx)\n",
    "        # Compute the first communalities\n",
    "        communalities0 = [1 - 1/mtx_inv[i,i] for i in range(dim)]\n",
    "    else:\n",
    "        mtx_inv = np.linalg.inv(mtx)\n",
    "        # Compute the first communalities\n",
    "        communalities0 = [np.diag(mtx)[i] - 1/mtx_inv[i,i] for i in range(dim)]\n",
    "    \n",
    "    # Substitute communalities into original matrix diagonal\n",
    "    mtx_r0 = mtx - np.diag(mtx)*np.eye(dim) + communalities0*np.eye(dim)\n",
    "    # Compute the eigenvalues and eigenvectors of the reduced matrix\n",
    "    evals_0, evecs_0 = np.linalg.eig(mtx_r0)\n",
    "    #print(evals_0)\n",
    "    # Sort and filter the eigenvalues and eigenvectors\n",
    "    evals_0, evecs_0 = sorted_eig(evals_0,evecs_0)\n",
    "    #print(evals_0)\n",
    "    # Build the reduced loading matrix Lr_0\n",
    "    Lr_0 = np.array([np.sqrt(evals_0[i])*evecs_0[:,i] for i in range(m_val)]).T\n",
    "    #print(Lr_0)\n",
    "    # Initialize eps1\n",
    "    eps1 = eps+1;\n",
    "    while(eps < eps1):\n",
    "        # Compute the new communalities from Lr_0\n",
    "        communalities1 = np.diag(np.dot(Lr_0,Lr_0.T))\n",
    "        #print(communalities1)\n",
    "        # Compute the new reduced correlation matrix\n",
    "        mtx_r1 = mtx_r0 - np.diag(mtx_r0)*np.eye(dim) + communalities1*np.eye(dim)\n",
    "        # Compute the eigenvalues and eigenvectors of the new reduced matrix\n",
    "        evals_1, evecs_1 = np.linalg.eig(mtx_r1)\n",
    "        #print(evals_1)\n",
    "        # Sort and filter the new eigenvalues and eigenvectors\n",
    "        evals_1, evecs_1 = sorted_eig(evals_1,evecs_1)\n",
    "        # Build the reduced loading matrix Lr_1\n",
    "        Lr_1 = np.array([np.sqrt(evals_1[i])*evecs_1[:,i] for i in range(m_val)]).T\n",
    "        # Compute the L1 norm of ||Lr_1-Lr_0||\n",
    "        eps1 = max(abs(np.sum(Lr_1-Lr_0,axis=0)))\n",
    "        # The new loading matrix is now the initial loading matrix\n",
    "        Lr_0  = Lr_1\n",
    "        # The new reduced matrix is now the initial reduced matrix\n",
    "        mtx_r0 = mtx_r1\n",
    "    \n",
    "    Psi = np.ones(len(communalities1))-communalities1\n",
    "\n",
    "    return Lr_1, communalities1, Psi\n",
    "\n",
    "# Function to print the information i.e. Loading matrix, Communalities,\n",
    "# Specific variances, Variance percentage of each variables, cumulative variance.\n",
    "def print_info(m,p,Lmtx,com_mtx):\n",
    "    print('Matriz de cargas para m=%d'%(m))\n",
    "    for i in range(m):\n",
    "        print('\\tF%d\\t'%(i+1),end=' ')\n",
    "    \n",
    "    print('\\n',np.round(Lmtx,3))\n",
    "    print('\\n Comunalidades \\t Varianzas Específicas')\n",
    "    for i in range(p):\n",
    "        print('h'+str(i+1)+'^2 = ',np.round(com_mtx[i],2),end='\\t')\n",
    "        print('psi'+str(i+1)+' = ',np.round(1-com_mtx[i],2))\n",
    "\n",
    "\n",
    "def print_info2(m,p,com_mtx,cum_var):\n",
    "    print('\\nPorcentaje que supone la comunalidad \\nrespecto a la varianza de cada variable. (hi^2/Var(Xi))*100%')\n",
    "    for i in range(p):\n",
    "        print('h%d^2/var(X%d)'%(i+1,i+1)+'= ',np.round(com_mtx[i],2)*100,'%')\n",
    "\n",
    "    print('\\nVarianza acumulada para m=%d factores y p=%d variables'%(m,p))\n",
    "    for i in range(m):\n",
    "        print('var_acum%d = %f'%(i+1,cum_var[i]))"
   ]
  },
  {
   "cell_type": "code",
   "execution_count": 99,
   "metadata": {},
   "outputs": [],
   "source": [
    "# Function to compute the Fscores using the result of weighted least squares\n",
    "def factor_scores_LS(Lz,psi,Xdat):\n",
    "    fact_scores =np.array([\n",
    "        np.dot(np.dot(np.linalg.inv(np.dot(Lz.T,np.dot(np.linalg.inv(psi),Lz))),np.dot(Lz.T,np.linalg.inv(psi))),Xdat.loc[[i]].T)\n",
    "        for i in range(len(Xdat))\n",
    "    ])\n",
    "    fact_scores = fact_scores.reshape(len(Xdat),len(Lz[0]))\n",
    "    return fact_scores\n",
    "\n",
    "# Function to compute the Fscores using the result of Regression\n",
    "def factor_scores_Reg(Lz,psi,Xdat):\n",
    "    fact_scores =np.array([\n",
    "        np.dot(np.dot(Lz.T,np.linalg.inv(np.dot(Lz,Lz.T)+psi)),Xdat.loc[[i]].T)\n",
    "        for i in range(len(Xdat))\n",
    "    ])\n",
    "    fact_scores = fact_scores.reshape(len(Xdat),len(Lz[0]))\n",
    "    return fact_scores\n",
    "\n",
    "def argmax_of_three(row):\n",
    "    return row[[0,1,2]].idxmax()"
   ]
  },
  {
   "cell_type": "code",
   "execution_count": 118,
   "metadata": {},
   "outputs": [],
   "source": [
    "def plot_FA(df,f1,f2,labels,names,position,legend_title):\n",
    "    \n",
    "    fig = px.scatter(df, x=f1, y=f2,text=names,color=position\n",
    "                 ,width=800, height=700,custom_data=['Player','Team','Pos','Age','Ht','Wt','PPG','RPG','APG','PIE'])\n",
    "\n",
    "    fig.update_layout(\n",
    "        legend_title_text=legend_title,\n",
    "        title= 'Proyección de Jugadores',\n",
    "        xaxis_title = labels[0],\n",
    "        yaxis_title = labels[1],\n",
    "        font=dict(\n",
    "            family=\"Courier New, monospace\",\n",
    "            size=18,  # Set the font size here\n",
    "        )\n",
    "    )\n",
    "    fig.update_traces(marker=dict(size=20),textposition='bottom center',textfont_size=14,\n",
    "                      hovertemplate=\"<b style='font-size:16px; color:#000000;'> %{customdata[0]}</b><br>\"+\"Team: %{customdata[1]}<br>\" +\n",
    "                      \"Position: %{customdata[2]}<br>\"+\"Age: %{customdata[3]} years<br>\"+\"Height: %{customdata[4]} m<br>\"\n",
    "                      +\"Weight: %{customdata[5]} kg<br>\"+\"PPG: %{customdata[6]}<br>\"\n",
    "                      +\"RPG: %{customdata[7]}<br>\"+\"APG: %{customdata[8]}<br>\"+\"PIE: %{customdata[9]}<br>\"+\"<extra></extra>\")\n",
    "    fig.show()"
   ]
  },
  {
   "cell_type": "code",
   "execution_count": 139,
   "metadata": {},
   "outputs": [],
   "source": [
    "# Function to fit Factor Analysis model using Maximum Likelihood estimate\n",
    "# and a certain rotation\n",
    "def fit_FA(Xdat,m_fctrs, rot):\n",
    "    transformer = FactorAnalysis(n_components=m_fctrs, random_state=0,rotation=rot)\n",
    "    transformer.fit(Xdat)\n",
    "\n",
    "    # Compute the Loading matrix\n",
    "    Lmtx = transformer.components_.T\n",
    "\n",
    "    # Specific variance matrix\n",
    "    PsiE = transformer.noise_variance_\n",
    "    \n",
    "    return Lmtx, PsiE"
   ]
  },
  {
   "cell_type": "code",
   "execution_count": 156,
   "metadata": {},
   "outputs": [],
   "source": [
    "# Level of significance \n",
    "alpha_5 = 0.05\n",
    "\n",
    "# Function to prove hypothesis \n",
    "def decision(n,p,m,Lmtx,Psi,Rmtx,alpha):\n",
    "    left_val = (n-1-(2*p+4*m+5)/6)\n",
    "    deg_freedom = ((p-m)**2-p-m)/2\n",
    "    print('Grados de libertad: ',deg_freedom)\n",
    "    chi_5m = stats.chi2.ppf(1-alpha, deg_freedom)\n",
    "    print('Estadístico Chi cuadrado',chi_5m)\n",
    "    detL = np.linalg.det(np.dot(Lmtx,Lmtx.T)+Psi*np.eye(len(Rmtx)))\n",
    "    detR = np.linalg.det(Rmtx)\n",
    "    statistic = left_val * np.log(detL/detR)\n",
    "    decision = statistic > chi_5m\n",
    "\n",
    "    if (decision == True):\n",
    "        print('El valor del estadístico de prueba es:',statistic)\n",
    "        print('%f > %f'%(statistic,chi_5m))\n",
    "        print('De modo, que la hipótesis H0 se rechaza con un grado de confianza de',1-alpha)\n",
    "    else:\n",
    "        print('El valor del estadístico de prueba es:',statistic)\n",
    "        print('%f < %f'%(statistic,chi_5m))\n",
    "        print('De modo, que la hipótesis H0 NO se rechaza con un grado de confianza de ',1-alpha)"
   ]
  },
  {
   "cell_type": "markdown",
   "metadata": {},
   "source": [
    "# Lectura de datos"
   ]
  },
  {
   "cell_type": "code",
   "execution_count": 8,
   "metadata": {},
   "outputs": [],
   "source": [
    "# Se leen los datos de los jugadores \n",
    "Boston = pd.read_excel(DATA_PATH+'L15_Games.xlsx',sheet_name=0)\n",
    "Dallas = pd.read_excel(DATA_PATH+'L15_Games.xlsx',sheet_name=1)"
   ]
  },
  {
   "cell_type": "code",
   "execution_count": 9,
   "metadata": {},
   "outputs": [
    {
     "data": {
      "text/plain": [
       "Index(['Player', 'Team', 'Pos', 'Age', 'Ht', 'Wt', 'Exp', 'Country', 'PPG',\n",
       "       'RPG', 'APG', 'PIE'],\n",
       "      dtype='object')"
      ]
     },
     "execution_count": 9,
     "metadata": {},
     "output_type": "execute_result"
    }
   ],
   "source": [
    "# Concatenamos los datos de Boston y Dallas en un solo dataframe.\n",
    "# Además, se seleccionan sólo las primeras 16 columnas\n",
    "Celtics = Boston.iloc[:,:12]\n",
    "Mavericks = Dallas.iloc[:,:12]\n",
    "Players = pd.concat([Celtics,Mavericks],axis=0)\n",
    "Players.columns"
   ]
  },
  {
   "cell_type": "code",
   "execution_count": 10,
   "metadata": {},
   "outputs": [
    {
     "data": {
      "text/html": [
       "<div>\n",
       "<style scoped>\n",
       "    .dataframe tbody tr th:only-of-type {\n",
       "        vertical-align: middle;\n",
       "    }\n",
       "\n",
       "    .dataframe tbody tr th {\n",
       "        vertical-align: top;\n",
       "    }\n",
       "\n",
       "    .dataframe thead th {\n",
       "        text-align: right;\n",
       "    }\n",
       "</style>\n",
       "<table border=\"1\" class=\"dataframe\">\n",
       "  <thead>\n",
       "    <tr style=\"text-align: right;\">\n",
       "      <th></th>\n",
       "      <th>Player</th>\n",
       "      <th>Team</th>\n",
       "      <th>Pos</th>\n",
       "      <th>Age</th>\n",
       "      <th>Ht</th>\n",
       "      <th>Wt</th>\n",
       "      <th>Exp</th>\n",
       "      <th>Country</th>\n",
       "      <th>PPG</th>\n",
       "      <th>RPG</th>\n",
       "      <th>APG</th>\n",
       "      <th>PIE</th>\n",
       "    </tr>\n",
       "  </thead>\n",
       "  <tbody>\n",
       "    <tr>\n",
       "      <th>0</th>\n",
       "      <td>Jayson Tatum</td>\n",
       "      <td>BOS</td>\n",
       "      <td>F-G</td>\n",
       "      <td>26</td>\n",
       "      <td>2.03</td>\n",
       "      <td>95</td>\n",
       "      <td>6</td>\n",
       "      <td>USA</td>\n",
       "      <td>26.9</td>\n",
       "      <td>8.1</td>\n",
       "      <td>4.9</td>\n",
       "      <td>15.5</td>\n",
       "    </tr>\n",
       "    <tr>\n",
       "      <th>1</th>\n",
       "      <td>Jaylen Brown</td>\n",
       "      <td>BOS</td>\n",
       "      <td>F</td>\n",
       "      <td>27</td>\n",
       "      <td>1.98</td>\n",
       "      <td>101</td>\n",
       "      <td>7</td>\n",
       "      <td>USA</td>\n",
       "      <td>23.0</td>\n",
       "      <td>5.5</td>\n",
       "      <td>3.6</td>\n",
       "      <td>11.6</td>\n",
       "    </tr>\n",
       "    <tr>\n",
       "      <th>2</th>\n",
       "      <td>Derrick White</td>\n",
       "      <td>BOS</td>\n",
       "      <td>G</td>\n",
       "      <td>29</td>\n",
       "      <td>1.93</td>\n",
       "      <td>86</td>\n",
       "      <td>6</td>\n",
       "      <td>USA</td>\n",
       "      <td>15.2</td>\n",
       "      <td>4.2</td>\n",
       "      <td>5.2</td>\n",
       "      <td>10.6</td>\n",
       "    </tr>\n",
       "    <tr>\n",
       "      <th>3</th>\n",
       "      <td>Jrue Holiday</td>\n",
       "      <td>BOS</td>\n",
       "      <td>G</td>\n",
       "      <td>33</td>\n",
       "      <td>1.93</td>\n",
       "      <td>93</td>\n",
       "      <td>14</td>\n",
       "      <td>USA</td>\n",
       "      <td>12.5</td>\n",
       "      <td>5.4</td>\n",
       "      <td>4.8</td>\n",
       "      <td>9.9</td>\n",
       "    </tr>\n",
       "    <tr>\n",
       "      <th>4</th>\n",
       "      <td>Al Horford</td>\n",
       "      <td>BOS</td>\n",
       "      <td>C-F</td>\n",
       "      <td>38</td>\n",
       "      <td>2.06</td>\n",
       "      <td>109</td>\n",
       "      <td>16</td>\n",
       "      <td>DOM</td>\n",
       "      <td>8.6</td>\n",
       "      <td>6.4</td>\n",
       "      <td>2.6</td>\n",
       "      <td>10.5</td>\n",
       "    </tr>\n",
       "  </tbody>\n",
       "</table>\n",
       "</div>"
      ],
      "text/plain": [
       "          Player Team  Pos  Age    Ht   Wt  Exp Country   PPG  RPG  APG   PIE\n",
       "0   Jayson Tatum  BOS  F-G   26  2.03   95    6     USA  26.9  8.1  4.9  15.5\n",
       "1   Jaylen Brown  BOS    F   27  1.98  101    7     USA  23.0  5.5  3.6  11.6\n",
       "2  Derrick White  BOS    G   29  1.93   86    6     USA  15.2  4.2  5.2  10.6\n",
       "3   Jrue Holiday  BOS    G   33  1.93   93   14     USA  12.5  5.4  4.8   9.9\n",
       "4     Al Horford  BOS  C-F   38  2.06  109   16     DOM   8.6  6.4  2.6  10.5"
      ]
     },
     "execution_count": 10,
     "metadata": {},
     "output_type": "execute_result"
    }
   ],
   "source": [
    "Players.head()"
   ]
  },
  {
   "cell_type": "code",
   "execution_count": 12,
   "metadata": {},
   "outputs": [
    {
     "data": {
      "text/html": [
       "<div>\n",
       "<style scoped>\n",
       "    .dataframe tbody tr th:only-of-type {\n",
       "        vertical-align: middle;\n",
       "    }\n",
       "\n",
       "    .dataframe tbody tr th {\n",
       "        vertical-align: top;\n",
       "    }\n",
       "\n",
       "    .dataframe thead th {\n",
       "        text-align: right;\n",
       "    }\n",
       "</style>\n",
       "<table border=\"1\" class=\"dataframe\">\n",
       "  <thead>\n",
       "    <tr style=\"text-align: right;\">\n",
       "      <th></th>\n",
       "      <th>Age</th>\n",
       "      <th>Ht</th>\n",
       "      <th>Wt</th>\n",
       "      <th>Exp</th>\n",
       "      <th>PPG</th>\n",
       "      <th>RPG</th>\n",
       "      <th>APG</th>\n",
       "      <th>PIE</th>\n",
       "    </tr>\n",
       "  </thead>\n",
       "  <tbody>\n",
       "    <tr>\n",
       "      <th>count</th>\n",
       "      <td>28.00</td>\n",
       "      <td>28.00</td>\n",
       "      <td>28.00</td>\n",
       "      <td>28.00</td>\n",
       "      <td>28.00</td>\n",
       "      <td>28.00</td>\n",
       "      <td>28.00</td>\n",
       "      <td>28.00</td>\n",
       "    </tr>\n",
       "    <tr>\n",
       "      <th>mean</th>\n",
       "      <td>26.68</td>\n",
       "      <td>2.01</td>\n",
       "      <td>98.54</td>\n",
       "      <td>5.39</td>\n",
       "      <td>10.82</td>\n",
       "      <td>4.29</td>\n",
       "      <td>2.37</td>\n",
       "      <td>9.76</td>\n",
       "    </tr>\n",
       "    <tr>\n",
       "      <th>std</th>\n",
       "      <td>4.29</td>\n",
       "      <td>0.08</td>\n",
       "      <td>8.94</td>\n",
       "      <td>3.98</td>\n",
       "      <td>8.19</td>\n",
       "      <td>2.13</td>\n",
       "      <td>2.06</td>\n",
       "      <td>3.32</td>\n",
       "    </tr>\n",
       "    <tr>\n",
       "      <th>min</th>\n",
       "      <td>20.00</td>\n",
       "      <td>1.85</td>\n",
       "      <td>81.00</td>\n",
       "      <td>0.00</td>\n",
       "      <td>1.70</td>\n",
       "      <td>1.20</td>\n",
       "      <td>0.50</td>\n",
       "      <td>5.50</td>\n",
       "    </tr>\n",
       "    <tr>\n",
       "      <th>25%</th>\n",
       "      <td>24.75</td>\n",
       "      <td>1.96</td>\n",
       "      <td>92.75</td>\n",
       "      <td>2.75</td>\n",
       "      <td>5.08</td>\n",
       "      <td>3.12</td>\n",
       "      <td>1.00</td>\n",
       "      <td>7.68</td>\n",
       "    </tr>\n",
       "    <tr>\n",
       "      <th>50%</th>\n",
       "      <td>26.00</td>\n",
       "      <td>2.01</td>\n",
       "      <td>96.00</td>\n",
       "      <td>5.00</td>\n",
       "      <td>8.60</td>\n",
       "      <td>3.70</td>\n",
       "      <td>1.60</td>\n",
       "      <td>8.95</td>\n",
       "    </tr>\n",
       "    <tr>\n",
       "      <th>75%</th>\n",
       "      <td>28.25</td>\n",
       "      <td>2.06</td>\n",
       "      <td>106.75</td>\n",
       "      <td>7.00</td>\n",
       "      <td>13.28</td>\n",
       "      <td>5.52</td>\n",
       "      <td>3.02</td>\n",
       "      <td>11.38</td>\n",
       "    </tr>\n",
       "    <tr>\n",
       "      <th>max</th>\n",
       "      <td>38.00</td>\n",
       "      <td>2.18</td>\n",
       "      <td>113.00</td>\n",
       "      <td>16.00</td>\n",
       "      <td>33.90</td>\n",
       "      <td>9.20</td>\n",
       "      <td>9.80</td>\n",
       "      <td>20.00</td>\n",
       "    </tr>\n",
       "  </tbody>\n",
       "</table>\n",
       "</div>"
      ],
      "text/plain": [
       "         Age     Ht      Wt    Exp    PPG    RPG    APG    PIE\n",
       "count  28.00  28.00   28.00  28.00  28.00  28.00  28.00  28.00\n",
       "mean   26.68   2.01   98.54   5.39  10.82   4.29   2.37   9.76\n",
       "std     4.29   0.08    8.94   3.98   8.19   2.13   2.06   3.32\n",
       "min    20.00   1.85   81.00   0.00   1.70   1.20   0.50   5.50\n",
       "25%    24.75   1.96   92.75   2.75   5.08   3.12   1.00   7.68\n",
       "50%    26.00   2.01   96.00   5.00   8.60   3.70   1.60   8.95\n",
       "75%    28.25   2.06  106.75   7.00  13.28   5.52   3.02  11.38\n",
       "max    38.00   2.18  113.00  16.00  33.90   9.20   9.80  20.00"
      ]
     },
     "execution_count": 12,
     "metadata": {},
     "output_type": "execute_result"
    }
   ],
   "source": [
    "# Se calculan esstadísticos relevantes\n",
    "np.round(Players.describe(),2)"
   ]
  },
  {
   "cell_type": "code",
   "execution_count": 169,
   "metadata": {},
   "outputs": [
    {
     "data": {
      "text/html": [
       "<div>\n",
       "<style scoped>\n",
       "    .dataframe tbody tr th:only-of-type {\n",
       "        vertical-align: middle;\n",
       "    }\n",
       "\n",
       "    .dataframe tbody tr th {\n",
       "        vertical-align: top;\n",
       "    }\n",
       "\n",
       "    .dataframe thead th {\n",
       "        text-align: right;\n",
       "    }\n",
       "</style>\n",
       "<table border=\"1\" class=\"dataframe\">\n",
       "  <thead>\n",
       "    <tr style=\"text-align: right;\">\n",
       "      <th></th>\n",
       "      <th>Player</th>\n",
       "      <th>Team</th>\n",
       "      <th>Pos</th>\n",
       "      <th>Age</th>\n",
       "      <th>Ht</th>\n",
       "      <th>Wt</th>\n",
       "      <th>Exp</th>\n",
       "      <th>Country</th>\n",
       "      <th>PPG</th>\n",
       "      <th>RPG</th>\n",
       "      <th>APG</th>\n",
       "      <th>PIE</th>\n",
       "    </tr>\n",
       "  </thead>\n",
       "  <tbody>\n",
       "    <tr>\n",
       "      <th>0</th>\n",
       "      <td>Jayson Tatum</td>\n",
       "      <td>BOS</td>\n",
       "      <td>F-G</td>\n",
       "      <td>26</td>\n",
       "      <td>2.03</td>\n",
       "      <td>95</td>\n",
       "      <td>6</td>\n",
       "      <td>USA</td>\n",
       "      <td>26.9</td>\n",
       "      <td>8.1</td>\n",
       "      <td>4.9</td>\n",
       "      <td>15.5</td>\n",
       "    </tr>\n",
       "    <tr>\n",
       "      <th>1</th>\n",
       "      <td>Jaylen Brown</td>\n",
       "      <td>BOS</td>\n",
       "      <td>F</td>\n",
       "      <td>27</td>\n",
       "      <td>1.98</td>\n",
       "      <td>101</td>\n",
       "      <td>7</td>\n",
       "      <td>USA</td>\n",
       "      <td>23.0</td>\n",
       "      <td>5.5</td>\n",
       "      <td>3.6</td>\n",
       "      <td>11.6</td>\n",
       "    </tr>\n",
       "    <tr>\n",
       "      <th>2</th>\n",
       "      <td>Derrick White</td>\n",
       "      <td>BOS</td>\n",
       "      <td>G</td>\n",
       "      <td>29</td>\n",
       "      <td>1.93</td>\n",
       "      <td>86</td>\n",
       "      <td>6</td>\n",
       "      <td>USA</td>\n",
       "      <td>15.2</td>\n",
       "      <td>4.2</td>\n",
       "      <td>5.2</td>\n",
       "      <td>10.6</td>\n",
       "    </tr>\n",
       "    <tr>\n",
       "      <th>3</th>\n",
       "      <td>Jrue Holiday</td>\n",
       "      <td>BOS</td>\n",
       "      <td>G</td>\n",
       "      <td>33</td>\n",
       "      <td>1.93</td>\n",
       "      <td>93</td>\n",
       "      <td>14</td>\n",
       "      <td>USA</td>\n",
       "      <td>12.5</td>\n",
       "      <td>5.4</td>\n",
       "      <td>4.8</td>\n",
       "      <td>9.9</td>\n",
       "    </tr>\n",
       "    <tr>\n",
       "      <th>4</th>\n",
       "      <td>Al Horford</td>\n",
       "      <td>BOS</td>\n",
       "      <td>C-F</td>\n",
       "      <td>38</td>\n",
       "      <td>2.06</td>\n",
       "      <td>109</td>\n",
       "      <td>16</td>\n",
       "      <td>DOM</td>\n",
       "      <td>8.6</td>\n",
       "      <td>6.4</td>\n",
       "      <td>2.6</td>\n",
       "      <td>10.5</td>\n",
       "    </tr>\n",
       "    <tr>\n",
       "      <th>5</th>\n",
       "      <td>Payton Pritchard</td>\n",
       "      <td>BOS</td>\n",
       "      <td>G</td>\n",
       "      <td>26</td>\n",
       "      <td>1.85</td>\n",
       "      <td>88</td>\n",
       "      <td>3</td>\n",
       "      <td>USA</td>\n",
       "      <td>9.6</td>\n",
       "      <td>3.2</td>\n",
       "      <td>3.4</td>\n",
       "      <td>10.3</td>\n",
       "    </tr>\n",
       "    <tr>\n",
       "      <th>6</th>\n",
       "      <td>Sam Hauser</td>\n",
       "      <td>BOS</td>\n",
       "      <td>F</td>\n",
       "      <td>26</td>\n",
       "      <td>2.01</td>\n",
       "      <td>98</td>\n",
       "      <td>2</td>\n",
       "      <td>USA</td>\n",
       "      <td>9.0</td>\n",
       "      <td>3.5</td>\n",
       "      <td>1.0</td>\n",
       "      <td>8.6</td>\n",
       "    </tr>\n",
       "    <tr>\n",
       "      <th>7</th>\n",
       "      <td>Kristaps Porzingis</td>\n",
       "      <td>BOS</td>\n",
       "      <td>F-C</td>\n",
       "      <td>28</td>\n",
       "      <td>2.18</td>\n",
       "      <td>109</td>\n",
       "      <td>7</td>\n",
       "      <td>LAT</td>\n",
       "      <td>20.1</td>\n",
       "      <td>7.2</td>\n",
       "      <td>2.0</td>\n",
       "      <td>13.8</td>\n",
       "    </tr>\n",
       "    <tr>\n",
       "      <th>8</th>\n",
       "      <td>Luke Kornet</td>\n",
       "      <td>BOS</td>\n",
       "      <td>C-F</td>\n",
       "      <td>28</td>\n",
       "      <td>2.16</td>\n",
       "      <td>113</td>\n",
       "      <td>6</td>\n",
       "      <td>USA</td>\n",
       "      <td>5.3</td>\n",
       "      <td>4.1</td>\n",
       "      <td>1.1</td>\n",
       "      <td>11.3</td>\n",
       "    </tr>\n",
       "    <tr>\n",
       "      <th>9</th>\n",
       "      <td>Oshae Brissett</td>\n",
       "      <td>BOS</td>\n",
       "      <td>F-G</td>\n",
       "      <td>25</td>\n",
       "      <td>2.01</td>\n",
       "      <td>95</td>\n",
       "      <td>4</td>\n",
       "      <td>CAN</td>\n",
       "      <td>3.7</td>\n",
       "      <td>2.9</td>\n",
       "      <td>0.8</td>\n",
       "      <td>7.6</td>\n",
       "    </tr>\n",
       "    <tr>\n",
       "      <th>10</th>\n",
       "      <td>Xavier Tillman</td>\n",
       "      <td>BOS</td>\n",
       "      <td>F</td>\n",
       "      <td>25</td>\n",
       "      <td>2.01</td>\n",
       "      <td>111</td>\n",
       "      <td>3</td>\n",
       "      <td>USA</td>\n",
       "      <td>5.3</td>\n",
       "      <td>3.9</td>\n",
       "      <td>1.4</td>\n",
       "      <td>7.8</td>\n",
       "    </tr>\n",
       "    <tr>\n",
       "      <th>11</th>\n",
       "      <td>Jaden Springer</td>\n",
       "      <td>BOS</td>\n",
       "      <td>G</td>\n",
       "      <td>21</td>\n",
       "      <td>1.93</td>\n",
       "      <td>92</td>\n",
       "      <td>2</td>\n",
       "      <td>USA</td>\n",
       "      <td>3.3</td>\n",
       "      <td>1.6</td>\n",
       "      <td>0.9</td>\n",
       "      <td>5.5</td>\n",
       "    </tr>\n",
       "    <tr>\n",
       "      <th>12</th>\n",
       "      <td>Svi Mykhailiuk</td>\n",
       "      <td>BOS</td>\n",
       "      <td>G-F</td>\n",
       "      <td>26</td>\n",
       "      <td>2.01</td>\n",
       "      <td>93</td>\n",
       "      <td>5</td>\n",
       "      <td>UKR</td>\n",
       "      <td>4.0</td>\n",
       "      <td>1.2</td>\n",
       "      <td>0.9</td>\n",
       "      <td>7.7</td>\n",
       "    </tr>\n",
       "    <tr>\n",
       "      <th>13</th>\n",
       "      <td>Jordan Walsh</td>\n",
       "      <td>BOS</td>\n",
       "      <td>G</td>\n",
       "      <td>20</td>\n",
       "      <td>1.98</td>\n",
       "      <td>93</td>\n",
       "      <td>0</td>\n",
       "      <td>USA</td>\n",
       "      <td>1.7</td>\n",
       "      <td>2.2</td>\n",
       "      <td>0.6</td>\n",
       "      <td>5.8</td>\n",
       "    </tr>\n",
       "    <tr>\n",
       "      <th>14</th>\n",
       "      <td>Neemias Queta</td>\n",
       "      <td>BOS</td>\n",
       "      <td>C</td>\n",
       "      <td>24</td>\n",
       "      <td>2.13</td>\n",
       "      <td>112</td>\n",
       "      <td>2</td>\n",
       "      <td>POR</td>\n",
       "      <td>5.5</td>\n",
       "      <td>4.4</td>\n",
       "      <td>0.7</td>\n",
       "      <td>12.3</td>\n",
       "    </tr>\n",
       "    <tr>\n",
       "      <th>15</th>\n",
       "      <td>Luka Doncic</td>\n",
       "      <td>DAL</td>\n",
       "      <td>F-G</td>\n",
       "      <td>25</td>\n",
       "      <td>2.01</td>\n",
       "      <td>104</td>\n",
       "      <td>5</td>\n",
       "      <td>SLV</td>\n",
       "      <td>33.9</td>\n",
       "      <td>9.2</td>\n",
       "      <td>9.8</td>\n",
       "      <td>20.0</td>\n",
       "    </tr>\n",
       "    <tr>\n",
       "      <th>16</th>\n",
       "      <td>Kyrie Irving</td>\n",
       "      <td>DAL</td>\n",
       "      <td>G</td>\n",
       "      <td>32</td>\n",
       "      <td>1.88</td>\n",
       "      <td>88</td>\n",
       "      <td>12</td>\n",
       "      <td>AUS</td>\n",
       "      <td>25.6</td>\n",
       "      <td>5.0</td>\n",
       "      <td>5.2</td>\n",
       "      <td>14.4</td>\n",
       "    </tr>\n",
       "    <tr>\n",
       "      <th>17</th>\n",
       "      <td>P.J. Washington</td>\n",
       "      <td>DAL</td>\n",
       "      <td>F</td>\n",
       "      <td>25</td>\n",
       "      <td>2.01</td>\n",
       "      <td>104</td>\n",
       "      <td>4</td>\n",
       "      <td>USA</td>\n",
       "      <td>12.9</td>\n",
       "      <td>5.6</td>\n",
       "      <td>1.9</td>\n",
       "      <td>7.9</td>\n",
       "    </tr>\n",
       "    <tr>\n",
       "      <th>18</th>\n",
       "      <td>Derrick Jones Jr.</td>\n",
       "      <td>DAL</td>\n",
       "      <td>F</td>\n",
       "      <td>27</td>\n",
       "      <td>1.98</td>\n",
       "      <td>95</td>\n",
       "      <td>7</td>\n",
       "      <td>USA</td>\n",
       "      <td>8.6</td>\n",
       "      <td>3.3</td>\n",
       "      <td>1.0</td>\n",
       "      <td>6.8</td>\n",
       "    </tr>\n",
       "    <tr>\n",
       "      <th>19</th>\n",
       "      <td>Daniel Gafford</td>\n",
       "      <td>DAL</td>\n",
       "      <td>F-C</td>\n",
       "      <td>25</td>\n",
       "      <td>2.08</td>\n",
       "      <td>106</td>\n",
       "      <td>4</td>\n",
       "      <td>USA</td>\n",
       "      <td>11.0</td>\n",
       "      <td>7.6</td>\n",
       "      <td>1.6</td>\n",
       "      <td>12.1</td>\n",
       "    </tr>\n",
       "    <tr>\n",
       "      <th>20</th>\n",
       "      <td>Dereck Lively II</td>\n",
       "      <td>DAL</td>\n",
       "      <td>C</td>\n",
       "      <td>20</td>\n",
       "      <td>2.16</td>\n",
       "      <td>104</td>\n",
       "      <td>0</td>\n",
       "      <td>USA</td>\n",
       "      <td>8.8</td>\n",
       "      <td>6.9</td>\n",
       "      <td>1.1</td>\n",
       "      <td>10.2</td>\n",
       "    </tr>\n",
       "    <tr>\n",
       "      <th>21</th>\n",
       "      <td>Josh Green</td>\n",
       "      <td>DAL</td>\n",
       "      <td>G</td>\n",
       "      <td>23</td>\n",
       "      <td>1.96</td>\n",
       "      <td>91</td>\n",
       "      <td>3</td>\n",
       "      <td>AUS</td>\n",
       "      <td>8.2</td>\n",
       "      <td>3.2</td>\n",
       "      <td>2.3</td>\n",
       "      <td>6.3</td>\n",
       "    </tr>\n",
       "    <tr>\n",
       "      <th>22</th>\n",
       "      <td>Jaden Hardy</td>\n",
       "      <td>DAL</td>\n",
       "      <td>G</td>\n",
       "      <td>21</td>\n",
       "      <td>1.91</td>\n",
       "      <td>90</td>\n",
       "      <td>1</td>\n",
       "      <td>USA</td>\n",
       "      <td>7.3</td>\n",
       "      <td>1.8</td>\n",
       "      <td>1.5</td>\n",
       "      <td>8.1</td>\n",
       "    </tr>\n",
       "    <tr>\n",
       "      <th>23</th>\n",
       "      <td>Tim Hardaway Jr.</td>\n",
       "      <td>DAL</td>\n",
       "      <td>G-F</td>\n",
       "      <td>32</td>\n",
       "      <td>1.96</td>\n",
       "      <td>93</td>\n",
       "      <td>10</td>\n",
       "      <td>USA</td>\n",
       "      <td>14.4</td>\n",
       "      <td>3.2</td>\n",
       "      <td>1.8</td>\n",
       "      <td>8.3</td>\n",
       "    </tr>\n",
       "    <tr>\n",
       "      <th>24</th>\n",
       "      <td>Maxi Kleber</td>\n",
       "      <td>DAL</td>\n",
       "      <td>F</td>\n",
       "      <td>32</td>\n",
       "      <td>2.08</td>\n",
       "      <td>109</td>\n",
       "      <td>6</td>\n",
       "      <td>GER</td>\n",
       "      <td>4.4</td>\n",
       "      <td>3.3</td>\n",
       "      <td>1.6</td>\n",
       "      <td>5.7</td>\n",
       "    </tr>\n",
       "    <tr>\n",
       "      <th>25</th>\n",
       "      <td>Dante Exum</td>\n",
       "      <td>DAL</td>\n",
       "      <td>G</td>\n",
       "      <td>28</td>\n",
       "      <td>1.96</td>\n",
       "      <td>97</td>\n",
       "      <td>6</td>\n",
       "      <td>AUS</td>\n",
       "      <td>7.8</td>\n",
       "      <td>2.7</td>\n",
       "      <td>2.9</td>\n",
       "      <td>9.3</td>\n",
       "    </tr>\n",
       "    <tr>\n",
       "      <th>26</th>\n",
       "      <td>A.J. Lawson</td>\n",
       "      <td>DAL</td>\n",
       "      <td>G</td>\n",
       "      <td>23</td>\n",
       "      <td>1.98</td>\n",
       "      <td>81</td>\n",
       "      <td>1</td>\n",
       "      <td>CAN</td>\n",
       "      <td>3.2</td>\n",
       "      <td>1.2</td>\n",
       "      <td>0.5</td>\n",
       "      <td>7.6</td>\n",
       "    </tr>\n",
       "    <tr>\n",
       "      <th>27</th>\n",
       "      <td>Dwight Powell</td>\n",
       "      <td>DAL</td>\n",
       "      <td>F-C</td>\n",
       "      <td>32</td>\n",
       "      <td>2.08</td>\n",
       "      <td>109</td>\n",
       "      <td>9</td>\n",
       "      <td>CAN</td>\n",
       "      <td>3.3</td>\n",
       "      <td>3.4</td>\n",
       "      <td>1.3</td>\n",
       "      <td>7.9</td>\n",
       "    </tr>\n",
       "  </tbody>\n",
       "</table>\n",
       "</div>"
      ],
      "text/plain": [
       "                Player Team  Pos  Age    Ht   Wt  Exp Country   PPG  RPG  APG  \\\n",
       "0         Jayson Tatum  BOS  F-G   26  2.03   95    6     USA  26.9  8.1  4.9   \n",
       "1         Jaylen Brown  BOS    F   27  1.98  101    7     USA  23.0  5.5  3.6   \n",
       "2        Derrick White  BOS    G   29  1.93   86    6     USA  15.2  4.2  5.2   \n",
       "3         Jrue Holiday  BOS    G   33  1.93   93   14     USA  12.5  5.4  4.8   \n",
       "4           Al Horford  BOS  C-F   38  2.06  109   16     DOM   8.6  6.4  2.6   \n",
       "5     Payton Pritchard  BOS    G   26  1.85   88    3     USA   9.6  3.2  3.4   \n",
       "6           Sam Hauser  BOS    F   26  2.01   98    2     USA   9.0  3.5  1.0   \n",
       "7   Kristaps Porzingis  BOS  F-C   28  2.18  109    7     LAT  20.1  7.2  2.0   \n",
       "8          Luke Kornet  BOS  C-F   28  2.16  113    6     USA   5.3  4.1  1.1   \n",
       "9       Oshae Brissett  BOS  F-G   25  2.01   95    4     CAN   3.7  2.9  0.8   \n",
       "10      Xavier Tillman  BOS    F   25  2.01  111    3     USA   5.3  3.9  1.4   \n",
       "11      Jaden Springer  BOS    G   21  1.93   92    2     USA   3.3  1.6  0.9   \n",
       "12      Svi Mykhailiuk  BOS  G-F   26  2.01   93    5     UKR   4.0  1.2  0.9   \n",
       "13        Jordan Walsh  BOS    G   20  1.98   93    0     USA   1.7  2.2  0.6   \n",
       "14       Neemias Queta  BOS    C   24  2.13  112    2     POR   5.5  4.4  0.7   \n",
       "15         Luka Doncic  DAL  F-G   25  2.01  104    5     SLV  33.9  9.2  9.8   \n",
       "16        Kyrie Irving  DAL    G   32  1.88   88   12     AUS  25.6  5.0  5.2   \n",
       "17     P.J. Washington  DAL    F   25  2.01  104    4     USA  12.9  5.6  1.9   \n",
       "18   Derrick Jones Jr.  DAL    F   27  1.98   95    7     USA   8.6  3.3  1.0   \n",
       "19      Daniel Gafford  DAL  F-C   25  2.08  106    4     USA  11.0  7.6  1.6   \n",
       "20    Dereck Lively II  DAL    C   20  2.16  104    0     USA   8.8  6.9  1.1   \n",
       "21          Josh Green  DAL    G   23  1.96   91    3     AUS   8.2  3.2  2.3   \n",
       "22         Jaden Hardy  DAL    G   21  1.91   90    1     USA   7.3  1.8  1.5   \n",
       "23    Tim Hardaway Jr.  DAL  G-F   32  1.96   93   10     USA  14.4  3.2  1.8   \n",
       "24         Maxi Kleber  DAL    F   32  2.08  109    6     GER   4.4  3.3  1.6   \n",
       "25          Dante Exum  DAL    G   28  1.96   97    6     AUS   7.8  2.7  2.9   \n",
       "26         A.J. Lawson  DAL    G   23  1.98   81    1     CAN   3.2  1.2  0.5   \n",
       "27       Dwight Powell  DAL  F-C   32  2.08  109    9     CAN   3.3  3.4  1.3   \n",
       "\n",
       "     PIE  \n",
       "0   15.5  \n",
       "1   11.6  \n",
       "2   10.6  \n",
       "3    9.9  \n",
       "4   10.5  \n",
       "5   10.3  \n",
       "6    8.6  \n",
       "7   13.8  \n",
       "8   11.3  \n",
       "9    7.6  \n",
       "10   7.8  \n",
       "11   5.5  \n",
       "12   7.7  \n",
       "13   5.8  \n",
       "14  12.3  \n",
       "15  20.0  \n",
       "16  14.4  \n",
       "17   7.9  \n",
       "18   6.8  \n",
       "19  12.1  \n",
       "20  10.2  \n",
       "21   6.3  \n",
       "22   8.1  \n",
       "23   8.3  \n",
       "24   5.7  \n",
       "25   9.3  \n",
       "26   7.6  \n",
       "27   7.9  "
      ]
     },
     "execution_count": 169,
     "metadata": {},
     "output_type": "execute_result"
    }
   ],
   "source": [
    "Players"
   ]
  },
  {
   "cell_type": "code",
   "execution_count": 13,
   "metadata": {},
   "outputs": [
    {
     "name": "stdout",
     "output_type": "stream",
     "text": [
      "<class 'pandas.core.frame.DataFrame'>\n",
      "Index: 28 entries, 0 to 12\n",
      "Data columns (total 12 columns):\n",
      " #   Column   Non-Null Count  Dtype  \n",
      "---  ------   --------------  -----  \n",
      " 0   Player   28 non-null     object \n",
      " 1   Team     28 non-null     object \n",
      " 2   Pos      28 non-null     object \n",
      " 3   Age      28 non-null     int64  \n",
      " 4   Ht       28 non-null     float64\n",
      " 5   Wt       28 non-null     int64  \n",
      " 6   Exp      28 non-null     int64  \n",
      " 7   Country  28 non-null     object \n",
      " 8   PPG      28 non-null     float64\n",
      " 9   RPG      28 non-null     float64\n",
      " 10  APG      28 non-null     float64\n",
      " 11  PIE      28 non-null     float64\n",
      "dtypes: float64(5), int64(3), object(4)\n",
      "memory usage: 2.8+ KB\n"
     ]
    }
   ],
   "source": [
    "Players.info()"
   ]
  },
  {
   "cell_type": "code",
   "execution_count": 14,
   "metadata": {},
   "outputs": [],
   "source": [
    "# Separamos las variables numéricas de las categóricas\n",
    "NumericalVars = ['Age','Ht','Wt','Exp','PPG','RPG','APG','PIE']\n",
    "CategoricalVars = ['Player','Team','Pos','Country']\n",
    "NumPlayers = Players[NumericalVars]\n",
    "CatPlayers = Players[CategoricalVars]"
   ]
  },
  {
   "cell_type": "code",
   "execution_count": 15,
   "metadata": {},
   "outputs": [],
   "source": [
    "# Estandarizamos los datos\n",
    "NumPlayers_z  = copy.deepcopy(NumPlayers)\n",
    "NumPlayers_z = stats.zscore(NumPlayers_z)"
   ]
  },
  {
   "cell_type": "code",
   "execution_count": 16,
   "metadata": {},
   "outputs": [],
   "source": [
    "# Se corrige el índice de los datos\n",
    "NumPlayers_z = NumPlayers_z.reset_index(drop=True)"
   ]
  },
  {
   "cell_type": "markdown",
   "metadata": {},
   "source": [
    "# Distribución de los datos"
   ]
  },
  {
   "cell_type": "code",
   "execution_count": 17,
   "metadata": {},
   "outputs": [
    {
     "data": {
      "application/vnd.plotly.v1+json": {
       "config": {
        "plotlyServerURL": "https://plot.ly"
       },
       "data": [
        {
         "alignmentgroup": "True",
         "hovertemplate": "Age=%{y}<extra></extra>",
         "legendgroup": "",
         "marker": {
          "color": "#636efa"
         },
         "name": "",
         "notched": false,
         "offsetgroup": "",
         "orientation": "v",
         "showlegend": false,
         "type": "box",
         "x0": " ",
         "xaxis": "x",
         "y": [
          26,
          27,
          29,
          33,
          38,
          26,
          26,
          28,
          28,
          25,
          25,
          21,
          26,
          20,
          24,
          25,
          32,
          25,
          27,
          25,
          20,
          23,
          21,
          32,
          32,
          28,
          23,
          32
         ],
         "y0": " ",
         "yaxis": "y"
        }
       ],
       "layout": {
        "boxmode": "group",
        "height": 600,
        "legend": {
         "tracegroupgap": 0
        },
        "margin": {
         "t": 60
        },
        "template": {
         "data": {
          "bar": [
           {
            "error_x": {
             "color": "#2a3f5f"
            },
            "error_y": {
             "color": "#2a3f5f"
            },
            "marker": {
             "line": {
              "color": "#E5ECF6",
              "width": 0.5
             },
             "pattern": {
              "fillmode": "overlay",
              "size": 10,
              "solidity": 0.2
             }
            },
            "type": "bar"
           }
          ],
          "barpolar": [
           {
            "marker": {
             "line": {
              "color": "#E5ECF6",
              "width": 0.5
             },
             "pattern": {
              "fillmode": "overlay",
              "size": 10,
              "solidity": 0.2
             }
            },
            "type": "barpolar"
           }
          ],
          "carpet": [
           {
            "aaxis": {
             "endlinecolor": "#2a3f5f",
             "gridcolor": "white",
             "linecolor": "white",
             "minorgridcolor": "white",
             "startlinecolor": "#2a3f5f"
            },
            "baxis": {
             "endlinecolor": "#2a3f5f",
             "gridcolor": "white",
             "linecolor": "white",
             "minorgridcolor": "white",
             "startlinecolor": "#2a3f5f"
            },
            "type": "carpet"
           }
          ],
          "choropleth": [
           {
            "colorbar": {
             "outlinewidth": 0,
             "ticks": ""
            },
            "type": "choropleth"
           }
          ],
          "contour": [
           {
            "colorbar": {
             "outlinewidth": 0,
             "ticks": ""
            },
            "colorscale": [
             [
              0,
              "#0d0887"
             ],
             [
              0.1111111111111111,
              "#46039f"
             ],
             [
              0.2222222222222222,
              "#7201a8"
             ],
             [
              0.3333333333333333,
              "#9c179e"
             ],
             [
              0.4444444444444444,
              "#bd3786"
             ],
             [
              0.5555555555555556,
              "#d8576b"
             ],
             [
              0.6666666666666666,
              "#ed7953"
             ],
             [
              0.7777777777777778,
              "#fb9f3a"
             ],
             [
              0.8888888888888888,
              "#fdca26"
             ],
             [
              1,
              "#f0f921"
             ]
            ],
            "type": "contour"
           }
          ],
          "contourcarpet": [
           {
            "colorbar": {
             "outlinewidth": 0,
             "ticks": ""
            },
            "type": "contourcarpet"
           }
          ],
          "heatmap": [
           {
            "colorbar": {
             "outlinewidth": 0,
             "ticks": ""
            },
            "colorscale": [
             [
              0,
              "#0d0887"
             ],
             [
              0.1111111111111111,
              "#46039f"
             ],
             [
              0.2222222222222222,
              "#7201a8"
             ],
             [
              0.3333333333333333,
              "#9c179e"
             ],
             [
              0.4444444444444444,
              "#bd3786"
             ],
             [
              0.5555555555555556,
              "#d8576b"
             ],
             [
              0.6666666666666666,
              "#ed7953"
             ],
             [
              0.7777777777777778,
              "#fb9f3a"
             ],
             [
              0.8888888888888888,
              "#fdca26"
             ],
             [
              1,
              "#f0f921"
             ]
            ],
            "type": "heatmap"
           }
          ],
          "heatmapgl": [
           {
            "colorbar": {
             "outlinewidth": 0,
             "ticks": ""
            },
            "colorscale": [
             [
              0,
              "#0d0887"
             ],
             [
              0.1111111111111111,
              "#46039f"
             ],
             [
              0.2222222222222222,
              "#7201a8"
             ],
             [
              0.3333333333333333,
              "#9c179e"
             ],
             [
              0.4444444444444444,
              "#bd3786"
             ],
             [
              0.5555555555555556,
              "#d8576b"
             ],
             [
              0.6666666666666666,
              "#ed7953"
             ],
             [
              0.7777777777777778,
              "#fb9f3a"
             ],
             [
              0.8888888888888888,
              "#fdca26"
             ],
             [
              1,
              "#f0f921"
             ]
            ],
            "type": "heatmapgl"
           }
          ],
          "histogram": [
           {
            "marker": {
             "pattern": {
              "fillmode": "overlay",
              "size": 10,
              "solidity": 0.2
             }
            },
            "type": "histogram"
           }
          ],
          "histogram2d": [
           {
            "colorbar": {
             "outlinewidth": 0,
             "ticks": ""
            },
            "colorscale": [
             [
              0,
              "#0d0887"
             ],
             [
              0.1111111111111111,
              "#46039f"
             ],
             [
              0.2222222222222222,
              "#7201a8"
             ],
             [
              0.3333333333333333,
              "#9c179e"
             ],
             [
              0.4444444444444444,
              "#bd3786"
             ],
             [
              0.5555555555555556,
              "#d8576b"
             ],
             [
              0.6666666666666666,
              "#ed7953"
             ],
             [
              0.7777777777777778,
              "#fb9f3a"
             ],
             [
              0.8888888888888888,
              "#fdca26"
             ],
             [
              1,
              "#f0f921"
             ]
            ],
            "type": "histogram2d"
           }
          ],
          "histogram2dcontour": [
           {
            "colorbar": {
             "outlinewidth": 0,
             "ticks": ""
            },
            "colorscale": [
             [
              0,
              "#0d0887"
             ],
             [
              0.1111111111111111,
              "#46039f"
             ],
             [
              0.2222222222222222,
              "#7201a8"
             ],
             [
              0.3333333333333333,
              "#9c179e"
             ],
             [
              0.4444444444444444,
              "#bd3786"
             ],
             [
              0.5555555555555556,
              "#d8576b"
             ],
             [
              0.6666666666666666,
              "#ed7953"
             ],
             [
              0.7777777777777778,
              "#fb9f3a"
             ],
             [
              0.8888888888888888,
              "#fdca26"
             ],
             [
              1,
              "#f0f921"
             ]
            ],
            "type": "histogram2dcontour"
           }
          ],
          "mesh3d": [
           {
            "colorbar": {
             "outlinewidth": 0,
             "ticks": ""
            },
            "type": "mesh3d"
           }
          ],
          "parcoords": [
           {
            "line": {
             "colorbar": {
              "outlinewidth": 0,
              "ticks": ""
             }
            },
            "type": "parcoords"
           }
          ],
          "pie": [
           {
            "automargin": true,
            "type": "pie"
           }
          ],
          "scatter": [
           {
            "fillpattern": {
             "fillmode": "overlay",
             "size": 10,
             "solidity": 0.2
            },
            "type": "scatter"
           }
          ],
          "scatter3d": [
           {
            "line": {
             "colorbar": {
              "outlinewidth": 0,
              "ticks": ""
             }
            },
            "marker": {
             "colorbar": {
              "outlinewidth": 0,
              "ticks": ""
             }
            },
            "type": "scatter3d"
           }
          ],
          "scattercarpet": [
           {
            "marker": {
             "colorbar": {
              "outlinewidth": 0,
              "ticks": ""
             }
            },
            "type": "scattercarpet"
           }
          ],
          "scattergeo": [
           {
            "marker": {
             "colorbar": {
              "outlinewidth": 0,
              "ticks": ""
             }
            },
            "type": "scattergeo"
           }
          ],
          "scattergl": [
           {
            "marker": {
             "colorbar": {
              "outlinewidth": 0,
              "ticks": ""
             }
            },
            "type": "scattergl"
           }
          ],
          "scattermapbox": [
           {
            "marker": {
             "colorbar": {
              "outlinewidth": 0,
              "ticks": ""
             }
            },
            "type": "scattermapbox"
           }
          ],
          "scatterpolar": [
           {
            "marker": {
             "colorbar": {
              "outlinewidth": 0,
              "ticks": ""
             }
            },
            "type": "scatterpolar"
           }
          ],
          "scatterpolargl": [
           {
            "marker": {
             "colorbar": {
              "outlinewidth": 0,
              "ticks": ""
             }
            },
            "type": "scatterpolargl"
           }
          ],
          "scatterternary": [
           {
            "marker": {
             "colorbar": {
              "outlinewidth": 0,
              "ticks": ""
             }
            },
            "type": "scatterternary"
           }
          ],
          "surface": [
           {
            "colorbar": {
             "outlinewidth": 0,
             "ticks": ""
            },
            "colorscale": [
             [
              0,
              "#0d0887"
             ],
             [
              0.1111111111111111,
              "#46039f"
             ],
             [
              0.2222222222222222,
              "#7201a8"
             ],
             [
              0.3333333333333333,
              "#9c179e"
             ],
             [
              0.4444444444444444,
              "#bd3786"
             ],
             [
              0.5555555555555556,
              "#d8576b"
             ],
             [
              0.6666666666666666,
              "#ed7953"
             ],
             [
              0.7777777777777778,
              "#fb9f3a"
             ],
             [
              0.8888888888888888,
              "#fdca26"
             ],
             [
              1,
              "#f0f921"
             ]
            ],
            "type": "surface"
           }
          ],
          "table": [
           {
            "cells": {
             "fill": {
              "color": "#EBF0F8"
             },
             "line": {
              "color": "white"
             }
            },
            "header": {
             "fill": {
              "color": "#C8D4E3"
             },
             "line": {
              "color": "white"
             }
            },
            "type": "table"
           }
          ]
         },
         "layout": {
          "annotationdefaults": {
           "arrowcolor": "#2a3f5f",
           "arrowhead": 0,
           "arrowwidth": 1
          },
          "autotypenumbers": "strict",
          "coloraxis": {
           "colorbar": {
            "outlinewidth": 0,
            "ticks": ""
           }
          },
          "colorscale": {
           "diverging": [
            [
             0,
             "#8e0152"
            ],
            [
             0.1,
             "#c51b7d"
            ],
            [
             0.2,
             "#de77ae"
            ],
            [
             0.3,
             "#f1b6da"
            ],
            [
             0.4,
             "#fde0ef"
            ],
            [
             0.5,
             "#f7f7f7"
            ],
            [
             0.6,
             "#e6f5d0"
            ],
            [
             0.7,
             "#b8e186"
            ],
            [
             0.8,
             "#7fbc41"
            ],
            [
             0.9,
             "#4d9221"
            ],
            [
             1,
             "#276419"
            ]
           ],
           "sequential": [
            [
             0,
             "#0d0887"
            ],
            [
             0.1111111111111111,
             "#46039f"
            ],
            [
             0.2222222222222222,
             "#7201a8"
            ],
            [
             0.3333333333333333,
             "#9c179e"
            ],
            [
             0.4444444444444444,
             "#bd3786"
            ],
            [
             0.5555555555555556,
             "#d8576b"
            ],
            [
             0.6666666666666666,
             "#ed7953"
            ],
            [
             0.7777777777777778,
             "#fb9f3a"
            ],
            [
             0.8888888888888888,
             "#fdca26"
            ],
            [
             1,
             "#f0f921"
            ]
           ],
           "sequentialminus": [
            [
             0,
             "#0d0887"
            ],
            [
             0.1111111111111111,
             "#46039f"
            ],
            [
             0.2222222222222222,
             "#7201a8"
            ],
            [
             0.3333333333333333,
             "#9c179e"
            ],
            [
             0.4444444444444444,
             "#bd3786"
            ],
            [
             0.5555555555555556,
             "#d8576b"
            ],
            [
             0.6666666666666666,
             "#ed7953"
            ],
            [
             0.7777777777777778,
             "#fb9f3a"
            ],
            [
             0.8888888888888888,
             "#fdca26"
            ],
            [
             1,
             "#f0f921"
            ]
           ]
          },
          "colorway": [
           "#636efa",
           "#EF553B",
           "#00cc96",
           "#ab63fa",
           "#FFA15A",
           "#19d3f3",
           "#FF6692",
           "#B6E880",
           "#FF97FF",
           "#FECB52"
          ],
          "font": {
           "color": "#2a3f5f"
          },
          "geo": {
           "bgcolor": "white",
           "lakecolor": "white",
           "landcolor": "#E5ECF6",
           "showlakes": true,
           "showland": true,
           "subunitcolor": "white"
          },
          "hoverlabel": {
           "align": "left"
          },
          "hovermode": "closest",
          "mapbox": {
           "style": "light"
          },
          "paper_bgcolor": "white",
          "plot_bgcolor": "#E5ECF6",
          "polar": {
           "angularaxis": {
            "gridcolor": "white",
            "linecolor": "white",
            "ticks": ""
           },
           "bgcolor": "#E5ECF6",
           "radialaxis": {
            "gridcolor": "white",
            "linecolor": "white",
            "ticks": ""
           }
          },
          "scene": {
           "xaxis": {
            "backgroundcolor": "#E5ECF6",
            "gridcolor": "white",
            "gridwidth": 2,
            "linecolor": "white",
            "showbackground": true,
            "ticks": "",
            "zerolinecolor": "white"
           },
           "yaxis": {
            "backgroundcolor": "#E5ECF6",
            "gridcolor": "white",
            "gridwidth": 2,
            "linecolor": "white",
            "showbackground": true,
            "ticks": "",
            "zerolinecolor": "white"
           },
           "zaxis": {
            "backgroundcolor": "#E5ECF6",
            "gridcolor": "white",
            "gridwidth": 2,
            "linecolor": "white",
            "showbackground": true,
            "ticks": "",
            "zerolinecolor": "white"
           }
          },
          "shapedefaults": {
           "line": {
            "color": "#2a3f5f"
           }
          },
          "ternary": {
           "aaxis": {
            "gridcolor": "white",
            "linecolor": "white",
            "ticks": ""
           },
           "baxis": {
            "gridcolor": "white",
            "linecolor": "white",
            "ticks": ""
           },
           "bgcolor": "#E5ECF6",
           "caxis": {
            "gridcolor": "white",
            "linecolor": "white",
            "ticks": ""
           }
          },
          "title": {
           "x": 0.05
          },
          "xaxis": {
           "automargin": true,
           "gridcolor": "white",
           "linecolor": "white",
           "ticks": "",
           "title": {
            "standoff": 15
           },
           "zerolinecolor": "white",
           "zerolinewidth": 2
          },
          "yaxis": {
           "automargin": true,
           "gridcolor": "white",
           "linecolor": "white",
           "ticks": "",
           "title": {
            "standoff": 15
           },
           "zerolinecolor": "white",
           "zerolinewidth": 2
          }
         }
        },
        "width": 600,
        "xaxis": {
         "anchor": "y",
         "domain": [
          0,
          1
         ]
        },
        "yaxis": {
         "anchor": "x",
         "domain": [
          0,
          1
         ],
         "title": {
          "text": "Age"
         }
        }
       }
      }
     },
     "metadata": {},
     "output_type": "display_data"
    }
   ],
   "source": [
    "fig = px.box(NumPlayers, y='Age',width=600,height=600)\n",
    "fig.show()"
   ]
  },
  {
   "cell_type": "code",
   "execution_count": 24,
   "metadata": {},
   "outputs": [
    {
     "data": {
      "text/html": [
       "<div>\n",
       "<style scoped>\n",
       "    .dataframe tbody tr th:only-of-type {\n",
       "        vertical-align: middle;\n",
       "    }\n",
       "\n",
       "    .dataframe tbody tr th {\n",
       "        vertical-align: top;\n",
       "    }\n",
       "\n",
       "    .dataframe thead th {\n",
       "        text-align: right;\n",
       "    }\n",
       "</style>\n",
       "<table border=\"1\" class=\"dataframe\">\n",
       "  <thead>\n",
       "    <tr style=\"text-align: right;\">\n",
       "      <th></th>\n",
       "      <th>Player</th>\n",
       "      <th>Team</th>\n",
       "      <th>Pos</th>\n",
       "      <th>Age</th>\n",
       "      <th>Ht</th>\n",
       "      <th>Wt</th>\n",
       "      <th>Exp</th>\n",
       "      <th>Country</th>\n",
       "      <th>PPG</th>\n",
       "      <th>RPG</th>\n",
       "      <th>APG</th>\n",
       "      <th>PIE</th>\n",
       "    </tr>\n",
       "  </thead>\n",
       "  <tbody>\n",
       "    <tr>\n",
       "      <th>4</th>\n",
       "      <td>Al Horford</td>\n",
       "      <td>BOS</td>\n",
       "      <td>C-F</td>\n",
       "      <td>38</td>\n",
       "      <td>2.06</td>\n",
       "      <td>109</td>\n",
       "      <td>16</td>\n",
       "      <td>DOM</td>\n",
       "      <td>8.6</td>\n",
       "      <td>6.4</td>\n",
       "      <td>2.6</td>\n",
       "      <td>10.5</td>\n",
       "    </tr>\n",
       "  </tbody>\n",
       "</table>\n",
       "</div>"
      ],
      "text/plain": [
       "       Player Team  Pos  Age    Ht   Wt  Exp Country  PPG  RPG  APG   PIE\n",
       "4  Al Horford  BOS  C-F   38  2.06  109   16     DOM  8.6  6.4  2.6  10.5"
      ]
     },
     "execution_count": 24,
     "metadata": {},
     "output_type": "execute_result"
    }
   ],
   "source": [
    "Players[Players['Age']>33]"
   ]
  },
  {
   "cell_type": "code",
   "execution_count": 18,
   "metadata": {},
   "outputs": [
    {
     "data": {
      "application/vnd.plotly.v1+json": {
       "config": {
        "plotlyServerURL": "https://plot.ly"
       },
       "data": [
        {
         "alignmentgroup": "True",
         "hovertemplate": "Ht=%{y}<extra></extra>",
         "legendgroup": "",
         "marker": {
          "color": "#636efa"
         },
         "name": "",
         "notched": false,
         "offsetgroup": "",
         "orientation": "v",
         "showlegend": false,
         "type": "box",
         "x0": " ",
         "xaxis": "x",
         "y": [
          2.03,
          1.98,
          1.93,
          1.93,
          2.06,
          1.85,
          2.01,
          2.18,
          2.16,
          2.01,
          2.01,
          1.93,
          2.01,
          1.98,
          2.13,
          2.01,
          1.88,
          2.01,
          1.98,
          2.08,
          2.16,
          1.96,
          1.91,
          1.96,
          2.08,
          1.96,
          1.98,
          2.08
         ],
         "y0": " ",
         "yaxis": "y"
        }
       ],
       "layout": {
        "boxmode": "group",
        "height": 600,
        "legend": {
         "tracegroupgap": 0
        },
        "margin": {
         "t": 60
        },
        "template": {
         "data": {
          "bar": [
           {
            "error_x": {
             "color": "#2a3f5f"
            },
            "error_y": {
             "color": "#2a3f5f"
            },
            "marker": {
             "line": {
              "color": "#E5ECF6",
              "width": 0.5
             },
             "pattern": {
              "fillmode": "overlay",
              "size": 10,
              "solidity": 0.2
             }
            },
            "type": "bar"
           }
          ],
          "barpolar": [
           {
            "marker": {
             "line": {
              "color": "#E5ECF6",
              "width": 0.5
             },
             "pattern": {
              "fillmode": "overlay",
              "size": 10,
              "solidity": 0.2
             }
            },
            "type": "barpolar"
           }
          ],
          "carpet": [
           {
            "aaxis": {
             "endlinecolor": "#2a3f5f",
             "gridcolor": "white",
             "linecolor": "white",
             "minorgridcolor": "white",
             "startlinecolor": "#2a3f5f"
            },
            "baxis": {
             "endlinecolor": "#2a3f5f",
             "gridcolor": "white",
             "linecolor": "white",
             "minorgridcolor": "white",
             "startlinecolor": "#2a3f5f"
            },
            "type": "carpet"
           }
          ],
          "choropleth": [
           {
            "colorbar": {
             "outlinewidth": 0,
             "ticks": ""
            },
            "type": "choropleth"
           }
          ],
          "contour": [
           {
            "colorbar": {
             "outlinewidth": 0,
             "ticks": ""
            },
            "colorscale": [
             [
              0,
              "#0d0887"
             ],
             [
              0.1111111111111111,
              "#46039f"
             ],
             [
              0.2222222222222222,
              "#7201a8"
             ],
             [
              0.3333333333333333,
              "#9c179e"
             ],
             [
              0.4444444444444444,
              "#bd3786"
             ],
             [
              0.5555555555555556,
              "#d8576b"
             ],
             [
              0.6666666666666666,
              "#ed7953"
             ],
             [
              0.7777777777777778,
              "#fb9f3a"
             ],
             [
              0.8888888888888888,
              "#fdca26"
             ],
             [
              1,
              "#f0f921"
             ]
            ],
            "type": "contour"
           }
          ],
          "contourcarpet": [
           {
            "colorbar": {
             "outlinewidth": 0,
             "ticks": ""
            },
            "type": "contourcarpet"
           }
          ],
          "heatmap": [
           {
            "colorbar": {
             "outlinewidth": 0,
             "ticks": ""
            },
            "colorscale": [
             [
              0,
              "#0d0887"
             ],
             [
              0.1111111111111111,
              "#46039f"
             ],
             [
              0.2222222222222222,
              "#7201a8"
             ],
             [
              0.3333333333333333,
              "#9c179e"
             ],
             [
              0.4444444444444444,
              "#bd3786"
             ],
             [
              0.5555555555555556,
              "#d8576b"
             ],
             [
              0.6666666666666666,
              "#ed7953"
             ],
             [
              0.7777777777777778,
              "#fb9f3a"
             ],
             [
              0.8888888888888888,
              "#fdca26"
             ],
             [
              1,
              "#f0f921"
             ]
            ],
            "type": "heatmap"
           }
          ],
          "heatmapgl": [
           {
            "colorbar": {
             "outlinewidth": 0,
             "ticks": ""
            },
            "colorscale": [
             [
              0,
              "#0d0887"
             ],
             [
              0.1111111111111111,
              "#46039f"
             ],
             [
              0.2222222222222222,
              "#7201a8"
             ],
             [
              0.3333333333333333,
              "#9c179e"
             ],
             [
              0.4444444444444444,
              "#bd3786"
             ],
             [
              0.5555555555555556,
              "#d8576b"
             ],
             [
              0.6666666666666666,
              "#ed7953"
             ],
             [
              0.7777777777777778,
              "#fb9f3a"
             ],
             [
              0.8888888888888888,
              "#fdca26"
             ],
             [
              1,
              "#f0f921"
             ]
            ],
            "type": "heatmapgl"
           }
          ],
          "histogram": [
           {
            "marker": {
             "pattern": {
              "fillmode": "overlay",
              "size": 10,
              "solidity": 0.2
             }
            },
            "type": "histogram"
           }
          ],
          "histogram2d": [
           {
            "colorbar": {
             "outlinewidth": 0,
             "ticks": ""
            },
            "colorscale": [
             [
              0,
              "#0d0887"
             ],
             [
              0.1111111111111111,
              "#46039f"
             ],
             [
              0.2222222222222222,
              "#7201a8"
             ],
             [
              0.3333333333333333,
              "#9c179e"
             ],
             [
              0.4444444444444444,
              "#bd3786"
             ],
             [
              0.5555555555555556,
              "#d8576b"
             ],
             [
              0.6666666666666666,
              "#ed7953"
             ],
             [
              0.7777777777777778,
              "#fb9f3a"
             ],
             [
              0.8888888888888888,
              "#fdca26"
             ],
             [
              1,
              "#f0f921"
             ]
            ],
            "type": "histogram2d"
           }
          ],
          "histogram2dcontour": [
           {
            "colorbar": {
             "outlinewidth": 0,
             "ticks": ""
            },
            "colorscale": [
             [
              0,
              "#0d0887"
             ],
             [
              0.1111111111111111,
              "#46039f"
             ],
             [
              0.2222222222222222,
              "#7201a8"
             ],
             [
              0.3333333333333333,
              "#9c179e"
             ],
             [
              0.4444444444444444,
              "#bd3786"
             ],
             [
              0.5555555555555556,
              "#d8576b"
             ],
             [
              0.6666666666666666,
              "#ed7953"
             ],
             [
              0.7777777777777778,
              "#fb9f3a"
             ],
             [
              0.8888888888888888,
              "#fdca26"
             ],
             [
              1,
              "#f0f921"
             ]
            ],
            "type": "histogram2dcontour"
           }
          ],
          "mesh3d": [
           {
            "colorbar": {
             "outlinewidth": 0,
             "ticks": ""
            },
            "type": "mesh3d"
           }
          ],
          "parcoords": [
           {
            "line": {
             "colorbar": {
              "outlinewidth": 0,
              "ticks": ""
             }
            },
            "type": "parcoords"
           }
          ],
          "pie": [
           {
            "automargin": true,
            "type": "pie"
           }
          ],
          "scatter": [
           {
            "fillpattern": {
             "fillmode": "overlay",
             "size": 10,
             "solidity": 0.2
            },
            "type": "scatter"
           }
          ],
          "scatter3d": [
           {
            "line": {
             "colorbar": {
              "outlinewidth": 0,
              "ticks": ""
             }
            },
            "marker": {
             "colorbar": {
              "outlinewidth": 0,
              "ticks": ""
             }
            },
            "type": "scatter3d"
           }
          ],
          "scattercarpet": [
           {
            "marker": {
             "colorbar": {
              "outlinewidth": 0,
              "ticks": ""
             }
            },
            "type": "scattercarpet"
           }
          ],
          "scattergeo": [
           {
            "marker": {
             "colorbar": {
              "outlinewidth": 0,
              "ticks": ""
             }
            },
            "type": "scattergeo"
           }
          ],
          "scattergl": [
           {
            "marker": {
             "colorbar": {
              "outlinewidth": 0,
              "ticks": ""
             }
            },
            "type": "scattergl"
           }
          ],
          "scattermapbox": [
           {
            "marker": {
             "colorbar": {
              "outlinewidth": 0,
              "ticks": ""
             }
            },
            "type": "scattermapbox"
           }
          ],
          "scatterpolar": [
           {
            "marker": {
             "colorbar": {
              "outlinewidth": 0,
              "ticks": ""
             }
            },
            "type": "scatterpolar"
           }
          ],
          "scatterpolargl": [
           {
            "marker": {
             "colorbar": {
              "outlinewidth": 0,
              "ticks": ""
             }
            },
            "type": "scatterpolargl"
           }
          ],
          "scatterternary": [
           {
            "marker": {
             "colorbar": {
              "outlinewidth": 0,
              "ticks": ""
             }
            },
            "type": "scatterternary"
           }
          ],
          "surface": [
           {
            "colorbar": {
             "outlinewidth": 0,
             "ticks": ""
            },
            "colorscale": [
             [
              0,
              "#0d0887"
             ],
             [
              0.1111111111111111,
              "#46039f"
             ],
             [
              0.2222222222222222,
              "#7201a8"
             ],
             [
              0.3333333333333333,
              "#9c179e"
             ],
             [
              0.4444444444444444,
              "#bd3786"
             ],
             [
              0.5555555555555556,
              "#d8576b"
             ],
             [
              0.6666666666666666,
              "#ed7953"
             ],
             [
              0.7777777777777778,
              "#fb9f3a"
             ],
             [
              0.8888888888888888,
              "#fdca26"
             ],
             [
              1,
              "#f0f921"
             ]
            ],
            "type": "surface"
           }
          ],
          "table": [
           {
            "cells": {
             "fill": {
              "color": "#EBF0F8"
             },
             "line": {
              "color": "white"
             }
            },
            "header": {
             "fill": {
              "color": "#C8D4E3"
             },
             "line": {
              "color": "white"
             }
            },
            "type": "table"
           }
          ]
         },
         "layout": {
          "annotationdefaults": {
           "arrowcolor": "#2a3f5f",
           "arrowhead": 0,
           "arrowwidth": 1
          },
          "autotypenumbers": "strict",
          "coloraxis": {
           "colorbar": {
            "outlinewidth": 0,
            "ticks": ""
           }
          },
          "colorscale": {
           "diverging": [
            [
             0,
             "#8e0152"
            ],
            [
             0.1,
             "#c51b7d"
            ],
            [
             0.2,
             "#de77ae"
            ],
            [
             0.3,
             "#f1b6da"
            ],
            [
             0.4,
             "#fde0ef"
            ],
            [
             0.5,
             "#f7f7f7"
            ],
            [
             0.6,
             "#e6f5d0"
            ],
            [
             0.7,
             "#b8e186"
            ],
            [
             0.8,
             "#7fbc41"
            ],
            [
             0.9,
             "#4d9221"
            ],
            [
             1,
             "#276419"
            ]
           ],
           "sequential": [
            [
             0,
             "#0d0887"
            ],
            [
             0.1111111111111111,
             "#46039f"
            ],
            [
             0.2222222222222222,
             "#7201a8"
            ],
            [
             0.3333333333333333,
             "#9c179e"
            ],
            [
             0.4444444444444444,
             "#bd3786"
            ],
            [
             0.5555555555555556,
             "#d8576b"
            ],
            [
             0.6666666666666666,
             "#ed7953"
            ],
            [
             0.7777777777777778,
             "#fb9f3a"
            ],
            [
             0.8888888888888888,
             "#fdca26"
            ],
            [
             1,
             "#f0f921"
            ]
           ],
           "sequentialminus": [
            [
             0,
             "#0d0887"
            ],
            [
             0.1111111111111111,
             "#46039f"
            ],
            [
             0.2222222222222222,
             "#7201a8"
            ],
            [
             0.3333333333333333,
             "#9c179e"
            ],
            [
             0.4444444444444444,
             "#bd3786"
            ],
            [
             0.5555555555555556,
             "#d8576b"
            ],
            [
             0.6666666666666666,
             "#ed7953"
            ],
            [
             0.7777777777777778,
             "#fb9f3a"
            ],
            [
             0.8888888888888888,
             "#fdca26"
            ],
            [
             1,
             "#f0f921"
            ]
           ]
          },
          "colorway": [
           "#636efa",
           "#EF553B",
           "#00cc96",
           "#ab63fa",
           "#FFA15A",
           "#19d3f3",
           "#FF6692",
           "#B6E880",
           "#FF97FF",
           "#FECB52"
          ],
          "font": {
           "color": "#2a3f5f"
          },
          "geo": {
           "bgcolor": "white",
           "lakecolor": "white",
           "landcolor": "#E5ECF6",
           "showlakes": true,
           "showland": true,
           "subunitcolor": "white"
          },
          "hoverlabel": {
           "align": "left"
          },
          "hovermode": "closest",
          "mapbox": {
           "style": "light"
          },
          "paper_bgcolor": "white",
          "plot_bgcolor": "#E5ECF6",
          "polar": {
           "angularaxis": {
            "gridcolor": "white",
            "linecolor": "white",
            "ticks": ""
           },
           "bgcolor": "#E5ECF6",
           "radialaxis": {
            "gridcolor": "white",
            "linecolor": "white",
            "ticks": ""
           }
          },
          "scene": {
           "xaxis": {
            "backgroundcolor": "#E5ECF6",
            "gridcolor": "white",
            "gridwidth": 2,
            "linecolor": "white",
            "showbackground": true,
            "ticks": "",
            "zerolinecolor": "white"
           },
           "yaxis": {
            "backgroundcolor": "#E5ECF6",
            "gridcolor": "white",
            "gridwidth": 2,
            "linecolor": "white",
            "showbackground": true,
            "ticks": "",
            "zerolinecolor": "white"
           },
           "zaxis": {
            "backgroundcolor": "#E5ECF6",
            "gridcolor": "white",
            "gridwidth": 2,
            "linecolor": "white",
            "showbackground": true,
            "ticks": "",
            "zerolinecolor": "white"
           }
          },
          "shapedefaults": {
           "line": {
            "color": "#2a3f5f"
           }
          },
          "ternary": {
           "aaxis": {
            "gridcolor": "white",
            "linecolor": "white",
            "ticks": ""
           },
           "baxis": {
            "gridcolor": "white",
            "linecolor": "white",
            "ticks": ""
           },
           "bgcolor": "#E5ECF6",
           "caxis": {
            "gridcolor": "white",
            "linecolor": "white",
            "ticks": ""
           }
          },
          "title": {
           "x": 0.05
          },
          "xaxis": {
           "automargin": true,
           "gridcolor": "white",
           "linecolor": "white",
           "ticks": "",
           "title": {
            "standoff": 15
           },
           "zerolinecolor": "white",
           "zerolinewidth": 2
          },
          "yaxis": {
           "automargin": true,
           "gridcolor": "white",
           "linecolor": "white",
           "ticks": "",
           "title": {
            "standoff": 15
           },
           "zerolinecolor": "white",
           "zerolinewidth": 2
          }
         }
        },
        "width": 600,
        "xaxis": {
         "anchor": "y",
         "domain": [
          0,
          1
         ]
        },
        "yaxis": {
         "anchor": "x",
         "domain": [
          0,
          1
         ],
         "title": {
          "text": "Ht"
         }
        }
       }
      }
     },
     "metadata": {},
     "output_type": "display_data"
    }
   ],
   "source": [
    "fig = px.box(NumPlayers, y='Ht',width=600,height=600)\n",
    "fig.show()"
   ]
  },
  {
   "cell_type": "code",
   "execution_count": 19,
   "metadata": {},
   "outputs": [
    {
     "data": {
      "application/vnd.plotly.v1+json": {
       "config": {
        "plotlyServerURL": "https://plot.ly"
       },
       "data": [
        {
         "alignmentgroup": "True",
         "hovertemplate": "Wt=%{y}<extra></extra>",
         "legendgroup": "",
         "marker": {
          "color": "#636efa"
         },
         "name": "",
         "notched": false,
         "offsetgroup": "",
         "orientation": "v",
         "showlegend": false,
         "type": "box",
         "x0": " ",
         "xaxis": "x",
         "y": [
          95,
          101,
          86,
          93,
          109,
          88,
          98,
          109,
          113,
          95,
          111,
          92,
          93,
          93,
          112,
          104,
          88,
          104,
          95,
          106,
          104,
          91,
          90,
          93,
          109,
          97,
          81,
          109
         ],
         "y0": " ",
         "yaxis": "y"
        }
       ],
       "layout": {
        "boxmode": "group",
        "height": 600,
        "legend": {
         "tracegroupgap": 0
        },
        "margin": {
         "t": 60
        },
        "template": {
         "data": {
          "bar": [
           {
            "error_x": {
             "color": "#2a3f5f"
            },
            "error_y": {
             "color": "#2a3f5f"
            },
            "marker": {
             "line": {
              "color": "#E5ECF6",
              "width": 0.5
             },
             "pattern": {
              "fillmode": "overlay",
              "size": 10,
              "solidity": 0.2
             }
            },
            "type": "bar"
           }
          ],
          "barpolar": [
           {
            "marker": {
             "line": {
              "color": "#E5ECF6",
              "width": 0.5
             },
             "pattern": {
              "fillmode": "overlay",
              "size": 10,
              "solidity": 0.2
             }
            },
            "type": "barpolar"
           }
          ],
          "carpet": [
           {
            "aaxis": {
             "endlinecolor": "#2a3f5f",
             "gridcolor": "white",
             "linecolor": "white",
             "minorgridcolor": "white",
             "startlinecolor": "#2a3f5f"
            },
            "baxis": {
             "endlinecolor": "#2a3f5f",
             "gridcolor": "white",
             "linecolor": "white",
             "minorgridcolor": "white",
             "startlinecolor": "#2a3f5f"
            },
            "type": "carpet"
           }
          ],
          "choropleth": [
           {
            "colorbar": {
             "outlinewidth": 0,
             "ticks": ""
            },
            "type": "choropleth"
           }
          ],
          "contour": [
           {
            "colorbar": {
             "outlinewidth": 0,
             "ticks": ""
            },
            "colorscale": [
             [
              0,
              "#0d0887"
             ],
             [
              0.1111111111111111,
              "#46039f"
             ],
             [
              0.2222222222222222,
              "#7201a8"
             ],
             [
              0.3333333333333333,
              "#9c179e"
             ],
             [
              0.4444444444444444,
              "#bd3786"
             ],
             [
              0.5555555555555556,
              "#d8576b"
             ],
             [
              0.6666666666666666,
              "#ed7953"
             ],
             [
              0.7777777777777778,
              "#fb9f3a"
             ],
             [
              0.8888888888888888,
              "#fdca26"
             ],
             [
              1,
              "#f0f921"
             ]
            ],
            "type": "contour"
           }
          ],
          "contourcarpet": [
           {
            "colorbar": {
             "outlinewidth": 0,
             "ticks": ""
            },
            "type": "contourcarpet"
           }
          ],
          "heatmap": [
           {
            "colorbar": {
             "outlinewidth": 0,
             "ticks": ""
            },
            "colorscale": [
             [
              0,
              "#0d0887"
             ],
             [
              0.1111111111111111,
              "#46039f"
             ],
             [
              0.2222222222222222,
              "#7201a8"
             ],
             [
              0.3333333333333333,
              "#9c179e"
             ],
             [
              0.4444444444444444,
              "#bd3786"
             ],
             [
              0.5555555555555556,
              "#d8576b"
             ],
             [
              0.6666666666666666,
              "#ed7953"
             ],
             [
              0.7777777777777778,
              "#fb9f3a"
             ],
             [
              0.8888888888888888,
              "#fdca26"
             ],
             [
              1,
              "#f0f921"
             ]
            ],
            "type": "heatmap"
           }
          ],
          "heatmapgl": [
           {
            "colorbar": {
             "outlinewidth": 0,
             "ticks": ""
            },
            "colorscale": [
             [
              0,
              "#0d0887"
             ],
             [
              0.1111111111111111,
              "#46039f"
             ],
             [
              0.2222222222222222,
              "#7201a8"
             ],
             [
              0.3333333333333333,
              "#9c179e"
             ],
             [
              0.4444444444444444,
              "#bd3786"
             ],
             [
              0.5555555555555556,
              "#d8576b"
             ],
             [
              0.6666666666666666,
              "#ed7953"
             ],
             [
              0.7777777777777778,
              "#fb9f3a"
             ],
             [
              0.8888888888888888,
              "#fdca26"
             ],
             [
              1,
              "#f0f921"
             ]
            ],
            "type": "heatmapgl"
           }
          ],
          "histogram": [
           {
            "marker": {
             "pattern": {
              "fillmode": "overlay",
              "size": 10,
              "solidity": 0.2
             }
            },
            "type": "histogram"
           }
          ],
          "histogram2d": [
           {
            "colorbar": {
             "outlinewidth": 0,
             "ticks": ""
            },
            "colorscale": [
             [
              0,
              "#0d0887"
             ],
             [
              0.1111111111111111,
              "#46039f"
             ],
             [
              0.2222222222222222,
              "#7201a8"
             ],
             [
              0.3333333333333333,
              "#9c179e"
             ],
             [
              0.4444444444444444,
              "#bd3786"
             ],
             [
              0.5555555555555556,
              "#d8576b"
             ],
             [
              0.6666666666666666,
              "#ed7953"
             ],
             [
              0.7777777777777778,
              "#fb9f3a"
             ],
             [
              0.8888888888888888,
              "#fdca26"
             ],
             [
              1,
              "#f0f921"
             ]
            ],
            "type": "histogram2d"
           }
          ],
          "histogram2dcontour": [
           {
            "colorbar": {
             "outlinewidth": 0,
             "ticks": ""
            },
            "colorscale": [
             [
              0,
              "#0d0887"
             ],
             [
              0.1111111111111111,
              "#46039f"
             ],
             [
              0.2222222222222222,
              "#7201a8"
             ],
             [
              0.3333333333333333,
              "#9c179e"
             ],
             [
              0.4444444444444444,
              "#bd3786"
             ],
             [
              0.5555555555555556,
              "#d8576b"
             ],
             [
              0.6666666666666666,
              "#ed7953"
             ],
             [
              0.7777777777777778,
              "#fb9f3a"
             ],
             [
              0.8888888888888888,
              "#fdca26"
             ],
             [
              1,
              "#f0f921"
             ]
            ],
            "type": "histogram2dcontour"
           }
          ],
          "mesh3d": [
           {
            "colorbar": {
             "outlinewidth": 0,
             "ticks": ""
            },
            "type": "mesh3d"
           }
          ],
          "parcoords": [
           {
            "line": {
             "colorbar": {
              "outlinewidth": 0,
              "ticks": ""
             }
            },
            "type": "parcoords"
           }
          ],
          "pie": [
           {
            "automargin": true,
            "type": "pie"
           }
          ],
          "scatter": [
           {
            "fillpattern": {
             "fillmode": "overlay",
             "size": 10,
             "solidity": 0.2
            },
            "type": "scatter"
           }
          ],
          "scatter3d": [
           {
            "line": {
             "colorbar": {
              "outlinewidth": 0,
              "ticks": ""
             }
            },
            "marker": {
             "colorbar": {
              "outlinewidth": 0,
              "ticks": ""
             }
            },
            "type": "scatter3d"
           }
          ],
          "scattercarpet": [
           {
            "marker": {
             "colorbar": {
              "outlinewidth": 0,
              "ticks": ""
             }
            },
            "type": "scattercarpet"
           }
          ],
          "scattergeo": [
           {
            "marker": {
             "colorbar": {
              "outlinewidth": 0,
              "ticks": ""
             }
            },
            "type": "scattergeo"
           }
          ],
          "scattergl": [
           {
            "marker": {
             "colorbar": {
              "outlinewidth": 0,
              "ticks": ""
             }
            },
            "type": "scattergl"
           }
          ],
          "scattermapbox": [
           {
            "marker": {
             "colorbar": {
              "outlinewidth": 0,
              "ticks": ""
             }
            },
            "type": "scattermapbox"
           }
          ],
          "scatterpolar": [
           {
            "marker": {
             "colorbar": {
              "outlinewidth": 0,
              "ticks": ""
             }
            },
            "type": "scatterpolar"
           }
          ],
          "scatterpolargl": [
           {
            "marker": {
             "colorbar": {
              "outlinewidth": 0,
              "ticks": ""
             }
            },
            "type": "scatterpolargl"
           }
          ],
          "scatterternary": [
           {
            "marker": {
             "colorbar": {
              "outlinewidth": 0,
              "ticks": ""
             }
            },
            "type": "scatterternary"
           }
          ],
          "surface": [
           {
            "colorbar": {
             "outlinewidth": 0,
             "ticks": ""
            },
            "colorscale": [
             [
              0,
              "#0d0887"
             ],
             [
              0.1111111111111111,
              "#46039f"
             ],
             [
              0.2222222222222222,
              "#7201a8"
             ],
             [
              0.3333333333333333,
              "#9c179e"
             ],
             [
              0.4444444444444444,
              "#bd3786"
             ],
             [
              0.5555555555555556,
              "#d8576b"
             ],
             [
              0.6666666666666666,
              "#ed7953"
             ],
             [
              0.7777777777777778,
              "#fb9f3a"
             ],
             [
              0.8888888888888888,
              "#fdca26"
             ],
             [
              1,
              "#f0f921"
             ]
            ],
            "type": "surface"
           }
          ],
          "table": [
           {
            "cells": {
             "fill": {
              "color": "#EBF0F8"
             },
             "line": {
              "color": "white"
             }
            },
            "header": {
             "fill": {
              "color": "#C8D4E3"
             },
             "line": {
              "color": "white"
             }
            },
            "type": "table"
           }
          ]
         },
         "layout": {
          "annotationdefaults": {
           "arrowcolor": "#2a3f5f",
           "arrowhead": 0,
           "arrowwidth": 1
          },
          "autotypenumbers": "strict",
          "coloraxis": {
           "colorbar": {
            "outlinewidth": 0,
            "ticks": ""
           }
          },
          "colorscale": {
           "diverging": [
            [
             0,
             "#8e0152"
            ],
            [
             0.1,
             "#c51b7d"
            ],
            [
             0.2,
             "#de77ae"
            ],
            [
             0.3,
             "#f1b6da"
            ],
            [
             0.4,
             "#fde0ef"
            ],
            [
             0.5,
             "#f7f7f7"
            ],
            [
             0.6,
             "#e6f5d0"
            ],
            [
             0.7,
             "#b8e186"
            ],
            [
             0.8,
             "#7fbc41"
            ],
            [
             0.9,
             "#4d9221"
            ],
            [
             1,
             "#276419"
            ]
           ],
           "sequential": [
            [
             0,
             "#0d0887"
            ],
            [
             0.1111111111111111,
             "#46039f"
            ],
            [
             0.2222222222222222,
             "#7201a8"
            ],
            [
             0.3333333333333333,
             "#9c179e"
            ],
            [
             0.4444444444444444,
             "#bd3786"
            ],
            [
             0.5555555555555556,
             "#d8576b"
            ],
            [
             0.6666666666666666,
             "#ed7953"
            ],
            [
             0.7777777777777778,
             "#fb9f3a"
            ],
            [
             0.8888888888888888,
             "#fdca26"
            ],
            [
             1,
             "#f0f921"
            ]
           ],
           "sequentialminus": [
            [
             0,
             "#0d0887"
            ],
            [
             0.1111111111111111,
             "#46039f"
            ],
            [
             0.2222222222222222,
             "#7201a8"
            ],
            [
             0.3333333333333333,
             "#9c179e"
            ],
            [
             0.4444444444444444,
             "#bd3786"
            ],
            [
             0.5555555555555556,
             "#d8576b"
            ],
            [
             0.6666666666666666,
             "#ed7953"
            ],
            [
             0.7777777777777778,
             "#fb9f3a"
            ],
            [
             0.8888888888888888,
             "#fdca26"
            ],
            [
             1,
             "#f0f921"
            ]
           ]
          },
          "colorway": [
           "#636efa",
           "#EF553B",
           "#00cc96",
           "#ab63fa",
           "#FFA15A",
           "#19d3f3",
           "#FF6692",
           "#B6E880",
           "#FF97FF",
           "#FECB52"
          ],
          "font": {
           "color": "#2a3f5f"
          },
          "geo": {
           "bgcolor": "white",
           "lakecolor": "white",
           "landcolor": "#E5ECF6",
           "showlakes": true,
           "showland": true,
           "subunitcolor": "white"
          },
          "hoverlabel": {
           "align": "left"
          },
          "hovermode": "closest",
          "mapbox": {
           "style": "light"
          },
          "paper_bgcolor": "white",
          "plot_bgcolor": "#E5ECF6",
          "polar": {
           "angularaxis": {
            "gridcolor": "white",
            "linecolor": "white",
            "ticks": ""
           },
           "bgcolor": "#E5ECF6",
           "radialaxis": {
            "gridcolor": "white",
            "linecolor": "white",
            "ticks": ""
           }
          },
          "scene": {
           "xaxis": {
            "backgroundcolor": "#E5ECF6",
            "gridcolor": "white",
            "gridwidth": 2,
            "linecolor": "white",
            "showbackground": true,
            "ticks": "",
            "zerolinecolor": "white"
           },
           "yaxis": {
            "backgroundcolor": "#E5ECF6",
            "gridcolor": "white",
            "gridwidth": 2,
            "linecolor": "white",
            "showbackground": true,
            "ticks": "",
            "zerolinecolor": "white"
           },
           "zaxis": {
            "backgroundcolor": "#E5ECF6",
            "gridcolor": "white",
            "gridwidth": 2,
            "linecolor": "white",
            "showbackground": true,
            "ticks": "",
            "zerolinecolor": "white"
           }
          },
          "shapedefaults": {
           "line": {
            "color": "#2a3f5f"
           }
          },
          "ternary": {
           "aaxis": {
            "gridcolor": "white",
            "linecolor": "white",
            "ticks": ""
           },
           "baxis": {
            "gridcolor": "white",
            "linecolor": "white",
            "ticks": ""
           },
           "bgcolor": "#E5ECF6",
           "caxis": {
            "gridcolor": "white",
            "linecolor": "white",
            "ticks": ""
           }
          },
          "title": {
           "x": 0.05
          },
          "xaxis": {
           "automargin": true,
           "gridcolor": "white",
           "linecolor": "white",
           "ticks": "",
           "title": {
            "standoff": 15
           },
           "zerolinecolor": "white",
           "zerolinewidth": 2
          },
          "yaxis": {
           "automargin": true,
           "gridcolor": "white",
           "linecolor": "white",
           "ticks": "",
           "title": {
            "standoff": 15
           },
           "zerolinecolor": "white",
           "zerolinewidth": 2
          }
         }
        },
        "width": 600,
        "xaxis": {
         "anchor": "y",
         "domain": [
          0,
          1
         ]
        },
        "yaxis": {
         "anchor": "x",
         "domain": [
          0,
          1
         ],
         "title": {
          "text": "Wt"
         }
        }
       }
      }
     },
     "metadata": {},
     "output_type": "display_data"
    }
   ],
   "source": [
    "fig = px.box(NumPlayers, y='Wt',width=600,height=600)\n",
    "fig.show()"
   ]
  },
  {
   "cell_type": "code",
   "execution_count": 20,
   "metadata": {},
   "outputs": [
    {
     "data": {
      "application/vnd.plotly.v1+json": {
       "config": {
        "plotlyServerURL": "https://plot.ly"
       },
       "data": [
        {
         "alignmentgroup": "True",
         "hovertemplate": "Exp=%{y}<extra></extra>",
         "legendgroup": "",
         "marker": {
          "color": "#636efa"
         },
         "name": "",
         "notched": false,
         "offsetgroup": "",
         "orientation": "v",
         "showlegend": false,
         "type": "box",
         "x0": " ",
         "xaxis": "x",
         "y": [
          6,
          7,
          6,
          14,
          16,
          3,
          2,
          7,
          6,
          4,
          3,
          2,
          5,
          0,
          2,
          5,
          12,
          4,
          7,
          4,
          0,
          3,
          1,
          10,
          6,
          6,
          1,
          9
         ],
         "y0": " ",
         "yaxis": "y"
        }
       ],
       "layout": {
        "boxmode": "group",
        "height": 600,
        "legend": {
         "tracegroupgap": 0
        },
        "margin": {
         "t": 60
        },
        "template": {
         "data": {
          "bar": [
           {
            "error_x": {
             "color": "#2a3f5f"
            },
            "error_y": {
             "color": "#2a3f5f"
            },
            "marker": {
             "line": {
              "color": "#E5ECF6",
              "width": 0.5
             },
             "pattern": {
              "fillmode": "overlay",
              "size": 10,
              "solidity": 0.2
             }
            },
            "type": "bar"
           }
          ],
          "barpolar": [
           {
            "marker": {
             "line": {
              "color": "#E5ECF6",
              "width": 0.5
             },
             "pattern": {
              "fillmode": "overlay",
              "size": 10,
              "solidity": 0.2
             }
            },
            "type": "barpolar"
           }
          ],
          "carpet": [
           {
            "aaxis": {
             "endlinecolor": "#2a3f5f",
             "gridcolor": "white",
             "linecolor": "white",
             "minorgridcolor": "white",
             "startlinecolor": "#2a3f5f"
            },
            "baxis": {
             "endlinecolor": "#2a3f5f",
             "gridcolor": "white",
             "linecolor": "white",
             "minorgridcolor": "white",
             "startlinecolor": "#2a3f5f"
            },
            "type": "carpet"
           }
          ],
          "choropleth": [
           {
            "colorbar": {
             "outlinewidth": 0,
             "ticks": ""
            },
            "type": "choropleth"
           }
          ],
          "contour": [
           {
            "colorbar": {
             "outlinewidth": 0,
             "ticks": ""
            },
            "colorscale": [
             [
              0,
              "#0d0887"
             ],
             [
              0.1111111111111111,
              "#46039f"
             ],
             [
              0.2222222222222222,
              "#7201a8"
             ],
             [
              0.3333333333333333,
              "#9c179e"
             ],
             [
              0.4444444444444444,
              "#bd3786"
             ],
             [
              0.5555555555555556,
              "#d8576b"
             ],
             [
              0.6666666666666666,
              "#ed7953"
             ],
             [
              0.7777777777777778,
              "#fb9f3a"
             ],
             [
              0.8888888888888888,
              "#fdca26"
             ],
             [
              1,
              "#f0f921"
             ]
            ],
            "type": "contour"
           }
          ],
          "contourcarpet": [
           {
            "colorbar": {
             "outlinewidth": 0,
             "ticks": ""
            },
            "type": "contourcarpet"
           }
          ],
          "heatmap": [
           {
            "colorbar": {
             "outlinewidth": 0,
             "ticks": ""
            },
            "colorscale": [
             [
              0,
              "#0d0887"
             ],
             [
              0.1111111111111111,
              "#46039f"
             ],
             [
              0.2222222222222222,
              "#7201a8"
             ],
             [
              0.3333333333333333,
              "#9c179e"
             ],
             [
              0.4444444444444444,
              "#bd3786"
             ],
             [
              0.5555555555555556,
              "#d8576b"
             ],
             [
              0.6666666666666666,
              "#ed7953"
             ],
             [
              0.7777777777777778,
              "#fb9f3a"
             ],
             [
              0.8888888888888888,
              "#fdca26"
             ],
             [
              1,
              "#f0f921"
             ]
            ],
            "type": "heatmap"
           }
          ],
          "heatmapgl": [
           {
            "colorbar": {
             "outlinewidth": 0,
             "ticks": ""
            },
            "colorscale": [
             [
              0,
              "#0d0887"
             ],
             [
              0.1111111111111111,
              "#46039f"
             ],
             [
              0.2222222222222222,
              "#7201a8"
             ],
             [
              0.3333333333333333,
              "#9c179e"
             ],
             [
              0.4444444444444444,
              "#bd3786"
             ],
             [
              0.5555555555555556,
              "#d8576b"
             ],
             [
              0.6666666666666666,
              "#ed7953"
             ],
             [
              0.7777777777777778,
              "#fb9f3a"
             ],
             [
              0.8888888888888888,
              "#fdca26"
             ],
             [
              1,
              "#f0f921"
             ]
            ],
            "type": "heatmapgl"
           }
          ],
          "histogram": [
           {
            "marker": {
             "pattern": {
              "fillmode": "overlay",
              "size": 10,
              "solidity": 0.2
             }
            },
            "type": "histogram"
           }
          ],
          "histogram2d": [
           {
            "colorbar": {
             "outlinewidth": 0,
             "ticks": ""
            },
            "colorscale": [
             [
              0,
              "#0d0887"
             ],
             [
              0.1111111111111111,
              "#46039f"
             ],
             [
              0.2222222222222222,
              "#7201a8"
             ],
             [
              0.3333333333333333,
              "#9c179e"
             ],
             [
              0.4444444444444444,
              "#bd3786"
             ],
             [
              0.5555555555555556,
              "#d8576b"
             ],
             [
              0.6666666666666666,
              "#ed7953"
             ],
             [
              0.7777777777777778,
              "#fb9f3a"
             ],
             [
              0.8888888888888888,
              "#fdca26"
             ],
             [
              1,
              "#f0f921"
             ]
            ],
            "type": "histogram2d"
           }
          ],
          "histogram2dcontour": [
           {
            "colorbar": {
             "outlinewidth": 0,
             "ticks": ""
            },
            "colorscale": [
             [
              0,
              "#0d0887"
             ],
             [
              0.1111111111111111,
              "#46039f"
             ],
             [
              0.2222222222222222,
              "#7201a8"
             ],
             [
              0.3333333333333333,
              "#9c179e"
             ],
             [
              0.4444444444444444,
              "#bd3786"
             ],
             [
              0.5555555555555556,
              "#d8576b"
             ],
             [
              0.6666666666666666,
              "#ed7953"
             ],
             [
              0.7777777777777778,
              "#fb9f3a"
             ],
             [
              0.8888888888888888,
              "#fdca26"
             ],
             [
              1,
              "#f0f921"
             ]
            ],
            "type": "histogram2dcontour"
           }
          ],
          "mesh3d": [
           {
            "colorbar": {
             "outlinewidth": 0,
             "ticks": ""
            },
            "type": "mesh3d"
           }
          ],
          "parcoords": [
           {
            "line": {
             "colorbar": {
              "outlinewidth": 0,
              "ticks": ""
             }
            },
            "type": "parcoords"
           }
          ],
          "pie": [
           {
            "automargin": true,
            "type": "pie"
           }
          ],
          "scatter": [
           {
            "fillpattern": {
             "fillmode": "overlay",
             "size": 10,
             "solidity": 0.2
            },
            "type": "scatter"
           }
          ],
          "scatter3d": [
           {
            "line": {
             "colorbar": {
              "outlinewidth": 0,
              "ticks": ""
             }
            },
            "marker": {
             "colorbar": {
              "outlinewidth": 0,
              "ticks": ""
             }
            },
            "type": "scatter3d"
           }
          ],
          "scattercarpet": [
           {
            "marker": {
             "colorbar": {
              "outlinewidth": 0,
              "ticks": ""
             }
            },
            "type": "scattercarpet"
           }
          ],
          "scattergeo": [
           {
            "marker": {
             "colorbar": {
              "outlinewidth": 0,
              "ticks": ""
             }
            },
            "type": "scattergeo"
           }
          ],
          "scattergl": [
           {
            "marker": {
             "colorbar": {
              "outlinewidth": 0,
              "ticks": ""
             }
            },
            "type": "scattergl"
           }
          ],
          "scattermapbox": [
           {
            "marker": {
             "colorbar": {
              "outlinewidth": 0,
              "ticks": ""
             }
            },
            "type": "scattermapbox"
           }
          ],
          "scatterpolar": [
           {
            "marker": {
             "colorbar": {
              "outlinewidth": 0,
              "ticks": ""
             }
            },
            "type": "scatterpolar"
           }
          ],
          "scatterpolargl": [
           {
            "marker": {
             "colorbar": {
              "outlinewidth": 0,
              "ticks": ""
             }
            },
            "type": "scatterpolargl"
           }
          ],
          "scatterternary": [
           {
            "marker": {
             "colorbar": {
              "outlinewidth": 0,
              "ticks": ""
             }
            },
            "type": "scatterternary"
           }
          ],
          "surface": [
           {
            "colorbar": {
             "outlinewidth": 0,
             "ticks": ""
            },
            "colorscale": [
             [
              0,
              "#0d0887"
             ],
             [
              0.1111111111111111,
              "#46039f"
             ],
             [
              0.2222222222222222,
              "#7201a8"
             ],
             [
              0.3333333333333333,
              "#9c179e"
             ],
             [
              0.4444444444444444,
              "#bd3786"
             ],
             [
              0.5555555555555556,
              "#d8576b"
             ],
             [
              0.6666666666666666,
              "#ed7953"
             ],
             [
              0.7777777777777778,
              "#fb9f3a"
             ],
             [
              0.8888888888888888,
              "#fdca26"
             ],
             [
              1,
              "#f0f921"
             ]
            ],
            "type": "surface"
           }
          ],
          "table": [
           {
            "cells": {
             "fill": {
              "color": "#EBF0F8"
             },
             "line": {
              "color": "white"
             }
            },
            "header": {
             "fill": {
              "color": "#C8D4E3"
             },
             "line": {
              "color": "white"
             }
            },
            "type": "table"
           }
          ]
         },
         "layout": {
          "annotationdefaults": {
           "arrowcolor": "#2a3f5f",
           "arrowhead": 0,
           "arrowwidth": 1
          },
          "autotypenumbers": "strict",
          "coloraxis": {
           "colorbar": {
            "outlinewidth": 0,
            "ticks": ""
           }
          },
          "colorscale": {
           "diverging": [
            [
             0,
             "#8e0152"
            ],
            [
             0.1,
             "#c51b7d"
            ],
            [
             0.2,
             "#de77ae"
            ],
            [
             0.3,
             "#f1b6da"
            ],
            [
             0.4,
             "#fde0ef"
            ],
            [
             0.5,
             "#f7f7f7"
            ],
            [
             0.6,
             "#e6f5d0"
            ],
            [
             0.7,
             "#b8e186"
            ],
            [
             0.8,
             "#7fbc41"
            ],
            [
             0.9,
             "#4d9221"
            ],
            [
             1,
             "#276419"
            ]
           ],
           "sequential": [
            [
             0,
             "#0d0887"
            ],
            [
             0.1111111111111111,
             "#46039f"
            ],
            [
             0.2222222222222222,
             "#7201a8"
            ],
            [
             0.3333333333333333,
             "#9c179e"
            ],
            [
             0.4444444444444444,
             "#bd3786"
            ],
            [
             0.5555555555555556,
             "#d8576b"
            ],
            [
             0.6666666666666666,
             "#ed7953"
            ],
            [
             0.7777777777777778,
             "#fb9f3a"
            ],
            [
             0.8888888888888888,
             "#fdca26"
            ],
            [
             1,
             "#f0f921"
            ]
           ],
           "sequentialminus": [
            [
             0,
             "#0d0887"
            ],
            [
             0.1111111111111111,
             "#46039f"
            ],
            [
             0.2222222222222222,
             "#7201a8"
            ],
            [
             0.3333333333333333,
             "#9c179e"
            ],
            [
             0.4444444444444444,
             "#bd3786"
            ],
            [
             0.5555555555555556,
             "#d8576b"
            ],
            [
             0.6666666666666666,
             "#ed7953"
            ],
            [
             0.7777777777777778,
             "#fb9f3a"
            ],
            [
             0.8888888888888888,
             "#fdca26"
            ],
            [
             1,
             "#f0f921"
            ]
           ]
          },
          "colorway": [
           "#636efa",
           "#EF553B",
           "#00cc96",
           "#ab63fa",
           "#FFA15A",
           "#19d3f3",
           "#FF6692",
           "#B6E880",
           "#FF97FF",
           "#FECB52"
          ],
          "font": {
           "color": "#2a3f5f"
          },
          "geo": {
           "bgcolor": "white",
           "lakecolor": "white",
           "landcolor": "#E5ECF6",
           "showlakes": true,
           "showland": true,
           "subunitcolor": "white"
          },
          "hoverlabel": {
           "align": "left"
          },
          "hovermode": "closest",
          "mapbox": {
           "style": "light"
          },
          "paper_bgcolor": "white",
          "plot_bgcolor": "#E5ECF6",
          "polar": {
           "angularaxis": {
            "gridcolor": "white",
            "linecolor": "white",
            "ticks": ""
           },
           "bgcolor": "#E5ECF6",
           "radialaxis": {
            "gridcolor": "white",
            "linecolor": "white",
            "ticks": ""
           }
          },
          "scene": {
           "xaxis": {
            "backgroundcolor": "#E5ECF6",
            "gridcolor": "white",
            "gridwidth": 2,
            "linecolor": "white",
            "showbackground": true,
            "ticks": "",
            "zerolinecolor": "white"
           },
           "yaxis": {
            "backgroundcolor": "#E5ECF6",
            "gridcolor": "white",
            "gridwidth": 2,
            "linecolor": "white",
            "showbackground": true,
            "ticks": "",
            "zerolinecolor": "white"
           },
           "zaxis": {
            "backgroundcolor": "#E5ECF6",
            "gridcolor": "white",
            "gridwidth": 2,
            "linecolor": "white",
            "showbackground": true,
            "ticks": "",
            "zerolinecolor": "white"
           }
          },
          "shapedefaults": {
           "line": {
            "color": "#2a3f5f"
           }
          },
          "ternary": {
           "aaxis": {
            "gridcolor": "white",
            "linecolor": "white",
            "ticks": ""
           },
           "baxis": {
            "gridcolor": "white",
            "linecolor": "white",
            "ticks": ""
           },
           "bgcolor": "#E5ECF6",
           "caxis": {
            "gridcolor": "white",
            "linecolor": "white",
            "ticks": ""
           }
          },
          "title": {
           "x": 0.05
          },
          "xaxis": {
           "automargin": true,
           "gridcolor": "white",
           "linecolor": "white",
           "ticks": "",
           "title": {
            "standoff": 15
           },
           "zerolinecolor": "white",
           "zerolinewidth": 2
          },
          "yaxis": {
           "automargin": true,
           "gridcolor": "white",
           "linecolor": "white",
           "ticks": "",
           "title": {
            "standoff": 15
           },
           "zerolinecolor": "white",
           "zerolinewidth": 2
          }
         }
        },
        "width": 600,
        "xaxis": {
         "anchor": "y",
         "domain": [
          0,
          1
         ]
        },
        "yaxis": {
         "anchor": "x",
         "domain": [
          0,
          1
         ],
         "title": {
          "text": "Exp"
         }
        }
       }
      }
     },
     "metadata": {},
     "output_type": "display_data"
    }
   ],
   "source": [
    "fig = px.box(NumPlayers, y='Exp',width=600,height=600)\n",
    "fig.show()"
   ]
  },
  {
   "cell_type": "code",
   "execution_count": 26,
   "metadata": {},
   "outputs": [
    {
     "data": {
      "text/html": [
       "<div>\n",
       "<style scoped>\n",
       "    .dataframe tbody tr th:only-of-type {\n",
       "        vertical-align: middle;\n",
       "    }\n",
       "\n",
       "    .dataframe tbody tr th {\n",
       "        vertical-align: top;\n",
       "    }\n",
       "\n",
       "    .dataframe thead th {\n",
       "        text-align: right;\n",
       "    }\n",
       "</style>\n",
       "<table border=\"1\" class=\"dataframe\">\n",
       "  <thead>\n",
       "    <tr style=\"text-align: right;\">\n",
       "      <th></th>\n",
       "      <th>Player</th>\n",
       "      <th>Team</th>\n",
       "      <th>Pos</th>\n",
       "      <th>Age</th>\n",
       "      <th>Ht</th>\n",
       "      <th>Wt</th>\n",
       "      <th>Exp</th>\n",
       "      <th>Country</th>\n",
       "      <th>PPG</th>\n",
       "      <th>RPG</th>\n",
       "      <th>APG</th>\n",
       "      <th>PIE</th>\n",
       "    </tr>\n",
       "  </thead>\n",
       "  <tbody>\n",
       "    <tr>\n",
       "      <th>3</th>\n",
       "      <td>Jrue Holiday</td>\n",
       "      <td>BOS</td>\n",
       "      <td>G</td>\n",
       "      <td>33</td>\n",
       "      <td>1.93</td>\n",
       "      <td>93</td>\n",
       "      <td>14</td>\n",
       "      <td>USA</td>\n",
       "      <td>12.5</td>\n",
       "      <td>5.4</td>\n",
       "      <td>4.8</td>\n",
       "      <td>9.9</td>\n",
       "    </tr>\n",
       "    <tr>\n",
       "      <th>4</th>\n",
       "      <td>Al Horford</td>\n",
       "      <td>BOS</td>\n",
       "      <td>C-F</td>\n",
       "      <td>38</td>\n",
       "      <td>2.06</td>\n",
       "      <td>109</td>\n",
       "      <td>16</td>\n",
       "      <td>DOM</td>\n",
       "      <td>8.6</td>\n",
       "      <td>6.4</td>\n",
       "      <td>2.6</td>\n",
       "      <td>10.5</td>\n",
       "    </tr>\n",
       "  </tbody>\n",
       "</table>\n",
       "</div>"
      ],
      "text/plain": [
       "         Player Team  Pos  Age    Ht   Wt  Exp Country   PPG  RPG  APG   PIE\n",
       "3  Jrue Holiday  BOS    G   33  1.93   93   14     USA  12.5  5.4  4.8   9.9\n",
       "4    Al Horford  BOS  C-F   38  2.06  109   16     DOM   8.6  6.4  2.6  10.5"
      ]
     },
     "execution_count": 26,
     "metadata": {},
     "output_type": "execute_result"
    }
   ],
   "source": [
    "Players[Players['Exp']>12]"
   ]
  },
  {
   "cell_type": "code",
   "execution_count": 21,
   "metadata": {},
   "outputs": [
    {
     "data": {
      "application/vnd.plotly.v1+json": {
       "config": {
        "plotlyServerURL": "https://plot.ly"
       },
       "data": [
        {
         "alignmentgroup": "True",
         "hovertemplate": "PPG=%{y}<extra></extra>",
         "legendgroup": "",
         "marker": {
          "color": "#636efa"
         },
         "name": "",
         "notched": false,
         "offsetgroup": "",
         "orientation": "v",
         "showlegend": false,
         "type": "box",
         "x0": " ",
         "xaxis": "x",
         "y": [
          26.9,
          23,
          15.2,
          12.5,
          8.6,
          9.6,
          9,
          20.1,
          5.3,
          3.7,
          5.3,
          3.3,
          4,
          1.7,
          5.5,
          33.9,
          25.6,
          12.9,
          8.6,
          11,
          8.8,
          8.2,
          7.3,
          14.4,
          4.4,
          7.8,
          3.2,
          3.3
         ],
         "y0": " ",
         "yaxis": "y"
        }
       ],
       "layout": {
        "boxmode": "group",
        "height": 600,
        "legend": {
         "tracegroupgap": 0
        },
        "margin": {
         "t": 60
        },
        "template": {
         "data": {
          "bar": [
           {
            "error_x": {
             "color": "#2a3f5f"
            },
            "error_y": {
             "color": "#2a3f5f"
            },
            "marker": {
             "line": {
              "color": "#E5ECF6",
              "width": 0.5
             },
             "pattern": {
              "fillmode": "overlay",
              "size": 10,
              "solidity": 0.2
             }
            },
            "type": "bar"
           }
          ],
          "barpolar": [
           {
            "marker": {
             "line": {
              "color": "#E5ECF6",
              "width": 0.5
             },
             "pattern": {
              "fillmode": "overlay",
              "size": 10,
              "solidity": 0.2
             }
            },
            "type": "barpolar"
           }
          ],
          "carpet": [
           {
            "aaxis": {
             "endlinecolor": "#2a3f5f",
             "gridcolor": "white",
             "linecolor": "white",
             "minorgridcolor": "white",
             "startlinecolor": "#2a3f5f"
            },
            "baxis": {
             "endlinecolor": "#2a3f5f",
             "gridcolor": "white",
             "linecolor": "white",
             "minorgridcolor": "white",
             "startlinecolor": "#2a3f5f"
            },
            "type": "carpet"
           }
          ],
          "choropleth": [
           {
            "colorbar": {
             "outlinewidth": 0,
             "ticks": ""
            },
            "type": "choropleth"
           }
          ],
          "contour": [
           {
            "colorbar": {
             "outlinewidth": 0,
             "ticks": ""
            },
            "colorscale": [
             [
              0,
              "#0d0887"
             ],
             [
              0.1111111111111111,
              "#46039f"
             ],
             [
              0.2222222222222222,
              "#7201a8"
             ],
             [
              0.3333333333333333,
              "#9c179e"
             ],
             [
              0.4444444444444444,
              "#bd3786"
             ],
             [
              0.5555555555555556,
              "#d8576b"
             ],
             [
              0.6666666666666666,
              "#ed7953"
             ],
             [
              0.7777777777777778,
              "#fb9f3a"
             ],
             [
              0.8888888888888888,
              "#fdca26"
             ],
             [
              1,
              "#f0f921"
             ]
            ],
            "type": "contour"
           }
          ],
          "contourcarpet": [
           {
            "colorbar": {
             "outlinewidth": 0,
             "ticks": ""
            },
            "type": "contourcarpet"
           }
          ],
          "heatmap": [
           {
            "colorbar": {
             "outlinewidth": 0,
             "ticks": ""
            },
            "colorscale": [
             [
              0,
              "#0d0887"
             ],
             [
              0.1111111111111111,
              "#46039f"
             ],
             [
              0.2222222222222222,
              "#7201a8"
             ],
             [
              0.3333333333333333,
              "#9c179e"
             ],
             [
              0.4444444444444444,
              "#bd3786"
             ],
             [
              0.5555555555555556,
              "#d8576b"
             ],
             [
              0.6666666666666666,
              "#ed7953"
             ],
             [
              0.7777777777777778,
              "#fb9f3a"
             ],
             [
              0.8888888888888888,
              "#fdca26"
             ],
             [
              1,
              "#f0f921"
             ]
            ],
            "type": "heatmap"
           }
          ],
          "heatmapgl": [
           {
            "colorbar": {
             "outlinewidth": 0,
             "ticks": ""
            },
            "colorscale": [
             [
              0,
              "#0d0887"
             ],
             [
              0.1111111111111111,
              "#46039f"
             ],
             [
              0.2222222222222222,
              "#7201a8"
             ],
             [
              0.3333333333333333,
              "#9c179e"
             ],
             [
              0.4444444444444444,
              "#bd3786"
             ],
             [
              0.5555555555555556,
              "#d8576b"
             ],
             [
              0.6666666666666666,
              "#ed7953"
             ],
             [
              0.7777777777777778,
              "#fb9f3a"
             ],
             [
              0.8888888888888888,
              "#fdca26"
             ],
             [
              1,
              "#f0f921"
             ]
            ],
            "type": "heatmapgl"
           }
          ],
          "histogram": [
           {
            "marker": {
             "pattern": {
              "fillmode": "overlay",
              "size": 10,
              "solidity": 0.2
             }
            },
            "type": "histogram"
           }
          ],
          "histogram2d": [
           {
            "colorbar": {
             "outlinewidth": 0,
             "ticks": ""
            },
            "colorscale": [
             [
              0,
              "#0d0887"
             ],
             [
              0.1111111111111111,
              "#46039f"
             ],
             [
              0.2222222222222222,
              "#7201a8"
             ],
             [
              0.3333333333333333,
              "#9c179e"
             ],
             [
              0.4444444444444444,
              "#bd3786"
             ],
             [
              0.5555555555555556,
              "#d8576b"
             ],
             [
              0.6666666666666666,
              "#ed7953"
             ],
             [
              0.7777777777777778,
              "#fb9f3a"
             ],
             [
              0.8888888888888888,
              "#fdca26"
             ],
             [
              1,
              "#f0f921"
             ]
            ],
            "type": "histogram2d"
           }
          ],
          "histogram2dcontour": [
           {
            "colorbar": {
             "outlinewidth": 0,
             "ticks": ""
            },
            "colorscale": [
             [
              0,
              "#0d0887"
             ],
             [
              0.1111111111111111,
              "#46039f"
             ],
             [
              0.2222222222222222,
              "#7201a8"
             ],
             [
              0.3333333333333333,
              "#9c179e"
             ],
             [
              0.4444444444444444,
              "#bd3786"
             ],
             [
              0.5555555555555556,
              "#d8576b"
             ],
             [
              0.6666666666666666,
              "#ed7953"
             ],
             [
              0.7777777777777778,
              "#fb9f3a"
             ],
             [
              0.8888888888888888,
              "#fdca26"
             ],
             [
              1,
              "#f0f921"
             ]
            ],
            "type": "histogram2dcontour"
           }
          ],
          "mesh3d": [
           {
            "colorbar": {
             "outlinewidth": 0,
             "ticks": ""
            },
            "type": "mesh3d"
           }
          ],
          "parcoords": [
           {
            "line": {
             "colorbar": {
              "outlinewidth": 0,
              "ticks": ""
             }
            },
            "type": "parcoords"
           }
          ],
          "pie": [
           {
            "automargin": true,
            "type": "pie"
           }
          ],
          "scatter": [
           {
            "fillpattern": {
             "fillmode": "overlay",
             "size": 10,
             "solidity": 0.2
            },
            "type": "scatter"
           }
          ],
          "scatter3d": [
           {
            "line": {
             "colorbar": {
              "outlinewidth": 0,
              "ticks": ""
             }
            },
            "marker": {
             "colorbar": {
              "outlinewidth": 0,
              "ticks": ""
             }
            },
            "type": "scatter3d"
           }
          ],
          "scattercarpet": [
           {
            "marker": {
             "colorbar": {
              "outlinewidth": 0,
              "ticks": ""
             }
            },
            "type": "scattercarpet"
           }
          ],
          "scattergeo": [
           {
            "marker": {
             "colorbar": {
              "outlinewidth": 0,
              "ticks": ""
             }
            },
            "type": "scattergeo"
           }
          ],
          "scattergl": [
           {
            "marker": {
             "colorbar": {
              "outlinewidth": 0,
              "ticks": ""
             }
            },
            "type": "scattergl"
           }
          ],
          "scattermapbox": [
           {
            "marker": {
             "colorbar": {
              "outlinewidth": 0,
              "ticks": ""
             }
            },
            "type": "scattermapbox"
           }
          ],
          "scatterpolar": [
           {
            "marker": {
             "colorbar": {
              "outlinewidth": 0,
              "ticks": ""
             }
            },
            "type": "scatterpolar"
           }
          ],
          "scatterpolargl": [
           {
            "marker": {
             "colorbar": {
              "outlinewidth": 0,
              "ticks": ""
             }
            },
            "type": "scatterpolargl"
           }
          ],
          "scatterternary": [
           {
            "marker": {
             "colorbar": {
              "outlinewidth": 0,
              "ticks": ""
             }
            },
            "type": "scatterternary"
           }
          ],
          "surface": [
           {
            "colorbar": {
             "outlinewidth": 0,
             "ticks": ""
            },
            "colorscale": [
             [
              0,
              "#0d0887"
             ],
             [
              0.1111111111111111,
              "#46039f"
             ],
             [
              0.2222222222222222,
              "#7201a8"
             ],
             [
              0.3333333333333333,
              "#9c179e"
             ],
             [
              0.4444444444444444,
              "#bd3786"
             ],
             [
              0.5555555555555556,
              "#d8576b"
             ],
             [
              0.6666666666666666,
              "#ed7953"
             ],
             [
              0.7777777777777778,
              "#fb9f3a"
             ],
             [
              0.8888888888888888,
              "#fdca26"
             ],
             [
              1,
              "#f0f921"
             ]
            ],
            "type": "surface"
           }
          ],
          "table": [
           {
            "cells": {
             "fill": {
              "color": "#EBF0F8"
             },
             "line": {
              "color": "white"
             }
            },
            "header": {
             "fill": {
              "color": "#C8D4E3"
             },
             "line": {
              "color": "white"
             }
            },
            "type": "table"
           }
          ]
         },
         "layout": {
          "annotationdefaults": {
           "arrowcolor": "#2a3f5f",
           "arrowhead": 0,
           "arrowwidth": 1
          },
          "autotypenumbers": "strict",
          "coloraxis": {
           "colorbar": {
            "outlinewidth": 0,
            "ticks": ""
           }
          },
          "colorscale": {
           "diverging": [
            [
             0,
             "#8e0152"
            ],
            [
             0.1,
             "#c51b7d"
            ],
            [
             0.2,
             "#de77ae"
            ],
            [
             0.3,
             "#f1b6da"
            ],
            [
             0.4,
             "#fde0ef"
            ],
            [
             0.5,
             "#f7f7f7"
            ],
            [
             0.6,
             "#e6f5d0"
            ],
            [
             0.7,
             "#b8e186"
            ],
            [
             0.8,
             "#7fbc41"
            ],
            [
             0.9,
             "#4d9221"
            ],
            [
             1,
             "#276419"
            ]
           ],
           "sequential": [
            [
             0,
             "#0d0887"
            ],
            [
             0.1111111111111111,
             "#46039f"
            ],
            [
             0.2222222222222222,
             "#7201a8"
            ],
            [
             0.3333333333333333,
             "#9c179e"
            ],
            [
             0.4444444444444444,
             "#bd3786"
            ],
            [
             0.5555555555555556,
             "#d8576b"
            ],
            [
             0.6666666666666666,
             "#ed7953"
            ],
            [
             0.7777777777777778,
             "#fb9f3a"
            ],
            [
             0.8888888888888888,
             "#fdca26"
            ],
            [
             1,
             "#f0f921"
            ]
           ],
           "sequentialminus": [
            [
             0,
             "#0d0887"
            ],
            [
             0.1111111111111111,
             "#46039f"
            ],
            [
             0.2222222222222222,
             "#7201a8"
            ],
            [
             0.3333333333333333,
             "#9c179e"
            ],
            [
             0.4444444444444444,
             "#bd3786"
            ],
            [
             0.5555555555555556,
             "#d8576b"
            ],
            [
             0.6666666666666666,
             "#ed7953"
            ],
            [
             0.7777777777777778,
             "#fb9f3a"
            ],
            [
             0.8888888888888888,
             "#fdca26"
            ],
            [
             1,
             "#f0f921"
            ]
           ]
          },
          "colorway": [
           "#636efa",
           "#EF553B",
           "#00cc96",
           "#ab63fa",
           "#FFA15A",
           "#19d3f3",
           "#FF6692",
           "#B6E880",
           "#FF97FF",
           "#FECB52"
          ],
          "font": {
           "color": "#2a3f5f"
          },
          "geo": {
           "bgcolor": "white",
           "lakecolor": "white",
           "landcolor": "#E5ECF6",
           "showlakes": true,
           "showland": true,
           "subunitcolor": "white"
          },
          "hoverlabel": {
           "align": "left"
          },
          "hovermode": "closest",
          "mapbox": {
           "style": "light"
          },
          "paper_bgcolor": "white",
          "plot_bgcolor": "#E5ECF6",
          "polar": {
           "angularaxis": {
            "gridcolor": "white",
            "linecolor": "white",
            "ticks": ""
           },
           "bgcolor": "#E5ECF6",
           "radialaxis": {
            "gridcolor": "white",
            "linecolor": "white",
            "ticks": ""
           }
          },
          "scene": {
           "xaxis": {
            "backgroundcolor": "#E5ECF6",
            "gridcolor": "white",
            "gridwidth": 2,
            "linecolor": "white",
            "showbackground": true,
            "ticks": "",
            "zerolinecolor": "white"
           },
           "yaxis": {
            "backgroundcolor": "#E5ECF6",
            "gridcolor": "white",
            "gridwidth": 2,
            "linecolor": "white",
            "showbackground": true,
            "ticks": "",
            "zerolinecolor": "white"
           },
           "zaxis": {
            "backgroundcolor": "#E5ECF6",
            "gridcolor": "white",
            "gridwidth": 2,
            "linecolor": "white",
            "showbackground": true,
            "ticks": "",
            "zerolinecolor": "white"
           }
          },
          "shapedefaults": {
           "line": {
            "color": "#2a3f5f"
           }
          },
          "ternary": {
           "aaxis": {
            "gridcolor": "white",
            "linecolor": "white",
            "ticks": ""
           },
           "baxis": {
            "gridcolor": "white",
            "linecolor": "white",
            "ticks": ""
           },
           "bgcolor": "#E5ECF6",
           "caxis": {
            "gridcolor": "white",
            "linecolor": "white",
            "ticks": ""
           }
          },
          "title": {
           "x": 0.05
          },
          "xaxis": {
           "automargin": true,
           "gridcolor": "white",
           "linecolor": "white",
           "ticks": "",
           "title": {
            "standoff": 15
           },
           "zerolinecolor": "white",
           "zerolinewidth": 2
          },
          "yaxis": {
           "automargin": true,
           "gridcolor": "white",
           "linecolor": "white",
           "ticks": "",
           "title": {
            "standoff": 15
           },
           "zerolinecolor": "white",
           "zerolinewidth": 2
          }
         }
        },
        "width": 600,
        "xaxis": {
         "anchor": "y",
         "domain": [
          0,
          1
         ]
        },
        "yaxis": {
         "anchor": "x",
         "domain": [
          0,
          1
         ],
         "title": {
          "text": "PPG"
         }
        }
       }
      }
     },
     "metadata": {},
     "output_type": "display_data"
    }
   ],
   "source": [
    "fig = px.box(NumPlayers, y='PPG',width=600,height=600)\n",
    "fig.show()"
   ]
  },
  {
   "cell_type": "code",
   "execution_count": 27,
   "metadata": {},
   "outputs": [
    {
     "data": {
      "text/html": [
       "<div>\n",
       "<style scoped>\n",
       "    .dataframe tbody tr th:only-of-type {\n",
       "        vertical-align: middle;\n",
       "    }\n",
       "\n",
       "    .dataframe tbody tr th {\n",
       "        vertical-align: top;\n",
       "    }\n",
       "\n",
       "    .dataframe thead th {\n",
       "        text-align: right;\n",
       "    }\n",
       "</style>\n",
       "<table border=\"1\" class=\"dataframe\">\n",
       "  <thead>\n",
       "    <tr style=\"text-align: right;\">\n",
       "      <th></th>\n",
       "      <th>Player</th>\n",
       "      <th>Team</th>\n",
       "      <th>Pos</th>\n",
       "      <th>Age</th>\n",
       "      <th>Ht</th>\n",
       "      <th>Wt</th>\n",
       "      <th>Exp</th>\n",
       "      <th>Country</th>\n",
       "      <th>PPG</th>\n",
       "      <th>RPG</th>\n",
       "      <th>APG</th>\n",
       "      <th>PIE</th>\n",
       "    </tr>\n",
       "  </thead>\n",
       "  <tbody>\n",
       "    <tr>\n",
       "      <th>0</th>\n",
       "      <td>Jayson Tatum</td>\n",
       "      <td>BOS</td>\n",
       "      <td>F-G</td>\n",
       "      <td>26</td>\n",
       "      <td>2.03</td>\n",
       "      <td>95</td>\n",
       "      <td>6</td>\n",
       "      <td>USA</td>\n",
       "      <td>26.9</td>\n",
       "      <td>8.1</td>\n",
       "      <td>4.9</td>\n",
       "      <td>15.5</td>\n",
       "    </tr>\n",
       "    <tr>\n",
       "      <th>0</th>\n",
       "      <td>Luka Doncic</td>\n",
       "      <td>DAL</td>\n",
       "      <td>F-G</td>\n",
       "      <td>25</td>\n",
       "      <td>2.01</td>\n",
       "      <td>104</td>\n",
       "      <td>5</td>\n",
       "      <td>SLV</td>\n",
       "      <td>33.9</td>\n",
       "      <td>9.2</td>\n",
       "      <td>9.8</td>\n",
       "      <td>20.0</td>\n",
       "    </tr>\n",
       "    <tr>\n",
       "      <th>1</th>\n",
       "      <td>Kyrie Irving</td>\n",
       "      <td>DAL</td>\n",
       "      <td>G</td>\n",
       "      <td>32</td>\n",
       "      <td>1.88</td>\n",
       "      <td>88</td>\n",
       "      <td>12</td>\n",
       "      <td>AUS</td>\n",
       "      <td>25.6</td>\n",
       "      <td>5.0</td>\n",
       "      <td>5.2</td>\n",
       "      <td>14.4</td>\n",
       "    </tr>\n",
       "  </tbody>\n",
       "</table>\n",
       "</div>"
      ],
      "text/plain": [
       "         Player Team  Pos  Age    Ht   Wt  Exp Country   PPG  RPG  APG   PIE\n",
       "0  Jayson Tatum  BOS  F-G   26  2.03   95    6     USA  26.9  8.1  4.9  15.5\n",
       "0   Luka Doncic  DAL  F-G   25  2.01  104    5     SLV  33.9  9.2  9.8  20.0\n",
       "1  Kyrie Irving  DAL    G   32  1.88   88   12     AUS  25.6  5.0  5.2  14.4"
      ]
     },
     "execution_count": 27,
     "metadata": {},
     "output_type": "execute_result"
    }
   ],
   "source": [
    "Players[Players['PPG']>25]"
   ]
  },
  {
   "cell_type": "code",
   "execution_count": 22,
   "metadata": {},
   "outputs": [
    {
     "data": {
      "application/vnd.plotly.v1+json": {
       "config": {
        "plotlyServerURL": "https://plot.ly"
       },
       "data": [
        {
         "alignmentgroup": "True",
         "hovertemplate": "RPG=%{y}<extra></extra>",
         "legendgroup": "",
         "marker": {
          "color": "#636efa"
         },
         "name": "",
         "notched": false,
         "offsetgroup": "",
         "orientation": "v",
         "showlegend": false,
         "type": "box",
         "x0": " ",
         "xaxis": "x",
         "y": [
          8.1,
          5.5,
          4.2,
          5.4,
          6.4,
          3.2,
          3.5,
          7.2,
          4.1,
          2.9,
          3.9,
          1.6,
          1.2,
          2.2,
          4.4,
          9.2,
          5,
          5.6,
          3.3,
          7.6,
          6.9,
          3.2,
          1.8,
          3.2,
          3.3,
          2.7,
          1.2,
          3.4
         ],
         "y0": " ",
         "yaxis": "y"
        }
       ],
       "layout": {
        "boxmode": "group",
        "height": 600,
        "legend": {
         "tracegroupgap": 0
        },
        "margin": {
         "t": 60
        },
        "template": {
         "data": {
          "bar": [
           {
            "error_x": {
             "color": "#2a3f5f"
            },
            "error_y": {
             "color": "#2a3f5f"
            },
            "marker": {
             "line": {
              "color": "#E5ECF6",
              "width": 0.5
             },
             "pattern": {
              "fillmode": "overlay",
              "size": 10,
              "solidity": 0.2
             }
            },
            "type": "bar"
           }
          ],
          "barpolar": [
           {
            "marker": {
             "line": {
              "color": "#E5ECF6",
              "width": 0.5
             },
             "pattern": {
              "fillmode": "overlay",
              "size": 10,
              "solidity": 0.2
             }
            },
            "type": "barpolar"
           }
          ],
          "carpet": [
           {
            "aaxis": {
             "endlinecolor": "#2a3f5f",
             "gridcolor": "white",
             "linecolor": "white",
             "minorgridcolor": "white",
             "startlinecolor": "#2a3f5f"
            },
            "baxis": {
             "endlinecolor": "#2a3f5f",
             "gridcolor": "white",
             "linecolor": "white",
             "minorgridcolor": "white",
             "startlinecolor": "#2a3f5f"
            },
            "type": "carpet"
           }
          ],
          "choropleth": [
           {
            "colorbar": {
             "outlinewidth": 0,
             "ticks": ""
            },
            "type": "choropleth"
           }
          ],
          "contour": [
           {
            "colorbar": {
             "outlinewidth": 0,
             "ticks": ""
            },
            "colorscale": [
             [
              0,
              "#0d0887"
             ],
             [
              0.1111111111111111,
              "#46039f"
             ],
             [
              0.2222222222222222,
              "#7201a8"
             ],
             [
              0.3333333333333333,
              "#9c179e"
             ],
             [
              0.4444444444444444,
              "#bd3786"
             ],
             [
              0.5555555555555556,
              "#d8576b"
             ],
             [
              0.6666666666666666,
              "#ed7953"
             ],
             [
              0.7777777777777778,
              "#fb9f3a"
             ],
             [
              0.8888888888888888,
              "#fdca26"
             ],
             [
              1,
              "#f0f921"
             ]
            ],
            "type": "contour"
           }
          ],
          "contourcarpet": [
           {
            "colorbar": {
             "outlinewidth": 0,
             "ticks": ""
            },
            "type": "contourcarpet"
           }
          ],
          "heatmap": [
           {
            "colorbar": {
             "outlinewidth": 0,
             "ticks": ""
            },
            "colorscale": [
             [
              0,
              "#0d0887"
             ],
             [
              0.1111111111111111,
              "#46039f"
             ],
             [
              0.2222222222222222,
              "#7201a8"
             ],
             [
              0.3333333333333333,
              "#9c179e"
             ],
             [
              0.4444444444444444,
              "#bd3786"
             ],
             [
              0.5555555555555556,
              "#d8576b"
             ],
             [
              0.6666666666666666,
              "#ed7953"
             ],
             [
              0.7777777777777778,
              "#fb9f3a"
             ],
             [
              0.8888888888888888,
              "#fdca26"
             ],
             [
              1,
              "#f0f921"
             ]
            ],
            "type": "heatmap"
           }
          ],
          "heatmapgl": [
           {
            "colorbar": {
             "outlinewidth": 0,
             "ticks": ""
            },
            "colorscale": [
             [
              0,
              "#0d0887"
             ],
             [
              0.1111111111111111,
              "#46039f"
             ],
             [
              0.2222222222222222,
              "#7201a8"
             ],
             [
              0.3333333333333333,
              "#9c179e"
             ],
             [
              0.4444444444444444,
              "#bd3786"
             ],
             [
              0.5555555555555556,
              "#d8576b"
             ],
             [
              0.6666666666666666,
              "#ed7953"
             ],
             [
              0.7777777777777778,
              "#fb9f3a"
             ],
             [
              0.8888888888888888,
              "#fdca26"
             ],
             [
              1,
              "#f0f921"
             ]
            ],
            "type": "heatmapgl"
           }
          ],
          "histogram": [
           {
            "marker": {
             "pattern": {
              "fillmode": "overlay",
              "size": 10,
              "solidity": 0.2
             }
            },
            "type": "histogram"
           }
          ],
          "histogram2d": [
           {
            "colorbar": {
             "outlinewidth": 0,
             "ticks": ""
            },
            "colorscale": [
             [
              0,
              "#0d0887"
             ],
             [
              0.1111111111111111,
              "#46039f"
             ],
             [
              0.2222222222222222,
              "#7201a8"
             ],
             [
              0.3333333333333333,
              "#9c179e"
             ],
             [
              0.4444444444444444,
              "#bd3786"
             ],
             [
              0.5555555555555556,
              "#d8576b"
             ],
             [
              0.6666666666666666,
              "#ed7953"
             ],
             [
              0.7777777777777778,
              "#fb9f3a"
             ],
             [
              0.8888888888888888,
              "#fdca26"
             ],
             [
              1,
              "#f0f921"
             ]
            ],
            "type": "histogram2d"
           }
          ],
          "histogram2dcontour": [
           {
            "colorbar": {
             "outlinewidth": 0,
             "ticks": ""
            },
            "colorscale": [
             [
              0,
              "#0d0887"
             ],
             [
              0.1111111111111111,
              "#46039f"
             ],
             [
              0.2222222222222222,
              "#7201a8"
             ],
             [
              0.3333333333333333,
              "#9c179e"
             ],
             [
              0.4444444444444444,
              "#bd3786"
             ],
             [
              0.5555555555555556,
              "#d8576b"
             ],
             [
              0.6666666666666666,
              "#ed7953"
             ],
             [
              0.7777777777777778,
              "#fb9f3a"
             ],
             [
              0.8888888888888888,
              "#fdca26"
             ],
             [
              1,
              "#f0f921"
             ]
            ],
            "type": "histogram2dcontour"
           }
          ],
          "mesh3d": [
           {
            "colorbar": {
             "outlinewidth": 0,
             "ticks": ""
            },
            "type": "mesh3d"
           }
          ],
          "parcoords": [
           {
            "line": {
             "colorbar": {
              "outlinewidth": 0,
              "ticks": ""
             }
            },
            "type": "parcoords"
           }
          ],
          "pie": [
           {
            "automargin": true,
            "type": "pie"
           }
          ],
          "scatter": [
           {
            "fillpattern": {
             "fillmode": "overlay",
             "size": 10,
             "solidity": 0.2
            },
            "type": "scatter"
           }
          ],
          "scatter3d": [
           {
            "line": {
             "colorbar": {
              "outlinewidth": 0,
              "ticks": ""
             }
            },
            "marker": {
             "colorbar": {
              "outlinewidth": 0,
              "ticks": ""
             }
            },
            "type": "scatter3d"
           }
          ],
          "scattercarpet": [
           {
            "marker": {
             "colorbar": {
              "outlinewidth": 0,
              "ticks": ""
             }
            },
            "type": "scattercarpet"
           }
          ],
          "scattergeo": [
           {
            "marker": {
             "colorbar": {
              "outlinewidth": 0,
              "ticks": ""
             }
            },
            "type": "scattergeo"
           }
          ],
          "scattergl": [
           {
            "marker": {
             "colorbar": {
              "outlinewidth": 0,
              "ticks": ""
             }
            },
            "type": "scattergl"
           }
          ],
          "scattermapbox": [
           {
            "marker": {
             "colorbar": {
              "outlinewidth": 0,
              "ticks": ""
             }
            },
            "type": "scattermapbox"
           }
          ],
          "scatterpolar": [
           {
            "marker": {
             "colorbar": {
              "outlinewidth": 0,
              "ticks": ""
             }
            },
            "type": "scatterpolar"
           }
          ],
          "scatterpolargl": [
           {
            "marker": {
             "colorbar": {
              "outlinewidth": 0,
              "ticks": ""
             }
            },
            "type": "scatterpolargl"
           }
          ],
          "scatterternary": [
           {
            "marker": {
             "colorbar": {
              "outlinewidth": 0,
              "ticks": ""
             }
            },
            "type": "scatterternary"
           }
          ],
          "surface": [
           {
            "colorbar": {
             "outlinewidth": 0,
             "ticks": ""
            },
            "colorscale": [
             [
              0,
              "#0d0887"
             ],
             [
              0.1111111111111111,
              "#46039f"
             ],
             [
              0.2222222222222222,
              "#7201a8"
             ],
             [
              0.3333333333333333,
              "#9c179e"
             ],
             [
              0.4444444444444444,
              "#bd3786"
             ],
             [
              0.5555555555555556,
              "#d8576b"
             ],
             [
              0.6666666666666666,
              "#ed7953"
             ],
             [
              0.7777777777777778,
              "#fb9f3a"
             ],
             [
              0.8888888888888888,
              "#fdca26"
             ],
             [
              1,
              "#f0f921"
             ]
            ],
            "type": "surface"
           }
          ],
          "table": [
           {
            "cells": {
             "fill": {
              "color": "#EBF0F8"
             },
             "line": {
              "color": "white"
             }
            },
            "header": {
             "fill": {
              "color": "#C8D4E3"
             },
             "line": {
              "color": "white"
             }
            },
            "type": "table"
           }
          ]
         },
         "layout": {
          "annotationdefaults": {
           "arrowcolor": "#2a3f5f",
           "arrowhead": 0,
           "arrowwidth": 1
          },
          "autotypenumbers": "strict",
          "coloraxis": {
           "colorbar": {
            "outlinewidth": 0,
            "ticks": ""
           }
          },
          "colorscale": {
           "diverging": [
            [
             0,
             "#8e0152"
            ],
            [
             0.1,
             "#c51b7d"
            ],
            [
             0.2,
             "#de77ae"
            ],
            [
             0.3,
             "#f1b6da"
            ],
            [
             0.4,
             "#fde0ef"
            ],
            [
             0.5,
             "#f7f7f7"
            ],
            [
             0.6,
             "#e6f5d0"
            ],
            [
             0.7,
             "#b8e186"
            ],
            [
             0.8,
             "#7fbc41"
            ],
            [
             0.9,
             "#4d9221"
            ],
            [
             1,
             "#276419"
            ]
           ],
           "sequential": [
            [
             0,
             "#0d0887"
            ],
            [
             0.1111111111111111,
             "#46039f"
            ],
            [
             0.2222222222222222,
             "#7201a8"
            ],
            [
             0.3333333333333333,
             "#9c179e"
            ],
            [
             0.4444444444444444,
             "#bd3786"
            ],
            [
             0.5555555555555556,
             "#d8576b"
            ],
            [
             0.6666666666666666,
             "#ed7953"
            ],
            [
             0.7777777777777778,
             "#fb9f3a"
            ],
            [
             0.8888888888888888,
             "#fdca26"
            ],
            [
             1,
             "#f0f921"
            ]
           ],
           "sequentialminus": [
            [
             0,
             "#0d0887"
            ],
            [
             0.1111111111111111,
             "#46039f"
            ],
            [
             0.2222222222222222,
             "#7201a8"
            ],
            [
             0.3333333333333333,
             "#9c179e"
            ],
            [
             0.4444444444444444,
             "#bd3786"
            ],
            [
             0.5555555555555556,
             "#d8576b"
            ],
            [
             0.6666666666666666,
             "#ed7953"
            ],
            [
             0.7777777777777778,
             "#fb9f3a"
            ],
            [
             0.8888888888888888,
             "#fdca26"
            ],
            [
             1,
             "#f0f921"
            ]
           ]
          },
          "colorway": [
           "#636efa",
           "#EF553B",
           "#00cc96",
           "#ab63fa",
           "#FFA15A",
           "#19d3f3",
           "#FF6692",
           "#B6E880",
           "#FF97FF",
           "#FECB52"
          ],
          "font": {
           "color": "#2a3f5f"
          },
          "geo": {
           "bgcolor": "white",
           "lakecolor": "white",
           "landcolor": "#E5ECF6",
           "showlakes": true,
           "showland": true,
           "subunitcolor": "white"
          },
          "hoverlabel": {
           "align": "left"
          },
          "hovermode": "closest",
          "mapbox": {
           "style": "light"
          },
          "paper_bgcolor": "white",
          "plot_bgcolor": "#E5ECF6",
          "polar": {
           "angularaxis": {
            "gridcolor": "white",
            "linecolor": "white",
            "ticks": ""
           },
           "bgcolor": "#E5ECF6",
           "radialaxis": {
            "gridcolor": "white",
            "linecolor": "white",
            "ticks": ""
           }
          },
          "scene": {
           "xaxis": {
            "backgroundcolor": "#E5ECF6",
            "gridcolor": "white",
            "gridwidth": 2,
            "linecolor": "white",
            "showbackground": true,
            "ticks": "",
            "zerolinecolor": "white"
           },
           "yaxis": {
            "backgroundcolor": "#E5ECF6",
            "gridcolor": "white",
            "gridwidth": 2,
            "linecolor": "white",
            "showbackground": true,
            "ticks": "",
            "zerolinecolor": "white"
           },
           "zaxis": {
            "backgroundcolor": "#E5ECF6",
            "gridcolor": "white",
            "gridwidth": 2,
            "linecolor": "white",
            "showbackground": true,
            "ticks": "",
            "zerolinecolor": "white"
           }
          },
          "shapedefaults": {
           "line": {
            "color": "#2a3f5f"
           }
          },
          "ternary": {
           "aaxis": {
            "gridcolor": "white",
            "linecolor": "white",
            "ticks": ""
           },
           "baxis": {
            "gridcolor": "white",
            "linecolor": "white",
            "ticks": ""
           },
           "bgcolor": "#E5ECF6",
           "caxis": {
            "gridcolor": "white",
            "linecolor": "white",
            "ticks": ""
           }
          },
          "title": {
           "x": 0.05
          },
          "xaxis": {
           "automargin": true,
           "gridcolor": "white",
           "linecolor": "white",
           "ticks": "",
           "title": {
            "standoff": 15
           },
           "zerolinecolor": "white",
           "zerolinewidth": 2
          },
          "yaxis": {
           "automargin": true,
           "gridcolor": "white",
           "linecolor": "white",
           "ticks": "",
           "title": {
            "standoff": 15
           },
           "zerolinecolor": "white",
           "zerolinewidth": 2
          }
         }
        },
        "width": 600,
        "xaxis": {
         "anchor": "y",
         "domain": [
          0,
          1
         ]
        },
        "yaxis": {
         "anchor": "x",
         "domain": [
          0,
          1
         ],
         "title": {
          "text": "RPG"
         }
        }
       }
      }
     },
     "metadata": {},
     "output_type": "display_data"
    }
   ],
   "source": [
    "fig = px.box(NumPlayers, y='RPG',width=600,height=600)\n",
    "fig.show()"
   ]
  },
  {
   "cell_type": "code",
   "execution_count": 23,
   "metadata": {},
   "outputs": [
    {
     "data": {
      "application/vnd.plotly.v1+json": {
       "config": {
        "plotlyServerURL": "https://plot.ly"
       },
       "data": [
        {
         "alignmentgroup": "True",
         "hovertemplate": "APG=%{y}<extra></extra>",
         "legendgroup": "",
         "marker": {
          "color": "#636efa"
         },
         "name": "",
         "notched": false,
         "offsetgroup": "",
         "orientation": "v",
         "showlegend": false,
         "type": "box",
         "x0": " ",
         "xaxis": "x",
         "y": [
          4.9,
          3.6,
          5.2,
          4.8,
          2.6,
          3.4,
          1,
          2,
          1.1,
          0.8,
          1.4,
          0.9,
          0.9,
          0.6,
          0.7,
          9.8,
          5.2,
          1.9,
          1,
          1.6,
          1.1,
          2.3,
          1.5,
          1.8,
          1.6,
          2.9,
          0.5,
          1.3
         ],
         "y0": " ",
         "yaxis": "y"
        }
       ],
       "layout": {
        "boxmode": "group",
        "height": 600,
        "legend": {
         "tracegroupgap": 0
        },
        "margin": {
         "t": 60
        },
        "template": {
         "data": {
          "bar": [
           {
            "error_x": {
             "color": "#2a3f5f"
            },
            "error_y": {
             "color": "#2a3f5f"
            },
            "marker": {
             "line": {
              "color": "#E5ECF6",
              "width": 0.5
             },
             "pattern": {
              "fillmode": "overlay",
              "size": 10,
              "solidity": 0.2
             }
            },
            "type": "bar"
           }
          ],
          "barpolar": [
           {
            "marker": {
             "line": {
              "color": "#E5ECF6",
              "width": 0.5
             },
             "pattern": {
              "fillmode": "overlay",
              "size": 10,
              "solidity": 0.2
             }
            },
            "type": "barpolar"
           }
          ],
          "carpet": [
           {
            "aaxis": {
             "endlinecolor": "#2a3f5f",
             "gridcolor": "white",
             "linecolor": "white",
             "minorgridcolor": "white",
             "startlinecolor": "#2a3f5f"
            },
            "baxis": {
             "endlinecolor": "#2a3f5f",
             "gridcolor": "white",
             "linecolor": "white",
             "minorgridcolor": "white",
             "startlinecolor": "#2a3f5f"
            },
            "type": "carpet"
           }
          ],
          "choropleth": [
           {
            "colorbar": {
             "outlinewidth": 0,
             "ticks": ""
            },
            "type": "choropleth"
           }
          ],
          "contour": [
           {
            "colorbar": {
             "outlinewidth": 0,
             "ticks": ""
            },
            "colorscale": [
             [
              0,
              "#0d0887"
             ],
             [
              0.1111111111111111,
              "#46039f"
             ],
             [
              0.2222222222222222,
              "#7201a8"
             ],
             [
              0.3333333333333333,
              "#9c179e"
             ],
             [
              0.4444444444444444,
              "#bd3786"
             ],
             [
              0.5555555555555556,
              "#d8576b"
             ],
             [
              0.6666666666666666,
              "#ed7953"
             ],
             [
              0.7777777777777778,
              "#fb9f3a"
             ],
             [
              0.8888888888888888,
              "#fdca26"
             ],
             [
              1,
              "#f0f921"
             ]
            ],
            "type": "contour"
           }
          ],
          "contourcarpet": [
           {
            "colorbar": {
             "outlinewidth": 0,
             "ticks": ""
            },
            "type": "contourcarpet"
           }
          ],
          "heatmap": [
           {
            "colorbar": {
             "outlinewidth": 0,
             "ticks": ""
            },
            "colorscale": [
             [
              0,
              "#0d0887"
             ],
             [
              0.1111111111111111,
              "#46039f"
             ],
             [
              0.2222222222222222,
              "#7201a8"
             ],
             [
              0.3333333333333333,
              "#9c179e"
             ],
             [
              0.4444444444444444,
              "#bd3786"
             ],
             [
              0.5555555555555556,
              "#d8576b"
             ],
             [
              0.6666666666666666,
              "#ed7953"
             ],
             [
              0.7777777777777778,
              "#fb9f3a"
             ],
             [
              0.8888888888888888,
              "#fdca26"
             ],
             [
              1,
              "#f0f921"
             ]
            ],
            "type": "heatmap"
           }
          ],
          "heatmapgl": [
           {
            "colorbar": {
             "outlinewidth": 0,
             "ticks": ""
            },
            "colorscale": [
             [
              0,
              "#0d0887"
             ],
             [
              0.1111111111111111,
              "#46039f"
             ],
             [
              0.2222222222222222,
              "#7201a8"
             ],
             [
              0.3333333333333333,
              "#9c179e"
             ],
             [
              0.4444444444444444,
              "#bd3786"
             ],
             [
              0.5555555555555556,
              "#d8576b"
             ],
             [
              0.6666666666666666,
              "#ed7953"
             ],
             [
              0.7777777777777778,
              "#fb9f3a"
             ],
             [
              0.8888888888888888,
              "#fdca26"
             ],
             [
              1,
              "#f0f921"
             ]
            ],
            "type": "heatmapgl"
           }
          ],
          "histogram": [
           {
            "marker": {
             "pattern": {
              "fillmode": "overlay",
              "size": 10,
              "solidity": 0.2
             }
            },
            "type": "histogram"
           }
          ],
          "histogram2d": [
           {
            "colorbar": {
             "outlinewidth": 0,
             "ticks": ""
            },
            "colorscale": [
             [
              0,
              "#0d0887"
             ],
             [
              0.1111111111111111,
              "#46039f"
             ],
             [
              0.2222222222222222,
              "#7201a8"
             ],
             [
              0.3333333333333333,
              "#9c179e"
             ],
             [
              0.4444444444444444,
              "#bd3786"
             ],
             [
              0.5555555555555556,
              "#d8576b"
             ],
             [
              0.6666666666666666,
              "#ed7953"
             ],
             [
              0.7777777777777778,
              "#fb9f3a"
             ],
             [
              0.8888888888888888,
              "#fdca26"
             ],
             [
              1,
              "#f0f921"
             ]
            ],
            "type": "histogram2d"
           }
          ],
          "histogram2dcontour": [
           {
            "colorbar": {
             "outlinewidth": 0,
             "ticks": ""
            },
            "colorscale": [
             [
              0,
              "#0d0887"
             ],
             [
              0.1111111111111111,
              "#46039f"
             ],
             [
              0.2222222222222222,
              "#7201a8"
             ],
             [
              0.3333333333333333,
              "#9c179e"
             ],
             [
              0.4444444444444444,
              "#bd3786"
             ],
             [
              0.5555555555555556,
              "#d8576b"
             ],
             [
              0.6666666666666666,
              "#ed7953"
             ],
             [
              0.7777777777777778,
              "#fb9f3a"
             ],
             [
              0.8888888888888888,
              "#fdca26"
             ],
             [
              1,
              "#f0f921"
             ]
            ],
            "type": "histogram2dcontour"
           }
          ],
          "mesh3d": [
           {
            "colorbar": {
             "outlinewidth": 0,
             "ticks": ""
            },
            "type": "mesh3d"
           }
          ],
          "parcoords": [
           {
            "line": {
             "colorbar": {
              "outlinewidth": 0,
              "ticks": ""
             }
            },
            "type": "parcoords"
           }
          ],
          "pie": [
           {
            "automargin": true,
            "type": "pie"
           }
          ],
          "scatter": [
           {
            "fillpattern": {
             "fillmode": "overlay",
             "size": 10,
             "solidity": 0.2
            },
            "type": "scatter"
           }
          ],
          "scatter3d": [
           {
            "line": {
             "colorbar": {
              "outlinewidth": 0,
              "ticks": ""
             }
            },
            "marker": {
             "colorbar": {
              "outlinewidth": 0,
              "ticks": ""
             }
            },
            "type": "scatter3d"
           }
          ],
          "scattercarpet": [
           {
            "marker": {
             "colorbar": {
              "outlinewidth": 0,
              "ticks": ""
             }
            },
            "type": "scattercarpet"
           }
          ],
          "scattergeo": [
           {
            "marker": {
             "colorbar": {
              "outlinewidth": 0,
              "ticks": ""
             }
            },
            "type": "scattergeo"
           }
          ],
          "scattergl": [
           {
            "marker": {
             "colorbar": {
              "outlinewidth": 0,
              "ticks": ""
             }
            },
            "type": "scattergl"
           }
          ],
          "scattermapbox": [
           {
            "marker": {
             "colorbar": {
              "outlinewidth": 0,
              "ticks": ""
             }
            },
            "type": "scattermapbox"
           }
          ],
          "scatterpolar": [
           {
            "marker": {
             "colorbar": {
              "outlinewidth": 0,
              "ticks": ""
             }
            },
            "type": "scatterpolar"
           }
          ],
          "scatterpolargl": [
           {
            "marker": {
             "colorbar": {
              "outlinewidth": 0,
              "ticks": ""
             }
            },
            "type": "scatterpolargl"
           }
          ],
          "scatterternary": [
           {
            "marker": {
             "colorbar": {
              "outlinewidth": 0,
              "ticks": ""
             }
            },
            "type": "scatterternary"
           }
          ],
          "surface": [
           {
            "colorbar": {
             "outlinewidth": 0,
             "ticks": ""
            },
            "colorscale": [
             [
              0,
              "#0d0887"
             ],
             [
              0.1111111111111111,
              "#46039f"
             ],
             [
              0.2222222222222222,
              "#7201a8"
             ],
             [
              0.3333333333333333,
              "#9c179e"
             ],
             [
              0.4444444444444444,
              "#bd3786"
             ],
             [
              0.5555555555555556,
              "#d8576b"
             ],
             [
              0.6666666666666666,
              "#ed7953"
             ],
             [
              0.7777777777777778,
              "#fb9f3a"
             ],
             [
              0.8888888888888888,
              "#fdca26"
             ],
             [
              1,
              "#f0f921"
             ]
            ],
            "type": "surface"
           }
          ],
          "table": [
           {
            "cells": {
             "fill": {
              "color": "#EBF0F8"
             },
             "line": {
              "color": "white"
             }
            },
            "header": {
             "fill": {
              "color": "#C8D4E3"
             },
             "line": {
              "color": "white"
             }
            },
            "type": "table"
           }
          ]
         },
         "layout": {
          "annotationdefaults": {
           "arrowcolor": "#2a3f5f",
           "arrowhead": 0,
           "arrowwidth": 1
          },
          "autotypenumbers": "strict",
          "coloraxis": {
           "colorbar": {
            "outlinewidth": 0,
            "ticks": ""
           }
          },
          "colorscale": {
           "diverging": [
            [
             0,
             "#8e0152"
            ],
            [
             0.1,
             "#c51b7d"
            ],
            [
             0.2,
             "#de77ae"
            ],
            [
             0.3,
             "#f1b6da"
            ],
            [
             0.4,
             "#fde0ef"
            ],
            [
             0.5,
             "#f7f7f7"
            ],
            [
             0.6,
             "#e6f5d0"
            ],
            [
             0.7,
             "#b8e186"
            ],
            [
             0.8,
             "#7fbc41"
            ],
            [
             0.9,
             "#4d9221"
            ],
            [
             1,
             "#276419"
            ]
           ],
           "sequential": [
            [
             0,
             "#0d0887"
            ],
            [
             0.1111111111111111,
             "#46039f"
            ],
            [
             0.2222222222222222,
             "#7201a8"
            ],
            [
             0.3333333333333333,
             "#9c179e"
            ],
            [
             0.4444444444444444,
             "#bd3786"
            ],
            [
             0.5555555555555556,
             "#d8576b"
            ],
            [
             0.6666666666666666,
             "#ed7953"
            ],
            [
             0.7777777777777778,
             "#fb9f3a"
            ],
            [
             0.8888888888888888,
             "#fdca26"
            ],
            [
             1,
             "#f0f921"
            ]
           ],
           "sequentialminus": [
            [
             0,
             "#0d0887"
            ],
            [
             0.1111111111111111,
             "#46039f"
            ],
            [
             0.2222222222222222,
             "#7201a8"
            ],
            [
             0.3333333333333333,
             "#9c179e"
            ],
            [
             0.4444444444444444,
             "#bd3786"
            ],
            [
             0.5555555555555556,
             "#d8576b"
            ],
            [
             0.6666666666666666,
             "#ed7953"
            ],
            [
             0.7777777777777778,
             "#fb9f3a"
            ],
            [
             0.8888888888888888,
             "#fdca26"
            ],
            [
             1,
             "#f0f921"
            ]
           ]
          },
          "colorway": [
           "#636efa",
           "#EF553B",
           "#00cc96",
           "#ab63fa",
           "#FFA15A",
           "#19d3f3",
           "#FF6692",
           "#B6E880",
           "#FF97FF",
           "#FECB52"
          ],
          "font": {
           "color": "#2a3f5f"
          },
          "geo": {
           "bgcolor": "white",
           "lakecolor": "white",
           "landcolor": "#E5ECF6",
           "showlakes": true,
           "showland": true,
           "subunitcolor": "white"
          },
          "hoverlabel": {
           "align": "left"
          },
          "hovermode": "closest",
          "mapbox": {
           "style": "light"
          },
          "paper_bgcolor": "white",
          "plot_bgcolor": "#E5ECF6",
          "polar": {
           "angularaxis": {
            "gridcolor": "white",
            "linecolor": "white",
            "ticks": ""
           },
           "bgcolor": "#E5ECF6",
           "radialaxis": {
            "gridcolor": "white",
            "linecolor": "white",
            "ticks": ""
           }
          },
          "scene": {
           "xaxis": {
            "backgroundcolor": "#E5ECF6",
            "gridcolor": "white",
            "gridwidth": 2,
            "linecolor": "white",
            "showbackground": true,
            "ticks": "",
            "zerolinecolor": "white"
           },
           "yaxis": {
            "backgroundcolor": "#E5ECF6",
            "gridcolor": "white",
            "gridwidth": 2,
            "linecolor": "white",
            "showbackground": true,
            "ticks": "",
            "zerolinecolor": "white"
           },
           "zaxis": {
            "backgroundcolor": "#E5ECF6",
            "gridcolor": "white",
            "gridwidth": 2,
            "linecolor": "white",
            "showbackground": true,
            "ticks": "",
            "zerolinecolor": "white"
           }
          },
          "shapedefaults": {
           "line": {
            "color": "#2a3f5f"
           }
          },
          "ternary": {
           "aaxis": {
            "gridcolor": "white",
            "linecolor": "white",
            "ticks": ""
           },
           "baxis": {
            "gridcolor": "white",
            "linecolor": "white",
            "ticks": ""
           },
           "bgcolor": "#E5ECF6",
           "caxis": {
            "gridcolor": "white",
            "linecolor": "white",
            "ticks": ""
           }
          },
          "title": {
           "x": 0.05
          },
          "xaxis": {
           "automargin": true,
           "gridcolor": "white",
           "linecolor": "white",
           "ticks": "",
           "title": {
            "standoff": 15
           },
           "zerolinecolor": "white",
           "zerolinewidth": 2
          },
          "yaxis": {
           "automargin": true,
           "gridcolor": "white",
           "linecolor": "white",
           "ticks": "",
           "title": {
            "standoff": 15
           },
           "zerolinecolor": "white",
           "zerolinewidth": 2
          }
         }
        },
        "width": 600,
        "xaxis": {
         "anchor": "y",
         "domain": [
          0,
          1
         ]
        },
        "yaxis": {
         "anchor": "x",
         "domain": [
          0,
          1
         ],
         "title": {
          "text": "APG"
         }
        }
       }
      }
     },
     "metadata": {},
     "output_type": "display_data"
    }
   ],
   "source": [
    "fig = px.box(NumPlayers, y='APG',width=600,height=600)\n",
    "fig.show()"
   ]
  },
  {
   "cell_type": "code",
   "execution_count": 28,
   "metadata": {},
   "outputs": [
    {
     "data": {
      "text/html": [
       "<div>\n",
       "<style scoped>\n",
       "    .dataframe tbody tr th:only-of-type {\n",
       "        vertical-align: middle;\n",
       "    }\n",
       "\n",
       "    .dataframe tbody tr th {\n",
       "        vertical-align: top;\n",
       "    }\n",
       "\n",
       "    .dataframe thead th {\n",
       "        text-align: right;\n",
       "    }\n",
       "</style>\n",
       "<table border=\"1\" class=\"dataframe\">\n",
       "  <thead>\n",
       "    <tr style=\"text-align: right;\">\n",
       "      <th></th>\n",
       "      <th>Player</th>\n",
       "      <th>Team</th>\n",
       "      <th>Pos</th>\n",
       "      <th>Age</th>\n",
       "      <th>Ht</th>\n",
       "      <th>Wt</th>\n",
       "      <th>Exp</th>\n",
       "      <th>Country</th>\n",
       "      <th>PPG</th>\n",
       "      <th>RPG</th>\n",
       "      <th>APG</th>\n",
       "      <th>PIE</th>\n",
       "    </tr>\n",
       "  </thead>\n",
       "  <tbody>\n",
       "    <tr>\n",
       "      <th>2</th>\n",
       "      <td>Derrick White</td>\n",
       "      <td>BOS</td>\n",
       "      <td>G</td>\n",
       "      <td>29</td>\n",
       "      <td>1.93</td>\n",
       "      <td>86</td>\n",
       "      <td>6</td>\n",
       "      <td>USA</td>\n",
       "      <td>15.2</td>\n",
       "      <td>4.2</td>\n",
       "      <td>5.2</td>\n",
       "      <td>10.6</td>\n",
       "    </tr>\n",
       "    <tr>\n",
       "      <th>0</th>\n",
       "      <td>Luka Doncic</td>\n",
       "      <td>DAL</td>\n",
       "      <td>F-G</td>\n",
       "      <td>25</td>\n",
       "      <td>2.01</td>\n",
       "      <td>104</td>\n",
       "      <td>5</td>\n",
       "      <td>SLV</td>\n",
       "      <td>33.9</td>\n",
       "      <td>9.2</td>\n",
       "      <td>9.8</td>\n",
       "      <td>20.0</td>\n",
       "    </tr>\n",
       "    <tr>\n",
       "      <th>1</th>\n",
       "      <td>Kyrie Irving</td>\n",
       "      <td>DAL</td>\n",
       "      <td>G</td>\n",
       "      <td>32</td>\n",
       "      <td>1.88</td>\n",
       "      <td>88</td>\n",
       "      <td>12</td>\n",
       "      <td>AUS</td>\n",
       "      <td>25.6</td>\n",
       "      <td>5.0</td>\n",
       "      <td>5.2</td>\n",
       "      <td>14.4</td>\n",
       "    </tr>\n",
       "  </tbody>\n",
       "</table>\n",
       "</div>"
      ],
      "text/plain": [
       "          Player Team  Pos  Age    Ht   Wt  Exp Country   PPG  RPG  APG   PIE\n",
       "2  Derrick White  BOS    G   29  1.93   86    6     USA  15.2  4.2  5.2  10.6\n",
       "0    Luka Doncic  DAL  F-G   25  2.01  104    5     SLV  33.9  9.2  9.8  20.0\n",
       "1   Kyrie Irving  DAL    G   32  1.88   88   12     AUS  25.6  5.0  5.2  14.4"
      ]
     },
     "execution_count": 28,
     "metadata": {},
     "output_type": "execute_result"
    }
   ],
   "source": [
    "Players[Players['APG']>5]"
   ]
  },
  {
   "cell_type": "code",
   "execution_count": 29,
   "metadata": {},
   "outputs": [
    {
     "data": {
      "application/vnd.plotly.v1+json": {
       "config": {
        "plotlyServerURL": "https://plot.ly"
       },
       "data": [
        {
         "alignmentgroup": "True",
         "hovertemplate": "PIE=%{y}<extra></extra>",
         "legendgroup": "",
         "marker": {
          "color": "#636efa"
         },
         "name": "",
         "notched": false,
         "offsetgroup": "",
         "orientation": "v",
         "showlegend": false,
         "type": "box",
         "x0": " ",
         "xaxis": "x",
         "y": [
          15.5,
          11.6,
          10.6,
          9.9,
          10.5,
          10.3,
          8.6,
          13.8,
          11.3,
          7.6,
          7.8,
          5.5,
          7.7,
          5.8,
          12.3,
          20,
          14.4,
          7.9,
          6.8,
          12.1,
          10.2,
          6.3,
          8.1,
          8.3,
          5.7,
          9.3,
          7.6,
          7.9
         ],
         "y0": " ",
         "yaxis": "y"
        }
       ],
       "layout": {
        "boxmode": "group",
        "height": 600,
        "legend": {
         "tracegroupgap": 0
        },
        "margin": {
         "t": 60
        },
        "template": {
         "data": {
          "bar": [
           {
            "error_x": {
             "color": "#2a3f5f"
            },
            "error_y": {
             "color": "#2a3f5f"
            },
            "marker": {
             "line": {
              "color": "#E5ECF6",
              "width": 0.5
             },
             "pattern": {
              "fillmode": "overlay",
              "size": 10,
              "solidity": 0.2
             }
            },
            "type": "bar"
           }
          ],
          "barpolar": [
           {
            "marker": {
             "line": {
              "color": "#E5ECF6",
              "width": 0.5
             },
             "pattern": {
              "fillmode": "overlay",
              "size": 10,
              "solidity": 0.2
             }
            },
            "type": "barpolar"
           }
          ],
          "carpet": [
           {
            "aaxis": {
             "endlinecolor": "#2a3f5f",
             "gridcolor": "white",
             "linecolor": "white",
             "minorgridcolor": "white",
             "startlinecolor": "#2a3f5f"
            },
            "baxis": {
             "endlinecolor": "#2a3f5f",
             "gridcolor": "white",
             "linecolor": "white",
             "minorgridcolor": "white",
             "startlinecolor": "#2a3f5f"
            },
            "type": "carpet"
           }
          ],
          "choropleth": [
           {
            "colorbar": {
             "outlinewidth": 0,
             "ticks": ""
            },
            "type": "choropleth"
           }
          ],
          "contour": [
           {
            "colorbar": {
             "outlinewidth": 0,
             "ticks": ""
            },
            "colorscale": [
             [
              0,
              "#0d0887"
             ],
             [
              0.1111111111111111,
              "#46039f"
             ],
             [
              0.2222222222222222,
              "#7201a8"
             ],
             [
              0.3333333333333333,
              "#9c179e"
             ],
             [
              0.4444444444444444,
              "#bd3786"
             ],
             [
              0.5555555555555556,
              "#d8576b"
             ],
             [
              0.6666666666666666,
              "#ed7953"
             ],
             [
              0.7777777777777778,
              "#fb9f3a"
             ],
             [
              0.8888888888888888,
              "#fdca26"
             ],
             [
              1,
              "#f0f921"
             ]
            ],
            "type": "contour"
           }
          ],
          "contourcarpet": [
           {
            "colorbar": {
             "outlinewidth": 0,
             "ticks": ""
            },
            "type": "contourcarpet"
           }
          ],
          "heatmap": [
           {
            "colorbar": {
             "outlinewidth": 0,
             "ticks": ""
            },
            "colorscale": [
             [
              0,
              "#0d0887"
             ],
             [
              0.1111111111111111,
              "#46039f"
             ],
             [
              0.2222222222222222,
              "#7201a8"
             ],
             [
              0.3333333333333333,
              "#9c179e"
             ],
             [
              0.4444444444444444,
              "#bd3786"
             ],
             [
              0.5555555555555556,
              "#d8576b"
             ],
             [
              0.6666666666666666,
              "#ed7953"
             ],
             [
              0.7777777777777778,
              "#fb9f3a"
             ],
             [
              0.8888888888888888,
              "#fdca26"
             ],
             [
              1,
              "#f0f921"
             ]
            ],
            "type": "heatmap"
           }
          ],
          "heatmapgl": [
           {
            "colorbar": {
             "outlinewidth": 0,
             "ticks": ""
            },
            "colorscale": [
             [
              0,
              "#0d0887"
             ],
             [
              0.1111111111111111,
              "#46039f"
             ],
             [
              0.2222222222222222,
              "#7201a8"
             ],
             [
              0.3333333333333333,
              "#9c179e"
             ],
             [
              0.4444444444444444,
              "#bd3786"
             ],
             [
              0.5555555555555556,
              "#d8576b"
             ],
             [
              0.6666666666666666,
              "#ed7953"
             ],
             [
              0.7777777777777778,
              "#fb9f3a"
             ],
             [
              0.8888888888888888,
              "#fdca26"
             ],
             [
              1,
              "#f0f921"
             ]
            ],
            "type": "heatmapgl"
           }
          ],
          "histogram": [
           {
            "marker": {
             "pattern": {
              "fillmode": "overlay",
              "size": 10,
              "solidity": 0.2
             }
            },
            "type": "histogram"
           }
          ],
          "histogram2d": [
           {
            "colorbar": {
             "outlinewidth": 0,
             "ticks": ""
            },
            "colorscale": [
             [
              0,
              "#0d0887"
             ],
             [
              0.1111111111111111,
              "#46039f"
             ],
             [
              0.2222222222222222,
              "#7201a8"
             ],
             [
              0.3333333333333333,
              "#9c179e"
             ],
             [
              0.4444444444444444,
              "#bd3786"
             ],
             [
              0.5555555555555556,
              "#d8576b"
             ],
             [
              0.6666666666666666,
              "#ed7953"
             ],
             [
              0.7777777777777778,
              "#fb9f3a"
             ],
             [
              0.8888888888888888,
              "#fdca26"
             ],
             [
              1,
              "#f0f921"
             ]
            ],
            "type": "histogram2d"
           }
          ],
          "histogram2dcontour": [
           {
            "colorbar": {
             "outlinewidth": 0,
             "ticks": ""
            },
            "colorscale": [
             [
              0,
              "#0d0887"
             ],
             [
              0.1111111111111111,
              "#46039f"
             ],
             [
              0.2222222222222222,
              "#7201a8"
             ],
             [
              0.3333333333333333,
              "#9c179e"
             ],
             [
              0.4444444444444444,
              "#bd3786"
             ],
             [
              0.5555555555555556,
              "#d8576b"
             ],
             [
              0.6666666666666666,
              "#ed7953"
             ],
             [
              0.7777777777777778,
              "#fb9f3a"
             ],
             [
              0.8888888888888888,
              "#fdca26"
             ],
             [
              1,
              "#f0f921"
             ]
            ],
            "type": "histogram2dcontour"
           }
          ],
          "mesh3d": [
           {
            "colorbar": {
             "outlinewidth": 0,
             "ticks": ""
            },
            "type": "mesh3d"
           }
          ],
          "parcoords": [
           {
            "line": {
             "colorbar": {
              "outlinewidth": 0,
              "ticks": ""
             }
            },
            "type": "parcoords"
           }
          ],
          "pie": [
           {
            "automargin": true,
            "type": "pie"
           }
          ],
          "scatter": [
           {
            "fillpattern": {
             "fillmode": "overlay",
             "size": 10,
             "solidity": 0.2
            },
            "type": "scatter"
           }
          ],
          "scatter3d": [
           {
            "line": {
             "colorbar": {
              "outlinewidth": 0,
              "ticks": ""
             }
            },
            "marker": {
             "colorbar": {
              "outlinewidth": 0,
              "ticks": ""
             }
            },
            "type": "scatter3d"
           }
          ],
          "scattercarpet": [
           {
            "marker": {
             "colorbar": {
              "outlinewidth": 0,
              "ticks": ""
             }
            },
            "type": "scattercarpet"
           }
          ],
          "scattergeo": [
           {
            "marker": {
             "colorbar": {
              "outlinewidth": 0,
              "ticks": ""
             }
            },
            "type": "scattergeo"
           }
          ],
          "scattergl": [
           {
            "marker": {
             "colorbar": {
              "outlinewidth": 0,
              "ticks": ""
             }
            },
            "type": "scattergl"
           }
          ],
          "scattermapbox": [
           {
            "marker": {
             "colorbar": {
              "outlinewidth": 0,
              "ticks": ""
             }
            },
            "type": "scattermapbox"
           }
          ],
          "scatterpolar": [
           {
            "marker": {
             "colorbar": {
              "outlinewidth": 0,
              "ticks": ""
             }
            },
            "type": "scatterpolar"
           }
          ],
          "scatterpolargl": [
           {
            "marker": {
             "colorbar": {
              "outlinewidth": 0,
              "ticks": ""
             }
            },
            "type": "scatterpolargl"
           }
          ],
          "scatterternary": [
           {
            "marker": {
             "colorbar": {
              "outlinewidth": 0,
              "ticks": ""
             }
            },
            "type": "scatterternary"
           }
          ],
          "surface": [
           {
            "colorbar": {
             "outlinewidth": 0,
             "ticks": ""
            },
            "colorscale": [
             [
              0,
              "#0d0887"
             ],
             [
              0.1111111111111111,
              "#46039f"
             ],
             [
              0.2222222222222222,
              "#7201a8"
             ],
             [
              0.3333333333333333,
              "#9c179e"
             ],
             [
              0.4444444444444444,
              "#bd3786"
             ],
             [
              0.5555555555555556,
              "#d8576b"
             ],
             [
              0.6666666666666666,
              "#ed7953"
             ],
             [
              0.7777777777777778,
              "#fb9f3a"
             ],
             [
              0.8888888888888888,
              "#fdca26"
             ],
             [
              1,
              "#f0f921"
             ]
            ],
            "type": "surface"
           }
          ],
          "table": [
           {
            "cells": {
             "fill": {
              "color": "#EBF0F8"
             },
             "line": {
              "color": "white"
             }
            },
            "header": {
             "fill": {
              "color": "#C8D4E3"
             },
             "line": {
              "color": "white"
             }
            },
            "type": "table"
           }
          ]
         },
         "layout": {
          "annotationdefaults": {
           "arrowcolor": "#2a3f5f",
           "arrowhead": 0,
           "arrowwidth": 1
          },
          "autotypenumbers": "strict",
          "coloraxis": {
           "colorbar": {
            "outlinewidth": 0,
            "ticks": ""
           }
          },
          "colorscale": {
           "diverging": [
            [
             0,
             "#8e0152"
            ],
            [
             0.1,
             "#c51b7d"
            ],
            [
             0.2,
             "#de77ae"
            ],
            [
             0.3,
             "#f1b6da"
            ],
            [
             0.4,
             "#fde0ef"
            ],
            [
             0.5,
             "#f7f7f7"
            ],
            [
             0.6,
             "#e6f5d0"
            ],
            [
             0.7,
             "#b8e186"
            ],
            [
             0.8,
             "#7fbc41"
            ],
            [
             0.9,
             "#4d9221"
            ],
            [
             1,
             "#276419"
            ]
           ],
           "sequential": [
            [
             0,
             "#0d0887"
            ],
            [
             0.1111111111111111,
             "#46039f"
            ],
            [
             0.2222222222222222,
             "#7201a8"
            ],
            [
             0.3333333333333333,
             "#9c179e"
            ],
            [
             0.4444444444444444,
             "#bd3786"
            ],
            [
             0.5555555555555556,
             "#d8576b"
            ],
            [
             0.6666666666666666,
             "#ed7953"
            ],
            [
             0.7777777777777778,
             "#fb9f3a"
            ],
            [
             0.8888888888888888,
             "#fdca26"
            ],
            [
             1,
             "#f0f921"
            ]
           ],
           "sequentialminus": [
            [
             0,
             "#0d0887"
            ],
            [
             0.1111111111111111,
             "#46039f"
            ],
            [
             0.2222222222222222,
             "#7201a8"
            ],
            [
             0.3333333333333333,
             "#9c179e"
            ],
            [
             0.4444444444444444,
             "#bd3786"
            ],
            [
             0.5555555555555556,
             "#d8576b"
            ],
            [
             0.6666666666666666,
             "#ed7953"
            ],
            [
             0.7777777777777778,
             "#fb9f3a"
            ],
            [
             0.8888888888888888,
             "#fdca26"
            ],
            [
             1,
             "#f0f921"
            ]
           ]
          },
          "colorway": [
           "#636efa",
           "#EF553B",
           "#00cc96",
           "#ab63fa",
           "#FFA15A",
           "#19d3f3",
           "#FF6692",
           "#B6E880",
           "#FF97FF",
           "#FECB52"
          ],
          "font": {
           "color": "#2a3f5f"
          },
          "geo": {
           "bgcolor": "white",
           "lakecolor": "white",
           "landcolor": "#E5ECF6",
           "showlakes": true,
           "showland": true,
           "subunitcolor": "white"
          },
          "hoverlabel": {
           "align": "left"
          },
          "hovermode": "closest",
          "mapbox": {
           "style": "light"
          },
          "paper_bgcolor": "white",
          "plot_bgcolor": "#E5ECF6",
          "polar": {
           "angularaxis": {
            "gridcolor": "white",
            "linecolor": "white",
            "ticks": ""
           },
           "bgcolor": "#E5ECF6",
           "radialaxis": {
            "gridcolor": "white",
            "linecolor": "white",
            "ticks": ""
           }
          },
          "scene": {
           "xaxis": {
            "backgroundcolor": "#E5ECF6",
            "gridcolor": "white",
            "gridwidth": 2,
            "linecolor": "white",
            "showbackground": true,
            "ticks": "",
            "zerolinecolor": "white"
           },
           "yaxis": {
            "backgroundcolor": "#E5ECF6",
            "gridcolor": "white",
            "gridwidth": 2,
            "linecolor": "white",
            "showbackground": true,
            "ticks": "",
            "zerolinecolor": "white"
           },
           "zaxis": {
            "backgroundcolor": "#E5ECF6",
            "gridcolor": "white",
            "gridwidth": 2,
            "linecolor": "white",
            "showbackground": true,
            "ticks": "",
            "zerolinecolor": "white"
           }
          },
          "shapedefaults": {
           "line": {
            "color": "#2a3f5f"
           }
          },
          "ternary": {
           "aaxis": {
            "gridcolor": "white",
            "linecolor": "white",
            "ticks": ""
           },
           "baxis": {
            "gridcolor": "white",
            "linecolor": "white",
            "ticks": ""
           },
           "bgcolor": "#E5ECF6",
           "caxis": {
            "gridcolor": "white",
            "linecolor": "white",
            "ticks": ""
           }
          },
          "title": {
           "x": 0.05
          },
          "xaxis": {
           "automargin": true,
           "gridcolor": "white",
           "linecolor": "white",
           "ticks": "",
           "title": {
            "standoff": 15
           },
           "zerolinecolor": "white",
           "zerolinewidth": 2
          },
          "yaxis": {
           "automargin": true,
           "gridcolor": "white",
           "linecolor": "white",
           "ticks": "",
           "title": {
            "standoff": 15
           },
           "zerolinecolor": "white",
           "zerolinewidth": 2
          }
         }
        },
        "width": 600,
        "xaxis": {
         "anchor": "y",
         "domain": [
          0,
          1
         ]
        },
        "yaxis": {
         "anchor": "x",
         "domain": [
          0,
          1
         ],
         "title": {
          "text": "PIE"
         }
        }
       }
      }
     },
     "metadata": {},
     "output_type": "display_data"
    }
   ],
   "source": [
    "fig = px.box(NumPlayers, y='PIE',width=600,height=600)\n",
    "fig.show()"
   ]
  },
  {
   "cell_type": "code",
   "execution_count": 30,
   "metadata": {},
   "outputs": [
    {
     "data": {
      "text/html": [
       "<div>\n",
       "<style scoped>\n",
       "    .dataframe tbody tr th:only-of-type {\n",
       "        vertical-align: middle;\n",
       "    }\n",
       "\n",
       "    .dataframe tbody tr th {\n",
       "        vertical-align: top;\n",
       "    }\n",
       "\n",
       "    .dataframe thead th {\n",
       "        text-align: right;\n",
       "    }\n",
       "</style>\n",
       "<table border=\"1\" class=\"dataframe\">\n",
       "  <thead>\n",
       "    <tr style=\"text-align: right;\">\n",
       "      <th></th>\n",
       "      <th>Player</th>\n",
       "      <th>Team</th>\n",
       "      <th>Pos</th>\n",
       "      <th>Age</th>\n",
       "      <th>Ht</th>\n",
       "      <th>Wt</th>\n",
       "      <th>Exp</th>\n",
       "      <th>Country</th>\n",
       "      <th>PPG</th>\n",
       "      <th>RPG</th>\n",
       "      <th>APG</th>\n",
       "      <th>PIE</th>\n",
       "    </tr>\n",
       "  </thead>\n",
       "  <tbody>\n",
       "    <tr>\n",
       "      <th>0</th>\n",
       "      <td>Jayson Tatum</td>\n",
       "      <td>BOS</td>\n",
       "      <td>F-G</td>\n",
       "      <td>26</td>\n",
       "      <td>2.03</td>\n",
       "      <td>95</td>\n",
       "      <td>6</td>\n",
       "      <td>USA</td>\n",
       "      <td>26.9</td>\n",
       "      <td>8.1</td>\n",
       "      <td>4.9</td>\n",
       "      <td>15.5</td>\n",
       "    </tr>\n",
       "    <tr>\n",
       "      <th>0</th>\n",
       "      <td>Luka Doncic</td>\n",
       "      <td>DAL</td>\n",
       "      <td>F-G</td>\n",
       "      <td>25</td>\n",
       "      <td>2.01</td>\n",
       "      <td>104</td>\n",
       "      <td>5</td>\n",
       "      <td>SLV</td>\n",
       "      <td>33.9</td>\n",
       "      <td>9.2</td>\n",
       "      <td>9.8</td>\n",
       "      <td>20.0</td>\n",
       "    </tr>\n",
       "  </tbody>\n",
       "</table>\n",
       "</div>"
      ],
      "text/plain": [
       "         Player Team  Pos  Age    Ht   Wt  Exp Country   PPG  RPG  APG   PIE\n",
       "0  Jayson Tatum  BOS  F-G   26  2.03   95    6     USA  26.9  8.1  4.9  15.5\n",
       "0   Luka Doncic  DAL  F-G   25  2.01  104    5     SLV  33.9  9.2  9.8  20.0"
      ]
     },
     "execution_count": 30,
     "metadata": {},
     "output_type": "execute_result"
    }
   ],
   "source": [
    "Players[Players['PIE']>15]"
   ]
  },
  {
   "cell_type": "markdown",
   "metadata": {},
   "source": [
    "# Correlaciones"
   ]
  },
  {
   "cell_type": "code",
   "execution_count": 31,
   "metadata": {},
   "outputs": [
    {
     "data": {
      "image/png": "[encoded data removed]",
      "text/plain": [
       "<Figure size 1000x800 with 2 Axes>"
      ]
     },
     "metadata": {},
     "output_type": "display_data"
    }
   ],
   "source": [
    "plot_heatmap(NumPlayers_z.corr())"
   ]
  },
  {
   "cell_type": "markdown",
   "metadata": {},
   "source": [
    "## Se observan las zonas oscuras del mapa de calor"
   ]
  },
  {
   "cell_type": "code",
   "execution_count": 32,
   "metadata": {},
   "outputs": [
    {
     "data": {
      "application/vnd.plotly.v1+json": {
       "config": {
        "plotlyServerURL": "https://plot.ly"
       },
       "data": [
        {
         "dimensions": [
          {
           "axis": {
            "matches": true
           },
           "label": "Age",
           "values": [
            -0.16120809476086423,
            0.07636172909725202,
            0.5515013768134845,
            1.5017806722459495,
            2.6896297915365306,
            -0.16120809476086423,
            -0.16120809476086423,
            0.3139315529553683,
            0.3139315529553683,
            -0.3987779186189805,
            -0.3987779186189805,
            -1.3490572140514454,
            -0.16120809476086423,
            -1.5866270379095617,
            -0.6363477424770967
           ]
          },
          {
           "axis": {
            "matches": true
           },
           "label": "Ht",
           "values": [
            0.2566989176771271,
            -0.35241715816689945,
            -0.9615332340109287,
            -0.9615332340109287,
            0.6221685631835473,
            -1.9361189553613727,
            0.013052487339515395,
            2.0840471452092175,
            1.840400714871606,
            0.013052487339515395,
            0.013052487339515395,
            -0.9615332340109287,
            0.013052487339515395,
            -0.35241715816689945,
            1.4749310693651856
           ]
          },
          {
           "axis": {
            "matches": true
           },
           "label": "Wt",
           "values": [
            -0.4028419613590534,
            0.2807686397350967,
            -1.4282578630002785,
            -0.6307121617237701,
            1.1922494411939635,
            -1.2003876626355618,
            -0.06103666081197838,
            1.1922494411939635,
            1.647989841923397,
            -0.4028419613590534,
            1.42011964155868,
            -0.7446472619061285,
            -0.6307121617237701,
            -0.6307121617237701,
            1.5340547417410384
           ]
          },
          {
           "axis": {
            "matches": true
           },
           "label": "Exp",
           "values": [
            0.15516866308901453,
            0.4107405787650386,
            0.15516866308901453,
            2.1997439884972074,
            2.7108878198492556,
            -0.6115470839390577,
            -0.8671189996150818,
            0.4107405787650386,
            0.15516866308901453,
            -0.3559751682630336,
            -0.6115470839390577,
            -0.8671189996150818,
            -0.10040325258700955,
            -1.3782628309671299,
            -0.8671189996150818
           ]
          }
         ],
         "hovertemplate": "color=BOS<br>%{xaxis.title.text}=%{x}<br>%{yaxis.title.text}=%{y}<extra></extra>",
         "legendgroup": "BOS",
         "marker": {
          "color": "#636efa",
          "symbol": "circle"
         },
         "name": "BOS",
         "showlegend": true,
         "type": "splom"
        },
        {
         "dimensions": [
          {
           "axis": {
            "matches": true
           },
           "label": "Age",
           "values": [
            -0.3987779186189805,
            1.2642108483878332,
            -0.3987779186189805,
            0.07636172909725202,
            -0.3987779186189805,
            -1.5866270379095617,
            -0.873917566335213,
            -1.3490572140514454,
            1.2642108483878332,
            1.2642108483878332,
            0.3139315529553683,
            -0.873917566335213,
            1.2642108483878332
           ]
          },
          {
           "axis": {
            "matches": true
           },
           "label": "Ht",
           "values": [
            0.013052487339515395,
            -1.5706493098549579,
            0.013052487339515395,
            -0.35241715816689945,
            0.8658149935211591,
            1.840400714871606,
            -0.5960635885045111,
            -1.2051796643485404,
            -0.5960635885045111,
            0.8658149935211591,
            -0.5960635885045111,
            -0.35241715816689945,
            0.8658149935211591
           ]
          },
          {
           "axis": {
            "matches": true
           },
           "label": "Wt",
           "values": [
            0.6225739402821717,
            -1.2003876626355618,
            0.6225739402821717,
            -0.4028419613590534,
            0.8504441406468884,
            0.6225739402821717,
            -0.8585823620884868,
            -0.9725174622708451,
            -0.6307121617237701,
            1.1922494411939635,
            -0.17497176099433673,
            -1.9979333639120702,
            1.1922494411939635
           ]
          },
          {
           "axis": {
            "matches": true
           },
           "label": "Exp",
           "values": [
            -0.10040325258700955,
            1.688600157145159,
            -0.3559751682630336,
            0.4107405787650386,
            -0.3559751682630336,
            -1.3782628309671299,
            -0.6115470839390577,
            -1.1226909152911058,
            1.1774563257931108,
            0.15516866308901453,
            0.15516866308901453,
            -1.1226909152911058,
            0.9218844101170868
           ]
          }
         ],
         "hovertemplate": "color=DAL<br>%{xaxis.title.text}=%{x}<br>%{yaxis.title.text}=%{y}<extra></extra>",
         "legendgroup": "DAL",
         "marker": {
          "color": "#EF553B",
          "symbol": "circle"
         },
         "name": "DAL",
         "showlegend": true,
         "type": "splom"
        }
       ],
       "layout": {
        "autosize": false,
        "dragmode": "select",
        "height": 800,
        "legend": {
         "title": {
          "text": "color"
         },
         "tracegroupgap": 0
        },
        "template": {
         "data": {
          "bar": [
           {
            "error_x": {
             "color": "#2a3f5f"
            },
            "error_y": {
             "color": "#2a3f5f"
            },
            "marker": {
             "line": {
              "color": "#E5ECF6",
              "width": 0.5
             },
             "pattern": {
              "fillmode": "overlay",
              "size": 10,
              "solidity": 0.2
             }
            },
            "type": "bar"
           }
          ],
          "barpolar": [
           {
            "marker": {
             "line": {
              "color": "#E5ECF6",
              "width": 0.5
             },
             "pattern": {
              "fillmode": "overlay",
              "size": 10,
              "solidity": 0.2
             }
            },
            "type": "barpolar"
           }
          ],
          "carpet": [
           {
            "aaxis": {
             "endlinecolor": "#2a3f5f",
             "gridcolor": "white",
             "linecolor": "white",
             "minorgridcolor": "white",
             "startlinecolor": "#2a3f5f"
            },
            "baxis": {
             "endlinecolor": "#2a3f5f",
             "gridcolor": "white",
             "linecolor": "white",
             "minorgridcolor": "white",
             "startlinecolor": "#2a3f5f"
            },
            "type": "carpet"
           }
          ],
          "choropleth": [
           {
            "colorbar": {
             "outlinewidth": 0,
             "ticks": ""
            },
            "type": "choropleth"
           }
          ],
          "contour": [
           {
            "colorbar": {
             "outlinewidth": 0,
             "ticks": ""
            },
            "colorscale": [
             [
              0,
              "#0d0887"
             ],
             [
              0.1111111111111111,
              "#46039f"
             ],
             [
              0.2222222222222222,
              "#7201a8"
             ],
             [
              0.3333333333333333,
              "#9c179e"
             ],
             [
              0.4444444444444444,
              "#bd3786"
             ],
             [
              0.5555555555555556,
              "#d8576b"
             ],
             [
              0.6666666666666666,
              "#ed7953"
             ],
             [
              0.7777777777777778,
              "#fb9f3a"
             ],
             [
              0.8888888888888888,
              "#fdca26"
             ],
             [
              1,
              "#f0f921"
             ]
            ],
            "type": "contour"
           }
          ],
          "contourcarpet": [
           {
            "colorbar": {
             "outlinewidth": 0,
             "ticks": ""
            },
            "type": "contourcarpet"
           }
          ],
          "heatmap": [
           {
            "colorbar": {
             "outlinewidth": 0,
             "ticks": ""
            },
            "colorscale": [
             [
              0,
              "#0d0887"
             ],
             [
              0.1111111111111111,
              "#46039f"
             ],
             [
              0.2222222222222222,
              "#7201a8"
             ],
             [
              0.3333333333333333,
              "#9c179e"
             ],
             [
              0.4444444444444444,
              "#bd3786"
             ],
             [
              0.5555555555555556,
              "#d8576b"
             ],
             [
              0.6666666666666666,
              "#ed7953"
             ],
             [
              0.7777777777777778,
              "#fb9f3a"
             ],
             [
              0.8888888888888888,
              "#fdca26"
             ],
             [
              1,
              "#f0f921"
             ]
            ],
            "type": "heatmap"
           }
          ],
          "heatmapgl": [
           {
            "colorbar": {
             "outlinewidth": 0,
             "ticks": ""
            },
            "colorscale": [
             [
              0,
              "#0d0887"
             ],
             [
              0.1111111111111111,
              "#46039f"
             ],
             [
              0.2222222222222222,
              "#7201a8"
             ],
             [
              0.3333333333333333,
              "#9c179e"
             ],
             [
              0.4444444444444444,
              "#bd3786"
             ],
             [
              0.5555555555555556,
              "#d8576b"
             ],
             [
              0.6666666666666666,
              "#ed7953"
             ],
             [
              0.7777777777777778,
              "#fb9f3a"
             ],
             [
              0.8888888888888888,
              "#fdca26"
             ],
             [
              1,
              "#f0f921"
             ]
            ],
            "type": "heatmapgl"
           }
          ],
          "histogram": [
           {
            "marker": {
             "pattern": {
              "fillmode": "overlay",
              "size": 10,
              "solidity": 0.2
             }
            },
            "type": "histogram"
           }
          ],
          "histogram2d": [
           {
            "colorbar": {
             "outlinewidth": 0,
             "ticks": ""
            },
            "colorscale": [
             [
              0,
              "#0d0887"
             ],
             [
              0.1111111111111111,
              "#46039f"
             ],
             [
              0.2222222222222222,
              "#7201a8"
             ],
             [
              0.3333333333333333,
              "#9c179e"
             ],
             [
              0.4444444444444444,
              "#bd3786"
             ],
             [
              0.5555555555555556,
              "#d8576b"
             ],
             [
              0.6666666666666666,
              "#ed7953"
             ],
             [
              0.7777777777777778,
              "#fb9f3a"
             ],
             [
              0.8888888888888888,
              "#fdca26"
             ],
             [
              1,
              "#f0f921"
             ]
            ],
            "type": "histogram2d"
           }
          ],
          "histogram2dcontour": [
           {
            "colorbar": {
             "outlinewidth": 0,
             "ticks": ""
            },
            "colorscale": [
             [
              0,
              "#0d0887"
             ],
             [
              0.1111111111111111,
              "#46039f"
             ],
             [
              0.2222222222222222,
              "#7201a8"
             ],
             [
              0.3333333333333333,
              "#9c179e"
             ],
             [
              0.4444444444444444,
              "#bd3786"
             ],
             [
              0.5555555555555556,
              "#d8576b"
             ],
             [
              0.6666666666666666,
              "#ed7953"
             ],
             [
              0.7777777777777778,
              "#fb9f3a"
             ],
             [
              0.8888888888888888,
              "#fdca26"
             ],
             [
              1,
              "#f0f921"
             ]
            ],
            "type": "histogram2dcontour"
           }
          ],
          "mesh3d": [
           {
            "colorbar": {
             "outlinewidth": 0,
             "ticks": ""
            },
            "type": "mesh3d"
           }
          ],
          "parcoords": [
           {
            "line": {
             "colorbar": {
              "outlinewidth": 0,
              "ticks": ""
             }
            },
            "type": "parcoords"
           }
          ],
          "pie": [
           {
            "automargin": true,
            "type": "pie"
           }
          ],
          "scatter": [
           {
            "fillpattern": {
             "fillmode": "overlay",
             "size": 10,
             "solidity": 0.2
            },
            "type": "scatter"
           }
          ],
          "scatter3d": [
           {
            "line": {
             "colorbar": {
              "outlinewidth": 0,
              "ticks": ""
             }
            },
            "marker": {
             "colorbar": {
              "outlinewidth": 0,
              "ticks": ""
             }
            },
            "type": "scatter3d"
           }
          ],
          "scattercarpet": [
           {
            "marker": {
             "colorbar": {
              "outlinewidth": 0,
              "ticks": ""
             }
            },
            "type": "scattercarpet"
           }
          ],
          "scattergeo": [
           {
            "marker": {
             "colorbar": {
              "outlinewidth": 0,
              "ticks": ""
             }
            },
            "type": "scattergeo"
           }
          ],
          "scattergl": [
           {
            "marker": {
             "colorbar": {
              "outlinewidth": 0,
              "ticks": ""
             }
            },
            "type": "scattergl"
           }
          ],
          "scattermapbox": [
           {
            "marker": {
             "colorbar": {
              "outlinewidth": 0,
              "ticks": ""
             }
            },
            "type": "scattermapbox"
           }
          ],
          "scatterpolar": [
           {
            "marker": {
             "colorbar": {
              "outlinewidth": 0,
              "ticks": ""
             }
            },
            "type": "scatterpolar"
           }
          ],
          "scatterpolargl": [
           {
            "marker": {
             "colorbar": {
              "outlinewidth": 0,
              "ticks": ""
             }
            },
            "type": "scatterpolargl"
           }
          ],
          "scatterternary": [
           {
            "marker": {
             "colorbar": {
              "outlinewidth": 0,
              "ticks": ""
             }
            },
            "type": "scatterternary"
           }
          ],
          "surface": [
           {
            "colorbar": {
             "outlinewidth": 0,
             "ticks": ""
            },
            "colorscale": [
             [
              0,
              "#0d0887"
             ],
             [
              0.1111111111111111,
              "#46039f"
             ],
             [
              0.2222222222222222,
              "#7201a8"
             ],
             [
              0.3333333333333333,
              "#9c179e"
             ],
             [
              0.4444444444444444,
              "#bd3786"
             ],
             [
              0.5555555555555556,
              "#d8576b"
             ],
             [
              0.6666666666666666,
              "#ed7953"
             ],
             [
              0.7777777777777778,
              "#fb9f3a"
             ],
             [
              0.8888888888888888,
              "#fdca26"
             ],
             [
              1,
              "#f0f921"
             ]
            ],
            "type": "surface"
           }
          ],
          "table": [
           {
            "cells": {
             "fill": {
              "color": "#EBF0F8"
             },
             "line": {
              "color": "white"
             }
            },
            "header": {
             "fill": {
              "color": "#C8D4E3"
             },
             "line": {
              "color": "white"
             }
            },
            "type": "table"
           }
          ]
         },
         "layout": {
          "annotationdefaults": {
           "arrowcolor": "#2a3f5f",
           "arrowhead": 0,
           "arrowwidth": 1
          },
          "autotypenumbers": "strict",
          "coloraxis": {
           "colorbar": {
            "outlinewidth": 0,
            "ticks": ""
           }
          },
          "colorscale": {
           "diverging": [
            [
             0,
             "#8e0152"
            ],
            [
             0.1,
             "#c51b7d"
            ],
            [
             0.2,
             "#de77ae"
            ],
            [
             0.3,
             "#f1b6da"
            ],
            [
             0.4,
             "#fde0ef"
            ],
            [
             0.5,
             "#f7f7f7"
            ],
            [
             0.6,
             "#e6f5d0"
            ],
            [
             0.7,
             "#b8e186"
            ],
            [
             0.8,
             "#7fbc41"
            ],
            [
             0.9,
             "#4d9221"
            ],
            [
             1,
             "#276419"
            ]
           ],
           "sequential": [
            [
             0,
             "#0d0887"
            ],
            [
             0.1111111111111111,
             "#46039f"
            ],
            [
             0.2222222222222222,
             "#7201a8"
            ],
            [
             0.3333333333333333,
             "#9c179e"
            ],
            [
             0.4444444444444444,
             "#bd3786"
            ],
            [
             0.5555555555555556,
             "#d8576b"
            ],
            [
             0.6666666666666666,
             "#ed7953"
            ],
            [
             0.7777777777777778,
             "#fb9f3a"
            ],
            [
             0.8888888888888888,
             "#fdca26"
            ],
            [
             1,
             "#f0f921"
            ]
           ],
           "sequentialminus": [
            [
             0,
             "#0d0887"
            ],
            [
             0.1111111111111111,
             "#46039f"
            ],
            [
             0.2222222222222222,
             "#7201a8"
            ],
            [
             0.3333333333333333,
             "#9c179e"
            ],
            [
             0.4444444444444444,
             "#bd3786"
            ],
            [
             0.5555555555555556,
             "#d8576b"
            ],
            [
             0.6666666666666666,
             "#ed7953"
            ],
            [
             0.7777777777777778,
             "#fb9f3a"
            ],
            [
             0.8888888888888888,
             "#fdca26"
            ],
            [
             1,
             "#f0f921"
            ]
           ]
          },
          "colorway": [
           "#636efa",
           "#EF553B",
           "#00cc96",
           "#ab63fa",
           "#FFA15A",
           "#19d3f3",
           "#FF6692",
           "#B6E880",
           "#FF97FF",
           "#FECB52"
          ],
          "font": {
           "color": "#2a3f5f"
          },
          "geo": {
           "bgcolor": "white",
           "lakecolor": "white",
           "landcolor": "#E5ECF6",
           "showlakes": true,
           "showland": true,
           "subunitcolor": "white"
          },
          "hoverlabel": {
           "align": "left"
          },
          "hovermode": "closest",
          "mapbox": {
           "style": "light"
          },
          "paper_bgcolor": "white",
          "plot_bgcolor": "#E5ECF6",
          "polar": {
           "angularaxis": {
            "gridcolor": "white",
            "linecolor": "white",
            "ticks": ""
           },
           "bgcolor": "#E5ECF6",
           "radialaxis": {
            "gridcolor": "white",
            "linecolor": "white",
            "ticks": ""
           }
          },
          "scene": {
           "xaxis": {
            "backgroundcolor": "#E5ECF6",
            "gridcolor": "white",
            "gridwidth": 2,
            "linecolor": "white",
            "showbackground": true,
            "ticks": "",
            "zerolinecolor": "white"
           },
           "yaxis": {
            "backgroundcolor": "#E5ECF6",
            "gridcolor": "white",
            "gridwidth": 2,
            "linecolor": "white",
            "showbackground": true,
            "ticks": "",
            "zerolinecolor": "white"
           },
           "zaxis": {
            "backgroundcolor": "#E5ECF6",
            "gridcolor": "white",
            "gridwidth": 2,
            "linecolor": "white",
            "showbackground": true,
            "ticks": "",
            "zerolinecolor": "white"
           }
          },
          "shapedefaults": {
           "line": {
            "color": "#2a3f5f"
           }
          },
          "ternary": {
           "aaxis": {
            "gridcolor": "white",
            "linecolor": "white",
            "ticks": ""
           },
           "baxis": {
            "gridcolor": "white",
            "linecolor": "white",
            "ticks": ""
           },
           "bgcolor": "#E5ECF6",
           "caxis": {
            "gridcolor": "white",
            "linecolor": "white",
            "ticks": ""
           }
          },
          "title": {
           "x": 0.05
          },
          "xaxis": {
           "automargin": true,
           "gridcolor": "white",
           "linecolor": "white",
           "ticks": "",
           "title": {
            "standoff": 15
           },
           "zerolinecolor": "white",
           "zerolinewidth": 2
          },
          "yaxis": {
           "automargin": true,
           "gridcolor": "white",
           "linecolor": "white",
           "ticks": "",
           "title": {
            "standoff": 15
           },
           "zerolinecolor": "white",
           "zerolinewidth": 2
          }
         }
        },
        "title": {
         "text": "Diagrama de dispersión multiple"
        },
        "width": 800
       }
      }
     },
     "metadata": {},
     "output_type": "display_data"
    }
   ],
   "source": [
    "plot_relations(NumPlayers_z,['Age','Ht','Wt','Exp'],CatPlayers['Team'])"
   ]
  },
  {
   "cell_type": "code",
   "execution_count": 33,
   "metadata": {},
   "outputs": [
    {
     "data": {
      "application/vnd.plotly.v1+json": {
       "config": {
        "plotlyServerURL": "https://plot.ly"
       },
       "data": [
        {
         "dimensions": [
          {
           "axis": {
            "matches": true
           },
           "label": "PPG",
           "values": [
            1.9979944813017636,
            1.5132555402705428,
            0.5437776582081005,
            0.20818916057110146,
            -0.2765497804601197,
            -0.1522577442982681,
            -0.226832965995379,
            1.1528086354011735,
            -0.6867134997942298,
            -0.8855807576531922,
            -0.6867134997942298,
            -0.9352975721179329,
            -0.8482931468046367,
            -1.1341648299768954,
            -0.6618550925618595
           ]
          },
          {
           "axis": {
            "matches": true
           },
           "label": "RPG",
           "values": [
            1.8183926066618494,
            0.576563509429367,
            -0.04435103918687422,
            0.5288008518435025,
            1.0064274277021497,
            -0.5219776150455213,
            -0.3786896422879273,
            1.3885286883890673,
            -0.09211369677273919,
            -0.6652655878031156,
            -0.1876390119444685,
            -1.2861801364193568,
            -1.4772307667628157,
            -0.9996041909041685,
            0.05117427598485529
           ]
          },
          {
           "axis": {
            "matches": true
           },
           "label": "APG",
           "values": [
            1.2512974924307358,
            0.6079750528194536,
            1.3997565169564161,
            1.2018111509221754,
            0.11311163773385204,
            0.5090023698023332,
            -0.6786698264031105,
            -0.18380641131750894,
            -0.6291834848945503,
            -0.7776425094202308,
            -0.4807244603688699,
            -0.7281561679116707,
            -0.7281561679116707,
            -0.8766151924373511,
            -0.827128850928791
           ]
          },
          {
           "axis": {
            "matches": true
           },
           "label": "PIE",
           "values": [
            1.7613418941550973,
            0.5637171442065504,
            0.2566338749889742,
            0.04167558653667117,
            0.22592554806721674,
            0.16450889422370174,
            -0.357532663446178,
            1.2393003364852182,
            0.47159216344127786,
            -0.6646159326637542,
            -0.6031992788202388,
            -1.3094907980206638,
            -0.6339076057419963,
            -1.2173658172553912,
            0.778675432658854
           ]
          }
         ],
         "hovertemplate": "color=BOS<br>%{xaxis.title.text}=%{x}<br>%{yaxis.title.text}=%{y}<extra></extra>",
         "legendgroup": "BOS",
         "marker": {
          "color": "#636efa",
          "symbol": "circle"
         },
         "name": "BOS",
         "showlegend": true,
         "type": "splom"
        },
        {
         "dimensions": [
          {
           "axis": {
            "matches": true
           },
           "label": "PPG",
           "values": [
            2.8680387344347245,
            1.836414834291357,
            0.2579059750358421,
            -0.2765497804601197,
            0.02175110632832411,
            -0.2516913732277492,
            -0.3262665949248603,
            -0.4381294274705267,
            0.44434402927861943,
            -0.7985763323398961,
            -0.3759834093896009,
            -0.947726775734118,
            -0.9352975721179329
           ]
          },
          {
           "axis": {
            "matches": true
           },
           "label": "RPG",
           "values": [
            2.3437818401063613,
            0.3377502215000434,
            0.6243261670152316,
            -0.4742149574596568,
            1.5795793187325258,
            1.245240715631473,
            -0.5219776150455213,
            -1.1906548212476276,
            -0.5219776150455213,
            -0.4742149574596568,
            -0.760790902974845,
            -1.4772307667628157,
            -0.4264522998737921
           ]
          },
          {
           "axis": {
            "matches": true
           },
           "label": "APG",
           "values": [
            3.6761282263501838,
            1.3997565169564161,
            -0.23329275282606912,
            -0.6786698264031105,
            -0.38175177735174953,
            -0.6291834848945503,
            -0.035347386791828556,
            -0.4312381188603097,
            -0.2827790943346292,
            -0.38175177735174953,
            0.2615706622595324,
            -0.9261015339459112,
            -0.53021080187743
           ]
          },
          {
           "axis": {
            "matches": true
           },
           "label": "PIE",
           "values": [
            3.14321660563419,
            1.4235502980157637,
            -0.5724909518984811,
            -0.910282548037815,
            0.7172587788153384,
            0.13380056730194367,
            -1.063824182646603,
            -0.5110742980549661,
            -0.44965764421145055,
            -1.2480741441771486,
            -0.1425743749938744,
            -0.6646159326637542,
            -0.5724909518984811
           ]
          }
         ],
         "hovertemplate": "color=DAL<br>%{xaxis.title.text}=%{x}<br>%{yaxis.title.text}=%{y}<extra></extra>",
         "legendgroup": "DAL",
         "marker": {
          "color": "#EF553B",
          "symbol": "circle"
         },
         "name": "DAL",
         "showlegend": true,
         "type": "splom"
        }
       ],
       "layout": {
        "autosize": false,
        "dragmode": "select",
        "height": 800,
        "legend": {
         "title": {
          "text": "color"
         },
         "tracegroupgap": 0
        },
        "template": {
         "data": {
          "bar": [
           {
            "error_x": {
             "color": "#2a3f5f"
            },
            "error_y": {
             "color": "#2a3f5f"
            },
            "marker": {
             "line": {
              "color": "#E5ECF6",
              "width": 0.5
             },
             "pattern": {
              "fillmode": "overlay",
              "size": 10,
              "solidity": 0.2
             }
            },
            "type": "bar"
           }
          ],
          "barpolar": [
           {
            "marker": {
             "line": {
              "color": "#E5ECF6",
              "width": 0.5
             },
             "pattern": {
              "fillmode": "overlay",
              "size": 10,
              "solidity": 0.2
             }
            },
            "type": "barpolar"
           }
          ],
          "carpet": [
           {
            "aaxis": {
             "endlinecolor": "#2a3f5f",
             "gridcolor": "white",
             "linecolor": "white",
             "minorgridcolor": "white",
             "startlinecolor": "#2a3f5f"
            },
            "baxis": {
             "endlinecolor": "#2a3f5f",
             "gridcolor": "white",
             "linecolor": "white",
             "minorgridcolor": "white",
             "startlinecolor": "#2a3f5f"
            },
            "type": "carpet"
           }
          ],
          "choropleth": [
           {
            "colorbar": {
             "outlinewidth": 0,
             "ticks": ""
            },
            "type": "choropleth"
           }
          ],
          "contour": [
           {
            "colorbar": {
             "outlinewidth": 0,
             "ticks": ""
            },
            "colorscale": [
             [
              0,
              "#0d0887"
             ],
             [
              0.1111111111111111,
              "#46039f"
             ],
             [
              0.2222222222222222,
              "#7201a8"
             ],
             [
              0.3333333333333333,
              "#9c179e"
             ],
             [
              0.4444444444444444,
              "#bd3786"
             ],
             [
              0.5555555555555556,
              "#d8576b"
             ],
             [
              0.6666666666666666,
              "#ed7953"
             ],
             [
              0.7777777777777778,
              "#fb9f3a"
             ],
             [
              0.8888888888888888,
              "#fdca26"
             ],
             [
              1,
              "#f0f921"
             ]
            ],
            "type": "contour"
           }
          ],
          "contourcarpet": [
           {
            "colorbar": {
             "outlinewidth": 0,
             "ticks": ""
            },
            "type": "contourcarpet"
           }
          ],
          "heatmap": [
           {
            "colorbar": {
             "outlinewidth": 0,
             "ticks": ""
            },
            "colorscale": [
             [
              0,
              "#0d0887"
             ],
             [
              0.1111111111111111,
              "#46039f"
             ],
             [
              0.2222222222222222,
              "#7201a8"
             ],
             [
              0.3333333333333333,
              "#9c179e"
             ],
             [
              0.4444444444444444,
              "#bd3786"
             ],
             [
              0.5555555555555556,
              "#d8576b"
             ],
             [
              0.6666666666666666,
              "#ed7953"
             ],
             [
              0.7777777777777778,
              "#fb9f3a"
             ],
             [
              0.8888888888888888,
              "#fdca26"
             ],
             [
              1,
              "#f0f921"
             ]
            ],
            "type": "heatmap"
           }
          ],
          "heatmapgl": [
           {
            "colorbar": {
             "outlinewidth": 0,
             "ticks": ""
            },
            "colorscale": [
             [
              0,
              "#0d0887"
             ],
             [
              0.1111111111111111,
              "#46039f"
             ],
             [
              0.2222222222222222,
              "#7201a8"
             ],
             [
              0.3333333333333333,
              "#9c179e"
             ],
             [
              0.4444444444444444,
              "#bd3786"
             ],
             [
              0.5555555555555556,
              "#d8576b"
             ],
             [
              0.6666666666666666,
              "#ed7953"
             ],
             [
              0.7777777777777778,
              "#fb9f3a"
             ],
             [
              0.8888888888888888,
              "#fdca26"
             ],
             [
              1,
              "#f0f921"
             ]
            ],
            "type": "heatmapgl"
           }
          ],
          "histogram": [
           {
            "marker": {
             "pattern": {
              "fillmode": "overlay",
              "size": 10,
              "solidity": 0.2
             }
            },
            "type": "histogram"
           }
          ],
          "histogram2d": [
           {
            "colorbar": {
             "outlinewidth": 0,
             "ticks": ""
            },
            "colorscale": [
             [
              0,
              "#0d0887"
             ],
             [
              0.1111111111111111,
              "#46039f"
             ],
             [
              0.2222222222222222,
              "#7201a8"
             ],
             [
              0.3333333333333333,
              "#9c179e"
             ],
             [
              0.4444444444444444,
              "#bd3786"
             ],
             [
              0.5555555555555556,
              "#d8576b"
             ],
             [
              0.6666666666666666,
              "#ed7953"
             ],
             [
              0.7777777777777778,
              "#fb9f3a"
             ],
             [
              0.8888888888888888,
              "#fdca26"
             ],
             [
              1,
              "#f0f921"
             ]
            ],
            "type": "histogram2d"
           }
          ],
          "histogram2dcontour": [
           {
            "colorbar": {
             "outlinewidth": 0,
             "ticks": ""
            },
            "colorscale": [
             [
              0,
              "#0d0887"
             ],
             [
              0.1111111111111111,
              "#46039f"
             ],
             [
              0.2222222222222222,
              "#7201a8"
             ],
             [
              0.3333333333333333,
              "#9c179e"
             ],
             [
              0.4444444444444444,
              "#bd3786"
             ],
             [
              0.5555555555555556,
              "#d8576b"
             ],
             [
              0.6666666666666666,
              "#ed7953"
             ],
             [
              0.7777777777777778,
              "#fb9f3a"
             ],
             [
              0.8888888888888888,
              "#fdca26"
             ],
             [
              1,
              "#f0f921"
             ]
            ],
            "type": "histogram2dcontour"
           }
          ],
          "mesh3d": [
           {
            "colorbar": {
             "outlinewidth": 0,
             "ticks": ""
            },
            "type": "mesh3d"
           }
          ],
          "parcoords": [
           {
            "line": {
             "colorbar": {
              "outlinewidth": 0,
              "ticks": ""
             }
            },
            "type": "parcoords"
           }
          ],
          "pie": [
           {
            "automargin": true,
            "type": "pie"
           }
          ],
          "scatter": [
           {
            "fillpattern": {
             "fillmode": "overlay",
             "size": 10,
             "solidity": 0.2
            },
            "type": "scatter"
           }
          ],
          "scatter3d": [
           {
            "line": {
             "colorbar": {
              "outlinewidth": 0,
              "ticks": ""
             }
            },
            "marker": {
             "colorbar": {
              "outlinewidth": 0,
              "ticks": ""
             }
            },
            "type": "scatter3d"
           }
          ],
          "scattercarpet": [
           {
            "marker": {
             "colorbar": {
              "outlinewidth": 0,
              "ticks": ""
             }
            },
            "type": "scattercarpet"
           }
          ],
          "scattergeo": [
           {
            "marker": {
             "colorbar": {
              "outlinewidth": 0,
              "ticks": ""
             }
            },
            "type": "scattergeo"
           }
          ],
          "scattergl": [
           {
            "marker": {
             "colorbar": {
              "outlinewidth": 0,
              "ticks": ""
             }
            },
            "type": "scattergl"
           }
          ],
          "scattermapbox": [
           {
            "marker": {
             "colorbar": {
              "outlinewidth": 0,
              "ticks": ""
             }
            },
            "type": "scattermapbox"
           }
          ],
          "scatterpolar": [
           {
            "marker": {
             "colorbar": {
              "outlinewidth": 0,
              "ticks": ""
             }
            },
            "type": "scatterpolar"
           }
          ],
          "scatterpolargl": [
           {
            "marker": {
             "colorbar": {
              "outlinewidth": 0,
              "ticks": ""
             }
            },
            "type": "scatterpolargl"
           }
          ],
          "scatterternary": [
           {
            "marker": {
             "colorbar": {
              "outlinewidth": 0,
              "ticks": ""
             }
            },
            "type": "scatterternary"
           }
          ],
          "surface": [
           {
            "colorbar": {
             "outlinewidth": 0,
             "ticks": ""
            },
            "colorscale": [
             [
              0,
              "#0d0887"
             ],
             [
              0.1111111111111111,
              "#46039f"
             ],
             [
              0.2222222222222222,
              "#7201a8"
             ],
             [
              0.3333333333333333,
              "#9c179e"
             ],
             [
              0.4444444444444444,
              "#bd3786"
             ],
             [
              0.5555555555555556,
              "#d8576b"
             ],
             [
              0.6666666666666666,
              "#ed7953"
             ],
             [
              0.7777777777777778,
              "#fb9f3a"
             ],
             [
              0.8888888888888888,
              "#fdca26"
             ],
             [
              1,
              "#f0f921"
             ]
            ],
            "type": "surface"
           }
          ],
          "table": [
           {
            "cells": {
             "fill": {
              "color": "#EBF0F8"
             },
             "line": {
              "color": "white"
             }
            },
            "header": {
             "fill": {
              "color": "#C8D4E3"
             },
             "line": {
              "color": "white"
             }
            },
            "type": "table"
           }
          ]
         },
         "layout": {
          "annotationdefaults": {
           "arrowcolor": "#2a3f5f",
           "arrowhead": 0,
           "arrowwidth": 1
          },
          "autotypenumbers": "strict",
          "coloraxis": {
           "colorbar": {
            "outlinewidth": 0,
            "ticks": ""
           }
          },
          "colorscale": {
           "diverging": [
            [
             0,
             "#8e0152"
            ],
            [
             0.1,
             "#c51b7d"
            ],
            [
             0.2,
             "#de77ae"
            ],
            [
             0.3,
             "#f1b6da"
            ],
            [
             0.4,
             "#fde0ef"
            ],
            [
             0.5,
             "#f7f7f7"
            ],
            [
             0.6,
             "#e6f5d0"
            ],
            [
             0.7,
             "#b8e186"
            ],
            [
             0.8,
             "#7fbc41"
            ],
            [
             0.9,
             "#4d9221"
            ],
            [
             1,
             "#276419"
            ]
           ],
           "sequential": [
            [
             0,
             "#0d0887"
            ],
            [
             0.1111111111111111,
             "#46039f"
            ],
            [
             0.2222222222222222,
             "#7201a8"
            ],
            [
             0.3333333333333333,
             "#9c179e"
            ],
            [
             0.4444444444444444,
             "#bd3786"
            ],
            [
             0.5555555555555556,
             "#d8576b"
            ],
            [
             0.6666666666666666,
             "#ed7953"
            ],
            [
             0.7777777777777778,
             "#fb9f3a"
            ],
            [
             0.8888888888888888,
             "#fdca26"
            ],
            [
             1,
             "#f0f921"
            ]
           ],
           "sequentialminus": [
            [
             0,
             "#0d0887"
            ],
            [
             0.1111111111111111,
             "#46039f"
            ],
            [
             0.2222222222222222,
             "#7201a8"
            ],
            [
             0.3333333333333333,
             "#9c179e"
            ],
            [
             0.4444444444444444,
             "#bd3786"
            ],
            [
             0.5555555555555556,
             "#d8576b"
            ],
            [
             0.6666666666666666,
             "#ed7953"
            ],
            [
             0.7777777777777778,
             "#fb9f3a"
            ],
            [
             0.8888888888888888,
             "#fdca26"
            ],
            [
             1,
             "#f0f921"
            ]
           ]
          },
          "colorway": [
           "#636efa",
           "#EF553B",
           "#00cc96",
           "#ab63fa",
           "#FFA15A",
           "#19d3f3",
           "#FF6692",
           "#B6E880",
           "#FF97FF",
           "#FECB52"
          ],
          "font": {
           "color": "#2a3f5f"
          },
          "geo": {
           "bgcolor": "white",
           "lakecolor": "white",
           "landcolor": "#E5ECF6",
           "showlakes": true,
           "showland": true,
           "subunitcolor": "white"
          },
          "hoverlabel": {
           "align": "left"
          },
          "hovermode": "closest",
          "mapbox": {
           "style": "light"
          },
          "paper_bgcolor": "white",
          "plot_bgcolor": "#E5ECF6",
          "polar": {
           "angularaxis": {
            "gridcolor": "white",
            "linecolor": "white",
            "ticks": ""
           },
           "bgcolor": "#E5ECF6",
           "radialaxis": {
            "gridcolor": "white",
            "linecolor": "white",
            "ticks": ""
           }
          },
          "scene": {
           "xaxis": {
            "backgroundcolor": "#E5ECF6",
            "gridcolor": "white",
            "gridwidth": 2,
            "linecolor": "white",
            "showbackground": true,
            "ticks": "",
            "zerolinecolor": "white"
           },
           "yaxis": {
            "backgroundcolor": "#E5ECF6",
            "gridcolor": "white",
            "gridwidth": 2,
            "linecolor": "white",
            "showbackground": true,
            "ticks": "",
            "zerolinecolor": "white"
           },
           "zaxis": {
            "backgroundcolor": "#E5ECF6",
            "gridcolor": "white",
            "gridwidth": 2,
            "linecolor": "white",
            "showbackground": true,
            "ticks": "",
            "zerolinecolor": "white"
           }
          },
          "shapedefaults": {
           "line": {
            "color": "#2a3f5f"
           }
          },
          "ternary": {
           "aaxis": {
            "gridcolor": "white",
            "linecolor": "white",
            "ticks": ""
           },
           "baxis": {
            "gridcolor": "white",
            "linecolor": "white",
            "ticks": ""
           },
           "bgcolor": "#E5ECF6",
           "caxis": {
            "gridcolor": "white",
            "linecolor": "white",
            "ticks": ""
           }
          },
          "title": {
           "x": 0.05
          },
          "xaxis": {
           "automargin": true,
           "gridcolor": "white",
           "linecolor": "white",
           "ticks": "",
           "title": {
            "standoff": 15
           },
           "zerolinecolor": "white",
           "zerolinewidth": 2
          },
          "yaxis": {
           "automargin": true,
           "gridcolor": "white",
           "linecolor": "white",
           "ticks": "",
           "title": {
            "standoff": 15
           },
           "zerolinecolor": "white",
           "zerolinewidth": 2
          }
         }
        },
        "title": {
         "text": "Diagrama de dispersión multiple"
        },
        "width": 800
       }
      }
     },
     "metadata": {},
     "output_type": "display_data"
    }
   ],
   "source": [
    "plot_relations(NumPlayers_z,['PPG','RPG','APG','PIE'],CatPlayers['Team'])"
   ]
  },
  {
   "cell_type": "markdown",
   "metadata": {},
   "source": [
    "# Prueba de Normalidad"
   ]
  },
  {
   "cell_type": "code",
   "execution_count": 34,
   "metadata": {},
   "outputs": [
    {
     "name": "stdout",
     "output_type": "stream",
     "text": [
      "HZResults(hz=0.9714141594109471, pval=0.05821948886120327, normal=True)\n"
     ]
    }
   ],
   "source": [
    "print(pg.multivariate_normality(NumPlayers_z)) # Multivariate normality"
   ]
  },
  {
   "cell_type": "code",
   "execution_count": 61,
   "metadata": {},
   "outputs": [],
   "source": [
    "n = len(NumPlayers)\n",
    "m = len(NumPlayers.columns)"
   ]
  },
  {
   "cell_type": "code",
   "execution_count": 48,
   "metadata": {},
   "outputs": [],
   "source": [
    "Smtx = NumPlayers.cov()\n",
    "mu = NumPlayers.mean(axis=0)"
   ]
  },
  {
   "cell_type": "code",
   "execution_count": 59,
   "metadata": {},
   "outputs": [
    {
     "data": {
      "text/plain": [
       "array([ 1.35043139,  2.32689137,  3.02788606,  4.01491716,  4.38550672,\n",
       "        4.57344086,  4.81236966,  5.28272078,  5.81213259,  5.84548462,\n",
       "        6.20148537,  6.29276925,  6.3337361 ,  7.2048494 ,  7.47145777,\n",
       "        7.63252084,  8.58355155,  8.62979287,  8.79662838,  9.65967782,\n",
       "        9.82907752,  9.89505956, 10.08542632, 11.62358902, 11.72343668,\n",
       "       11.73915122, 13.93570202, 18.9303071 ])"
      ]
     },
     "execution_count": 59,
     "metadata": {},
     "output_type": "execute_result"
    }
   ],
   "source": [
    "# Agregamos la distancia cuadrada generalizada a NumPlayers\n",
    "SqDist = NumPlayers.apply(lambda x : np.dot(np.dot((x[:]-mu).T,np.linalg.inv(Smtx)),x[:]-mu),axis=1).to_numpy()\n",
    "\n",
    "# Se ordenan\n",
    "SqDist = np.sort(SqDist)\n",
    "SqDist"
   ]
  },
  {
   "cell_type": "code",
   "execution_count": 66,
   "metadata": {},
   "outputs": [],
   "source": [
    "# Obtenemos una lista de los percentiles de una distribución chi cuadrada con\n",
    "# con p=8 y entre el número de datos 28\n",
    "chi_percentiles = np.array([stats.chi2.ppf(((j-1/2)/n), m) for j in range(1,n+1)])"
   ]
  },
  {
   "cell_type": "code",
   "execution_count": 67,
   "metadata": {},
   "outputs": [
    {
     "data": {
      "text/plain": [
       "array([ 1.96240249,  2.79726998,  3.34727258,  3.79651499,  4.19319263,\n",
       "        4.55830994,  4.90332537,  5.23542386,  5.55959707,  5.87961945,\n",
       "        6.19856889,  6.51913731,  6.84383827,  7.1751652 ,  7.51573115,\n",
       "        7.86841235,  8.23651661,  8.62400284,  9.03579054,  9.47822557,\n",
       "        9.95982315, 10.49252911, 11.09402052, 11.79230041, 12.63606776,\n",
       "       13.7226978 , 15.29980842, 18.48705405])"
      ]
     },
     "execution_count": 67,
     "metadata": {},
     "output_type": "execute_result"
    }
   ],
   "source": [
    "chi_percentiles"
   ]
  },
  {
   "cell_type": "code",
   "execution_count": 85,
   "metadata": {},
   "outputs": [],
   "source": [
    "# Agregamos esto a un dataframe\n",
    "ChiDF = np.concatenate(([SqDist],[chi_percentiles]),axis=0).T\n",
    "ChiDF = pd.DataFrame(ChiDF,columns=['Sq','Chi'])"
   ]
  },
  {
   "cell_type": "code",
   "execution_count": 98,
   "metadata": {},
   "outputs": [
    {
     "data": {
      "application/vnd.plotly.v1+json": {
       "config": {
        "plotlyServerURL": "https://plot.ly"
       },
       "data": [
        {
         "hovertemplate": "Chi=%{x}<br>Sq=%{y}<extra></extra>",
         "legendgroup": "",
         "marker": {
          "color": "#636efa",
          "size": 10,
          "symbol": "circle"
         },
         "mode": "markers",
         "name": "",
         "orientation": "v",
         "showlegend": false,
         "type": "scatter",
         "x": [
          1.9624024915277176,
          2.7972699776142984,
          3.347272580623397,
          3.796514986558753,
          4.193192633829478,
          4.558309939303663,
          4.903325366559333,
          5.2354238611807435,
          5.559597073850785,
          5.879619448789205,
          6.1985688926220694,
          6.519137310831184,
          6.843838267781467,
          7.175165197115924,
          7.515731150950345,
          7.868412347790431,
          8.236516614355374,
          8.624002838967087,
          9.035790544064739,
          9.478225572295207,
          9.959823147367743,
          10.49252911162166,
          11.094020520278692,
          11.792300409881497,
          12.63606775556109,
          13.722697798742416,
          15.29980842121084,
          18.48705405342553
         ],
         "xaxis": "x",
         "y": [
          1.3504313863254809,
          2.3268913715139523,
          3.027886055037408,
          4.014917162350742,
          4.38550671505452,
          4.573440864788806,
          4.812369659237412,
          5.2827207774625204,
          5.812132588403939,
          5.845484620786881,
          6.20148537125389,
          6.292769248611741,
          6.333736099302959,
          7.204849396846652,
          7.471457769873299,
          7.632520843069269,
          8.583551554520955,
          8.62979287223974,
          8.796628383246913,
          9.659677819794496,
          9.82907752246237,
          9.895059556173956,
          10.085426321636858,
          11.623589015592897,
          11.723436680720303,
          11.739151220937686,
          13.935702018420244,
          18.93030710433419
         ],
         "yaxis": "y"
        }
       ],
       "layout": {
        "font": {
         "family": "Courier New, monospace",
         "size": 18
        },
        "height": 600,
        "legend": {
         "tracegroupgap": 0
        },
        "margin": {
         "t": 60
        },
        "shapes": [
         {
          "line": {
           "color": "Black",
           "dash": "dash",
           "width": 2
          },
          "type": "line",
          "x0": 0,
          "x1": 1,
          "xref": "paper",
          "y0": 0,
          "y1": 1,
          "yref": "paper"
         }
        ],
        "template": {
         "data": {
          "bar": [
           {
            "error_x": {
             "color": "#2a3f5f"
            },
            "error_y": {
             "color": "#2a3f5f"
            },
            "marker": {
             "line": {
              "color": "#E5ECF6",
              "width": 0.5
             },
             "pattern": {
              "fillmode": "overlay",
              "size": 10,
              "solidity": 0.2
             }
            },
            "type": "bar"
           }
          ],
          "barpolar": [
           {
            "marker": {
             "line": {
              "color": "#E5ECF6",
              "width": 0.5
             },
             "pattern": {
              "fillmode": "overlay",
              "size": 10,
              "solidity": 0.2
             }
            },
            "type": "barpolar"
           }
          ],
          "carpet": [
           {
            "aaxis": {
             "endlinecolor": "#2a3f5f",
             "gridcolor": "white",
             "linecolor": "white",
             "minorgridcolor": "white",
             "startlinecolor": "#2a3f5f"
            },
            "baxis": {
             "endlinecolor": "#2a3f5f",
             "gridcolor": "white",
             "linecolor": "white",
             "minorgridcolor": "white",
             "startlinecolor": "#2a3f5f"
            },
            "type": "carpet"
           }
          ],
          "choropleth": [
           {
            "colorbar": {
             "outlinewidth": 0,
             "ticks": ""
            },
            "type": "choropleth"
           }
          ],
          "contour": [
           {
            "colorbar": {
             "outlinewidth": 0,
             "ticks": ""
            },
            "colorscale": [
             [
              0,
              "#0d0887"
             ],
             [
              0.1111111111111111,
              "#46039f"
             ],
             [
              0.2222222222222222,
              "#7201a8"
             ],
             [
              0.3333333333333333,
              "#9c179e"
             ],
             [
              0.4444444444444444,
              "#bd3786"
             ],
             [
              0.5555555555555556,
              "#d8576b"
             ],
             [
              0.6666666666666666,
              "#ed7953"
             ],
             [
              0.7777777777777778,
              "#fb9f3a"
             ],
             [
              0.8888888888888888,
              "#fdca26"
             ],
             [
              1,
              "#f0f921"
             ]
            ],
            "type": "contour"
           }
          ],
          "contourcarpet": [
           {
            "colorbar": {
             "outlinewidth": 0,
             "ticks": ""
            },
            "type": "contourcarpet"
           }
          ],
          "heatmap": [
           {
            "colorbar": {
             "outlinewidth": 0,
             "ticks": ""
            },
            "colorscale": [
             [
              0,
              "#0d0887"
             ],
             [
              0.1111111111111111,
              "#46039f"
             ],
             [
              0.2222222222222222,
              "#7201a8"
             ],
             [
              0.3333333333333333,
              "#9c179e"
             ],
             [
              0.4444444444444444,
              "#bd3786"
             ],
             [
              0.5555555555555556,
              "#d8576b"
             ],
             [
              0.6666666666666666,
              "#ed7953"
             ],
             [
              0.7777777777777778,
              "#fb9f3a"
             ],
             [
              0.8888888888888888,
              "#fdca26"
             ],
             [
              1,
              "#f0f921"
             ]
            ],
            "type": "heatmap"
           }
          ],
          "heatmapgl": [
           {
            "colorbar": {
             "outlinewidth": 0,
             "ticks": ""
            },
            "colorscale": [
             [
              0,
              "#0d0887"
             ],
             [
              0.1111111111111111,
              "#46039f"
             ],
             [
              0.2222222222222222,
              "#7201a8"
             ],
             [
              0.3333333333333333,
              "#9c179e"
             ],
             [
              0.4444444444444444,
              "#bd3786"
             ],
             [
              0.5555555555555556,
              "#d8576b"
             ],
             [
              0.6666666666666666,
              "#ed7953"
             ],
             [
              0.7777777777777778,
              "#fb9f3a"
             ],
             [
              0.8888888888888888,
              "#fdca26"
             ],
             [
              1,
              "#f0f921"
             ]
            ],
            "type": "heatmapgl"
           }
          ],
          "histogram": [
           {
            "marker": {
             "pattern": {
              "fillmode": "overlay",
              "size": 10,
              "solidity": 0.2
             }
            },
            "type": "histogram"
           }
          ],
          "histogram2d": [
           {
            "colorbar": {
             "outlinewidth": 0,
             "ticks": ""
            },
            "colorscale": [
             [
              0,
              "#0d0887"
             ],
             [
              0.1111111111111111,
              "#46039f"
             ],
             [
              0.2222222222222222,
              "#7201a8"
             ],
             [
              0.3333333333333333,
              "#9c179e"
             ],
             [
              0.4444444444444444,
              "#bd3786"
             ],
             [
              0.5555555555555556,
              "#d8576b"
             ],
             [
              0.6666666666666666,
              "#ed7953"
             ],
             [
              0.7777777777777778,
              "#fb9f3a"
             ],
             [
              0.8888888888888888,
              "#fdca26"
             ],
             [
              1,
              "#f0f921"
             ]
            ],
            "type": "histogram2d"
           }
          ],
          "histogram2dcontour": [
           {
            "colorbar": {
             "outlinewidth": 0,
             "ticks": ""
            },
            "colorscale": [
             [
              0,
              "#0d0887"
             ],
             [
              0.1111111111111111,
              "#46039f"
             ],
             [
              0.2222222222222222,
              "#7201a8"
             ],
             [
              0.3333333333333333,
              "#9c179e"
             ],
             [
              0.4444444444444444,
              "#bd3786"
             ],
             [
              0.5555555555555556,
              "#d8576b"
             ],
             [
              0.6666666666666666,
              "#ed7953"
             ],
             [
              0.7777777777777778,
              "#fb9f3a"
             ],
             [
              0.8888888888888888,
              "#fdca26"
             ],
             [
              1,
              "#f0f921"
             ]
            ],
            "type": "histogram2dcontour"
           }
          ],
          "mesh3d": [
           {
            "colorbar": {
             "outlinewidth": 0,
             "ticks": ""
            },
            "type": "mesh3d"
           }
          ],
          "parcoords": [
           {
            "line": {
             "colorbar": {
              "outlinewidth": 0,
              "ticks": ""
             }
            },
            "type": "parcoords"
           }
          ],
          "pie": [
           {
            "automargin": true,
            "type": "pie"
           }
          ],
          "scatter": [
           {
            "fillpattern": {
             "fillmode": "overlay",
             "size": 10,
             "solidity": 0.2
            },
            "type": "scatter"
           }
          ],
          "scatter3d": [
           {
            "line": {
             "colorbar": {
              "outlinewidth": 0,
              "ticks": ""
             }
            },
            "marker": {
             "colorbar": {
              "outlinewidth": 0,
              "ticks": ""
             }
            },
            "type": "scatter3d"
           }
          ],
          "scattercarpet": [
           {
            "marker": {
             "colorbar": {
              "outlinewidth": 0,
              "ticks": ""
             }
            },
            "type": "scattercarpet"
           }
          ],
          "scattergeo": [
           {
            "marker": {
             "colorbar": {
              "outlinewidth": 0,
              "ticks": ""
             }
            },
            "type": "scattergeo"
           }
          ],
          "scattergl": [
           {
            "marker": {
             "colorbar": {
              "outlinewidth": 0,
              "ticks": ""
             }
            },
            "type": "scattergl"
           }
          ],
          "scattermapbox": [
           {
            "marker": {
             "colorbar": {
              "outlinewidth": 0,
              "ticks": ""
             }
            },
            "type": "scattermapbox"
           }
          ],
          "scatterpolar": [
           {
            "marker": {
             "colorbar": {
              "outlinewidth": 0,
              "ticks": ""
             }
            },
            "type": "scatterpolar"
           }
          ],
          "scatterpolargl": [
           {
            "marker": {
             "colorbar": {
              "outlinewidth": 0,
              "ticks": ""
             }
            },
            "type": "scatterpolargl"
           }
          ],
          "scatterternary": [
           {
            "marker": {
             "colorbar": {
              "outlinewidth": 0,
              "ticks": ""
             }
            },
            "type": "scatterternary"
           }
          ],
          "surface": [
           {
            "colorbar": {
             "outlinewidth": 0,
             "ticks": ""
            },
            "colorscale": [
             [
              0,
              "#0d0887"
             ],
             [
              0.1111111111111111,
              "#46039f"
             ],
             [
              0.2222222222222222,
              "#7201a8"
             ],
             [
              0.3333333333333333,
              "#9c179e"
             ],
             [
              0.4444444444444444,
              "#bd3786"
             ],
             [
              0.5555555555555556,
              "#d8576b"
             ],
             [
              0.6666666666666666,
              "#ed7953"
             ],
             [
              0.7777777777777778,
              "#fb9f3a"
             ],
             [
              0.8888888888888888,
              "#fdca26"
             ],
             [
              1,
              "#f0f921"
             ]
            ],
            "type": "surface"
           }
          ],
          "table": [
           {
            "cells": {
             "fill": {
              "color": "#EBF0F8"
             },
             "line": {
              "color": "white"
             }
            },
            "header": {
             "fill": {
              "color": "#C8D4E3"
             },
             "line": {
              "color": "white"
             }
            },
            "type": "table"
           }
          ]
         },
         "layout": {
          "annotationdefaults": {
           "arrowcolor": "#2a3f5f",
           "arrowhead": 0,
           "arrowwidth": 1
          },
          "autotypenumbers": "strict",
          "coloraxis": {
           "colorbar": {
            "outlinewidth": 0,
            "ticks": ""
           }
          },
          "colorscale": {
           "diverging": [
            [
             0,
             "#8e0152"
            ],
            [
             0.1,
             "#c51b7d"
            ],
            [
             0.2,
             "#de77ae"
            ],
            [
             0.3,
             "#f1b6da"
            ],
            [
             0.4,
             "#fde0ef"
            ],
            [
             0.5,
             "#f7f7f7"
            ],
            [
             0.6,
             "#e6f5d0"
            ],
            [
             0.7,
             "#b8e186"
            ],
            [
             0.8,
             "#7fbc41"
            ],
            [
             0.9,
             "#4d9221"
            ],
            [
             1,
             "#276419"
            ]
           ],
           "sequential": [
            [
             0,
             "#0d0887"
            ],
            [
             0.1111111111111111,
             "#46039f"
            ],
            [
             0.2222222222222222,
             "#7201a8"
            ],
            [
             0.3333333333333333,
             "#9c179e"
            ],
            [
             0.4444444444444444,
             "#bd3786"
            ],
            [
             0.5555555555555556,
             "#d8576b"
            ],
            [
             0.6666666666666666,
             "#ed7953"
            ],
            [
             0.7777777777777778,
             "#fb9f3a"
            ],
            [
             0.8888888888888888,
             "#fdca26"
            ],
            [
             1,
             "#f0f921"
            ]
           ],
           "sequentialminus": [
            [
             0,
             "#0d0887"
            ],
            [
             0.1111111111111111,
             "#46039f"
            ],
            [
             0.2222222222222222,
             "#7201a8"
            ],
            [
             0.3333333333333333,
             "#9c179e"
            ],
            [
             0.4444444444444444,
             "#bd3786"
            ],
            [
             0.5555555555555556,
             "#d8576b"
            ],
            [
             0.6666666666666666,
             "#ed7953"
            ],
            [
             0.7777777777777778,
             "#fb9f3a"
            ],
            [
             0.8888888888888888,
             "#fdca26"
            ],
            [
             1,
             "#f0f921"
            ]
           ]
          },
          "colorway": [
           "#636efa",
           "#EF553B",
           "#00cc96",
           "#ab63fa",
           "#FFA15A",
           "#19d3f3",
           "#FF6692",
           "#B6E880",
           "#FF97FF",
           "#FECB52"
          ],
          "font": {
           "color": "#2a3f5f"
          },
          "geo": {
           "bgcolor": "white",
           "lakecolor": "white",
           "landcolor": "#E5ECF6",
           "showlakes": true,
           "showland": true,
           "subunitcolor": "white"
          },
          "hoverlabel": {
           "align": "left"
          },
          "hovermode": "closest",
          "mapbox": {
           "style": "light"
          },
          "paper_bgcolor": "white",
          "plot_bgcolor": "#E5ECF6",
          "polar": {
           "angularaxis": {
            "gridcolor": "white",
            "linecolor": "white",
            "ticks": ""
           },
           "bgcolor": "#E5ECF6",
           "radialaxis": {
            "gridcolor": "white",
            "linecolor": "white",
            "ticks": ""
           }
          },
          "scene": {
           "xaxis": {
            "backgroundcolor": "#E5ECF6",
            "gridcolor": "white",
            "gridwidth": 2,
            "linecolor": "white",
            "showbackground": true,
            "ticks": "",
            "zerolinecolor": "white"
           },
           "yaxis": {
            "backgroundcolor": "#E5ECF6",
            "gridcolor": "white",
            "gridwidth": 2,
            "linecolor": "white",
            "showbackground": true,
            "ticks": "",
            "zerolinecolor": "white"
           },
           "zaxis": {
            "backgroundcolor": "#E5ECF6",
            "gridcolor": "white",
            "gridwidth": 2,
            "linecolor": "white",
            "showbackground": true,
            "ticks": "",
            "zerolinecolor": "white"
           }
          },
          "shapedefaults": {
           "line": {
            "color": "#2a3f5f"
           }
          },
          "ternary": {
           "aaxis": {
            "gridcolor": "white",
            "linecolor": "white",
            "ticks": ""
           },
           "baxis": {
            "gridcolor": "white",
            "linecolor": "white",
            "ticks": ""
           },
           "bgcolor": "#E5ECF6",
           "caxis": {
            "gridcolor": "white",
            "linecolor": "white",
            "ticks": ""
           }
          },
          "title": {
           "x": 0.05
          },
          "xaxis": {
           "automargin": true,
           "gridcolor": "white",
           "linecolor": "white",
           "ticks": "",
           "title": {
            "standoff": 15
           },
           "zerolinecolor": "white",
           "zerolinewidth": 2
          },
          "yaxis": {
           "automargin": true,
           "gridcolor": "white",
           "linecolor": "white",
           "ticks": "",
           "title": {
            "standoff": 15
           },
           "zerolinecolor": "white",
           "zerolinewidth": 2
          }
         }
        },
        "title": {
         "text": "Gráfico Chi-cuadrada"
        },
        "width": 650,
        "xaxis": {
         "anchor": "y",
         "domain": [
          0,
          1
         ],
         "title": {
          "text": "Percentiles de Chi-cuadrada"
         }
        },
        "yaxis": {
         "anchor": "x",
         "domain": [
          0,
          1
         ],
         "title": {
          "text": "Distancia Cuadrada generalizada"
         }
        }
       }
      }
     },
     "metadata": {},
     "output_type": "display_data"
    }
   ],
   "source": [
    "fig = px.scatter(ChiDF,x = 'Chi',y='Sq',width = 650,height=600)\n",
    "fig.update_layout(\n",
    "    title= 'Gráfico Chi-cuadrada',\n",
    "    xaxis_title=\"Percentiles de Chi-cuadrada\",\n",
    "    yaxis_title=\"Distancia Cuadrada generalizada\",\n",
    "    font=dict(\n",
    "        family=\"Courier New, monospace\",\n",
    "        size=18,  # Set the font size here\n",
    "    )\n",
    ")\n",
    "fig.update_traces(marker=dict(size=10))\n",
    "# Add the y = x line\n",
    "fig.add_shape(\n",
    "    type=\"line\",\n",
    "    x0=0, y0=0,\n",
    "    x1=1, y1=1,\n",
    "    xref='paper', yref='paper',\n",
    "    line=dict(color=\"Black\", width=2, dash=\"dash\")\n",
    ")"
   ]
  },
  {
   "cell_type": "markdown",
   "metadata": {},
   "source": [
    "# Análisis de Factores"
   ]
  },
  {
   "cell_type": "markdown",
   "metadata": {},
   "source": [
    "## 1. Por componentes principales"
   ]
  },
  {
   "cell_type": "markdown",
   "metadata": {},
   "source": [
    "### Calcular Screeplot y Varianza acumulada"
   ]
  },
  {
   "cell_type": "code",
   "execution_count": 110,
   "metadata": {},
   "outputs": [
    {
     "data": {
      "text/plain": [
       "array([3.669, 2.064, 1.637, 0.224, 0.169, 0.106, 0.083, 0.048])"
      ]
     },
     "execution_count": 110,
     "metadata": {},
     "output_type": "execute_result"
    }
   ],
   "source": [
    "# Se calcula la matriz de correlación\n",
    "R_mtx = NumPlayers_z.corr()\n",
    "# Se calculan los valores y vectores propios\n",
    "evals,evecs = np.linalg.eig(R_mtx)\n",
    "# Se ordenan los eigenvectores de acuerdo a los eigenvalores\n",
    "evals_s , evecs_s = sorted_eig(evals,evecs)\n",
    "\n",
    "np.round(evals_s,3)"
   ]
  },
  {
   "cell_type": "markdown",
   "metadata": {},
   "source": [
    "Por el criterio de Kaiser, 3 componentes son suficientes para describir a los datos."
   ]
  },
  {
   "cell_type": "code",
   "execution_count": 103,
   "metadata": {},
   "outputs": [
    {
     "name": "stdout",
     "output_type": "stream",
     "text": [
      "Varianza explicada con tres componentes: 92.128801 \n"
     ]
    },
    {
     "data": {
      "application/vnd.plotly.v1+json": {
       "config": {
        "plotlyServerURL": "https://plot.ly"
       },
       "data": [
        {
         "hovertemplate": "x=%{x}<br>y=%{y}<extra></extra>",
         "legendgroup": "",
         "line": {
          "color": "#636efa",
          "dash": "solid"
         },
         "marker": {
          "symbol": "circle"
         },
         "mode": "lines",
         "name": "",
         "orientation": "v",
         "showlegend": false,
         "type": "scatter",
         "x": [
          1,
          2,
          3,
          4,
          5,
          6,
          7,
          8
         ],
         "xaxis": "x",
         "y": [
          0.45866913548512833,
          0.2579693789353154,
          0.20464949826157844,
          0.027974003096780494,
          0.021131381562626277,
          0.013207391193323767,
          0.010414103830701859,
          0.0059851076345454855
         ],
         "yaxis": "y"
        }
       ],
       "layout": {
        "font": {
         "family": "Courier New, monospace",
         "size": 18
        },
        "height": 500,
        "legend": {
         "tracegroupgap": 0
        },
        "margin": {
         "t": 60
        },
        "template": {
         "data": {
          "bar": [
           {
            "error_x": {
             "color": "#2a3f5f"
            },
            "error_y": {
             "color": "#2a3f5f"
            },
            "marker": {
             "line": {
              "color": "#E5ECF6",
              "width": 0.5
             },
             "pattern": {
              "fillmode": "overlay",
              "size": 10,
              "solidity": 0.2
             }
            },
            "type": "bar"
           }
          ],
          "barpolar": [
           {
            "marker": {
             "line": {
              "color": "#E5ECF6",
              "width": 0.5
             },
             "pattern": {
              "fillmode": "overlay",
              "size": 10,
              "solidity": 0.2
             }
            },
            "type": "barpolar"
           }
          ],
          "carpet": [
           {
            "aaxis": {
             "endlinecolor": "#2a3f5f",
             "gridcolor": "white",
             "linecolor": "white",
             "minorgridcolor": "white",
             "startlinecolor": "#2a3f5f"
            },
            "baxis": {
             "endlinecolor": "#2a3f5f",
             "gridcolor": "white",
             "linecolor": "white",
             "minorgridcolor": "white",
             "startlinecolor": "#2a3f5f"
            },
            "type": "carpet"
           }
          ],
          "choropleth": [
           {
            "colorbar": {
             "outlinewidth": 0,
             "ticks": ""
            },
            "type": "choropleth"
           }
          ],
          "contour": [
           {
            "colorbar": {
             "outlinewidth": 0,
             "ticks": ""
            },
            "colorscale": [
             [
              0,
              "#0d0887"
             ],
             [
              0.1111111111111111,
              "#46039f"
             ],
             [
              0.2222222222222222,
              "#7201a8"
             ],
             [
              0.3333333333333333,
              "#9c179e"
             ],
             [
              0.4444444444444444,
              "#bd3786"
             ],
             [
              0.5555555555555556,
              "#d8576b"
             ],
             [
              0.6666666666666666,
              "#ed7953"
             ],
             [
              0.7777777777777778,
              "#fb9f3a"
             ],
             [
              0.8888888888888888,
              "#fdca26"
             ],
             [
              1,
              "#f0f921"
             ]
            ],
            "type": "contour"
           }
          ],
          "contourcarpet": [
           {
            "colorbar": {
             "outlinewidth": 0,
             "ticks": ""
            },
            "type": "contourcarpet"
           }
          ],
          "heatmap": [
           {
            "colorbar": {
             "outlinewidth": 0,
             "ticks": ""
            },
            "colorscale": [
             [
              0,
              "#0d0887"
             ],
             [
              0.1111111111111111,
              "#46039f"
             ],
             [
              0.2222222222222222,
              "#7201a8"
             ],
             [
              0.3333333333333333,
              "#9c179e"
             ],
             [
              0.4444444444444444,
              "#bd3786"
             ],
             [
              0.5555555555555556,
              "#d8576b"
             ],
             [
              0.6666666666666666,
              "#ed7953"
             ],
             [
              0.7777777777777778,
              "#fb9f3a"
             ],
             [
              0.8888888888888888,
              "#fdca26"
             ],
             [
              1,
              "#f0f921"
             ]
            ],
            "type": "heatmap"
           }
          ],
          "heatmapgl": [
           {
            "colorbar": {
             "outlinewidth": 0,
             "ticks": ""
            },
            "colorscale": [
             [
              0,
              "#0d0887"
             ],
             [
              0.1111111111111111,
              "#46039f"
             ],
             [
              0.2222222222222222,
              "#7201a8"
             ],
             [
              0.3333333333333333,
              "#9c179e"
             ],
             [
              0.4444444444444444,
              "#bd3786"
             ],
             [
              0.5555555555555556,
              "#d8576b"
             ],
             [
              0.6666666666666666,
              "#ed7953"
             ],
             [
              0.7777777777777778,
              "#fb9f3a"
             ],
             [
              0.8888888888888888,
              "#fdca26"
             ],
             [
              1,
              "#f0f921"
             ]
            ],
            "type": "heatmapgl"
           }
          ],
          "histogram": [
           {
            "marker": {
             "pattern": {
              "fillmode": "overlay",
              "size": 10,
              "solidity": 0.2
             }
            },
            "type": "histogram"
           }
          ],
          "histogram2d": [
           {
            "colorbar": {
             "outlinewidth": 0,
             "ticks": ""
            },
            "colorscale": [
             [
              0,
              "#0d0887"
             ],
             [
              0.1111111111111111,
              "#46039f"
             ],
             [
              0.2222222222222222,
              "#7201a8"
             ],
             [
              0.3333333333333333,
              "#9c179e"
             ],
             [
              0.4444444444444444,
              "#bd3786"
             ],
             [
              0.5555555555555556,
              "#d8576b"
             ],
             [
              0.6666666666666666,
              "#ed7953"
             ],
             [
              0.7777777777777778,
              "#fb9f3a"
             ],
             [
              0.8888888888888888,
              "#fdca26"
             ],
             [
              1,
              "#f0f921"
             ]
            ],
            "type": "histogram2d"
           }
          ],
          "histogram2dcontour": [
           {
            "colorbar": {
             "outlinewidth": 0,
             "ticks": ""
            },
            "colorscale": [
             [
              0,
              "#0d0887"
             ],
             [
              0.1111111111111111,
              "#46039f"
             ],
             [
              0.2222222222222222,
              "#7201a8"
             ],
             [
              0.3333333333333333,
              "#9c179e"
             ],
             [
              0.4444444444444444,
              "#bd3786"
             ],
             [
              0.5555555555555556,
              "#d8576b"
             ],
             [
              0.6666666666666666,
              "#ed7953"
             ],
             [
              0.7777777777777778,
              "#fb9f3a"
             ],
             [
              0.8888888888888888,
              "#fdca26"
             ],
             [
              1,
              "#f0f921"
             ]
            ],
            "type": "histogram2dcontour"
           }
          ],
          "mesh3d": [
           {
            "colorbar": {
             "outlinewidth": 0,
             "ticks": ""
            },
            "type": "mesh3d"
           }
          ],
          "parcoords": [
           {
            "line": {
             "colorbar": {
              "outlinewidth": 0,
              "ticks": ""
             }
            },
            "type": "parcoords"
           }
          ],
          "pie": [
           {
            "automargin": true,
            "type": "pie"
           }
          ],
          "scatter": [
           {
            "fillpattern": {
             "fillmode": "overlay",
             "size": 10,
             "solidity": 0.2
            },
            "type": "scatter"
           }
          ],
          "scatter3d": [
           {
            "line": {
             "colorbar": {
              "outlinewidth": 0,
              "ticks": ""
             }
            },
            "marker": {
             "colorbar": {
              "outlinewidth": 0,
              "ticks": ""
             }
            },
            "type": "scatter3d"
           }
          ],
          "scattercarpet": [
           {
            "marker": {
             "colorbar": {
              "outlinewidth": 0,
              "ticks": ""
             }
            },
            "type": "scattercarpet"
           }
          ],
          "scattergeo": [
           {
            "marker": {
             "colorbar": {
              "outlinewidth": 0,
              "ticks": ""
             }
            },
            "type": "scattergeo"
           }
          ],
          "scattergl": [
           {
            "marker": {
             "colorbar": {
              "outlinewidth": 0,
              "ticks": ""
             }
            },
            "type": "scattergl"
           }
          ],
          "scattermapbox": [
           {
            "marker": {
             "colorbar": {
              "outlinewidth": 0,
              "ticks": ""
             }
            },
            "type": "scattermapbox"
           }
          ],
          "scatterpolar": [
           {
            "marker": {
             "colorbar": {
              "outlinewidth": 0,
              "ticks": ""
             }
            },
            "type": "scatterpolar"
           }
          ],
          "scatterpolargl": [
           {
            "marker": {
             "colorbar": {
              "outlinewidth": 0,
              "ticks": ""
             }
            },
            "type": "scatterpolargl"
           }
          ],
          "scatterternary": [
           {
            "marker": {
             "colorbar": {
              "outlinewidth": 0,
              "ticks": ""
             }
            },
            "type": "scatterternary"
           }
          ],
          "surface": [
           {
            "colorbar": {
             "outlinewidth": 0,
             "ticks": ""
            },
            "colorscale": [
             [
              0,
              "#0d0887"
             ],
             [
              0.1111111111111111,
              "#46039f"
             ],
             [
              0.2222222222222222,
              "#7201a8"
             ],
             [
              0.3333333333333333,
              "#9c179e"
             ],
             [
              0.4444444444444444,
              "#bd3786"
             ],
             [
              0.5555555555555556,
              "#d8576b"
             ],
             [
              0.6666666666666666,
              "#ed7953"
             ],
             [
              0.7777777777777778,
              "#fb9f3a"
             ],
             [
              0.8888888888888888,
              "#fdca26"
             ],
             [
              1,
              "#f0f921"
             ]
            ],
            "type": "surface"
           }
          ],
          "table": [
           {
            "cells": {
             "fill": {
              "color": "#EBF0F8"
             },
             "line": {
              "color": "white"
             }
            },
            "header": {
             "fill": {
              "color": "#C8D4E3"
             },
             "line": {
              "color": "white"
             }
            },
            "type": "table"
           }
          ]
         },
         "layout": {
          "annotationdefaults": {
           "arrowcolor": "#2a3f5f",
           "arrowhead": 0,
           "arrowwidth": 1
          },
          "autotypenumbers": "strict",
          "coloraxis": {
           "colorbar": {
            "outlinewidth": 0,
            "ticks": ""
           }
          },
          "colorscale": {
           "diverging": [
            [
             0,
             "#8e0152"
            ],
            [
             0.1,
             "#c51b7d"
            ],
            [
             0.2,
             "#de77ae"
            ],
            [
             0.3,
             "#f1b6da"
            ],
            [
             0.4,
             "#fde0ef"
            ],
            [
             0.5,
             "#f7f7f7"
            ],
            [
             0.6,
             "#e6f5d0"
            ],
            [
             0.7,
             "#b8e186"
            ],
            [
             0.8,
             "#7fbc41"
            ],
            [
             0.9,
             "#4d9221"
            ],
            [
             1,
             "#276419"
            ]
           ],
           "sequential": [
            [
             0,
             "#0d0887"
            ],
            [
             0.1111111111111111,
             "#46039f"
            ],
            [
             0.2222222222222222,
             "#7201a8"
            ],
            [
             0.3333333333333333,
             "#9c179e"
            ],
            [
             0.4444444444444444,
             "#bd3786"
            ],
            [
             0.5555555555555556,
             "#d8576b"
            ],
            [
             0.6666666666666666,
             "#ed7953"
            ],
            [
             0.7777777777777778,
             "#fb9f3a"
            ],
            [
             0.8888888888888888,
             "#fdca26"
            ],
            [
             1,
             "#f0f921"
            ]
           ],
           "sequentialminus": [
            [
             0,
             "#0d0887"
            ],
            [
             0.1111111111111111,
             "#46039f"
            ],
            [
             0.2222222222222222,
             "#7201a8"
            ],
            [
             0.3333333333333333,
             "#9c179e"
            ],
            [
             0.4444444444444444,
             "#bd3786"
            ],
            [
             0.5555555555555556,
             "#d8576b"
            ],
            [
             0.6666666666666666,
             "#ed7953"
            ],
            [
             0.7777777777777778,
             "#fb9f3a"
            ],
            [
             0.8888888888888888,
             "#fdca26"
            ],
            [
             1,
             "#f0f921"
            ]
           ]
          },
          "colorway": [
           "#636efa",
           "#EF553B",
           "#00cc96",
           "#ab63fa",
           "#FFA15A",
           "#19d3f3",
           "#FF6692",
           "#B6E880",
           "#FF97FF",
           "#FECB52"
          ],
          "font": {
           "color": "#2a3f5f"
          },
          "geo": {
           "bgcolor": "white",
           "lakecolor": "white",
           "landcolor": "#E5ECF6",
           "showlakes": true,
           "showland": true,
           "subunitcolor": "white"
          },
          "hoverlabel": {
           "align": "left"
          },
          "hovermode": "closest",
          "mapbox": {
           "style": "light"
          },
          "paper_bgcolor": "white",
          "plot_bgcolor": "#E5ECF6",
          "polar": {
           "angularaxis": {
            "gridcolor": "white",
            "linecolor": "white",
            "ticks": ""
           },
           "bgcolor": "#E5ECF6",
           "radialaxis": {
            "gridcolor": "white",
            "linecolor": "white",
            "ticks": ""
           }
          },
          "scene": {
           "xaxis": {
            "backgroundcolor": "#E5ECF6",
            "gridcolor": "white",
            "gridwidth": 2,
            "linecolor": "white",
            "showbackground": true,
            "ticks": "",
            "zerolinecolor": "white"
           },
           "yaxis": {
            "backgroundcolor": "#E5ECF6",
            "gridcolor": "white",
            "gridwidth": 2,
            "linecolor": "white",
            "showbackground": true,
            "ticks": "",
            "zerolinecolor": "white"
           },
           "zaxis": {
            "backgroundcolor": "#E5ECF6",
            "gridcolor": "white",
            "gridwidth": 2,
            "linecolor": "white",
            "showbackground": true,
            "ticks": "",
            "zerolinecolor": "white"
           }
          },
          "shapedefaults": {
           "line": {
            "color": "#2a3f5f"
           }
          },
          "ternary": {
           "aaxis": {
            "gridcolor": "white",
            "linecolor": "white",
            "ticks": ""
           },
           "baxis": {
            "gridcolor": "white",
            "linecolor": "white",
            "ticks": ""
           },
           "bgcolor": "#E5ECF6",
           "caxis": {
            "gridcolor": "white",
            "linecolor": "white",
            "ticks": ""
           }
          },
          "title": {
           "x": 0.05
          },
          "xaxis": {
           "automargin": true,
           "gridcolor": "white",
           "linecolor": "white",
           "ticks": "",
           "title": {
            "standoff": 15
           },
           "zerolinecolor": "white",
           "zerolinewidth": 2
          },
          "yaxis": {
           "automargin": true,
           "gridcolor": "white",
           "linecolor": "white",
           "ticks": "",
           "title": {
            "standoff": 15
           },
           "zerolinecolor": "white",
           "zerolinewidth": 2
          }
         }
        },
        "title": {
         "text": "Gráfico de codo"
        },
        "width": 600,
        "xaxis": {
         "anchor": "y",
         "domain": [
          0,
          1
         ],
         "range": [
          1,
          8
         ],
         "title": {
          "text": "Componentes"
         }
        },
        "yaxis": {
         "anchor": "x",
         "domain": [
          0,
          1
         ],
         "title": {
          "text": "Varianza"
         }
        }
       }
      }
     },
     "metadata": {},
     "output_type": "display_data"
    }
   ],
   "source": [
    "# Calculamos la varianza acumulada\n",
    "variance_pc = evals_s/np.sum(len(R_mtx))\n",
    "cum_var_pc = np.cumsum(variance_pc)\n",
    "print('Varianza explicada con tres componentes: %2f '%(cum_var_pc[2]*100))\n",
    "\n",
    "fig = px.line(x=np.arange(1,9),y=variance_pc,width=600, height=500)\n",
    "fig.update_layout(\n",
    "    title = 'Gráfico de codo',\n",
    "    xaxis_title=\"Componentes\",\n",
    "    yaxis_title=\"Varianza\",\n",
    "    font=dict(\n",
    "        family=\"Courier New, monospace\",\n",
    "        size=18,  # Set the font size here\n",
    "    )\n",
    ")\n",
    "fig.update_xaxes(range=[1, 8])\n",
    "fig.show()"
   ]
  },
  {
   "cell_type": "code",
   "execution_count": 104,
   "metadata": {},
   "outputs": [
    {
     "data": {
      "application/vnd.plotly.v1+json": {
       "config": {
        "plotlyServerURL": "https://plot.ly"
       },
       "data": [
        {
         "hovertemplate": "x=%{x}<br>y=%{y}<extra></extra>",
         "legendgroup": "",
         "line": {
          "color": "#636efa",
          "dash": "solid"
         },
         "marker": {
          "symbol": "circle"
         },
         "mode": "lines",
         "name": "",
         "orientation": "v",
         "showlegend": false,
         "type": "scatter",
         "x": [
          1,
          2,
          3,
          4,
          5,
          6,
          7,
          8
         ],
         "xaxis": "x",
         "y": [
          0.45866913548512833,
          0.7166385144204437,
          0.9212880126820221,
          0.9492620157788025,
          0.9703933973414288,
          0.9836007885347526,
          0.9940148923654545,
          1
         ],
         "yaxis": "y"
        }
       ],
       "layout": {
        "font": {
         "family": "Courier New, monospace",
         "size": 18
        },
        "height": 500,
        "legend": {
         "tracegroupgap": 0
        },
        "margin": {
         "t": 60
        },
        "template": {
         "data": {
          "bar": [
           {
            "error_x": {
             "color": "#2a3f5f"
            },
            "error_y": {
             "color": "#2a3f5f"
            },
            "marker": {
             "line": {
              "color": "#E5ECF6",
              "width": 0.5
             },
             "pattern": {
              "fillmode": "overlay",
              "size": 10,
              "solidity": 0.2
             }
            },
            "type": "bar"
           }
          ],
          "barpolar": [
           {
            "marker": {
             "line": {
              "color": "#E5ECF6",
              "width": 0.5
             },
             "pattern": {
              "fillmode": "overlay",
              "size": 10,
              "solidity": 0.2
             }
            },
            "type": "barpolar"
           }
          ],
          "carpet": [
           {
            "aaxis": {
             "endlinecolor": "#2a3f5f",
             "gridcolor": "white",
             "linecolor": "white",
             "minorgridcolor": "white",
             "startlinecolor": "#2a3f5f"
            },
            "baxis": {
             "endlinecolor": "#2a3f5f",
             "gridcolor": "white",
             "linecolor": "white",
             "minorgridcolor": "white",
             "startlinecolor": "#2a3f5f"
            },
            "type": "carpet"
           }
          ],
          "choropleth": [
           {
            "colorbar": {
             "outlinewidth": 0,
             "ticks": ""
            },
            "type": "choropleth"
           }
          ],
          "contour": [
           {
            "colorbar": {
             "outlinewidth": 0,
             "ticks": ""
            },
            "colorscale": [
             [
              0,
              "#0d0887"
             ],
             [
              0.1111111111111111,
              "#46039f"
             ],
             [
              0.2222222222222222,
              "#7201a8"
             ],
             [
              0.3333333333333333,
              "#9c179e"
             ],
             [
              0.4444444444444444,
              "#bd3786"
             ],
             [
              0.5555555555555556,
              "#d8576b"
             ],
             [
              0.6666666666666666,
              "#ed7953"
             ],
             [
              0.7777777777777778,
              "#fb9f3a"
             ],
             [
              0.8888888888888888,
              "#fdca26"
             ],
             [
              1,
              "#f0f921"
             ]
            ],
            "type": "contour"
           }
          ],
          "contourcarpet": [
           {
            "colorbar": {
             "outlinewidth": 0,
             "ticks": ""
            },
            "type": "contourcarpet"
           }
          ],
          "heatmap": [
           {
            "colorbar": {
             "outlinewidth": 0,
             "ticks": ""
            },
            "colorscale": [
             [
              0,
              "#0d0887"
             ],
             [
              0.1111111111111111,
              "#46039f"
             ],
             [
              0.2222222222222222,
              "#7201a8"
             ],
             [
              0.3333333333333333,
              "#9c179e"
             ],
             [
              0.4444444444444444,
              "#bd3786"
             ],
             [
              0.5555555555555556,
              "#d8576b"
             ],
             [
              0.6666666666666666,
              "#ed7953"
             ],
             [
              0.7777777777777778,
              "#fb9f3a"
             ],
             [
              0.8888888888888888,
              "#fdca26"
             ],
             [
              1,
              "#f0f921"
             ]
            ],
            "type": "heatmap"
           }
          ],
          "heatmapgl": [
           {
            "colorbar": {
             "outlinewidth": 0,
             "ticks": ""
            },
            "colorscale": [
             [
              0,
              "#0d0887"
             ],
             [
              0.1111111111111111,
              "#46039f"
             ],
             [
              0.2222222222222222,
              "#7201a8"
             ],
             [
              0.3333333333333333,
              "#9c179e"
             ],
             [
              0.4444444444444444,
              "#bd3786"
             ],
             [
              0.5555555555555556,
              "#d8576b"
             ],
             [
              0.6666666666666666,
              "#ed7953"
             ],
             [
              0.7777777777777778,
              "#fb9f3a"
             ],
             [
              0.8888888888888888,
              "#fdca26"
             ],
             [
              1,
              "#f0f921"
             ]
            ],
            "type": "heatmapgl"
           }
          ],
          "histogram": [
           {
            "marker": {
             "pattern": {
              "fillmode": "overlay",
              "size": 10,
              "solidity": 0.2
             }
            },
            "type": "histogram"
           }
          ],
          "histogram2d": [
           {
            "colorbar": {
             "outlinewidth": 0,
             "ticks": ""
            },
            "colorscale": [
             [
              0,
              "#0d0887"
             ],
             [
              0.1111111111111111,
              "#46039f"
             ],
             [
              0.2222222222222222,
              "#7201a8"
             ],
             [
              0.3333333333333333,
              "#9c179e"
             ],
             [
              0.4444444444444444,
              "#bd3786"
             ],
             [
              0.5555555555555556,
              "#d8576b"
             ],
             [
              0.6666666666666666,
              "#ed7953"
             ],
             [
              0.7777777777777778,
              "#fb9f3a"
             ],
             [
              0.8888888888888888,
              "#fdca26"
             ],
             [
              1,
              "#f0f921"
             ]
            ],
            "type": "histogram2d"
           }
          ],
          "histogram2dcontour": [
           {
            "colorbar": {
             "outlinewidth": 0,
             "ticks": ""
            },
            "colorscale": [
             [
              0,
              "#0d0887"
             ],
             [
              0.1111111111111111,
              "#46039f"
             ],
             [
              0.2222222222222222,
              "#7201a8"
             ],
             [
              0.3333333333333333,
              "#9c179e"
             ],
             [
              0.4444444444444444,
              "#bd3786"
             ],
             [
              0.5555555555555556,
              "#d8576b"
             ],
             [
              0.6666666666666666,
              "#ed7953"
             ],
             [
              0.7777777777777778,
              "#fb9f3a"
             ],
             [
              0.8888888888888888,
              "#fdca26"
             ],
             [
              1,
              "#f0f921"
             ]
            ],
            "type": "histogram2dcontour"
           }
          ],
          "mesh3d": [
           {
            "colorbar": {
             "outlinewidth": 0,
             "ticks": ""
            },
            "type": "mesh3d"
           }
          ],
          "parcoords": [
           {
            "line": {
             "colorbar": {
              "outlinewidth": 0,
              "ticks": ""
             }
            },
            "type": "parcoords"
           }
          ],
          "pie": [
           {
            "automargin": true,
            "type": "pie"
           }
          ],
          "scatter": [
           {
            "fillpattern": {
             "fillmode": "overlay",
             "size": 10,
             "solidity": 0.2
            },
            "type": "scatter"
           }
          ],
          "scatter3d": [
           {
            "line": {
             "colorbar": {
              "outlinewidth": 0,
              "ticks": ""
             }
            },
            "marker": {
             "colorbar": {
              "outlinewidth": 0,
              "ticks": ""
             }
            },
            "type": "scatter3d"
           }
          ],
          "scattercarpet": [
           {
            "marker": {
             "colorbar": {
              "outlinewidth": 0,
              "ticks": ""
             }
            },
            "type": "scattercarpet"
           }
          ],
          "scattergeo": [
           {
            "marker": {
             "colorbar": {
              "outlinewidth": 0,
              "ticks": ""
             }
            },
            "type": "scattergeo"
           }
          ],
          "scattergl": [
           {
            "marker": {
             "colorbar": {
              "outlinewidth": 0,
              "ticks": ""
             }
            },
            "type": "scattergl"
           }
          ],
          "scattermapbox": [
           {
            "marker": {
             "colorbar": {
              "outlinewidth": 0,
              "ticks": ""
             }
            },
            "type": "scattermapbox"
           }
          ],
          "scatterpolar": [
           {
            "marker": {
             "colorbar": {
              "outlinewidth": 0,
              "ticks": ""
             }
            },
            "type": "scatterpolar"
           }
          ],
          "scatterpolargl": [
           {
            "marker": {
             "colorbar": {
              "outlinewidth": 0,
              "ticks": ""
             }
            },
            "type": "scatterpolargl"
           }
          ],
          "scatterternary": [
           {
            "marker": {
             "colorbar": {
              "outlinewidth": 0,
              "ticks": ""
             }
            },
            "type": "scatterternary"
           }
          ],
          "surface": [
           {
            "colorbar": {
             "outlinewidth": 0,
             "ticks": ""
            },
            "colorscale": [
             [
              0,
              "#0d0887"
             ],
             [
              0.1111111111111111,
              "#46039f"
             ],
             [
              0.2222222222222222,
              "#7201a8"
             ],
             [
              0.3333333333333333,
              "#9c179e"
             ],
             [
              0.4444444444444444,
              "#bd3786"
             ],
             [
              0.5555555555555556,
              "#d8576b"
             ],
             [
              0.6666666666666666,
              "#ed7953"
             ],
             [
              0.7777777777777778,
              "#fb9f3a"
             ],
             [
              0.8888888888888888,
              "#fdca26"
             ],
             [
              1,
              "#f0f921"
             ]
            ],
            "type": "surface"
           }
          ],
          "table": [
           {
            "cells": {
             "fill": {
              "color": "#EBF0F8"
             },
             "line": {
              "color": "white"
             }
            },
            "header": {
             "fill": {
              "color": "#C8D4E3"
             },
             "line": {
              "color": "white"
             }
            },
            "type": "table"
           }
          ]
         },
         "layout": {
          "annotationdefaults": {
           "arrowcolor": "#2a3f5f",
           "arrowhead": 0,
           "arrowwidth": 1
          },
          "autotypenumbers": "strict",
          "coloraxis": {
           "colorbar": {
            "outlinewidth": 0,
            "ticks": ""
           }
          },
          "colorscale": {
           "diverging": [
            [
             0,
             "#8e0152"
            ],
            [
             0.1,
             "#c51b7d"
            ],
            [
             0.2,
             "#de77ae"
            ],
            [
             0.3,
             "#f1b6da"
            ],
            [
             0.4,
             "#fde0ef"
            ],
            [
             0.5,
             "#f7f7f7"
            ],
            [
             0.6,
             "#e6f5d0"
            ],
            [
             0.7,
             "#b8e186"
            ],
            [
             0.8,
             "#7fbc41"
            ],
            [
             0.9,
             "#4d9221"
            ],
            [
             1,
             "#276419"
            ]
           ],
           "sequential": [
            [
             0,
             "#0d0887"
            ],
            [
             0.1111111111111111,
             "#46039f"
            ],
            [
             0.2222222222222222,
             "#7201a8"
            ],
            [
             0.3333333333333333,
             "#9c179e"
            ],
            [
             0.4444444444444444,
             "#bd3786"
            ],
            [
             0.5555555555555556,
             "#d8576b"
            ],
            [
             0.6666666666666666,
             "#ed7953"
            ],
            [
             0.7777777777777778,
             "#fb9f3a"
            ],
            [
             0.8888888888888888,
             "#fdca26"
            ],
            [
             1,
             "#f0f921"
            ]
           ],
           "sequentialminus": [
            [
             0,
             "#0d0887"
            ],
            [
             0.1111111111111111,
             "#46039f"
            ],
            [
             0.2222222222222222,
             "#7201a8"
            ],
            [
             0.3333333333333333,
             "#9c179e"
            ],
            [
             0.4444444444444444,
             "#bd3786"
            ],
            [
             0.5555555555555556,
             "#d8576b"
            ],
            [
             0.6666666666666666,
             "#ed7953"
            ],
            [
             0.7777777777777778,
             "#fb9f3a"
            ],
            [
             0.8888888888888888,
             "#fdca26"
            ],
            [
             1,
             "#f0f921"
            ]
           ]
          },
          "colorway": [
           "#636efa",
           "#EF553B",
           "#00cc96",
           "#ab63fa",
           "#FFA15A",
           "#19d3f3",
           "#FF6692",
           "#B6E880",
           "#FF97FF",
           "#FECB52"
          ],
          "font": {
           "color": "#2a3f5f"
          },
          "geo": {
           "bgcolor": "white",
           "lakecolor": "white",
           "landcolor": "#E5ECF6",
           "showlakes": true,
           "showland": true,
           "subunitcolor": "white"
          },
          "hoverlabel": {
           "align": "left"
          },
          "hovermode": "closest",
          "mapbox": {
           "style": "light"
          },
          "paper_bgcolor": "white",
          "plot_bgcolor": "#E5ECF6",
          "polar": {
           "angularaxis": {
            "gridcolor": "white",
            "linecolor": "white",
            "ticks": ""
           },
           "bgcolor": "#E5ECF6",
           "radialaxis": {
            "gridcolor": "white",
            "linecolor": "white",
            "ticks": ""
           }
          },
          "scene": {
           "xaxis": {
            "backgroundcolor": "#E5ECF6",
            "gridcolor": "white",
            "gridwidth": 2,
            "linecolor": "white",
            "showbackground": true,
            "ticks": "",
            "zerolinecolor": "white"
           },
           "yaxis": {
            "backgroundcolor": "#E5ECF6",
            "gridcolor": "white",
            "gridwidth": 2,
            "linecolor": "white",
            "showbackground": true,
            "ticks": "",
            "zerolinecolor": "white"
           },
           "zaxis": {
            "backgroundcolor": "#E5ECF6",
            "gridcolor": "white",
            "gridwidth": 2,
            "linecolor": "white",
            "showbackground": true,
            "ticks": "",
            "zerolinecolor": "white"
           }
          },
          "shapedefaults": {
           "line": {
            "color": "#2a3f5f"
           }
          },
          "ternary": {
           "aaxis": {
            "gridcolor": "white",
            "linecolor": "white",
            "ticks": ""
           },
           "baxis": {
            "gridcolor": "white",
            "linecolor": "white",
            "ticks": ""
           },
           "bgcolor": "#E5ECF6",
           "caxis": {
            "gridcolor": "white",
            "linecolor": "white",
            "ticks": ""
           }
          },
          "title": {
           "x": 0.05
          },
          "xaxis": {
           "automargin": true,
           "gridcolor": "white",
           "linecolor": "white",
           "ticks": "",
           "title": {
            "standoff": 15
           },
           "zerolinecolor": "white",
           "zerolinewidth": 2
          },
          "yaxis": {
           "automargin": true,
           "gridcolor": "white",
           "linecolor": "white",
           "ticks": "",
           "title": {
            "standoff": 15
           },
           "zerolinecolor": "white",
           "zerolinewidth": 2
          }
         }
        },
        "title": {
         "text": "Varianza acumulada"
        },
        "width": 600,
        "xaxis": {
         "anchor": "y",
         "domain": [
          0,
          1
         ],
         "range": [
          1,
          8
         ],
         "title": {
          "text": "Componentes"
         }
        },
        "yaxis": {
         "anchor": "x",
         "domain": [
          0,
          1
         ],
         "title": {
          "text": "Varianza acumulada"
         }
        }
       }
      }
     },
     "metadata": {},
     "output_type": "display_data"
    }
   ],
   "source": [
    "fig = px.line(x=np.arange(1,9),y=cum_var_pc,width=600, height=500)\n",
    "fig.update_layout(\n",
    "    title = 'Varianza acumulada',\n",
    "    xaxis_title=\"Componentes\",\n",
    "    yaxis_title=\"Varianza acumulada\",\n",
    "    font=dict(\n",
    "        family=\"Courier New, monospace\",\n",
    "        size=18,  # Set the font size here\n",
    "    )\n",
    ")\n",
    "fig.update_xaxes(range=[1, 8])\n",
    "fig.show()"
   ]
  },
  {
   "cell_type": "markdown",
   "metadata": {},
   "source": [
    "### Determinar matriz de factores L, hs y Psi"
   ]
  },
  {
   "cell_type": "code",
   "execution_count": 108,
   "metadata": {},
   "outputs": [
    {
     "name": "stdout",
     "output_type": "stream",
     "text": [
      "Matriz de cargas para m=3\n",
      "\tF1\t \tF2\t \tF3\t \n",
      " [[ 0.257  0.074  0.146]\n",
      " [ 0.004  0.659  0.622]\n",
      " [ 0.668 -0.061  0.071]\n",
      " [-0.009 -0.429  0.67 ]\n",
      " [-0.175 -0.23   0.025]\n",
      " [ 0.026  0.254 -0.347]\n",
      " [ 0.16   0.477 -0.101]\n",
      " [ 0.657 -0.164 -0.079]]\n",
      "\n",
      " Comunalidades \t Varianzas Específicas\n",
      "h1^2 =  0.09\tpsi1 =  0.91\n",
      "h2^2 =  0.82\tpsi2 =  0.18\n",
      "h3^2 =  0.45\tpsi3 =  0.55\n",
      "h4^2 =  0.63\tpsi4 =  0.37\n",
      "h5^2 =  0.08\tpsi5 =  0.92\n",
      "h6^2 =  0.19\tpsi6 =  0.81\n",
      "h7^2 =  0.26\tpsi7 =  0.74\n",
      "h8^2 =  0.46\tpsi8 =  0.54\n"
     ]
    }
   ],
   "source": [
    "# Llamamos a la función de principal_comp_method\n",
    "L_mtx, hs, Psi = principal_comp_method(3,evals_s,evecs_s)\n",
    "print_info(3,len(R_mtx),L_mtx,hs)"
   ]
  },
  {
   "cell_type": "markdown",
   "metadata": {},
   "source": [
    "No son muy interpretables los factores\n",
    "- El factor 1 describe: Age, Wt, PIE\n",
    "- El factor 2 describe: Ht,PPG, APG\n",
    "- El factor 3 describe: Exp,RPG"
   ]
  },
  {
   "cell_type": "code",
   "execution_count": 109,
   "metadata": {},
   "outputs": [
    {
     "name": "stdout",
     "output_type": "stream",
     "text": [
      "\n",
      "Porcentaje que supone la comunalidad \n",
      "respecto a la varianza de cada variable. (hi^2/Var(Xi))*100%\n",
      "h1^2/var(X1)=  9.0 %\n",
      "h2^2/var(X2)=  82.0 %\n",
      "h3^2/var(X3)=  45.0 %\n",
      "h4^2/var(X4)=  63.0 %\n",
      "h5^2/var(X5)=  8.0 %\n",
      "h6^2/var(X6)=  19.0 %\n",
      "h7^2/var(X7)=  26.0 %\n",
      "h8^2/var(X8)=  46.0 %\n",
      "\n",
      "Varianza acumulada para m=3 factores y p=8 variables\n",
      "var_acum1 = 0.458669\n",
      "var_acum2 = 0.716639\n",
      "var_acum3 = 0.921288\n"
     ]
    }
   ],
   "source": [
    "print_info2(3,len(R_mtx),hs,cum_var_pc)"
   ]
  },
  {
   "cell_type": "markdown",
   "metadata": {},
   "source": [
    "### Calcular Factor Scores"
   ]
  },
  {
   "cell_type": "code",
   "execution_count": 111,
   "metadata": {},
   "outputs": [],
   "source": [
    "# Como estos datos se generaron con el método de componentes principales y estamos utilizando los\n",
    "# datos estandarizados entonces utilizamos una regresión lineal No ponderada\n",
    "f_scores = np.array([\n",
    "    np.dot(np.dot(np.linalg.inv(np.dot(L_mtx.T,L_mtx)),L_mtx.T),NumPlayers_z.loc[i]) for i in range(len(NumPlayers_z))\n",
    "])"
   ]
  },
  {
   "cell_type": "code",
   "execution_count": 112,
   "metadata": {},
   "outputs": [
    {
     "data": {
      "text/html": [
       "<div>\n",
       "<style scoped>\n",
       "    .dataframe tbody tr th:only-of-type {\n",
       "        vertical-align: middle;\n",
       "    }\n",
       "\n",
       "    .dataframe tbody tr th {\n",
       "        vertical-align: top;\n",
       "    }\n",
       "\n",
       "    .dataframe thead th {\n",
       "        text-align: right;\n",
       "    }\n",
       "</style>\n",
       "<table border=\"1\" class=\"dataframe\">\n",
       "  <thead>\n",
       "    <tr style=\"text-align: right;\">\n",
       "      <th></th>\n",
       "      <th>F1</th>\n",
       "      <th>F2</th>\n",
       "      <th>F3</th>\n",
       "      <th>Player</th>\n",
       "      <th>Team</th>\n",
       "      <th>Pos</th>\n",
       "      <th>Age</th>\n",
       "      <th>Ht</th>\n",
       "      <th>Wt</th>\n",
       "      <th>Exp</th>\n",
       "      <th>Country</th>\n",
       "      <th>PPG</th>\n",
       "      <th>RPG</th>\n",
       "      <th>APG</th>\n",
       "      <th>PIE</th>\n",
       "    </tr>\n",
       "  </thead>\n",
       "  <tbody>\n",
       "    <tr>\n",
       "      <th>0</th>\n",
       "      <td>0.744397</td>\n",
       "      <td>0.424375</td>\n",
       "      <td>-0.637466</td>\n",
       "      <td>Jayson Tatum</td>\n",
       "      <td>BOS</td>\n",
       "      <td>F-G</td>\n",
       "      <td>26</td>\n",
       "      <td>2.03</td>\n",
       "      <td>95</td>\n",
       "      <td>6</td>\n",
       "      <td>USA</td>\n",
       "      <td>26.9</td>\n",
       "      <td>8.1</td>\n",
       "      <td>4.9</td>\n",
       "      <td>15.5</td>\n",
       "    </tr>\n",
       "    <tr>\n",
       "      <th>1</th>\n",
       "      <td>0.420493</td>\n",
       "      <td>-0.424823</td>\n",
       "      <td>-0.182264</td>\n",
       "      <td>Jaylen Brown</td>\n",
       "      <td>BOS</td>\n",
       "      <td>F</td>\n",
       "      <td>27</td>\n",
       "      <td>1.98</td>\n",
       "      <td>101</td>\n",
       "      <td>7</td>\n",
       "      <td>USA</td>\n",
       "      <td>23.0</td>\n",
       "      <td>5.5</td>\n",
       "      <td>3.6</td>\n",
       "      <td>11.6</td>\n",
       "    </tr>\n",
       "    <tr>\n",
       "      <th>2</th>\n",
       "      <td>-0.520373</td>\n",
       "      <td>-0.083642</td>\n",
       "      <td>-0.648681</td>\n",
       "      <td>Derrick White</td>\n",
       "      <td>BOS</td>\n",
       "      <td>G</td>\n",
       "      <td>29</td>\n",
       "      <td>1.93</td>\n",
       "      <td>86</td>\n",
       "      <td>6</td>\n",
       "      <td>USA</td>\n",
       "      <td>15.2</td>\n",
       "      <td>4.2</td>\n",
       "      <td>5.2</td>\n",
       "      <td>10.6</td>\n",
       "    </tr>\n",
       "    <tr>\n",
       "      <th>3</th>\n",
       "      <td>0.138342</td>\n",
       "      <td>-0.775748</td>\n",
       "      <td>0.746151</td>\n",
       "      <td>Jrue Holiday</td>\n",
       "      <td>BOS</td>\n",
       "      <td>G</td>\n",
       "      <td>33</td>\n",
       "      <td>1.93</td>\n",
       "      <td>93</td>\n",
       "      <td>14</td>\n",
       "      <td>USA</td>\n",
       "      <td>12.5</td>\n",
       "      <td>5.4</td>\n",
       "      <td>4.8</td>\n",
       "      <td>9.9</td>\n",
       "    </tr>\n",
       "    <tr>\n",
       "      <th>4</th>\n",
       "      <td>1.705285</td>\n",
       "      <td>-0.290953</td>\n",
       "      <td>2.295075</td>\n",
       "      <td>Al Horford</td>\n",
       "      <td>BOS</td>\n",
       "      <td>C-F</td>\n",
       "      <td>38</td>\n",
       "      <td>2.06</td>\n",
       "      <td>109</td>\n",
       "      <td>16</td>\n",
       "      <td>DOM</td>\n",
       "      <td>8.6</td>\n",
       "      <td>6.4</td>\n",
       "      <td>2.6</td>\n",
       "      <td>10.5</td>\n",
       "    </tr>\n",
       "  </tbody>\n",
       "</table>\n",
       "</div>"
      ],
      "text/plain": [
       "         F1        F2        F3         Player Team  Pos  Age    Ht   Wt  Exp  \\\n",
       "0  0.744397  0.424375 -0.637466   Jayson Tatum  BOS  F-G   26  2.03   95    6   \n",
       "1  0.420493 -0.424823 -0.182264   Jaylen Brown  BOS    F   27  1.98  101    7   \n",
       "2 -0.520373 -0.083642 -0.648681  Derrick White  BOS    G   29  1.93   86    6   \n",
       "3  0.138342 -0.775748  0.746151   Jrue Holiday  BOS    G   33  1.93   93   14   \n",
       "4  1.705285 -0.290953  2.295075     Al Horford  BOS  C-F   38  2.06  109   16   \n",
       "\n",
       "  Country   PPG  RPG  APG   PIE  \n",
       "0     USA  26.9  8.1  4.9  15.5  \n",
       "1     USA  23.0  5.5  3.6  11.6  \n",
       "2     USA  15.2  4.2  5.2  10.6  \n",
       "3     USA  12.5  5.4  4.8   9.9  \n",
       "4     DOM   8.6  6.4  2.6  10.5  "
      ]
     },
     "execution_count": 112,
     "metadata": {},
     "output_type": "execute_result"
    }
   ],
   "source": [
    "# Se crea el dataframe para los Celtics\n",
    "f_scoresDf = pd.DataFrame(f_scores,columns=['F1','F2','F3'])\n",
    "Players.reset_index(drop=True, inplace=True)\n",
    "f_scoresDf.reset_index(drop=True,inplace=True)\n",
    "f_scoresDf = pd.concat([f_scoresDf,Players],axis=1)\n",
    "f_scoresDf.head()"
   ]
  },
  {
   "cell_type": "markdown",
   "metadata": {},
   "source": [
    "### Gráficos ilustrativos"
   ]
  },
  {
   "cell_type": "code",
   "execution_count": 121,
   "metadata": {},
   "outputs": [
    {
     "data": {
      "application/vnd.plotly.v1+json": {
       "config": {
        "plotlyServerURL": "https://plot.ly"
       },
       "data": [
        {
         "customdata": [
          [
           "Jayson Tatum",
           "BOS",
           "F-G",
           26,
           2.03,
           95,
           26.9,
           8.1,
           4.9,
           15.5
          ],
          [
           "Jaylen Brown",
           "BOS",
           "F",
           27,
           1.98,
           101,
           23,
           5.5,
           3.6,
           11.6
          ],
          [
           "Derrick White",
           "BOS",
           "G",
           29,
           1.93,
           86,
           15.2,
           4.2,
           5.2,
           10.6
          ],
          [
           "Jrue Holiday",
           "BOS",
           "G",
           33,
           1.93,
           93,
           12.5,
           5.4,
           4.8,
           9.9
          ],
          [
           "Al Horford",
           "BOS",
           "C-F",
           38,
           2.06,
           109,
           8.6,
           6.4,
           2.6,
           10.5
          ],
          [
           "Payton Pritchard",
           "BOS",
           "G",
           26,
           1.85,
           88,
           9.6,
           3.2,
           3.4,
           10.3
          ],
          [
           "Sam Hauser",
           "BOS",
           "F",
           26,
           2.01,
           98,
           9,
           3.5,
           1,
           8.6
          ],
          [
           "Kristaps Porzingis",
           "BOS",
           "F-C",
           28,
           2.18,
           109,
           20.1,
           7.2,
           2,
           13.8
          ],
          [
           "Luke Kornet",
           "BOS",
           "C-F",
           28,
           2.16,
           113,
           5.3,
           4.1,
           1.1,
           11.3
          ],
          [
           "Oshae Brissett",
           "BOS",
           "F-G",
           25,
           2.01,
           95,
           3.7,
           2.9,
           0.8,
           7.6
          ],
          [
           "Xavier Tillman",
           "BOS",
           "F",
           25,
           2.01,
           111,
           5.3,
           3.9,
           1.4,
           7.8
          ],
          [
           "Jaden Springer",
           "BOS",
           "G",
           21,
           1.93,
           92,
           3.3,
           1.6,
           0.9,
           5.5
          ],
          [
           "Svi Mykhailiuk",
           "BOS",
           "G-F",
           26,
           2.01,
           93,
           4,
           1.2,
           0.9,
           7.7
          ],
          [
           "Jordan Walsh",
           "BOS",
           "G",
           20,
           1.98,
           93,
           1.7,
           2.2,
           0.6,
           5.8
          ],
          [
           "Neemias Queta",
           "BOS",
           "C",
           24,
           2.13,
           112,
           5.5,
           4.4,
           0.7,
           12.3
          ]
         ],
         "hovertemplate": "<b style='font-size:16px; color:#000000;'> %{customdata[0]}</b><br>Team: %{customdata[1]}<br>Position: %{customdata[2]}<br>Age: %{customdata[3]} years<br>Height: %{customdata[4]} m<br>Weight: %{customdata[5]} kg<br>PPG: %{customdata[6]}<br>RPG: %{customdata[7]}<br>APG: %{customdata[8]}<br>PIE: %{customdata[9]}<br><extra></extra>",
         "legendgroup": "BOS",
         "marker": {
          "color": "#636efa",
          "size": 20,
          "symbol": "circle"
         },
         "mode": "markers+text",
         "name": "BOS",
         "orientation": "v",
         "showlegend": true,
         "text": [
          "Jayson Tatum",
          "Jaylen Brown",
          "Derrick White",
          "Jrue Holiday",
          "Al Horford",
          "Payton Pritchard",
          "Sam Hauser",
          "Kristaps Porzingis",
          "Luke Kornet",
          "Oshae Brissett",
          "Xavier Tillman",
          "Jaden Springer",
          "Svi Mykhailiuk",
          "Jordan Walsh",
          "Neemias Queta"
         ],
         "textfont": {
          "size": 14
         },
         "textposition": "bottom center",
         "type": "scatter",
         "x": [
          0.7443967823916131,
          0.42049274775577905,
          -0.5203727960800377,
          0.1383415427856464,
          1.7052847060473724,
          -0.6418334660958399,
          -0.38802219099386603,
          1.4995945491101672,
          1.5127596789975093,
          -0.7917718449237453,
          0.49343644148650795,
          -1.6857812143112079,
          -0.8845953682576635,
          -1.5850955998377116,
          1.3698714732689656
         ],
         "xaxis": "x",
         "y": [
          0.42437506159887317,
          -0.4248228203776328,
          -0.08364205601410812,
          -0.775748290795611,
          -0.2909532988694623,
          -0.8342010760738788,
          0.0636094840475205,
          0.943896917417523,
          0.8267271418092864,
          -0.07034632661892362,
          0.13550242126983977,
          -0.5595748879673801,
          -0.34484552174951166,
          0.06947631595029108,
          0.847121960575667
         ],
         "yaxis": "y"
        },
        {
         "customdata": [
          [
           "Luka Doncic",
           "DAL",
           "F-G",
           25,
           2.01,
           104,
           33.9,
           9.2,
           9.8,
           20
          ],
          [
           "Kyrie Irving",
           "DAL",
           "G",
           32,
           1.88,
           88,
           25.6,
           5,
           5.2,
           14.4
          ],
          [
           "P.J. Washington",
           "DAL",
           "F",
           25,
           2.01,
           104,
           12.9,
           5.6,
           1.9,
           7.9
          ],
          [
           "Derrick Jones Jr.",
           "DAL",
           "F",
           27,
           1.98,
           95,
           8.6,
           3.3,
           1,
           6.8
          ],
          [
           "Daniel Gafford",
           "DAL",
           "F-C",
           25,
           2.08,
           106,
           11,
           7.6,
           1.6,
           12.1
          ],
          [
           "Dereck Lively II",
           "DAL",
           "C",
           20,
           2.16,
           104,
           8.8,
           6.9,
           1.1,
           10.2
          ],
          [
           "Josh Green",
           "DAL",
           "G",
           23,
           1.96,
           91,
           8.2,
           3.2,
           2.3,
           6.3
          ],
          [
           "Jaden Hardy",
           "DAL",
           "G",
           21,
           1.91,
           90,
           7.3,
           1.8,
           1.5,
           8.1
          ],
          [
           "Tim Hardaway Jr.",
           "DAL",
           "G-F",
           32,
           1.96,
           93,
           14.4,
           3.2,
           1.8,
           8.3
          ],
          [
           "Maxi Kleber",
           "DAL",
           "F",
           32,
           2.08,
           109,
           4.4,
           3.3,
           1.6,
           5.7
          ],
          [
           "Dante Exum",
           "DAL",
           "G",
           28,
           1.96,
           97,
           7.8,
           2.7,
           2.9,
           9.3
          ],
          [
           "A.J. Lawson",
           "DAL",
           "G",
           23,
           1.98,
           81,
           3.2,
           1.2,
           0.5,
           7.6
          ],
          [
           "Dwight Powell",
           "DAL",
           "F-C",
           32,
           2.08,
           109,
           3.3,
           3.4,
           1.3,
           7.9
          ]
         ],
         "hovertemplate": "<b style='font-size:16px; color:#000000;'> %{customdata[0]}</b><br>Team: %{customdata[1]}<br>Position: %{customdata[2]}<br>Age: %{customdata[3]} years<br>Height: %{customdata[4]} m<br>Weight: %{customdata[5]} kg<br>PPG: %{customdata[6]}<br>RPG: %{customdata[7]}<br>APG: %{customdata[8]}<br>PIE: %{customdata[9]}<br><extra></extra>",
         "legendgroup": "DAL",
         "marker": {
          "color": "#EF553B",
          "size": 20,
          "symbol": "circle"
         },
         "mode": "markers+text",
         "name": "DAL",
         "orientation": "v",
         "showlegend": true,
         "text": [
          "Luka Doncic",
          "Kyrie Irving",
          "P.J. Washington",
          "Derrick Jones Jr.",
          "Daniel Gafford",
          "Dereck Lively II",
          "Josh Green",
          "Jaden Hardy",
          "Tim Hardaway Jr.",
          "Maxi Kleber",
          "Dante Exum",
          "A.J. Lawson",
          "Dwight Powell"
         ],
         "textfont": {
          "size": 14
         },
         "textposition": "bottom center",
         "type": "scatter",
         "x": [
          2.527262001171864,
          0.349356582673542,
          -0.12560449045144428,
          -0.924830048479913,
          0.9186548906702385,
          0.09055178342683473,
          -1.455150253613859,
          -1.348982652123757,
          -0.5409766986441524,
          0.3688661859093071,
          -0.04550902654495592,
          -2.0072960978787555,
          0.8069523825415534
         ],
         "xaxis": "x",
         "y": [
          1.1564572741457937,
          -1.496880076780701,
          0.17582418960372231,
          -0.609503543409727,
          0.7385432581887332,
          1.701579810983435,
          -0.042405851667648375,
          -0.6763207101836652,
          -1.0625026376493583,
          0.6113787770679497,
          -0.3839994554936352,
          -0.1829508146021322,
          0.14420475559479262
         ],
         "yaxis": "y"
        }
       ],
       "layout": {
        "font": {
         "family": "Courier New, monospace",
         "size": 18
        },
        "height": 700,
        "legend": {
         "title": {
          "text": "Team"
         },
         "tracegroupgap": 0
        },
        "margin": {
         "t": 60
        },
        "template": {
         "data": {
          "bar": [
           {
            "error_x": {
             "color": "#2a3f5f"
            },
            "error_y": {
             "color": "#2a3f5f"
            },
            "marker": {
             "line": {
              "color": "#E5ECF6",
              "width": 0.5
             },
             "pattern": {
              "fillmode": "overlay",
              "size": 10,
              "solidity": 0.2
             }
            },
            "type": "bar"
           }
          ],
          "barpolar": [
           {
            "marker": {
             "line": {
              "color": "#E5ECF6",
              "width": 0.5
             },
             "pattern": {
              "fillmode": "overlay",
              "size": 10,
              "solidity": 0.2
             }
            },
            "type": "barpolar"
           }
          ],
          "carpet": [
           {
            "aaxis": {
             "endlinecolor": "#2a3f5f",
             "gridcolor": "white",
             "linecolor": "white",
             "minorgridcolor": "white",
             "startlinecolor": "#2a3f5f"
            },
            "baxis": {
             "endlinecolor": "#2a3f5f",
             "gridcolor": "white",
             "linecolor": "white",
             "minorgridcolor": "white",
             "startlinecolor": "#2a3f5f"
            },
            "type": "carpet"
           }
          ],
          "choropleth": [
           {
            "colorbar": {
             "outlinewidth": 0,
             "ticks": ""
            },
            "type": "choropleth"
           }
          ],
          "contour": [
           {
            "colorbar": {
             "outlinewidth": 0,
             "ticks": ""
            },
            "colorscale": [
             [
              0,
              "#0d0887"
             ],
             [
              0.1111111111111111,
              "#46039f"
             ],
             [
              0.2222222222222222,
              "#7201a8"
             ],
             [
              0.3333333333333333,
              "#9c179e"
             ],
             [
              0.4444444444444444,
              "#bd3786"
             ],
             [
              0.5555555555555556,
              "#d8576b"
             ],
             [
              0.6666666666666666,
              "#ed7953"
             ],
             [
              0.7777777777777778,
              "#fb9f3a"
             ],
             [
              0.8888888888888888,
              "#fdca26"
             ],
             [
              1,
              "#f0f921"
             ]
            ],
            "type": "contour"
           }
          ],
          "contourcarpet": [
           {
            "colorbar": {
             "outlinewidth": 0,
             "ticks": ""
            },
            "type": "contourcarpet"
           }
          ],
          "heatmap": [
           {
            "colorbar": {
             "outlinewidth": 0,
             "ticks": ""
            },
            "colorscale": [
             [
              0,
              "#0d0887"
             ],
             [
              0.1111111111111111,
              "#46039f"
             ],
             [
              0.2222222222222222,
              "#7201a8"
             ],
             [
              0.3333333333333333,
              "#9c179e"
             ],
             [
              0.4444444444444444,
              "#bd3786"
             ],
             [
              0.5555555555555556,
              "#d8576b"
             ],
             [
              0.6666666666666666,
              "#ed7953"
             ],
             [
              0.7777777777777778,
              "#fb9f3a"
             ],
             [
              0.8888888888888888,
              "#fdca26"
             ],
             [
              1,
              "#f0f921"
             ]
            ],
            "type": "heatmap"
           }
          ],
          "heatmapgl": [
           {
            "colorbar": {
             "outlinewidth": 0,
             "ticks": ""
            },
            "colorscale": [
             [
              0,
              "#0d0887"
             ],
             [
              0.1111111111111111,
              "#46039f"
             ],
             [
              0.2222222222222222,
              "#7201a8"
             ],
             [
              0.3333333333333333,
              "#9c179e"
             ],
             [
              0.4444444444444444,
              "#bd3786"
             ],
             [
              0.5555555555555556,
              "#d8576b"
             ],
             [
              0.6666666666666666,
              "#ed7953"
             ],
             [
              0.7777777777777778,
              "#fb9f3a"
             ],
             [
              0.8888888888888888,
              "#fdca26"
             ],
             [
              1,
              "#f0f921"
             ]
            ],
            "type": "heatmapgl"
           }
          ],
          "histogram": [
           {
            "marker": {
             "pattern": {
              "fillmode": "overlay",
              "size": 10,
              "solidity": 0.2
             }
            },
            "type": "histogram"
           }
          ],
          "histogram2d": [
           {
            "colorbar": {
             "outlinewidth": 0,
             "ticks": ""
            },
            "colorscale": [
             [
              0,
              "#0d0887"
             ],
             [
              0.1111111111111111,
              "#46039f"
             ],
             [
              0.2222222222222222,
              "#7201a8"
             ],
             [
              0.3333333333333333,
              "#9c179e"
             ],
             [
              0.4444444444444444,
              "#bd3786"
             ],
             [
              0.5555555555555556,
              "#d8576b"
             ],
             [
              0.6666666666666666,
              "#ed7953"
             ],
             [
              0.7777777777777778,
              "#fb9f3a"
             ],
             [
              0.8888888888888888,
              "#fdca26"
             ],
             [
              1,
              "#f0f921"
             ]
            ],
            "type": "histogram2d"
           }
          ],
          "histogram2dcontour": [
           {
            "colorbar": {
             "outlinewidth": 0,
             "ticks": ""
            },
            "colorscale": [
             [
              0,
              "#0d0887"
             ],
             [
              0.1111111111111111,
              "#46039f"
             ],
             [
              0.2222222222222222,
              "#7201a8"
             ],
             [
              0.3333333333333333,
              "#9c179e"
             ],
             [
              0.4444444444444444,
              "#bd3786"
             ],
             [
              0.5555555555555556,
              "#d8576b"
             ],
             [
              0.6666666666666666,
              "#ed7953"
             ],
             [
              0.7777777777777778,
              "#fb9f3a"
             ],
             [
              0.8888888888888888,
              "#fdca26"
             ],
             [
              1,
              "#f0f921"
             ]
            ],
            "type": "histogram2dcontour"
           }
          ],
          "mesh3d": [
           {
            "colorbar": {
             "outlinewidth": 0,
             "ticks": ""
            },
            "type": "mesh3d"
           }
          ],
          "parcoords": [
           {
            "line": {
             "colorbar": {
              "outlinewidth": 0,
              "ticks": ""
             }
            },
            "type": "parcoords"
           }
          ],
          "pie": [
           {
            "automargin": true,
            "type": "pie"
           }
          ],
          "scatter": [
           {
            "fillpattern": {
             "fillmode": "overlay",
             "size": 10,
             "solidity": 0.2
            },
            "type": "scatter"
           }
          ],
          "scatter3d": [
           {
            "line": {
             "colorbar": {
              "outlinewidth": 0,
              "ticks": ""
             }
            },
            "marker": {
             "colorbar": {
              "outlinewidth": 0,
              "ticks": ""
             }
            },
            "type": "scatter3d"
           }
          ],
          "scattercarpet": [
           {
            "marker": {
             "colorbar": {
              "outlinewidth": 0,
              "ticks": ""
             }
            },
            "type": "scattercarpet"
           }
          ],
          "scattergeo": [
           {
            "marker": {
             "colorbar": {
              "outlinewidth": 0,
              "ticks": ""
             }
            },
            "type": "scattergeo"
           }
          ],
          "scattergl": [
           {
            "marker": {
             "colorbar": {
              "outlinewidth": 0,
              "ticks": ""
             }
            },
            "type": "scattergl"
           }
          ],
          "scattermapbox": [
           {
            "marker": {
             "colorbar": {
              "outlinewidth": 0,
              "ticks": ""
             }
            },
            "type": "scattermapbox"
           }
          ],
          "scatterpolar": [
           {
            "marker": {
             "colorbar": {
              "outlinewidth": 0,
              "ticks": ""
             }
            },
            "type": "scatterpolar"
           }
          ],
          "scatterpolargl": [
           {
            "marker": {
             "colorbar": {
              "outlinewidth": 0,
              "ticks": ""
             }
            },
            "type": "scatterpolargl"
           }
          ],
          "scatterternary": [
           {
            "marker": {
             "colorbar": {
              "outlinewidth": 0,
              "ticks": ""
             }
            },
            "type": "scatterternary"
           }
          ],
          "surface": [
           {
            "colorbar": {
             "outlinewidth": 0,
             "ticks": ""
            },
            "colorscale": [
             [
              0,
              "#0d0887"
             ],
             [
              0.1111111111111111,
              "#46039f"
             ],
             [
              0.2222222222222222,
              "#7201a8"
             ],
             [
              0.3333333333333333,
              "#9c179e"
             ],
             [
              0.4444444444444444,
              "#bd3786"
             ],
             [
              0.5555555555555556,
              "#d8576b"
             ],
             [
              0.6666666666666666,
              "#ed7953"
             ],
             [
              0.7777777777777778,
              "#fb9f3a"
             ],
             [
              0.8888888888888888,
              "#fdca26"
             ],
             [
              1,
              "#f0f921"
             ]
            ],
            "type": "surface"
           }
          ],
          "table": [
           {
            "cells": {
             "fill": {
              "color": "#EBF0F8"
             },
             "line": {
              "color": "white"
             }
            },
            "header": {
             "fill": {
              "color": "#C8D4E3"
             },
             "line": {
              "color": "white"
             }
            },
            "type": "table"
           }
          ]
         },
         "layout": {
          "annotationdefaults": {
           "arrowcolor": "#2a3f5f",
           "arrowhead": 0,
           "arrowwidth": 1
          },
          "autotypenumbers": "strict",
          "coloraxis": {
           "colorbar": {
            "outlinewidth": 0,
            "ticks": ""
           }
          },
          "colorscale": {
           "diverging": [
            [
             0,
             "#8e0152"
            ],
            [
             0.1,
             "#c51b7d"
            ],
            [
             0.2,
             "#de77ae"
            ],
            [
             0.3,
             "#f1b6da"
            ],
            [
             0.4,
             "#fde0ef"
            ],
            [
             0.5,
             "#f7f7f7"
            ],
            [
             0.6,
             "#e6f5d0"
            ],
            [
             0.7,
             "#b8e186"
            ],
            [
             0.8,
             "#7fbc41"
            ],
            [
             0.9,
             "#4d9221"
            ],
            [
             1,
             "#276419"
            ]
           ],
           "sequential": [
            [
             0,
             "#0d0887"
            ],
            [
             0.1111111111111111,
             "#46039f"
            ],
            [
             0.2222222222222222,
             "#7201a8"
            ],
            [
             0.3333333333333333,
             "#9c179e"
            ],
            [
             0.4444444444444444,
             "#bd3786"
            ],
            [
             0.5555555555555556,
             "#d8576b"
            ],
            [
             0.6666666666666666,
             "#ed7953"
            ],
            [
             0.7777777777777778,
             "#fb9f3a"
            ],
            [
             0.8888888888888888,
             "#fdca26"
            ],
            [
             1,
             "#f0f921"
            ]
           ],
           "sequentialminus": [
            [
             0,
             "#0d0887"
            ],
            [
             0.1111111111111111,
             "#46039f"
            ],
            [
             0.2222222222222222,
             "#7201a8"
            ],
            [
             0.3333333333333333,
             "#9c179e"
            ],
            [
             0.4444444444444444,
             "#bd3786"
            ],
            [
             0.5555555555555556,
             "#d8576b"
            ],
            [
             0.6666666666666666,
             "#ed7953"
            ],
            [
             0.7777777777777778,
             "#fb9f3a"
            ],
            [
             0.8888888888888888,
             "#fdca26"
            ],
            [
             1,
             "#f0f921"
            ]
           ]
          },
          "colorway": [
           "#636efa",
           "#EF553B",
           "#00cc96",
           "#ab63fa",
           "#FFA15A",
           "#19d3f3",
           "#FF6692",
           "#B6E880",
           "#FF97FF",
           "#FECB52"
          ],
          "font": {
           "color": "#2a3f5f"
          },
          "geo": {
           "bgcolor": "white",
           "lakecolor": "white",
           "landcolor": "#E5ECF6",
           "showlakes": true,
           "showland": true,
           "subunitcolor": "white"
          },
          "hoverlabel": {
           "align": "left"
          },
          "hovermode": "closest",
          "mapbox": {
           "style": "light"
          },
          "paper_bgcolor": "white",
          "plot_bgcolor": "#E5ECF6",
          "polar": {
           "angularaxis": {
            "gridcolor": "white",
            "linecolor": "white",
            "ticks": ""
           },
           "bgcolor": "#E5ECF6",
           "radialaxis": {
            "gridcolor": "white",
            "linecolor": "white",
            "ticks": ""
           }
          },
          "scene": {
           "xaxis": {
            "backgroundcolor": "#E5ECF6",
            "gridcolor": "white",
            "gridwidth": 2,
            "linecolor": "white",
            "showbackground": true,
            "ticks": "",
            "zerolinecolor": "white"
           },
           "yaxis": {
            "backgroundcolor": "#E5ECF6",
            "gridcolor": "white",
            "gridwidth": 2,
            "linecolor": "white",
            "showbackground": true,
            "ticks": "",
            "zerolinecolor": "white"
           },
           "zaxis": {
            "backgroundcolor": "#E5ECF6",
            "gridcolor": "white",
            "gridwidth": 2,
            "linecolor": "white",
            "showbackground": true,
            "ticks": "",
            "zerolinecolor": "white"
           }
          },
          "shapedefaults": {
           "line": {
            "color": "#2a3f5f"
           }
          },
          "ternary": {
           "aaxis": {
            "gridcolor": "white",
            "linecolor": "white",
            "ticks": ""
           },
           "baxis": {
            "gridcolor": "white",
            "linecolor": "white",
            "ticks": ""
           },
           "bgcolor": "#E5ECF6",
           "caxis": {
            "gridcolor": "white",
            "linecolor": "white",
            "ticks": ""
           }
          },
          "title": {
           "x": 0.05
          },
          "xaxis": {
           "automargin": true,
           "gridcolor": "white",
           "linecolor": "white",
           "ticks": "",
           "title": {
            "standoff": 15
           },
           "zerolinecolor": "white",
           "zerolinewidth": 2
          },
          "yaxis": {
           "automargin": true,
           "gridcolor": "white",
           "linecolor": "white",
           "ticks": "",
           "title": {
            "standoff": 15
           },
           "zerolinecolor": "white",
           "zerolinewidth": 2
          }
         }
        },
        "title": {
         "text": "Proyección de Jugadores"
        },
        "width": 800,
        "xaxis": {
         "anchor": "y",
         "domain": [
          0,
          1
         ],
         "title": {
          "text": "Age, Wt y PIE"
         }
        },
        "yaxis": {
         "anchor": "x",
         "domain": [
          0,
          1
         ],
         "title": {
          "text": "Ht, PPG y APG"
         }
        }
       }
      }
     },
     "metadata": {},
     "output_type": "display_data"
    }
   ],
   "source": [
    "plot_FA(f_scoresDf,'F1','F2',['Age, Wt y PIE','Ht, PPG y APG'],'Player','Team','Team')"
   ]
  },
  {
   "cell_type": "code",
   "execution_count": 122,
   "metadata": {},
   "outputs": [
    {
     "data": {
      "application/vnd.plotly.v1+json": {
       "config": {
        "plotlyServerURL": "https://plot.ly"
       },
       "data": [
        {
         "customdata": [
          [
           "Jayson Tatum",
           "BOS",
           "F-G",
           26,
           2.03,
           95,
           26.9,
           8.1,
           4.9,
           15.5
          ],
          [
           "Oshae Brissett",
           "BOS",
           "F-G",
           25,
           2.01,
           95,
           3.7,
           2.9,
           0.8,
           7.6
          ],
          [
           "Luka Doncic",
           "DAL",
           "F-G",
           25,
           2.01,
           104,
           33.9,
           9.2,
           9.8,
           20
          ]
         ],
         "hovertemplate": "<b style='font-size:16px; color:#000000;'> %{customdata[0]}</b><br>Team: %{customdata[1]}<br>Position: %{customdata[2]}<br>Age: %{customdata[3]} years<br>Height: %{customdata[4]} m<br>Weight: %{customdata[5]} kg<br>PPG: %{customdata[6]}<br>RPG: %{customdata[7]}<br>APG: %{customdata[8]}<br>PIE: %{customdata[9]}<br><extra></extra>",
         "legendgroup": "F-G",
         "marker": {
          "color": "#636efa",
          "size": 20,
          "symbol": "circle"
         },
         "mode": "markers+text",
         "name": "F-G",
         "orientation": "v",
         "showlegend": true,
         "text": [
          "Jayson Tatum",
          "Oshae Brissett",
          "Luka Doncic"
         ],
         "textfont": {
          "size": 14
         },
         "textposition": "bottom center",
         "type": "scatter",
         "x": [
          0.7443967823916131,
          -0.7917718449237453,
          2.527262001171864
         ],
         "xaxis": "x",
         "y": [
          0.42437506159887317,
          -0.07034632661892362,
          1.1564572741457937
         ],
         "yaxis": "y"
        },
        {
         "customdata": [
          [
           "Jaylen Brown",
           "BOS",
           "F",
           27,
           1.98,
           101,
           23,
           5.5,
           3.6,
           11.6
          ],
          [
           "Sam Hauser",
           "BOS",
           "F",
           26,
           2.01,
           98,
           9,
           3.5,
           1,
           8.6
          ],
          [
           "Xavier Tillman",
           "BOS",
           "F",
           25,
           2.01,
           111,
           5.3,
           3.9,
           1.4,
           7.8
          ],
          [
           "P.J. Washington",
           "DAL",
           "F",
           25,
           2.01,
           104,
           12.9,
           5.6,
           1.9,
           7.9
          ],
          [
           "Derrick Jones Jr.",
           "DAL",
           "F",
           27,
           1.98,
           95,
           8.6,
           3.3,
           1,
           6.8
          ],
          [
           "Maxi Kleber",
           "DAL",
           "F",
           32,
           2.08,
           109,
           4.4,
           3.3,
           1.6,
           5.7
          ]
         ],
         "hovertemplate": "<b style='font-size:16px; color:#000000;'> %{customdata[0]}</b><br>Team: %{customdata[1]}<br>Position: %{customdata[2]}<br>Age: %{customdata[3]} years<br>Height: %{customdata[4]} m<br>Weight: %{customdata[5]} kg<br>PPG: %{customdata[6]}<br>RPG: %{customdata[7]}<br>APG: %{customdata[8]}<br>PIE: %{customdata[9]}<br><extra></extra>",
         "legendgroup": "F",
         "marker": {
          "color": "#EF553B",
          "size": 20,
          "symbol": "circle"
         },
         "mode": "markers+text",
         "name": "F",
         "orientation": "v",
         "showlegend": true,
         "text": [
          "Jaylen Brown",
          "Sam Hauser",
          "Xavier Tillman",
          "P.J. Washington",
          "Derrick Jones Jr.",
          "Maxi Kleber"
         ],
         "textfont": {
          "size": 14
         },
         "textposition": "bottom center",
         "type": "scatter",
         "x": [
          0.42049274775577905,
          -0.38802219099386603,
          0.49343644148650795,
          -0.12560449045144428,
          -0.924830048479913,
          0.3688661859093071
         ],
         "xaxis": "x",
         "y": [
          -0.4248228203776328,
          0.0636094840475205,
          0.13550242126983977,
          0.17582418960372231,
          -0.609503543409727,
          0.6113787770679497
         ],
         "yaxis": "y"
        },
        {
         "customdata": [
          [
           "Derrick White",
           "BOS",
           "G",
           29,
           1.93,
           86,
           15.2,
           4.2,
           5.2,
           10.6
          ],
          [
           "Jrue Holiday",
           "BOS",
           "G",
           33,
           1.93,
           93,
           12.5,
           5.4,
           4.8,
           9.9
          ],
          [
           "Payton Pritchard",
           "BOS",
           "G",
           26,
           1.85,
           88,
           9.6,
           3.2,
           3.4,
           10.3
          ],
          [
           "Jaden Springer",
           "BOS",
           "G",
           21,
           1.93,
           92,
           3.3,
           1.6,
           0.9,
           5.5
          ],
          [
           "Jordan Walsh",
           "BOS",
           "G",
           20,
           1.98,
           93,
           1.7,
           2.2,
           0.6,
           5.8
          ],
          [
           "Kyrie Irving",
           "DAL",
           "G",
           32,
           1.88,
           88,
           25.6,
           5,
           5.2,
           14.4
          ],
          [
           "Josh Green",
           "DAL",
           "G",
           23,
           1.96,
           91,
           8.2,
           3.2,
           2.3,
           6.3
          ],
          [
           "Jaden Hardy",
           "DAL",
           "G",
           21,
           1.91,
           90,
           7.3,
           1.8,
           1.5,
           8.1
          ],
          [
           "Dante Exum",
           "DAL",
           "G",
           28,
           1.96,
           97,
           7.8,
           2.7,
           2.9,
           9.3
          ],
          [
           "A.J. Lawson",
           "DAL",
           "G",
           23,
           1.98,
           81,
           3.2,
           1.2,
           0.5,
           7.6
          ]
         ],
         "hovertemplate": "<b style='font-size:16px; color:#000000;'> %{customdata[0]}</b><br>Team: %{customdata[1]}<br>Position: %{customdata[2]}<br>Age: %{customdata[3]} years<br>Height: %{customdata[4]} m<br>Weight: %{customdata[5]} kg<br>PPG: %{customdata[6]}<br>RPG: %{customdata[7]}<br>APG: %{customdata[8]}<br>PIE: %{customdata[9]}<br><extra></extra>",
         "legendgroup": "G",
         "marker": {
          "color": "#00cc96",
          "size": 20,
          "symbol": "circle"
         },
         "mode": "markers+text",
         "name": "G",
         "orientation": "v",
         "showlegend": true,
         "text": [
          "Derrick White",
          "Jrue Holiday",
          "Payton Pritchard",
          "Jaden Springer",
          "Jordan Walsh",
          "Kyrie Irving",
          "Josh Green",
          "Jaden Hardy",
          "Dante Exum",
          "A.J. Lawson"
         ],
         "textfont": {
          "size": 14
         },
         "textposition": "bottom center",
         "type": "scatter",
         "x": [
          -0.5203727960800377,
          0.1383415427856464,
          -0.6418334660958399,
          -1.6857812143112079,
          -1.5850955998377116,
          0.349356582673542,
          -1.455150253613859,
          -1.348982652123757,
          -0.04550902654495592,
          -2.0072960978787555
         ],
         "xaxis": "x",
         "y": [
          -0.08364205601410812,
          -0.775748290795611,
          -0.8342010760738788,
          -0.5595748879673801,
          0.06947631595029108,
          -1.496880076780701,
          -0.042405851667648375,
          -0.6763207101836652,
          -0.3839994554936352,
          -0.1829508146021322
         ],
         "yaxis": "y"
        },
        {
         "customdata": [
          [
           "Al Horford",
           "BOS",
           "C-F",
           38,
           2.06,
           109,
           8.6,
           6.4,
           2.6,
           10.5
          ],
          [
           "Luke Kornet",
           "BOS",
           "C-F",
           28,
           2.16,
           113,
           5.3,
           4.1,
           1.1,
           11.3
          ]
         ],
         "hovertemplate": "<b style='font-size:16px; color:#000000;'> %{customdata[0]}</b><br>Team: %{customdata[1]}<br>Position: %{customdata[2]}<br>Age: %{customdata[3]} years<br>Height: %{customdata[4]} m<br>Weight: %{customdata[5]} kg<br>PPG: %{customdata[6]}<br>RPG: %{customdata[7]}<br>APG: %{customdata[8]}<br>PIE: %{customdata[9]}<br><extra></extra>",
         "legendgroup": "C-F",
         "marker": {
          "color": "#ab63fa",
          "size": 20,
          "symbol": "circle"
         },
         "mode": "markers+text",
         "name": "C-F",
         "orientation": "v",
         "showlegend": true,
         "text": [
          "Al Horford",
          "Luke Kornet"
         ],
         "textfont": {
          "size": 14
         },
         "textposition": "bottom center",
         "type": "scatter",
         "x": [
          1.7052847060473724,
          1.5127596789975093
         ],
         "xaxis": "x",
         "y": [
          -0.2909532988694623,
          0.8267271418092864
         ],
         "yaxis": "y"
        },
        {
         "customdata": [
          [
           "Kristaps Porzingis",
           "BOS",
           "F-C",
           28,
           2.18,
           109,
           20.1,
           7.2,
           2,
           13.8
          ],
          [
           "Daniel Gafford",
           "DAL",
           "F-C",
           25,
           2.08,
           106,
           11,
           7.6,
           1.6,
           12.1
          ],
          [
           "Dwight Powell",
           "DAL",
           "F-C",
           32,
           2.08,
           109,
           3.3,
           3.4,
           1.3,
           7.9
          ]
         ],
         "hovertemplate": "<b style='font-size:16px; color:#000000;'> %{customdata[0]}</b><br>Team: %{customdata[1]}<br>Position: %{customdata[2]}<br>Age: %{customdata[3]} years<br>Height: %{customdata[4]} m<br>Weight: %{customdata[5]} kg<br>PPG: %{customdata[6]}<br>RPG: %{customdata[7]}<br>APG: %{customdata[8]}<br>PIE: %{customdata[9]}<br><extra></extra>",
         "legendgroup": "F-C",
         "marker": {
          "color": "#FFA15A",
          "size": 20,
          "symbol": "circle"
         },
         "mode": "markers+text",
         "name": "F-C",
         "orientation": "v",
         "showlegend": true,
         "text": [
          "Kristaps Porzingis",
          "Daniel Gafford",
          "Dwight Powell"
         ],
         "textfont": {
          "size": 14
         },
         "textposition": "bottom center",
         "type": "scatter",
         "x": [
          1.4995945491101672,
          0.9186548906702385,
          0.8069523825415534
         ],
         "xaxis": "x",
         "y": [
          0.943896917417523,
          0.7385432581887332,
          0.14420475559479262
         ],
         "yaxis": "y"
        },
        {
         "customdata": [
          [
           "Svi Mykhailiuk",
           "BOS",
           "G-F",
           26,
           2.01,
           93,
           4,
           1.2,
           0.9,
           7.7
          ],
          [
           "Tim Hardaway Jr.",
           "DAL",
           "G-F",
           32,
           1.96,
           93,
           14.4,
           3.2,
           1.8,
           8.3
          ]
         ],
         "hovertemplate": "<b style='font-size:16px; color:#000000;'> %{customdata[0]}</b><br>Team: %{customdata[1]}<br>Position: %{customdata[2]}<br>Age: %{customdata[3]} years<br>Height: %{customdata[4]} m<br>Weight: %{customdata[5]} kg<br>PPG: %{customdata[6]}<br>RPG: %{customdata[7]}<br>APG: %{customdata[8]}<br>PIE: %{customdata[9]}<br><extra></extra>",
         "legendgroup": "G-F",
         "marker": {
          "color": "#19d3f3",
          "size": 20,
          "symbol": "circle"
         },
         "mode": "markers+text",
         "name": "G-F",
         "orientation": "v",
         "showlegend": true,
         "text": [
          "Svi Mykhailiuk",
          "Tim Hardaway Jr."
         ],
         "textfont": {
          "size": 14
         },
         "textposition": "bottom center",
         "type": "scatter",
         "x": [
          -0.8845953682576635,
          -0.5409766986441524
         ],
         "xaxis": "x",
         "y": [
          -0.34484552174951166,
          -1.0625026376493583
         ],
         "yaxis": "y"
        },
        {
         "customdata": [
          [
           "Neemias Queta",
           "BOS",
           "C",
           24,
           2.13,
           112,
           5.5,
           4.4,
           0.7,
           12.3
          ],
          [
           "Dereck Lively II",
           "DAL",
           "C",
           20,
           2.16,
           104,
           8.8,
           6.9,
           1.1,
           10.2
          ]
         ],
         "hovertemplate": "<b style='font-size:16px; color:#000000;'> %{customdata[0]}</b><br>Team: %{customdata[1]}<br>Position: %{customdata[2]}<br>Age: %{customdata[3]} years<br>Height: %{customdata[4]} m<br>Weight: %{customdata[5]} kg<br>PPG: %{customdata[6]}<br>RPG: %{customdata[7]}<br>APG: %{customdata[8]}<br>PIE: %{customdata[9]}<br><extra></extra>",
         "legendgroup": "C",
         "marker": {
          "color": "#FF6692",
          "size": 20,
          "symbol": "circle"
         },
         "mode": "markers+text",
         "name": "C",
         "orientation": "v",
         "showlegend": true,
         "text": [
          "Neemias Queta",
          "Dereck Lively II"
         ],
         "textfont": {
          "size": 14
         },
         "textposition": "bottom center",
         "type": "scatter",
         "x": [
          1.3698714732689656,
          0.09055178342683473
         ],
         "xaxis": "x",
         "y": [
          0.847121960575667,
          1.701579810983435
         ],
         "yaxis": "y"
        }
       ],
       "layout": {
        "font": {
         "family": "Courier New, monospace",
         "size": 18
        },
        "height": 700,
        "legend": {
         "title": {
          "text": "Position"
         },
         "tracegroupgap": 0
        },
        "margin": {
         "t": 60
        },
        "template": {
         "data": {
          "bar": [
           {
            "error_x": {
             "color": "#2a3f5f"
            },
            "error_y": {
             "color": "#2a3f5f"
            },
            "marker": {
             "line": {
              "color": "#E5ECF6",
              "width": 0.5
             },
             "pattern": {
              "fillmode": "overlay",
              "size": 10,
              "solidity": 0.2
             }
            },
            "type": "bar"
           }
          ],
          "barpolar": [
           {
            "marker": {
             "line": {
              "color": "#E5ECF6",
              "width": 0.5
             },
             "pattern": {
              "fillmode": "overlay",
              "size": 10,
              "solidity": 0.2
             }
            },
            "type": "barpolar"
           }
          ],
          "carpet": [
           {
            "aaxis": {
             "endlinecolor": "#2a3f5f",
             "gridcolor": "white",
             "linecolor": "white",
             "minorgridcolor": "white",
             "startlinecolor": "#2a3f5f"
            },
            "baxis": {
             "endlinecolor": "#2a3f5f",
             "gridcolor": "white",
             "linecolor": "white",
             "minorgridcolor": "white",
             "startlinecolor": "#2a3f5f"
            },
            "type": "carpet"
           }
          ],
          "choropleth": [
           {
            "colorbar": {
             "outlinewidth": 0,
             "ticks": ""
            },
            "type": "choropleth"
           }
          ],
          "contour": [
           {
            "colorbar": {
             "outlinewidth": 0,
             "ticks": ""
            },
            "colorscale": [
             [
              0,
              "#0d0887"
             ],
             [
              0.1111111111111111,
              "#46039f"
             ],
             [
              0.2222222222222222,
              "#7201a8"
             ],
             [
              0.3333333333333333,
              "#9c179e"
             ],
             [
              0.4444444444444444,
              "#bd3786"
             ],
             [
              0.5555555555555556,
              "#d8576b"
             ],
             [
              0.6666666666666666,
              "#ed7953"
             ],
             [
              0.7777777777777778,
              "#fb9f3a"
             ],
             [
              0.8888888888888888,
              "#fdca26"
             ],
             [
              1,
              "#f0f921"
             ]
            ],
            "type": "contour"
           }
          ],
          "contourcarpet": [
           {
            "colorbar": {
             "outlinewidth": 0,
             "ticks": ""
            },
            "type": "contourcarpet"
           }
          ],
          "heatmap": [
           {
            "colorbar": {
             "outlinewidth": 0,
             "ticks": ""
            },
            "colorscale": [
             [
              0,
              "#0d0887"
             ],
             [
              0.1111111111111111,
              "#46039f"
             ],
             [
              0.2222222222222222,
              "#7201a8"
             ],
             [
              0.3333333333333333,
              "#9c179e"
             ],
             [
              0.4444444444444444,
              "#bd3786"
             ],
             [
              0.5555555555555556,
              "#d8576b"
             ],
             [
              0.6666666666666666,
              "#ed7953"
             ],
             [
              0.7777777777777778,
              "#fb9f3a"
             ],
             [
              0.8888888888888888,
              "#fdca26"
             ],
             [
              1,
              "#f0f921"
             ]
            ],
            "type": "heatmap"
           }
          ],
          "heatmapgl": [
           {
            "colorbar": {
             "outlinewidth": 0,
             "ticks": ""
            },
            "colorscale": [
             [
              0,
              "#0d0887"
             ],
             [
              0.1111111111111111,
              "#46039f"
             ],
             [
              0.2222222222222222,
              "#7201a8"
             ],
             [
              0.3333333333333333,
              "#9c179e"
             ],
             [
              0.4444444444444444,
              "#bd3786"
             ],
             [
              0.5555555555555556,
              "#d8576b"
             ],
             [
              0.6666666666666666,
              "#ed7953"
             ],
             [
              0.7777777777777778,
              "#fb9f3a"
             ],
             [
              0.8888888888888888,
              "#fdca26"
             ],
             [
              1,
              "#f0f921"
             ]
            ],
            "type": "heatmapgl"
           }
          ],
          "histogram": [
           {
            "marker": {
             "pattern": {
              "fillmode": "overlay",
              "size": 10,
              "solidity": 0.2
             }
            },
            "type": "histogram"
           }
          ],
          "histogram2d": [
           {
            "colorbar": {
             "outlinewidth": 0,
             "ticks": ""
            },
            "colorscale": [
             [
              0,
              "#0d0887"
             ],
             [
              0.1111111111111111,
              "#46039f"
             ],
             [
              0.2222222222222222,
              "#7201a8"
             ],
             [
              0.3333333333333333,
              "#9c179e"
             ],
             [
              0.4444444444444444,
              "#bd3786"
             ],
             [
              0.5555555555555556,
              "#d8576b"
             ],
             [
              0.6666666666666666,
              "#ed7953"
             ],
             [
              0.7777777777777778,
              "#fb9f3a"
             ],
             [
              0.8888888888888888,
              "#fdca26"
             ],
             [
              1,
              "#f0f921"
             ]
            ],
            "type": "histogram2d"
           }
          ],
          "histogram2dcontour": [
           {
            "colorbar": {
             "outlinewidth": 0,
             "ticks": ""
            },
            "colorscale": [
             [
              0,
              "#0d0887"
             ],
             [
              0.1111111111111111,
              "#46039f"
             ],
             [
              0.2222222222222222,
              "#7201a8"
             ],
             [
              0.3333333333333333,
              "#9c179e"
             ],
             [
              0.4444444444444444,
              "#bd3786"
             ],
             [
              0.5555555555555556,
              "#d8576b"
             ],
             [
              0.6666666666666666,
              "#ed7953"
             ],
             [
              0.7777777777777778,
              "#fb9f3a"
             ],
             [
              0.8888888888888888,
              "#fdca26"
             ],
             [
              1,
              "#f0f921"
             ]
            ],
            "type": "histogram2dcontour"
           }
          ],
          "mesh3d": [
           {
            "colorbar": {
             "outlinewidth": 0,
             "ticks": ""
            },
            "type": "mesh3d"
           }
          ],
          "parcoords": [
           {
            "line": {
             "colorbar": {
              "outlinewidth": 0,
              "ticks": ""
             }
            },
            "type": "parcoords"
           }
          ],
          "pie": [
           {
            "automargin": true,
            "type": "pie"
           }
          ],
          "scatter": [
           {
            "fillpattern": {
             "fillmode": "overlay",
             "size": 10,
             "solidity": 0.2
            },
            "type": "scatter"
           }
          ],
          "scatter3d": [
           {
            "line": {
             "colorbar": {
              "outlinewidth": 0,
              "ticks": ""
             }
            },
            "marker": {
             "colorbar": {
              "outlinewidth": 0,
              "ticks": ""
             }
            },
            "type": "scatter3d"
           }
          ],
          "scattercarpet": [
           {
            "marker": {
             "colorbar": {
              "outlinewidth": 0,
              "ticks": ""
             }
            },
            "type": "scattercarpet"
           }
          ],
          "scattergeo": [
           {
            "marker": {
             "colorbar": {
              "outlinewidth": 0,
              "ticks": ""
             }
            },
            "type": "scattergeo"
           }
          ],
          "scattergl": [
           {
            "marker": {
             "colorbar": {
              "outlinewidth": 0,
              "ticks": ""
             }
            },
            "type": "scattergl"
           }
          ],
          "scattermapbox": [
           {
            "marker": {
             "colorbar": {
              "outlinewidth": 0,
              "ticks": ""
             }
            },
            "type": "scattermapbox"
           }
          ],
          "scatterpolar": [
           {
            "marker": {
             "colorbar": {
              "outlinewidth": 0,
              "ticks": ""
             }
            },
            "type": "scatterpolar"
           }
          ],
          "scatterpolargl": [
           {
            "marker": {
             "colorbar": {
              "outlinewidth": 0,
              "ticks": ""
             }
            },
            "type": "scatterpolargl"
           }
          ],
          "scatterternary": [
           {
            "marker": {
             "colorbar": {
              "outlinewidth": 0,
              "ticks": ""
             }
            },
            "type": "scatterternary"
           }
          ],
          "surface": [
           {
            "colorbar": {
             "outlinewidth": 0,
             "ticks": ""
            },
            "colorscale": [
             [
              0,
              "#0d0887"
             ],
             [
              0.1111111111111111,
              "#46039f"
             ],
             [
              0.2222222222222222,
              "#7201a8"
             ],
             [
              0.3333333333333333,
              "#9c179e"
             ],
             [
              0.4444444444444444,
              "#bd3786"
             ],
             [
              0.5555555555555556,
              "#d8576b"
             ],
             [
              0.6666666666666666,
              "#ed7953"
             ],
             [
              0.7777777777777778,
              "#fb9f3a"
             ],
             [
              0.8888888888888888,
              "#fdca26"
             ],
             [
              1,
              "#f0f921"
             ]
            ],
            "type": "surface"
           }
          ],
          "table": [
           {
            "cells": {
             "fill": {
              "color": "#EBF0F8"
             },
             "line": {
              "color": "white"
             }
            },
            "header": {
             "fill": {
              "color": "#C8D4E3"
             },
             "line": {
              "color": "white"
             }
            },
            "type": "table"
           }
          ]
         },
         "layout": {
          "annotationdefaults": {
           "arrowcolor": "#2a3f5f",
           "arrowhead": 0,
           "arrowwidth": 1
          },
          "autotypenumbers": "strict",
          "coloraxis": {
           "colorbar": {
            "outlinewidth": 0,
            "ticks": ""
           }
          },
          "colorscale": {
           "diverging": [
            [
             0,
             "#8e0152"
            ],
            [
             0.1,
             "#c51b7d"
            ],
            [
             0.2,
             "#de77ae"
            ],
            [
             0.3,
             "#f1b6da"
            ],
            [
             0.4,
             "#fde0ef"
            ],
            [
             0.5,
             "#f7f7f7"
            ],
            [
             0.6,
             "#e6f5d0"
            ],
            [
             0.7,
             "#b8e186"
            ],
            [
             0.8,
             "#7fbc41"
            ],
            [
             0.9,
             "#4d9221"
            ],
            [
             1,
             "#276419"
            ]
           ],
           "sequential": [
            [
             0,
             "#0d0887"
            ],
            [
             0.1111111111111111,
             "#46039f"
            ],
            [
             0.2222222222222222,
             "#7201a8"
            ],
            [
             0.3333333333333333,
             "#9c179e"
            ],
            [
             0.4444444444444444,
             "#bd3786"
            ],
            [
             0.5555555555555556,
             "#d8576b"
            ],
            [
             0.6666666666666666,
             "#ed7953"
            ],
            [
             0.7777777777777778,
             "#fb9f3a"
            ],
            [
             0.8888888888888888,
             "#fdca26"
            ],
            [
             1,
             "#f0f921"
            ]
           ],
           "sequentialminus": [
            [
             0,
             "#0d0887"
            ],
            [
             0.1111111111111111,
             "#46039f"
            ],
            [
             0.2222222222222222,
             "#7201a8"
            ],
            [
             0.3333333333333333,
             "#9c179e"
            ],
            [
             0.4444444444444444,
             "#bd3786"
            ],
            [
             0.5555555555555556,
             "#d8576b"
            ],
            [
             0.6666666666666666,
             "#ed7953"
            ],
            [
             0.7777777777777778,
             "#fb9f3a"
            ],
            [
             0.8888888888888888,
             "#fdca26"
            ],
            [
             1,
             "#f0f921"
            ]
           ]
          },
          "colorway": [
           "#636efa",
           "#EF553B",
           "#00cc96",
           "#ab63fa",
           "#FFA15A",
           "#19d3f3",
           "#FF6692",
           "#B6E880",
           "#FF97FF",
           "#FECB52"
          ],
          "font": {
           "color": "#2a3f5f"
          },
          "geo": {
           "bgcolor": "white",
           "lakecolor": "white",
           "landcolor": "#E5ECF6",
           "showlakes": true,
           "showland": true,
           "subunitcolor": "white"
          },
          "hoverlabel": {
           "align": "left"
          },
          "hovermode": "closest",
          "mapbox": {
           "style": "light"
          },
          "paper_bgcolor": "white",
          "plot_bgcolor": "#E5ECF6",
          "polar": {
           "angularaxis": {
            "gridcolor": "white",
            "linecolor": "white",
            "ticks": ""
           },
           "bgcolor": "#E5ECF6",
           "radialaxis": {
            "gridcolor": "white",
            "linecolor": "white",
            "ticks": ""
           }
          },
          "scene": {
           "xaxis": {
            "backgroundcolor": "#E5ECF6",
            "gridcolor": "white",
            "gridwidth": 2,
            "linecolor": "white",
            "showbackground": true,
            "ticks": "",
            "zerolinecolor": "white"
           },
           "yaxis": {
            "backgroundcolor": "#E5ECF6",
            "gridcolor": "white",
            "gridwidth": 2,
            "linecolor": "white",
            "showbackground": true,
            "ticks": "",
            "zerolinecolor": "white"
           },
           "zaxis": {
            "backgroundcolor": "#E5ECF6",
            "gridcolor": "white",
            "gridwidth": 2,
            "linecolor": "white",
            "showbackground": true,
            "ticks": "",
            "zerolinecolor": "white"
           }
          },
          "shapedefaults": {
           "line": {
            "color": "#2a3f5f"
           }
          },
          "ternary": {
           "aaxis": {
            "gridcolor": "white",
            "linecolor": "white",
            "ticks": ""
           },
           "baxis": {
            "gridcolor": "white",
            "linecolor": "white",
            "ticks": ""
           },
           "bgcolor": "#E5ECF6",
           "caxis": {
            "gridcolor": "white",
            "linecolor": "white",
            "ticks": ""
           }
          },
          "title": {
           "x": 0.05
          },
          "xaxis": {
           "automargin": true,
           "gridcolor": "white",
           "linecolor": "white",
           "ticks": "",
           "title": {
            "standoff": 15
           },
           "zerolinecolor": "white",
           "zerolinewidth": 2
          },
          "yaxis": {
           "automargin": true,
           "gridcolor": "white",
           "linecolor": "white",
           "ticks": "",
           "title": {
            "standoff": 15
           },
           "zerolinecolor": "white",
           "zerolinewidth": 2
          }
         }
        },
        "title": {
         "text": "Proyección de Jugadores"
        },
        "width": 800,
        "xaxis": {
         "anchor": "y",
         "domain": [
          0,
          1
         ],
         "title": {
          "text": "Age, Wt y PIE"
         }
        },
        "yaxis": {
         "anchor": "x",
         "domain": [
          0,
          1
         ],
         "title": {
          "text": "Ht, PPG y APG"
         }
        }
       }
      }
     },
     "metadata": {},
     "output_type": "display_data"
    }
   ],
   "source": [
    "plot_FA(f_scoresDf,'F1','F2',['Age, Wt y PIE','Ht, PPG y APG'],'Player','Pos','Position')"
   ]
  },
  {
   "cell_type": "code",
   "execution_count": 123,
   "metadata": {},
   "outputs": [
    {
     "data": {
      "application/vnd.plotly.v1+json": {
       "config": {
        "plotlyServerURL": "https://plot.ly"
       },
       "data": [
        {
         "customdata": [
          [
           "Jayson Tatum",
           "BOS",
           "F-G",
           26,
           2.03,
           95,
           26.9,
           8.1,
           4.9,
           15.5
          ],
          [
           "Jaylen Brown",
           "BOS",
           "F",
           27,
           1.98,
           101,
           23,
           5.5,
           3.6,
           11.6
          ],
          [
           "Derrick White",
           "BOS",
           "G",
           29,
           1.93,
           86,
           15.2,
           4.2,
           5.2,
           10.6
          ],
          [
           "Jrue Holiday",
           "BOS",
           "G",
           33,
           1.93,
           93,
           12.5,
           5.4,
           4.8,
           9.9
          ],
          [
           "Al Horford",
           "BOS",
           "C-F",
           38,
           2.06,
           109,
           8.6,
           6.4,
           2.6,
           10.5
          ],
          [
           "Payton Pritchard",
           "BOS",
           "G",
           26,
           1.85,
           88,
           9.6,
           3.2,
           3.4,
           10.3
          ],
          [
           "Sam Hauser",
           "BOS",
           "F",
           26,
           2.01,
           98,
           9,
           3.5,
           1,
           8.6
          ],
          [
           "Kristaps Porzingis",
           "BOS",
           "F-C",
           28,
           2.18,
           109,
           20.1,
           7.2,
           2,
           13.8
          ],
          [
           "Luke Kornet",
           "BOS",
           "C-F",
           28,
           2.16,
           113,
           5.3,
           4.1,
           1.1,
           11.3
          ],
          [
           "Oshae Brissett",
           "BOS",
           "F-G",
           25,
           2.01,
           95,
           3.7,
           2.9,
           0.8,
           7.6
          ],
          [
           "Xavier Tillman",
           "BOS",
           "F",
           25,
           2.01,
           111,
           5.3,
           3.9,
           1.4,
           7.8
          ],
          [
           "Jaden Springer",
           "BOS",
           "G",
           21,
           1.93,
           92,
           3.3,
           1.6,
           0.9,
           5.5
          ],
          [
           "Svi Mykhailiuk",
           "BOS",
           "G-F",
           26,
           2.01,
           93,
           4,
           1.2,
           0.9,
           7.7
          ],
          [
           "Jordan Walsh",
           "BOS",
           "G",
           20,
           1.98,
           93,
           1.7,
           2.2,
           0.6,
           5.8
          ],
          [
           "Neemias Queta",
           "BOS",
           "C",
           24,
           2.13,
           112,
           5.5,
           4.4,
           0.7,
           12.3
          ]
         ],
         "hovertemplate": "<b style='font-size:16px; color:#000000;'> %{customdata[0]}</b><br>Team: %{customdata[1]}<br>Position: %{customdata[2]}<br>Age: %{customdata[3]} years<br>Height: %{customdata[4]} m<br>Weight: %{customdata[5]} kg<br>PPG: %{customdata[6]}<br>RPG: %{customdata[7]}<br>APG: %{customdata[8]}<br>PIE: %{customdata[9]}<br><extra></extra>",
         "legendgroup": "BOS",
         "marker": {
          "color": "#636efa",
          "size": 20,
          "symbol": "circle"
         },
         "mode": "markers+text",
         "name": "BOS",
         "orientation": "v",
         "showlegend": true,
         "text": [
          "Jayson Tatum",
          "Jaylen Brown",
          "Derrick White",
          "Jrue Holiday",
          "Al Horford",
          "Payton Pritchard",
          "Sam Hauser",
          "Kristaps Porzingis",
          "Luke Kornet",
          "Oshae Brissett",
          "Xavier Tillman",
          "Jaden Springer",
          "Svi Mykhailiuk",
          "Jordan Walsh",
          "Neemias Queta"
         ],
         "textfont": {
          "size": 14
         },
         "textposition": "bottom center",
         "type": "scatter",
         "x": [
          0.7443967823916131,
          0.42049274775577905,
          -0.5203727960800377,
          0.1383415427856464,
          1.7052847060473724,
          -0.6418334660958399,
          -0.38802219099386603,
          1.4995945491101672,
          1.5127596789975093,
          -0.7917718449237453,
          0.49343644148650795,
          -1.6857812143112079,
          -0.8845953682576635,
          -1.5850955998377116,
          1.3698714732689656
         ],
         "xaxis": "x",
         "y": [
          -0.6374663719760406,
          -0.18226360454104074,
          -0.6486805222531644,
          0.7461507717586893,
          2.29507549236877,
          -1.6102901286828675,
          -0.37768127941870977,
          1.1689216556032354,
          1.4539027839267378,
          0.023311930252725682,
          -0.2136363811176976,
          -0.8280282493307072,
          0.488563712226323,
          -0.9147358438654833,
          0.34130772567612444
         ],
         "yaxis": "y"
        },
        {
         "customdata": [
          [
           "Luka Doncic",
           "DAL",
           "F-G",
           25,
           2.01,
           104,
           33.9,
           9.2,
           9.8,
           20
          ],
          [
           "Kyrie Irving",
           "DAL",
           "G",
           32,
           1.88,
           88,
           25.6,
           5,
           5.2,
           14.4
          ],
          [
           "P.J. Washington",
           "DAL",
           "F",
           25,
           2.01,
           104,
           12.9,
           5.6,
           1.9,
           7.9
          ],
          [
           "Derrick Jones Jr.",
           "DAL",
           "F",
           27,
           1.98,
           95,
           8.6,
           3.3,
           1,
           6.8
          ],
          [
           "Daniel Gafford",
           "DAL",
           "F-C",
           25,
           2.08,
           106,
           11,
           7.6,
           1.6,
           12.1
          ],
          [
           "Dereck Lively II",
           "DAL",
           "C",
           20,
           2.16,
           104,
           8.8,
           6.9,
           1.1,
           10.2
          ],
          [
           "Josh Green",
           "DAL",
           "G",
           23,
           1.96,
           91,
           8.2,
           3.2,
           2.3,
           6.3
          ],
          [
           "Jaden Hardy",
           "DAL",
           "G",
           21,
           1.91,
           90,
           7.3,
           1.8,
           1.5,
           8.1
          ],
          [
           "Tim Hardaway Jr.",
           "DAL",
           "G-F",
           32,
           1.96,
           93,
           14.4,
           3.2,
           1.8,
           8.3
          ],
          [
           "Maxi Kleber",
           "DAL",
           "F",
           32,
           2.08,
           109,
           4.4,
           3.3,
           1.6,
           5.7
          ],
          [
           "Dante Exum",
           "DAL",
           "G",
           28,
           1.96,
           97,
           7.8,
           2.7,
           2.9,
           9.3
          ],
          [
           "A.J. Lawson",
           "DAL",
           "G",
           23,
           1.98,
           81,
           3.2,
           1.2,
           0.5,
           7.6
          ],
          [
           "Dwight Powell",
           "DAL",
           "F-C",
           32,
           2.08,
           109,
           3.3,
           3.4,
           1.3,
           7.9
          ]
         ],
         "hovertemplate": "<b style='font-size:16px; color:#000000;'> %{customdata[0]}</b><br>Team: %{customdata[1]}<br>Position: %{customdata[2]}<br>Age: %{customdata[3]} years<br>Height: %{customdata[4]} m<br>Weight: %{customdata[5]} kg<br>PPG: %{customdata[6]}<br>RPG: %{customdata[7]}<br>APG: %{customdata[8]}<br>PIE: %{customdata[9]}<br><extra></extra>",
         "legendgroup": "DAL",
         "marker": {
          "color": "#EF553B",
          "size": 20,
          "symbol": "circle"
         },
         "mode": "markers+text",
         "name": "DAL",
         "orientation": "v",
         "showlegend": true,
         "text": [
          "Luka Doncic",
          "Kyrie Irving",
          "P.J. Washington",
          "Derrick Jones Jr.",
          "Daniel Gafford",
          "Dereck Lively II",
          "Josh Green",
          "Jaden Hardy",
          "Tim Hardaway Jr.",
          "Maxi Kleber",
          "Dante Exum",
          "A.J. Lawson",
          "Dwight Powell"
         ],
         "textfont": {
          "size": 14
         },
         "textposition": "bottom center",
         "type": "scatter",
         "x": [
          2.527262001171864,
          0.349356582673542,
          -0.12560449045144428,
          -0.924830048479913,
          0.9186548906702385,
          0.09055178342683473,
          -1.455150253613859,
          -1.348982652123757,
          -0.5409766986441524,
          0.3688661859093071,
          -0.04550902654495592,
          -2.0072960978787555,
          0.8069523825415534
         ],
         "xaxis": "x",
         "y": [
          -1.4373030640745266,
          -0.07373552248969306,
          -0.3858228574278114,
          0.3368814601585131,
          -0.2638908701388816,
          -0.3513539262215978,
          -0.708224475721247,
          -1.2813135565509333,
          0.8138945117010161,
          1.1951035992842098,
          0.006468536474204964,
          -0.605312178878993,
          1.6501566532588865
         ],
         "yaxis": "y"
        }
       ],
       "layout": {
        "font": {
         "family": "Courier New, monospace",
         "size": 18
        },
        "height": 700,
        "legend": {
         "title": {
          "text": "Team"
         },
         "tracegroupgap": 0
        },
        "margin": {
         "t": 60
        },
        "template": {
         "data": {
          "bar": [
           {
            "error_x": {
             "color": "#2a3f5f"
            },
            "error_y": {
             "color": "#2a3f5f"
            },
            "marker": {
             "line": {
              "color": "#E5ECF6",
              "width": 0.5
             },
             "pattern": {
              "fillmode": "overlay",
              "size": 10,
              "solidity": 0.2
             }
            },
            "type": "bar"
           }
          ],
          "barpolar": [
           {
            "marker": {
             "line": {
              "color": "#E5ECF6",
              "width": 0.5
             },
             "pattern": {
              "fillmode": "overlay",
              "size": 10,
              "solidity": 0.2
             }
            },
            "type": "barpolar"
           }
          ],
          "carpet": [
           {
            "aaxis": {
             "endlinecolor": "#2a3f5f",
             "gridcolor": "white",
             "linecolor": "white",
             "minorgridcolor": "white",
             "startlinecolor": "#2a3f5f"
            },
            "baxis": {
             "endlinecolor": "#2a3f5f",
             "gridcolor": "white",
             "linecolor": "white",
             "minorgridcolor": "white",
             "startlinecolor": "#2a3f5f"
            },
            "type": "carpet"
           }
          ],
          "choropleth": [
           {
            "colorbar": {
             "outlinewidth": 0,
             "ticks": ""
            },
            "type": "choropleth"
           }
          ],
          "contour": [
           {
            "colorbar": {
             "outlinewidth": 0,
             "ticks": ""
            },
            "colorscale": [
             [
              0,
              "#0d0887"
             ],
             [
              0.1111111111111111,
              "#46039f"
             ],
             [
              0.2222222222222222,
              "#7201a8"
             ],
             [
              0.3333333333333333,
              "#9c179e"
             ],
             [
              0.4444444444444444,
              "#bd3786"
             ],
             [
              0.5555555555555556,
              "#d8576b"
             ],
             [
              0.6666666666666666,
              "#ed7953"
             ],
             [
              0.7777777777777778,
              "#fb9f3a"
             ],
             [
              0.8888888888888888,
              "#fdca26"
             ],
             [
              1,
              "#f0f921"
             ]
            ],
            "type": "contour"
           }
          ],
          "contourcarpet": [
           {
            "colorbar": {
             "outlinewidth": 0,
             "ticks": ""
            },
            "type": "contourcarpet"
           }
          ],
          "heatmap": [
           {
            "colorbar": {
             "outlinewidth": 0,
             "ticks": ""
            },
            "colorscale": [
             [
              0,
              "#0d0887"
             ],
             [
              0.1111111111111111,
              "#46039f"
             ],
             [
              0.2222222222222222,
              "#7201a8"
             ],
             [
              0.3333333333333333,
              "#9c179e"
             ],
             [
              0.4444444444444444,
              "#bd3786"
             ],
             [
              0.5555555555555556,
              "#d8576b"
             ],
             [
              0.6666666666666666,
              "#ed7953"
             ],
             [
              0.7777777777777778,
              "#fb9f3a"
             ],
             [
              0.8888888888888888,
              "#fdca26"
             ],
             [
              1,
              "#f0f921"
             ]
            ],
            "type": "heatmap"
           }
          ],
          "heatmapgl": [
           {
            "colorbar": {
             "outlinewidth": 0,
             "ticks": ""
            },
            "colorscale": [
             [
              0,
              "#0d0887"
             ],
             [
              0.1111111111111111,
              "#46039f"
             ],
             [
              0.2222222222222222,
              "#7201a8"
             ],
             [
              0.3333333333333333,
              "#9c179e"
             ],
             [
              0.4444444444444444,
              "#bd3786"
             ],
             [
              0.5555555555555556,
              "#d8576b"
             ],
             [
              0.6666666666666666,
              "#ed7953"
             ],
             [
              0.7777777777777778,
              "#fb9f3a"
             ],
             [
              0.8888888888888888,
              "#fdca26"
             ],
             [
              1,
              "#f0f921"
             ]
            ],
            "type": "heatmapgl"
           }
          ],
          "histogram": [
           {
            "marker": {
             "pattern": {
              "fillmode": "overlay",
              "size": 10,
              "solidity": 0.2
             }
            },
            "type": "histogram"
           }
          ],
          "histogram2d": [
           {
            "colorbar": {
             "outlinewidth": 0,
             "ticks": ""
            },
            "colorscale": [
             [
              0,
              "#0d0887"
             ],
             [
              0.1111111111111111,
              "#46039f"
             ],
             [
              0.2222222222222222,
              "#7201a8"
             ],
             [
              0.3333333333333333,
              "#9c179e"
             ],
             [
              0.4444444444444444,
              "#bd3786"
             ],
             [
              0.5555555555555556,
              "#d8576b"
             ],
             [
              0.6666666666666666,
              "#ed7953"
             ],
             [
              0.7777777777777778,
              "#fb9f3a"
             ],
             [
              0.8888888888888888,
              "#fdca26"
             ],
             [
              1,
              "#f0f921"
             ]
            ],
            "type": "histogram2d"
           }
          ],
          "histogram2dcontour": [
           {
            "colorbar": {
             "outlinewidth": 0,
             "ticks": ""
            },
            "colorscale": [
             [
              0,
              "#0d0887"
             ],
             [
              0.1111111111111111,
              "#46039f"
             ],
             [
              0.2222222222222222,
              "#7201a8"
             ],
             [
              0.3333333333333333,
              "#9c179e"
             ],
             [
              0.4444444444444444,
              "#bd3786"
             ],
             [
              0.5555555555555556,
              "#d8576b"
             ],
             [
              0.6666666666666666,
              "#ed7953"
             ],
             [
              0.7777777777777778,
              "#fb9f3a"
             ],
             [
              0.8888888888888888,
              "#fdca26"
             ],
             [
              1,
              "#f0f921"
             ]
            ],
            "type": "histogram2dcontour"
           }
          ],
          "mesh3d": [
           {
            "colorbar": {
             "outlinewidth": 0,
             "ticks": ""
            },
            "type": "mesh3d"
           }
          ],
          "parcoords": [
           {
            "line": {
             "colorbar": {
              "outlinewidth": 0,
              "ticks": ""
             }
            },
            "type": "parcoords"
           }
          ],
          "pie": [
           {
            "automargin": true,
            "type": "pie"
           }
          ],
          "scatter": [
           {
            "fillpattern": {
             "fillmode": "overlay",
             "size": 10,
             "solidity": 0.2
            },
            "type": "scatter"
           }
          ],
          "scatter3d": [
           {
            "line": {
             "colorbar": {
              "outlinewidth": 0,
              "ticks": ""
             }
            },
            "marker": {
             "colorbar": {
              "outlinewidth": 0,
              "ticks": ""
             }
            },
            "type": "scatter3d"
           }
          ],
          "scattercarpet": [
           {
            "marker": {
             "colorbar": {
              "outlinewidth": 0,
              "ticks": ""
             }
            },
            "type": "scattercarpet"
           }
          ],
          "scattergeo": [
           {
            "marker": {
             "colorbar": {
              "outlinewidth": 0,
              "ticks": ""
             }
            },
            "type": "scattergeo"
           }
          ],
          "scattergl": [
           {
            "marker": {
             "colorbar": {
              "outlinewidth": 0,
              "ticks": ""
             }
            },
            "type": "scattergl"
           }
          ],
          "scattermapbox": [
           {
            "marker": {
             "colorbar": {
              "outlinewidth": 0,
              "ticks": ""
             }
            },
            "type": "scattermapbox"
           }
          ],
          "scatterpolar": [
           {
            "marker": {
             "colorbar": {
              "outlinewidth": 0,
              "ticks": ""
             }
            },
            "type": "scatterpolar"
           }
          ],
          "scatterpolargl": [
           {
            "marker": {
             "colorbar": {
              "outlinewidth": 0,
              "ticks": ""
             }
            },
            "type": "scatterpolargl"
           }
          ],
          "scatterternary": [
           {
            "marker": {
             "colorbar": {
              "outlinewidth": 0,
              "ticks": ""
             }
            },
            "type": "scatterternary"
           }
          ],
          "surface": [
           {
            "colorbar": {
             "outlinewidth": 0,
             "ticks": ""
            },
            "colorscale": [
             [
              0,
              "#0d0887"
             ],
             [
              0.1111111111111111,
              "#46039f"
             ],
             [
              0.2222222222222222,
              "#7201a8"
             ],
             [
              0.3333333333333333,
              "#9c179e"
             ],
             [
              0.4444444444444444,
              "#bd3786"
             ],
             [
              0.5555555555555556,
              "#d8576b"
             ],
             [
              0.6666666666666666,
              "#ed7953"
             ],
             [
              0.7777777777777778,
              "#fb9f3a"
             ],
             [
              0.8888888888888888,
              "#fdca26"
             ],
             [
              1,
              "#f0f921"
             ]
            ],
            "type": "surface"
           }
          ],
          "table": [
           {
            "cells": {
             "fill": {
              "color": "#EBF0F8"
             },
             "line": {
              "color": "white"
             }
            },
            "header": {
             "fill": {
              "color": "#C8D4E3"
             },
             "line": {
              "color": "white"
             }
            },
            "type": "table"
           }
          ]
         },
         "layout": {
          "annotationdefaults": {
           "arrowcolor": "#2a3f5f",
           "arrowhead": 0,
           "arrowwidth": 1
          },
          "autotypenumbers": "strict",
          "coloraxis": {
           "colorbar": {
            "outlinewidth": 0,
            "ticks": ""
           }
          },
          "colorscale": {
           "diverging": [
            [
             0,
             "#8e0152"
            ],
            [
             0.1,
             "#c51b7d"
            ],
            [
             0.2,
             "#de77ae"
            ],
            [
             0.3,
             "#f1b6da"
            ],
            [
             0.4,
             "#fde0ef"
            ],
            [
             0.5,
             "#f7f7f7"
            ],
            [
             0.6,
             "#e6f5d0"
            ],
            [
             0.7,
             "#b8e186"
            ],
            [
             0.8,
             "#7fbc41"
            ],
            [
             0.9,
             "#4d9221"
            ],
            [
             1,
             "#276419"
            ]
           ],
           "sequential": [
            [
             0,
             "#0d0887"
            ],
            [
             0.1111111111111111,
             "#46039f"
            ],
            [
             0.2222222222222222,
             "#7201a8"
            ],
            [
             0.3333333333333333,
             "#9c179e"
            ],
            [
             0.4444444444444444,
             "#bd3786"
            ],
            [
             0.5555555555555556,
             "#d8576b"
            ],
            [
             0.6666666666666666,
             "#ed7953"
            ],
            [
             0.7777777777777778,
             "#fb9f3a"
            ],
            [
             0.8888888888888888,
             "#fdca26"
            ],
            [
             1,
             "#f0f921"
            ]
           ],
           "sequentialminus": [
            [
             0,
             "#0d0887"
            ],
            [
             0.1111111111111111,
             "#46039f"
            ],
            [
             0.2222222222222222,
             "#7201a8"
            ],
            [
             0.3333333333333333,
             "#9c179e"
            ],
            [
             0.4444444444444444,
             "#bd3786"
            ],
            [
             0.5555555555555556,
             "#d8576b"
            ],
            [
             0.6666666666666666,
             "#ed7953"
            ],
            [
             0.7777777777777778,
             "#fb9f3a"
            ],
            [
             0.8888888888888888,
             "#fdca26"
            ],
            [
             1,
             "#f0f921"
            ]
           ]
          },
          "colorway": [
           "#636efa",
           "#EF553B",
           "#00cc96",
           "#ab63fa",
           "#FFA15A",
           "#19d3f3",
           "#FF6692",
           "#B6E880",
           "#FF97FF",
           "#FECB52"
          ],
          "font": {
           "color": "#2a3f5f"
          },
          "geo": {
           "bgcolor": "white",
           "lakecolor": "white",
           "landcolor": "#E5ECF6",
           "showlakes": true,
           "showland": true,
           "subunitcolor": "white"
          },
          "hoverlabel": {
           "align": "left"
          },
          "hovermode": "closest",
          "mapbox": {
           "style": "light"
          },
          "paper_bgcolor": "white",
          "plot_bgcolor": "#E5ECF6",
          "polar": {
           "angularaxis": {
            "gridcolor": "white",
            "linecolor": "white",
            "ticks": ""
           },
           "bgcolor": "#E5ECF6",
           "radialaxis": {
            "gridcolor": "white",
            "linecolor": "white",
            "ticks": ""
           }
          },
          "scene": {
           "xaxis": {
            "backgroundcolor": "#E5ECF6",
            "gridcolor": "white",
            "gridwidth": 2,
            "linecolor": "white",
            "showbackground": true,
            "ticks": "",
            "zerolinecolor": "white"
           },
           "yaxis": {
            "backgroundcolor": "#E5ECF6",
            "gridcolor": "white",
            "gridwidth": 2,
            "linecolor": "white",
            "showbackground": true,
            "ticks": "",
            "zerolinecolor": "white"
           },
           "zaxis": {
            "backgroundcolor": "#E5ECF6",
            "gridcolor": "white",
            "gridwidth": 2,
            "linecolor": "white",
            "showbackground": true,
            "ticks": "",
            "zerolinecolor": "white"
           }
          },
          "shapedefaults": {
           "line": {
            "color": "#2a3f5f"
           }
          },
          "ternary": {
           "aaxis": {
            "gridcolor": "white",
            "linecolor": "white",
            "ticks": ""
           },
           "baxis": {
            "gridcolor": "white",
            "linecolor": "white",
            "ticks": ""
           },
           "bgcolor": "#E5ECF6",
           "caxis": {
            "gridcolor": "white",
            "linecolor": "white",
            "ticks": ""
           }
          },
          "title": {
           "x": 0.05
          },
          "xaxis": {
           "automargin": true,
           "gridcolor": "white",
           "linecolor": "white",
           "ticks": "",
           "title": {
            "standoff": 15
           },
           "zerolinecolor": "white",
           "zerolinewidth": 2
          },
          "yaxis": {
           "automargin": true,
           "gridcolor": "white",
           "linecolor": "white",
           "ticks": "",
           "title": {
            "standoff": 15
           },
           "zerolinecolor": "white",
           "zerolinewidth": 2
          }
         }
        },
        "title": {
         "text": "Proyección de Jugadores"
        },
        "width": 800,
        "xaxis": {
         "anchor": "y",
         "domain": [
          0,
          1
         ],
         "title": {
          "text": "Age y PIE"
         }
        },
        "yaxis": {
         "anchor": "x",
         "domain": [
          0,
          1
         ],
         "title": {
          "text": "Exp y RPG"
         }
        }
       }
      }
     },
     "metadata": {},
     "output_type": "display_data"
    }
   ],
   "source": [
    "plot_FA(f_scoresDf,'F1','F3',['Age y PIE','Exp y RPG'],'Player','Team','Team')"
   ]
  },
  {
   "cell_type": "code",
   "execution_count": 124,
   "metadata": {},
   "outputs": [
    {
     "data": {
      "application/vnd.plotly.v1+json": {
       "config": {
        "plotlyServerURL": "https://plot.ly"
       },
       "data": [
        {
         "customdata": [
          [
           "Jayson Tatum",
           "BOS",
           "F-G",
           26,
           2.03,
           95,
           26.9,
           8.1,
           4.9,
           15.5
          ],
          [
           "Oshae Brissett",
           "BOS",
           "F-G",
           25,
           2.01,
           95,
           3.7,
           2.9,
           0.8,
           7.6
          ],
          [
           "Luka Doncic",
           "DAL",
           "F-G",
           25,
           2.01,
           104,
           33.9,
           9.2,
           9.8,
           20
          ]
         ],
         "hovertemplate": "<b style='font-size:16px; color:#000000;'> %{customdata[0]}</b><br>Team: %{customdata[1]}<br>Position: %{customdata[2]}<br>Age: %{customdata[3]} years<br>Height: %{customdata[4]} m<br>Weight: %{customdata[5]} kg<br>PPG: %{customdata[6]}<br>RPG: %{customdata[7]}<br>APG: %{customdata[8]}<br>PIE: %{customdata[9]}<br><extra></extra>",
         "legendgroup": "F-G",
         "marker": {
          "color": "#636efa",
          "size": 20,
          "symbol": "circle"
         },
         "mode": "markers+text",
         "name": "F-G",
         "orientation": "v",
         "showlegend": true,
         "text": [
          "Jayson Tatum",
          "Oshae Brissett",
          "Luka Doncic"
         ],
         "textfont": {
          "size": 14
         },
         "textposition": "bottom center",
         "type": "scatter",
         "x": [
          0.7443967823916131,
          -0.7917718449237453,
          2.527262001171864
         ],
         "xaxis": "x",
         "y": [
          -0.6374663719760406,
          0.023311930252725682,
          -1.4373030640745266
         ],
         "yaxis": "y"
        },
        {
         "customdata": [
          [
           "Jaylen Brown",
           "BOS",
           "F",
           27,
           1.98,
           101,
           23,
           5.5,
           3.6,
           11.6
          ],
          [
           "Sam Hauser",
           "BOS",
           "F",
           26,
           2.01,
           98,
           9,
           3.5,
           1,
           8.6
          ],
          [
           "Xavier Tillman",
           "BOS",
           "F",
           25,
           2.01,
           111,
           5.3,
           3.9,
           1.4,
           7.8
          ],
          [
           "P.J. Washington",
           "DAL",
           "F",
           25,
           2.01,
           104,
           12.9,
           5.6,
           1.9,
           7.9
          ],
          [
           "Derrick Jones Jr.",
           "DAL",
           "F",
           27,
           1.98,
           95,
           8.6,
           3.3,
           1,
           6.8
          ],
          [
           "Maxi Kleber",
           "DAL",
           "F",
           32,
           2.08,
           109,
           4.4,
           3.3,
           1.6,
           5.7
          ]
         ],
         "hovertemplate": "<b style='font-size:16px; color:#000000;'> %{customdata[0]}</b><br>Team: %{customdata[1]}<br>Position: %{customdata[2]}<br>Age: %{customdata[3]} years<br>Height: %{customdata[4]} m<br>Weight: %{customdata[5]} kg<br>PPG: %{customdata[6]}<br>RPG: %{customdata[7]}<br>APG: %{customdata[8]}<br>PIE: %{customdata[9]}<br><extra></extra>",
         "legendgroup": "F",
         "marker": {
          "color": "#EF553B",
          "size": 20,
          "symbol": "circle"
         },
         "mode": "markers+text",
         "name": "F",
         "orientation": "v",
         "showlegend": true,
         "text": [
          "Jaylen Brown",
          "Sam Hauser",
          "Xavier Tillman",
          "P.J. Washington",
          "Derrick Jones Jr.",
          "Maxi Kleber"
         ],
         "textfont": {
          "size": 14
         },
         "textposition": "bottom center",
         "type": "scatter",
         "x": [
          0.42049274775577905,
          -0.38802219099386603,
          0.49343644148650795,
          -0.12560449045144428,
          -0.924830048479913,
          0.3688661859093071
         ],
         "xaxis": "x",
         "y": [
          -0.18226360454104074,
          -0.37768127941870977,
          -0.2136363811176976,
          -0.3858228574278114,
          0.3368814601585131,
          1.1951035992842098
         ],
         "yaxis": "y"
        },
        {
         "customdata": [
          [
           "Derrick White",
           "BOS",
           "G",
           29,
           1.93,
           86,
           15.2,
           4.2,
           5.2,
           10.6
          ],
          [
           "Jrue Holiday",
           "BOS",
           "G",
           33,
           1.93,
           93,
           12.5,
           5.4,
           4.8,
           9.9
          ],
          [
           "Payton Pritchard",
           "BOS",
           "G",
           26,
           1.85,
           88,
           9.6,
           3.2,
           3.4,
           10.3
          ],
          [
           "Jaden Springer",
           "BOS",
           "G",
           21,
           1.93,
           92,
           3.3,
           1.6,
           0.9,
           5.5
          ],
          [
           "Jordan Walsh",
           "BOS",
           "G",
           20,
           1.98,
           93,
           1.7,
           2.2,
           0.6,
           5.8
          ],
          [
           "Kyrie Irving",
           "DAL",
           "G",
           32,
           1.88,
           88,
           25.6,
           5,
           5.2,
           14.4
          ],
          [
           "Josh Green",
           "DAL",
           "G",
           23,
           1.96,
           91,
           8.2,
           3.2,
           2.3,
           6.3
          ],
          [
           "Jaden Hardy",
           "DAL",
           "G",
           21,
           1.91,
           90,
           7.3,
           1.8,
           1.5,
           8.1
          ],
          [
           "Dante Exum",
           "DAL",
           "G",
           28,
           1.96,
           97,
           7.8,
           2.7,
           2.9,
           9.3
          ],
          [
           "A.J. Lawson",
           "DAL",
           "G",
           23,
           1.98,
           81,
           3.2,
           1.2,
           0.5,
           7.6
          ]
         ],
         "hovertemplate": "<b style='font-size:16px; color:#000000;'> %{customdata[0]}</b><br>Team: %{customdata[1]}<br>Position: %{customdata[2]}<br>Age: %{customdata[3]} years<br>Height: %{customdata[4]} m<br>Weight: %{customdata[5]} kg<br>PPG: %{customdata[6]}<br>RPG: %{customdata[7]}<br>APG: %{customdata[8]}<br>PIE: %{customdata[9]}<br><extra></extra>",
         "legendgroup": "G",
         "marker": {
          "color": "#00cc96",
          "size": 20,
          "symbol": "circle"
         },
         "mode": "markers+text",
         "name": "G",
         "orientation": "v",
         "showlegend": true,
         "text": [
          "Derrick White",
          "Jrue Holiday",
          "Payton Pritchard",
          "Jaden Springer",
          "Jordan Walsh",
          "Kyrie Irving",
          "Josh Green",
          "Jaden Hardy",
          "Dante Exum",
          "A.J. Lawson"
         ],
         "textfont": {
          "size": 14
         },
         "textposition": "bottom center",
         "type": "scatter",
         "x": [
          -0.5203727960800377,
          0.1383415427856464,
          -0.6418334660958399,
          -1.6857812143112079,
          -1.5850955998377116,
          0.349356582673542,
          -1.455150253613859,
          -1.348982652123757,
          -0.04550902654495592,
          -2.0072960978787555
         ],
         "xaxis": "x",
         "y": [
          -0.6486805222531644,
          0.7461507717586893,
          -1.6102901286828675,
          -0.8280282493307072,
          -0.9147358438654833,
          -0.07373552248969306,
          -0.708224475721247,
          -1.2813135565509333,
          0.006468536474204964,
          -0.605312178878993
         ],
         "yaxis": "y"
        },
        {
         "customdata": [
          [
           "Al Horford",
           "BOS",
           "C-F",
           38,
           2.06,
           109,
           8.6,
           6.4,
           2.6,
           10.5
          ],
          [
           "Luke Kornet",
           "BOS",
           "C-F",
           28,
           2.16,
           113,
           5.3,
           4.1,
           1.1,
           11.3
          ]
         ],
         "hovertemplate": "<b style='font-size:16px; color:#000000;'> %{customdata[0]}</b><br>Team: %{customdata[1]}<br>Position: %{customdata[2]}<br>Age: %{customdata[3]} years<br>Height: %{customdata[4]} m<br>Weight: %{customdata[5]} kg<br>PPG: %{customdata[6]}<br>RPG: %{customdata[7]}<br>APG: %{customdata[8]}<br>PIE: %{customdata[9]}<br><extra></extra>",
         "legendgroup": "C-F",
         "marker": {
          "color": "#ab63fa",
          "size": 20,
          "symbol": "circle"
         },
         "mode": "markers+text",
         "name": "C-F",
         "orientation": "v",
         "showlegend": true,
         "text": [
          "Al Horford",
          "Luke Kornet"
         ],
         "textfont": {
          "size": 14
         },
         "textposition": "bottom center",
         "type": "scatter",
         "x": [
          1.7052847060473724,
          1.5127596789975093
         ],
         "xaxis": "x",
         "y": [
          2.29507549236877,
          1.4539027839267378
         ],
         "yaxis": "y"
        },
        {
         "customdata": [
          [
           "Kristaps Porzingis",
           "BOS",
           "F-C",
           28,
           2.18,
           109,
           20.1,
           7.2,
           2,
           13.8
          ],
          [
           "Daniel Gafford",
           "DAL",
           "F-C",
           25,
           2.08,
           106,
           11,
           7.6,
           1.6,
           12.1
          ],
          [
           "Dwight Powell",
           "DAL",
           "F-C",
           32,
           2.08,
           109,
           3.3,
           3.4,
           1.3,
           7.9
          ]
         ],
         "hovertemplate": "<b style='font-size:16px; color:#000000;'> %{customdata[0]}</b><br>Team: %{customdata[1]}<br>Position: %{customdata[2]}<br>Age: %{customdata[3]} years<br>Height: %{customdata[4]} m<br>Weight: %{customdata[5]} kg<br>PPG: %{customdata[6]}<br>RPG: %{customdata[7]}<br>APG: %{customdata[8]}<br>PIE: %{customdata[9]}<br><extra></extra>",
         "legendgroup": "F-C",
         "marker": {
          "color": "#FFA15A",
          "size": 20,
          "symbol": "circle"
         },
         "mode": "markers+text",
         "name": "F-C",
         "orientation": "v",
         "showlegend": true,
         "text": [
          "Kristaps Porzingis",
          "Daniel Gafford",
          "Dwight Powell"
         ],
         "textfont": {
          "size": 14
         },
         "textposition": "bottom center",
         "type": "scatter",
         "x": [
          1.4995945491101672,
          0.9186548906702385,
          0.8069523825415534
         ],
         "xaxis": "x",
         "y": [
          1.1689216556032354,
          -0.2638908701388816,
          1.6501566532588865
         ],
         "yaxis": "y"
        },
        {
         "customdata": [
          [
           "Svi Mykhailiuk",
           "BOS",
           "G-F",
           26,
           2.01,
           93,
           4,
           1.2,
           0.9,
           7.7
          ],
          [
           "Tim Hardaway Jr.",
           "DAL",
           "G-F",
           32,
           1.96,
           93,
           14.4,
           3.2,
           1.8,
           8.3
          ]
         ],
         "hovertemplate": "<b style='font-size:16px; color:#000000;'> %{customdata[0]}</b><br>Team: %{customdata[1]}<br>Position: %{customdata[2]}<br>Age: %{customdata[3]} years<br>Height: %{customdata[4]} m<br>Weight: %{customdata[5]} kg<br>PPG: %{customdata[6]}<br>RPG: %{customdata[7]}<br>APG: %{customdata[8]}<br>PIE: %{customdata[9]}<br><extra></extra>",
         "legendgroup": "G-F",
         "marker": {
          "color": "#19d3f3",
          "size": 20,
          "symbol": "circle"
         },
         "mode": "markers+text",
         "name": "G-F",
         "orientation": "v",
         "showlegend": true,
         "text": [
          "Svi Mykhailiuk",
          "Tim Hardaway Jr."
         ],
         "textfont": {
          "size": 14
         },
         "textposition": "bottom center",
         "type": "scatter",
         "x": [
          -0.8845953682576635,
          -0.5409766986441524
         ],
         "xaxis": "x",
         "y": [
          0.488563712226323,
          0.8138945117010161
         ],
         "yaxis": "y"
        },
        {
         "customdata": [
          [
           "Neemias Queta",
           "BOS",
           "C",
           24,
           2.13,
           112,
           5.5,
           4.4,
           0.7,
           12.3
          ],
          [
           "Dereck Lively II",
           "DAL",
           "C",
           20,
           2.16,
           104,
           8.8,
           6.9,
           1.1,
           10.2
          ]
         ],
         "hovertemplate": "<b style='font-size:16px; color:#000000;'> %{customdata[0]}</b><br>Team: %{customdata[1]}<br>Position: %{customdata[2]}<br>Age: %{customdata[3]} years<br>Height: %{customdata[4]} m<br>Weight: %{customdata[5]} kg<br>PPG: %{customdata[6]}<br>RPG: %{customdata[7]}<br>APG: %{customdata[8]}<br>PIE: %{customdata[9]}<br><extra></extra>",
         "legendgroup": "C",
         "marker": {
          "color": "#FF6692",
          "size": 20,
          "symbol": "circle"
         },
         "mode": "markers+text",
         "name": "C",
         "orientation": "v",
         "showlegend": true,
         "text": [
          "Neemias Queta",
          "Dereck Lively II"
         ],
         "textfont": {
          "size": 14
         },
         "textposition": "bottom center",
         "type": "scatter",
         "x": [
          1.3698714732689656,
          0.09055178342683473
         ],
         "xaxis": "x",
         "y": [
          0.34130772567612444,
          -0.3513539262215978
         ],
         "yaxis": "y"
        }
       ],
       "layout": {
        "font": {
         "family": "Courier New, monospace",
         "size": 18
        },
        "height": 700,
        "legend": {
         "title": {
          "text": "Position"
         },
         "tracegroupgap": 0
        },
        "margin": {
         "t": 60
        },
        "template": {
         "data": {
          "bar": [
           {
            "error_x": {
             "color": "#2a3f5f"
            },
            "error_y": {
             "color": "#2a3f5f"
            },
            "marker": {
             "line": {
              "color": "#E5ECF6",
              "width": 0.5
             },
             "pattern": {
              "fillmode": "overlay",
              "size": 10,
              "solidity": 0.2
             }
            },
            "type": "bar"
           }
          ],
          "barpolar": [
           {
            "marker": {
             "line": {
              "color": "#E5ECF6",
              "width": 0.5
             },
             "pattern": {
              "fillmode": "overlay",
              "size": 10,
              "solidity": 0.2
             }
            },
            "type": "barpolar"
           }
          ],
          "carpet": [
           {
            "aaxis": {
             "endlinecolor": "#2a3f5f",
             "gridcolor": "white",
             "linecolor": "white",
             "minorgridcolor": "white",
             "startlinecolor": "#2a3f5f"
            },
            "baxis": {
             "endlinecolor": "#2a3f5f",
             "gridcolor": "white",
             "linecolor": "white",
             "minorgridcolor": "white",
             "startlinecolor": "#2a3f5f"
            },
            "type": "carpet"
           }
          ],
          "choropleth": [
           {
            "colorbar": {
             "outlinewidth": 0,
             "ticks": ""
            },
            "type": "choropleth"
           }
          ],
          "contour": [
           {
            "colorbar": {
             "outlinewidth": 0,
             "ticks": ""
            },
            "colorscale": [
             [
              0,
              "#0d0887"
             ],
             [
              0.1111111111111111,
              "#46039f"
             ],
             [
              0.2222222222222222,
              "#7201a8"
             ],
             [
              0.3333333333333333,
              "#9c179e"
             ],
             [
              0.4444444444444444,
              "#bd3786"
             ],
             [
              0.5555555555555556,
              "#d8576b"
             ],
             [
              0.6666666666666666,
              "#ed7953"
             ],
             [
              0.7777777777777778,
              "#fb9f3a"
             ],
             [
              0.8888888888888888,
              "#fdca26"
             ],
             [
              1,
              "#f0f921"
             ]
            ],
            "type": "contour"
           }
          ],
          "contourcarpet": [
           {
            "colorbar": {
             "outlinewidth": 0,
             "ticks": ""
            },
            "type": "contourcarpet"
           }
          ],
          "heatmap": [
           {
            "colorbar": {
             "outlinewidth": 0,
             "ticks": ""
            },
            "colorscale": [
             [
              0,
              "#0d0887"
             ],
             [
              0.1111111111111111,
              "#46039f"
             ],
             [
              0.2222222222222222,
              "#7201a8"
             ],
             [
              0.3333333333333333,
              "#9c179e"
             ],
             [
              0.4444444444444444,
              "#bd3786"
             ],
             [
              0.5555555555555556,
              "#d8576b"
             ],
             [
              0.6666666666666666,
              "#ed7953"
             ],
             [
              0.7777777777777778,
              "#fb9f3a"
             ],
             [
              0.8888888888888888,
              "#fdca26"
             ],
             [
              1,
              "#f0f921"
             ]
            ],
            "type": "heatmap"
           }
          ],
          "heatmapgl": [
           {
            "colorbar": {
             "outlinewidth": 0,
             "ticks": ""
            },
            "colorscale": [
             [
              0,
              "#0d0887"
             ],
             [
              0.1111111111111111,
              "#46039f"
             ],
             [
              0.2222222222222222,
              "#7201a8"
             ],
             [
              0.3333333333333333,
              "#9c179e"
             ],
             [
              0.4444444444444444,
              "#bd3786"
             ],
             [
              0.5555555555555556,
              "#d8576b"
             ],
             [
              0.6666666666666666,
              "#ed7953"
             ],
             [
              0.7777777777777778,
              "#fb9f3a"
             ],
             [
              0.8888888888888888,
              "#fdca26"
             ],
             [
              1,
              "#f0f921"
             ]
            ],
            "type": "heatmapgl"
           }
          ],
          "histogram": [
           {
            "marker": {
             "pattern": {
              "fillmode": "overlay",
              "size": 10,
              "solidity": 0.2
             }
            },
            "type": "histogram"
           }
          ],
          "histogram2d": [
           {
            "colorbar": {
             "outlinewidth": 0,
             "ticks": ""
            },
            "colorscale": [
             [
              0,
              "#0d0887"
             ],
             [
              0.1111111111111111,
              "#46039f"
             ],
             [
              0.2222222222222222,
              "#7201a8"
             ],
             [
              0.3333333333333333,
              "#9c179e"
             ],
             [
              0.4444444444444444,
              "#bd3786"
             ],
             [
              0.5555555555555556,
              "#d8576b"
             ],
             [
              0.6666666666666666,
              "#ed7953"
             ],
             [
              0.7777777777777778,
              "#fb9f3a"
             ],
             [
              0.8888888888888888,
              "#fdca26"
             ],
             [
              1,
              "#f0f921"
             ]
            ],
            "type": "histogram2d"
           }
          ],
          "histogram2dcontour": [
           {
            "colorbar": {
             "outlinewidth": 0,
             "ticks": ""
            },
            "colorscale": [
             [
              0,
              "#0d0887"
             ],
             [
              0.1111111111111111,
              "#46039f"
             ],
             [
              0.2222222222222222,
              "#7201a8"
             ],
             [
              0.3333333333333333,
              "#9c179e"
             ],
             [
              0.4444444444444444,
              "#bd3786"
             ],
             [
              0.5555555555555556,
              "#d8576b"
             ],
             [
              0.6666666666666666,
              "#ed7953"
             ],
             [
              0.7777777777777778,
              "#fb9f3a"
             ],
             [
              0.8888888888888888,
              "#fdca26"
             ],
             [
              1,
              "#f0f921"
             ]
            ],
            "type": "histogram2dcontour"
           }
          ],
          "mesh3d": [
           {
            "colorbar": {
             "outlinewidth": 0,
             "ticks": ""
            },
            "type": "mesh3d"
           }
          ],
          "parcoords": [
           {
            "line": {
             "colorbar": {
              "outlinewidth": 0,
              "ticks": ""
             }
            },
            "type": "parcoords"
           }
          ],
          "pie": [
           {
            "automargin": true,
            "type": "pie"
           }
          ],
          "scatter": [
           {
            "fillpattern": {
             "fillmode": "overlay",
             "size": 10,
             "solidity": 0.2
            },
            "type": "scatter"
           }
          ],
          "scatter3d": [
           {
            "line": {
             "colorbar": {
              "outlinewidth": 0,
              "ticks": ""
             }
            },
            "marker": {
             "colorbar": {
              "outlinewidth": 0,
              "ticks": ""
             }
            },
            "type": "scatter3d"
           }
          ],
          "scattercarpet": [
           {
            "marker": {
             "colorbar": {
              "outlinewidth": 0,
              "ticks": ""
             }
            },
            "type": "scattercarpet"
           }
          ],
          "scattergeo": [
           {
            "marker": {
             "colorbar": {
              "outlinewidth": 0,
              "ticks": ""
             }
            },
            "type": "scattergeo"
           }
          ],
          "scattergl": [
           {
            "marker": {
             "colorbar": {
              "outlinewidth": 0,
              "ticks": ""
             }
            },
            "type": "scattergl"
           }
          ],
          "scattermapbox": [
           {
            "marker": {
             "colorbar": {
              "outlinewidth": 0,
              "ticks": ""
             }
            },
            "type": "scattermapbox"
           }
          ],
          "scatterpolar": [
           {
            "marker": {
             "colorbar": {
              "outlinewidth": 0,
              "ticks": ""
             }
            },
            "type": "scatterpolar"
           }
          ],
          "scatterpolargl": [
           {
            "marker": {
             "colorbar": {
              "outlinewidth": 0,
              "ticks": ""
             }
            },
            "type": "scatterpolargl"
           }
          ],
          "scatterternary": [
           {
            "marker": {
             "colorbar": {
              "outlinewidth": 0,
              "ticks": ""
             }
            },
            "type": "scatterternary"
           }
          ],
          "surface": [
           {
            "colorbar": {
             "outlinewidth": 0,
             "ticks": ""
            },
            "colorscale": [
             [
              0,
              "#0d0887"
             ],
             [
              0.1111111111111111,
              "#46039f"
             ],
             [
              0.2222222222222222,
              "#7201a8"
             ],
             [
              0.3333333333333333,
              "#9c179e"
             ],
             [
              0.4444444444444444,
              "#bd3786"
             ],
             [
              0.5555555555555556,
              "#d8576b"
             ],
             [
              0.6666666666666666,
              "#ed7953"
             ],
             [
              0.7777777777777778,
              "#fb9f3a"
             ],
             [
              0.8888888888888888,
              "#fdca26"
             ],
             [
              1,
              "#f0f921"
             ]
            ],
            "type": "surface"
           }
          ],
          "table": [
           {
            "cells": {
             "fill": {
              "color": "#EBF0F8"
             },
             "line": {
              "color": "white"
             }
            },
            "header": {
             "fill": {
              "color": "#C8D4E3"
             },
             "line": {
              "color": "white"
             }
            },
            "type": "table"
           }
          ]
         },
         "layout": {
          "annotationdefaults": {
           "arrowcolor": "#2a3f5f",
           "arrowhead": 0,
           "arrowwidth": 1
          },
          "autotypenumbers": "strict",
          "coloraxis": {
           "colorbar": {
            "outlinewidth": 0,
            "ticks": ""
           }
          },
          "colorscale": {
           "diverging": [
            [
             0,
             "#8e0152"
            ],
            [
             0.1,
             "#c51b7d"
            ],
            [
             0.2,
             "#de77ae"
            ],
            [
             0.3,
             "#f1b6da"
            ],
            [
             0.4,
             "#fde0ef"
            ],
            [
             0.5,
             "#f7f7f7"
            ],
            [
             0.6,
             "#e6f5d0"
            ],
            [
             0.7,
             "#b8e186"
            ],
            [
             0.8,
             "#7fbc41"
            ],
            [
             0.9,
             "#4d9221"
            ],
            [
             1,
             "#276419"
            ]
           ],
           "sequential": [
            [
             0,
             "#0d0887"
            ],
            [
             0.1111111111111111,
             "#46039f"
            ],
            [
             0.2222222222222222,
             "#7201a8"
            ],
            [
             0.3333333333333333,
             "#9c179e"
            ],
            [
             0.4444444444444444,
             "#bd3786"
            ],
            [
             0.5555555555555556,
             "#d8576b"
            ],
            [
             0.6666666666666666,
             "#ed7953"
            ],
            [
             0.7777777777777778,
             "#fb9f3a"
            ],
            [
             0.8888888888888888,
             "#fdca26"
            ],
            [
             1,
             "#f0f921"
            ]
           ],
           "sequentialminus": [
            [
             0,
             "#0d0887"
            ],
            [
             0.1111111111111111,
             "#46039f"
            ],
            [
             0.2222222222222222,
             "#7201a8"
            ],
            [
             0.3333333333333333,
             "#9c179e"
            ],
            [
             0.4444444444444444,
             "#bd3786"
            ],
            [
             0.5555555555555556,
             "#d8576b"
            ],
            [
             0.6666666666666666,
             "#ed7953"
            ],
            [
             0.7777777777777778,
             "#fb9f3a"
            ],
            [
             0.8888888888888888,
             "#fdca26"
            ],
            [
             1,
             "#f0f921"
            ]
           ]
          },
          "colorway": [
           "#636efa",
           "#EF553B",
           "#00cc96",
           "#ab63fa",
           "#FFA15A",
           "#19d3f3",
           "#FF6692",
           "#B6E880",
           "#FF97FF",
           "#FECB52"
          ],
          "font": {
           "color": "#2a3f5f"
          },
          "geo": {
           "bgcolor": "white",
           "lakecolor": "white",
           "landcolor": "#E5ECF6",
           "showlakes": true,
           "showland": true,
           "subunitcolor": "white"
          },
          "hoverlabel": {
           "align": "left"
          },
          "hovermode": "closest",
          "mapbox": {
           "style": "light"
          },
          "paper_bgcolor": "white",
          "plot_bgcolor": "#E5ECF6",
          "polar": {
           "angularaxis": {
            "gridcolor": "white",
            "linecolor": "white",
            "ticks": ""
           },
           "bgcolor": "#E5ECF6",
           "radialaxis": {
            "gridcolor": "white",
            "linecolor": "white",
            "ticks": ""
           }
          },
          "scene": {
           "xaxis": {
            "backgroundcolor": "#E5ECF6",
            "gridcolor": "white",
            "gridwidth": 2,
            "linecolor": "white",
            "showbackground": true,
            "ticks": "",
            "zerolinecolor": "white"
           },
           "yaxis": {
            "backgroundcolor": "#E5ECF6",
            "gridcolor": "white",
            "gridwidth": 2,
            "linecolor": "white",
            "showbackground": true,
            "ticks": "",
            "zerolinecolor": "white"
           },
           "zaxis": {
            "backgroundcolor": "#E5ECF6",
            "gridcolor": "white",
            "gridwidth": 2,
            "linecolor": "white",
            "showbackground": true,
            "ticks": "",
            "zerolinecolor": "white"
           }
          },
          "shapedefaults": {
           "line": {
            "color": "#2a3f5f"
           }
          },
          "ternary": {
           "aaxis": {
            "gridcolor": "white",
            "linecolor": "white",
            "ticks": ""
           },
           "baxis": {
            "gridcolor": "white",
            "linecolor": "white",
            "ticks": ""
           },
           "bgcolor": "#E5ECF6",
           "caxis": {
            "gridcolor": "white",
            "linecolor": "white",
            "ticks": ""
           }
          },
          "title": {
           "x": 0.05
          },
          "xaxis": {
           "automargin": true,
           "gridcolor": "white",
           "linecolor": "white",
           "ticks": "",
           "title": {
            "standoff": 15
           },
           "zerolinecolor": "white",
           "zerolinewidth": 2
          },
          "yaxis": {
           "automargin": true,
           "gridcolor": "white",
           "linecolor": "white",
           "ticks": "",
           "title": {
            "standoff": 15
           },
           "zerolinecolor": "white",
           "zerolinewidth": 2
          }
         }
        },
        "title": {
         "text": "Proyección de Jugadores"
        },
        "width": 800,
        "xaxis": {
         "anchor": "y",
         "domain": [
          0,
          1
         ],
         "title": {
          "text": "Age y PIE"
         }
        },
        "yaxis": {
         "anchor": "x",
         "domain": [
          0,
          1
         ],
         "title": {
          "text": "Exp y RPG"
         }
        }
       }
      }
     },
     "metadata": {},
     "output_type": "display_data"
    }
   ],
   "source": [
    "plot_FA(f_scoresDf,'F1','F3',['Age y PIE','Exp y RPG'],'Player','Pos','Position')"
   ]
  },
  {
   "cell_type": "code",
   "execution_count": 125,
   "metadata": {},
   "outputs": [
    {
     "data": {
      "application/vnd.plotly.v1+json": {
       "config": {
        "plotlyServerURL": "https://plot.ly"
       },
       "data": [
        {
         "customdata": [
          [
           "Jayson Tatum",
           "BOS",
           "F-G",
           26,
           2.03,
           95,
           26.9,
           8.1,
           4.9,
           15.5
          ],
          [
           "Jaylen Brown",
           "BOS",
           "F",
           27,
           1.98,
           101,
           23,
           5.5,
           3.6,
           11.6
          ],
          [
           "Derrick White",
           "BOS",
           "G",
           29,
           1.93,
           86,
           15.2,
           4.2,
           5.2,
           10.6
          ],
          [
           "Jrue Holiday",
           "BOS",
           "G",
           33,
           1.93,
           93,
           12.5,
           5.4,
           4.8,
           9.9
          ],
          [
           "Al Horford",
           "BOS",
           "C-F",
           38,
           2.06,
           109,
           8.6,
           6.4,
           2.6,
           10.5
          ],
          [
           "Payton Pritchard",
           "BOS",
           "G",
           26,
           1.85,
           88,
           9.6,
           3.2,
           3.4,
           10.3
          ],
          [
           "Sam Hauser",
           "BOS",
           "F",
           26,
           2.01,
           98,
           9,
           3.5,
           1,
           8.6
          ],
          [
           "Kristaps Porzingis",
           "BOS",
           "F-C",
           28,
           2.18,
           109,
           20.1,
           7.2,
           2,
           13.8
          ],
          [
           "Luke Kornet",
           "BOS",
           "C-F",
           28,
           2.16,
           113,
           5.3,
           4.1,
           1.1,
           11.3
          ],
          [
           "Oshae Brissett",
           "BOS",
           "F-G",
           25,
           2.01,
           95,
           3.7,
           2.9,
           0.8,
           7.6
          ],
          [
           "Xavier Tillman",
           "BOS",
           "F",
           25,
           2.01,
           111,
           5.3,
           3.9,
           1.4,
           7.8
          ],
          [
           "Jaden Springer",
           "BOS",
           "G",
           21,
           1.93,
           92,
           3.3,
           1.6,
           0.9,
           5.5
          ],
          [
           "Svi Mykhailiuk",
           "BOS",
           "G-F",
           26,
           2.01,
           93,
           4,
           1.2,
           0.9,
           7.7
          ],
          [
           "Jordan Walsh",
           "BOS",
           "G",
           20,
           1.98,
           93,
           1.7,
           2.2,
           0.6,
           5.8
          ],
          [
           "Neemias Queta",
           "BOS",
           "C",
           24,
           2.13,
           112,
           5.5,
           4.4,
           0.7,
           12.3
          ]
         ],
         "hovertemplate": "<b style='font-size:16px; color:#000000;'> %{customdata[0]}</b><br>Team: %{customdata[1]}<br>Position: %{customdata[2]}<br>Age: %{customdata[3]} years<br>Height: %{customdata[4]} m<br>Weight: %{customdata[5]} kg<br>PPG: %{customdata[6]}<br>RPG: %{customdata[7]}<br>APG: %{customdata[8]}<br>PIE: %{customdata[9]}<br><extra></extra>",
         "legendgroup": "BOS",
         "marker": {
          "color": "#636efa",
          "size": 20,
          "symbol": "circle"
         },
         "mode": "markers+text",
         "name": "BOS",
         "orientation": "v",
         "showlegend": true,
         "text": [
          "Jayson Tatum",
          "Jaylen Brown",
          "Derrick White",
          "Jrue Holiday",
          "Al Horford",
          "Payton Pritchard",
          "Sam Hauser",
          "Kristaps Porzingis",
          "Luke Kornet",
          "Oshae Brissett",
          "Xavier Tillman",
          "Jaden Springer",
          "Svi Mykhailiuk",
          "Jordan Walsh",
          "Neemias Queta"
         ],
         "textfont": {
          "size": 14
         },
         "textposition": "bottom center",
         "type": "scatter",
         "x": [
          0.42437506159887317,
          -0.4248228203776328,
          -0.08364205601410812,
          -0.775748290795611,
          -0.2909532988694623,
          -0.8342010760738788,
          0.0636094840475205,
          0.943896917417523,
          0.8267271418092864,
          -0.07034632661892362,
          0.13550242126983977,
          -0.5595748879673801,
          -0.34484552174951166,
          0.06947631595029108,
          0.847121960575667
         ],
         "xaxis": "x",
         "y": [
          -0.6374663719760406,
          -0.18226360454104074,
          -0.6486805222531644,
          0.7461507717586893,
          2.29507549236877,
          -1.6102901286828675,
          -0.37768127941870977,
          1.1689216556032354,
          1.4539027839267378,
          0.023311930252725682,
          -0.2136363811176976,
          -0.8280282493307072,
          0.488563712226323,
          -0.9147358438654833,
          0.34130772567612444
         ],
         "yaxis": "y"
        },
        {
         "customdata": [
          [
           "Luka Doncic",
           "DAL",
           "F-G",
           25,
           2.01,
           104,
           33.9,
           9.2,
           9.8,
           20
          ],
          [
           "Kyrie Irving",
           "DAL",
           "G",
           32,
           1.88,
           88,
           25.6,
           5,
           5.2,
           14.4
          ],
          [
           "P.J. Washington",
           "DAL",
           "F",
           25,
           2.01,
           104,
           12.9,
           5.6,
           1.9,
           7.9
          ],
          [
           "Derrick Jones Jr.",
           "DAL",
           "F",
           27,
           1.98,
           95,
           8.6,
           3.3,
           1,
           6.8
          ],
          [
           "Daniel Gafford",
           "DAL",
           "F-C",
           25,
           2.08,
           106,
           11,
           7.6,
           1.6,
           12.1
          ],
          [
           "Dereck Lively II",
           "DAL",
           "C",
           20,
           2.16,
           104,
           8.8,
           6.9,
           1.1,
           10.2
          ],
          [
           "Josh Green",
           "DAL",
           "G",
           23,
           1.96,
           91,
           8.2,
           3.2,
           2.3,
           6.3
          ],
          [
           "Jaden Hardy",
           "DAL",
           "G",
           21,
           1.91,
           90,
           7.3,
           1.8,
           1.5,
           8.1
          ],
          [
           "Tim Hardaway Jr.",
           "DAL",
           "G-F",
           32,
           1.96,
           93,
           14.4,
           3.2,
           1.8,
           8.3
          ],
          [
           "Maxi Kleber",
           "DAL",
           "F",
           32,
           2.08,
           109,
           4.4,
           3.3,
           1.6,
           5.7
          ],
          [
           "Dante Exum",
           "DAL",
           "G",
           28,
           1.96,
           97,
           7.8,
           2.7,
           2.9,
           9.3
          ],
          [
           "A.J. Lawson",
           "DAL",
           "G",
           23,
           1.98,
           81,
           3.2,
           1.2,
           0.5,
           7.6
          ],
          [
           "Dwight Powell",
           "DAL",
           "F-C",
           32,
           2.08,
           109,
           3.3,
           3.4,
           1.3,
           7.9
          ]
         ],
         "hovertemplate": "<b style='font-size:16px; color:#000000;'> %{customdata[0]}</b><br>Team: %{customdata[1]}<br>Position: %{customdata[2]}<br>Age: %{customdata[3]} years<br>Height: %{customdata[4]} m<br>Weight: %{customdata[5]} kg<br>PPG: %{customdata[6]}<br>RPG: %{customdata[7]}<br>APG: %{customdata[8]}<br>PIE: %{customdata[9]}<br><extra></extra>",
         "legendgroup": "DAL",
         "marker": {
          "color": "#EF553B",
          "size": 20,
          "symbol": "circle"
         },
         "mode": "markers+text",
         "name": "DAL",
         "orientation": "v",
         "showlegend": true,
         "text": [
          "Luka Doncic",
          "Kyrie Irving",
          "P.J. Washington",
          "Derrick Jones Jr.",
          "Daniel Gafford",
          "Dereck Lively II",
          "Josh Green",
          "Jaden Hardy",
          "Tim Hardaway Jr.",
          "Maxi Kleber",
          "Dante Exum",
          "A.J. Lawson",
          "Dwight Powell"
         ],
         "textfont": {
          "size": 14
         },
         "textposition": "bottom center",
         "type": "scatter",
         "x": [
          1.1564572741457937,
          -1.496880076780701,
          0.17582418960372231,
          -0.609503543409727,
          0.7385432581887332,
          1.701579810983435,
          -0.042405851667648375,
          -0.6763207101836652,
          -1.0625026376493583,
          0.6113787770679497,
          -0.3839994554936352,
          -0.1829508146021322,
          0.14420475559479262
         ],
         "xaxis": "x",
         "y": [
          -1.4373030640745266,
          -0.07373552248969306,
          -0.3858228574278114,
          0.3368814601585131,
          -0.2638908701388816,
          -0.3513539262215978,
          -0.708224475721247,
          -1.2813135565509333,
          0.8138945117010161,
          1.1951035992842098,
          0.006468536474204964,
          -0.605312178878993,
          1.6501566532588865
         ],
         "yaxis": "y"
        }
       ],
       "layout": {
        "font": {
         "family": "Courier New, monospace",
         "size": 18
        },
        "height": 700,
        "legend": {
         "title": {
          "text": "Team"
         },
         "tracegroupgap": 0
        },
        "margin": {
         "t": 60
        },
        "template": {
         "data": {
          "bar": [
           {
            "error_x": {
             "color": "#2a3f5f"
            },
            "error_y": {
             "color": "#2a3f5f"
            },
            "marker": {
             "line": {
              "color": "#E5ECF6",
              "width": 0.5
             },
             "pattern": {
              "fillmode": "overlay",
              "size": 10,
              "solidity": 0.2
             }
            },
            "type": "bar"
           }
          ],
          "barpolar": [
           {
            "marker": {
             "line": {
              "color": "#E5ECF6",
              "width": 0.5
             },
             "pattern": {
              "fillmode": "overlay",
              "size": 10,
              "solidity": 0.2
             }
            },
            "type": "barpolar"
           }
          ],
          "carpet": [
           {
            "aaxis": {
             "endlinecolor": "#2a3f5f",
             "gridcolor": "white",
             "linecolor": "white",
             "minorgridcolor": "white",
             "startlinecolor": "#2a3f5f"
            },
            "baxis": {
             "endlinecolor": "#2a3f5f",
             "gridcolor": "white",
             "linecolor": "white",
             "minorgridcolor": "white",
             "startlinecolor": "#2a3f5f"
            },
            "type": "carpet"
           }
          ],
          "choropleth": [
           {
            "colorbar": {
             "outlinewidth": 0,
             "ticks": ""
            },
            "type": "choropleth"
           }
          ],
          "contour": [
           {
            "colorbar": {
             "outlinewidth": 0,
             "ticks": ""
            },
            "colorscale": [
             [
              0,
              "#0d0887"
             ],
             [
              0.1111111111111111,
              "#46039f"
             ],
             [
              0.2222222222222222,
              "#7201a8"
             ],
             [
              0.3333333333333333,
              "#9c179e"
             ],
             [
              0.4444444444444444,
              "#bd3786"
             ],
             [
              0.5555555555555556,
              "#d8576b"
             ],
             [
              0.6666666666666666,
              "#ed7953"
             ],
             [
              0.7777777777777778,
              "#fb9f3a"
             ],
             [
              0.8888888888888888,
              "#fdca26"
             ],
             [
              1,
              "#f0f921"
             ]
            ],
            "type": "contour"
           }
          ],
          "contourcarpet": [
           {
            "colorbar": {
             "outlinewidth": 0,
             "ticks": ""
            },
            "type": "contourcarpet"
           }
          ],
          "heatmap": [
           {
            "colorbar": {
             "outlinewidth": 0,
             "ticks": ""
            },
            "colorscale": [
             [
              0,
              "#0d0887"
             ],
             [
              0.1111111111111111,
              "#46039f"
             ],
             [
              0.2222222222222222,
              "#7201a8"
             ],
             [
              0.3333333333333333,
              "#9c179e"
             ],
             [
              0.4444444444444444,
              "#bd3786"
             ],
             [
              0.5555555555555556,
              "#d8576b"
             ],
             [
              0.6666666666666666,
              "#ed7953"
             ],
             [
              0.7777777777777778,
              "#fb9f3a"
             ],
             [
              0.8888888888888888,
              "#fdca26"
             ],
             [
              1,
              "#f0f921"
             ]
            ],
            "type": "heatmap"
           }
          ],
          "heatmapgl": [
           {
            "colorbar": {
             "outlinewidth": 0,
             "ticks": ""
            },
            "colorscale": [
             [
              0,
              "#0d0887"
             ],
             [
              0.1111111111111111,
              "#46039f"
             ],
             [
              0.2222222222222222,
              "#7201a8"
             ],
             [
              0.3333333333333333,
              "#9c179e"
             ],
             [
              0.4444444444444444,
              "#bd3786"
             ],
             [
              0.5555555555555556,
              "#d8576b"
             ],
             [
              0.6666666666666666,
              "#ed7953"
             ],
             [
              0.7777777777777778,
              "#fb9f3a"
             ],
             [
              0.8888888888888888,
              "#fdca26"
             ],
             [
              1,
              "#f0f921"
             ]
            ],
            "type": "heatmapgl"
           }
          ],
          "histogram": [
           {
            "marker": {
             "pattern": {
              "fillmode": "overlay",
              "size": 10,
              "solidity": 0.2
             }
            },
            "type": "histogram"
           }
          ],
          "histogram2d": [
           {
            "colorbar": {
             "outlinewidth": 0,
             "ticks": ""
            },
            "colorscale": [
             [
              0,
              "#0d0887"
             ],
             [
              0.1111111111111111,
              "#46039f"
             ],
             [
              0.2222222222222222,
              "#7201a8"
             ],
             [
              0.3333333333333333,
              "#9c179e"
             ],
             [
              0.4444444444444444,
              "#bd3786"
             ],
             [
              0.5555555555555556,
              "#d8576b"
             ],
             [
              0.6666666666666666,
              "#ed7953"
             ],
             [
              0.7777777777777778,
              "#fb9f3a"
             ],
             [
              0.8888888888888888,
              "#fdca26"
             ],
             [
              1,
              "#f0f921"
             ]
            ],
            "type": "histogram2d"
           }
          ],
          "histogram2dcontour": [
           {
            "colorbar": {
             "outlinewidth": 0,
             "ticks": ""
            },
            "colorscale": [
             [
              0,
              "#0d0887"
             ],
             [
              0.1111111111111111,
              "#46039f"
             ],
             [
              0.2222222222222222,
              "#7201a8"
             ],
             [
              0.3333333333333333,
              "#9c179e"
             ],
             [
              0.4444444444444444,
              "#bd3786"
             ],
             [
              0.5555555555555556,
              "#d8576b"
             ],
             [
              0.6666666666666666,
              "#ed7953"
             ],
             [
              0.7777777777777778,
              "#fb9f3a"
             ],
             [
              0.8888888888888888,
              "#fdca26"
             ],
             [
              1,
              "#f0f921"
             ]
            ],
            "type": "histogram2dcontour"
           }
          ],
          "mesh3d": [
           {
            "colorbar": {
             "outlinewidth": 0,
             "ticks": ""
            },
            "type": "mesh3d"
           }
          ],
          "parcoords": [
           {
            "line": {
             "colorbar": {
              "outlinewidth": 0,
              "ticks": ""
             }
            },
            "type": "parcoords"
           }
          ],
          "pie": [
           {
            "automargin": true,
            "type": "pie"
           }
          ],
          "scatter": [
           {
            "fillpattern": {
             "fillmode": "overlay",
             "size": 10,
             "solidity": 0.2
            },
            "type": "scatter"
           }
          ],
          "scatter3d": [
           {
            "line": {
             "colorbar": {
              "outlinewidth": 0,
              "ticks": ""
             }
            },
            "marker": {
             "colorbar": {
              "outlinewidth": 0,
              "ticks": ""
             }
            },
            "type": "scatter3d"
           }
          ],
          "scattercarpet": [
           {
            "marker": {
             "colorbar": {
              "outlinewidth": 0,
              "ticks": ""
             }
            },
            "type": "scattercarpet"
           }
          ],
          "scattergeo": [
           {
            "marker": {
             "colorbar": {
              "outlinewidth": 0,
              "ticks": ""
             }
            },
            "type": "scattergeo"
           }
          ],
          "scattergl": [
           {
            "marker": {
             "colorbar": {
              "outlinewidth": 0,
              "ticks": ""
             }
            },
            "type": "scattergl"
           }
          ],
          "scattermapbox": [
           {
            "marker": {
             "colorbar": {
              "outlinewidth": 0,
              "ticks": ""
             }
            },
            "type": "scattermapbox"
           }
          ],
          "scatterpolar": [
           {
            "marker": {
             "colorbar": {
              "outlinewidth": 0,
              "ticks": ""
             }
            },
            "type": "scatterpolar"
           }
          ],
          "scatterpolargl": [
           {
            "marker": {
             "colorbar": {
              "outlinewidth": 0,
              "ticks": ""
             }
            },
            "type": "scatterpolargl"
           }
          ],
          "scatterternary": [
           {
            "marker": {
             "colorbar": {
              "outlinewidth": 0,
              "ticks": ""
             }
            },
            "type": "scatterternary"
           }
          ],
          "surface": [
           {
            "colorbar": {
             "outlinewidth": 0,
             "ticks": ""
            },
            "colorscale": [
             [
              0,
              "#0d0887"
             ],
             [
              0.1111111111111111,
              "#46039f"
             ],
             [
              0.2222222222222222,
              "#7201a8"
             ],
             [
              0.3333333333333333,
              "#9c179e"
             ],
             [
              0.4444444444444444,
              "#bd3786"
             ],
             [
              0.5555555555555556,
              "#d8576b"
             ],
             [
              0.6666666666666666,
              "#ed7953"
             ],
             [
              0.7777777777777778,
              "#fb9f3a"
             ],
             [
              0.8888888888888888,
              "#fdca26"
             ],
             [
              1,
              "#f0f921"
             ]
            ],
            "type": "surface"
           }
          ],
          "table": [
           {
            "cells": {
             "fill": {
              "color": "#EBF0F8"
             },
             "line": {
              "color": "white"
             }
            },
            "header": {
             "fill": {
              "color": "#C8D4E3"
             },
             "line": {
              "color": "white"
             }
            },
            "type": "table"
           }
          ]
         },
         "layout": {
          "annotationdefaults": {
           "arrowcolor": "#2a3f5f",
           "arrowhead": 0,
           "arrowwidth": 1
          },
          "autotypenumbers": "strict",
          "coloraxis": {
           "colorbar": {
            "outlinewidth": 0,
            "ticks": ""
           }
          },
          "colorscale": {
           "diverging": [
            [
             0,
             "#8e0152"
            ],
            [
             0.1,
             "#c51b7d"
            ],
            [
             0.2,
             "#de77ae"
            ],
            [
             0.3,
             "#f1b6da"
            ],
            [
             0.4,
             "#fde0ef"
            ],
            [
             0.5,
             "#f7f7f7"
            ],
            [
             0.6,
             "#e6f5d0"
            ],
            [
             0.7,
             "#b8e186"
            ],
            [
             0.8,
             "#7fbc41"
            ],
            [
             0.9,
             "#4d9221"
            ],
            [
             1,
             "#276419"
            ]
           ],
           "sequential": [
            [
             0,
             "#0d0887"
            ],
            [
             0.1111111111111111,
             "#46039f"
            ],
            [
             0.2222222222222222,
             "#7201a8"
            ],
            [
             0.3333333333333333,
             "#9c179e"
            ],
            [
             0.4444444444444444,
             "#bd3786"
            ],
            [
             0.5555555555555556,
             "#d8576b"
            ],
            [
             0.6666666666666666,
             "#ed7953"
            ],
            [
             0.7777777777777778,
             "#fb9f3a"
            ],
            [
             0.8888888888888888,
             "#fdca26"
            ],
            [
             1,
             "#f0f921"
            ]
           ],
           "sequentialminus": [
            [
             0,
             "#0d0887"
            ],
            [
             0.1111111111111111,
             "#46039f"
            ],
            [
             0.2222222222222222,
             "#7201a8"
            ],
            [
             0.3333333333333333,
             "#9c179e"
            ],
            [
             0.4444444444444444,
             "#bd3786"
            ],
            [
             0.5555555555555556,
             "#d8576b"
            ],
            [
             0.6666666666666666,
             "#ed7953"
            ],
            [
             0.7777777777777778,
             "#fb9f3a"
            ],
            [
             0.8888888888888888,
             "#fdca26"
            ],
            [
             1,
             "#f0f921"
            ]
           ]
          },
          "colorway": [
           "#636efa",
           "#EF553B",
           "#00cc96",
           "#ab63fa",
           "#FFA15A",
           "#19d3f3",
           "#FF6692",
           "#B6E880",
           "#FF97FF",
           "#FECB52"
          ],
          "font": {
           "color": "#2a3f5f"
          },
          "geo": {
           "bgcolor": "white",
           "lakecolor": "white",
           "landcolor": "#E5ECF6",
           "showlakes": true,
           "showland": true,
           "subunitcolor": "white"
          },
          "hoverlabel": {
           "align": "left"
          },
          "hovermode": "closest",
          "mapbox": {
           "style": "light"
          },
          "paper_bgcolor": "white",
          "plot_bgcolor": "#E5ECF6",
          "polar": {
           "angularaxis": {
            "gridcolor": "white",
            "linecolor": "white",
            "ticks": ""
           },
           "bgcolor": "#E5ECF6",
           "radialaxis": {
            "gridcolor": "white",
            "linecolor": "white",
            "ticks": ""
           }
          },
          "scene": {
           "xaxis": {
            "backgroundcolor": "#E5ECF6",
            "gridcolor": "white",
            "gridwidth": 2,
            "linecolor": "white",
            "showbackground": true,
            "ticks": "",
            "zerolinecolor": "white"
           },
           "yaxis": {
            "backgroundcolor": "#E5ECF6",
            "gridcolor": "white",
            "gridwidth": 2,
            "linecolor": "white",
            "showbackground": true,
            "ticks": "",
            "zerolinecolor": "white"
           },
           "zaxis": {
            "backgroundcolor": "#E5ECF6",
            "gridcolor": "white",
            "gridwidth": 2,
            "linecolor": "white",
            "showbackground": true,
            "ticks": "",
            "zerolinecolor": "white"
           }
          },
          "shapedefaults": {
           "line": {
            "color": "#2a3f5f"
           }
          },
          "ternary": {
           "aaxis": {
            "gridcolor": "white",
            "linecolor": "white",
            "ticks": ""
           },
           "baxis": {
            "gridcolor": "white",
            "linecolor": "white",
            "ticks": ""
           },
           "bgcolor": "#E5ECF6",
           "caxis": {
            "gridcolor": "white",
            "linecolor": "white",
            "ticks": ""
           }
          },
          "title": {
           "x": 0.05
          },
          "xaxis": {
           "automargin": true,
           "gridcolor": "white",
           "linecolor": "white",
           "ticks": "",
           "title": {
            "standoff": 15
           },
           "zerolinecolor": "white",
           "zerolinewidth": 2
          },
          "yaxis": {
           "automargin": true,
           "gridcolor": "white",
           "linecolor": "white",
           "ticks": "",
           "title": {
            "standoff": 15
           },
           "zerolinecolor": "white",
           "zerolinewidth": 2
          }
         }
        },
        "title": {
         "text": "Proyección de Jugadores"
        },
        "width": 800,
        "xaxis": {
         "anchor": "y",
         "domain": [
          0,
          1
         ],
         "title": {
          "text": "Ht, PPG y APG"
         }
        },
        "yaxis": {
         "anchor": "x",
         "domain": [
          0,
          1
         ],
         "title": {
          "text": "Exp y RPG"
         }
        }
       }
      }
     },
     "metadata": {},
     "output_type": "display_data"
    }
   ],
   "source": [
    "plot_FA(f_scoresDf,'F2','F3',['Ht, PPG y APG','Exp y RPG'],'Player','Team','Team')"
   ]
  },
  {
   "cell_type": "code",
   "execution_count": 126,
   "metadata": {},
   "outputs": [
    {
     "data": {
      "application/vnd.plotly.v1+json": {
       "config": {
        "plotlyServerURL": "https://plot.ly"
       },
       "data": [
        {
         "customdata": [
          [
           "Jayson Tatum",
           "BOS",
           "F-G",
           26,
           2.03,
           95,
           26.9,
           8.1,
           4.9,
           15.5
          ],
          [
           "Oshae Brissett",
           "BOS",
           "F-G",
           25,
           2.01,
           95,
           3.7,
           2.9,
           0.8,
           7.6
          ],
          [
           "Luka Doncic",
           "DAL",
           "F-G",
           25,
           2.01,
           104,
           33.9,
           9.2,
           9.8,
           20
          ]
         ],
         "hovertemplate": "<b style='font-size:16px; color:#000000;'> %{customdata[0]}</b><br>Team: %{customdata[1]}<br>Position: %{customdata[2]}<br>Age: %{customdata[3]} years<br>Height: %{customdata[4]} m<br>Weight: %{customdata[5]} kg<br>PPG: %{customdata[6]}<br>RPG: %{customdata[7]}<br>APG: %{customdata[8]}<br>PIE: %{customdata[9]}<br><extra></extra>",
         "legendgroup": "F-G",
         "marker": {
          "color": "#636efa",
          "size": 20,
          "symbol": "circle"
         },
         "mode": "markers+text",
         "name": "F-G",
         "orientation": "v",
         "showlegend": true,
         "text": [
          "Jayson Tatum",
          "Oshae Brissett",
          "Luka Doncic"
         ],
         "textfont": {
          "size": 14
         },
         "textposition": "bottom center",
         "type": "scatter",
         "x": [
          0.42437506159887317,
          -0.07034632661892362,
          1.1564572741457937
         ],
         "xaxis": "x",
         "y": [
          -0.6374663719760406,
          0.023311930252725682,
          -1.4373030640745266
         ],
         "yaxis": "y"
        },
        {
         "customdata": [
          [
           "Jaylen Brown",
           "BOS",
           "F",
           27,
           1.98,
           101,
           23,
           5.5,
           3.6,
           11.6
          ],
          [
           "Sam Hauser",
           "BOS",
           "F",
           26,
           2.01,
           98,
           9,
           3.5,
           1,
           8.6
          ],
          [
           "Xavier Tillman",
           "BOS",
           "F",
           25,
           2.01,
           111,
           5.3,
           3.9,
           1.4,
           7.8
          ],
          [
           "P.J. Washington",
           "DAL",
           "F",
           25,
           2.01,
           104,
           12.9,
           5.6,
           1.9,
           7.9
          ],
          [
           "Derrick Jones Jr.",
           "DAL",
           "F",
           27,
           1.98,
           95,
           8.6,
           3.3,
           1,
           6.8
          ],
          [
           "Maxi Kleber",
           "DAL",
           "F",
           32,
           2.08,
           109,
           4.4,
           3.3,
           1.6,
           5.7
          ]
         ],
         "hovertemplate": "<b style='font-size:16px; color:#000000;'> %{customdata[0]}</b><br>Team: %{customdata[1]}<br>Position: %{customdata[2]}<br>Age: %{customdata[3]} years<br>Height: %{customdata[4]} m<br>Weight: %{customdata[5]} kg<br>PPG: %{customdata[6]}<br>RPG: %{customdata[7]}<br>APG: %{customdata[8]}<br>PIE: %{customdata[9]}<br><extra></extra>",
         "legendgroup": "F",
         "marker": {
          "color": "#EF553B",
          "size": 20,
          "symbol": "circle"
         },
         "mode": "markers+text",
         "name": "F",
         "orientation": "v",
         "showlegend": true,
         "text": [
          "Jaylen Brown",
          "Sam Hauser",
          "Xavier Tillman",
          "P.J. Washington",
          "Derrick Jones Jr.",
          "Maxi Kleber"
         ],
         "textfont": {
          "size": 14
         },
         "textposition": "bottom center",
         "type": "scatter",
         "x": [
          -0.4248228203776328,
          0.0636094840475205,
          0.13550242126983977,
          0.17582418960372231,
          -0.609503543409727,
          0.6113787770679497
         ],
         "xaxis": "x",
         "y": [
          -0.18226360454104074,
          -0.37768127941870977,
          -0.2136363811176976,
          -0.3858228574278114,
          0.3368814601585131,
          1.1951035992842098
         ],
         "yaxis": "y"
        },
        {
         "customdata": [
          [
           "Derrick White",
           "BOS",
           "G",
           29,
           1.93,
           86,
           15.2,
           4.2,
           5.2,
           10.6
          ],
          [
           "Jrue Holiday",
           "BOS",
           "G",
           33,
           1.93,
           93,
           12.5,
           5.4,
           4.8,
           9.9
          ],
          [
           "Payton Pritchard",
           "BOS",
           "G",
           26,
           1.85,
           88,
           9.6,
           3.2,
           3.4,
           10.3
          ],
          [
           "Jaden Springer",
           "BOS",
           "G",
           21,
           1.93,
           92,
           3.3,
           1.6,
           0.9,
           5.5
          ],
          [
           "Jordan Walsh",
           "BOS",
           "G",
           20,
           1.98,
           93,
           1.7,
           2.2,
           0.6,
           5.8
          ],
          [
           "Kyrie Irving",
           "DAL",
           "G",
           32,
           1.88,
           88,
           25.6,
           5,
           5.2,
           14.4
          ],
          [
           "Josh Green",
           "DAL",
           "G",
           23,
           1.96,
           91,
           8.2,
           3.2,
           2.3,
           6.3
          ],
          [
           "Jaden Hardy",
           "DAL",
           "G",
           21,
           1.91,
           90,
           7.3,
           1.8,
           1.5,
           8.1
          ],
          [
           "Dante Exum",
           "DAL",
           "G",
           28,
           1.96,
           97,
           7.8,
           2.7,
           2.9,
           9.3
          ],
          [
           "A.J. Lawson",
           "DAL",
           "G",
           23,
           1.98,
           81,
           3.2,
           1.2,
           0.5,
           7.6
          ]
         ],
         "hovertemplate": "<b style='font-size:16px; color:#000000;'> %{customdata[0]}</b><br>Team: %{customdata[1]}<br>Position: %{customdata[2]}<br>Age: %{customdata[3]} years<br>Height: %{customdata[4]} m<br>Weight: %{customdata[5]} kg<br>PPG: %{customdata[6]}<br>RPG: %{customdata[7]}<br>APG: %{customdata[8]}<br>PIE: %{customdata[9]}<br><extra></extra>",
         "legendgroup": "G",
         "marker": {
          "color": "#00cc96",
          "size": 20,
          "symbol": "circle"
         },
         "mode": "markers+text",
         "name": "G",
         "orientation": "v",
         "showlegend": true,
         "text": [
          "Derrick White",
          "Jrue Holiday",
          "Payton Pritchard",
          "Jaden Springer",
          "Jordan Walsh",
          "Kyrie Irving",
          "Josh Green",
          "Jaden Hardy",
          "Dante Exum",
          "A.J. Lawson"
         ],
         "textfont": {
          "size": 14
         },
         "textposition": "bottom center",
         "type": "scatter",
         "x": [
          -0.08364205601410812,
          -0.775748290795611,
          -0.8342010760738788,
          -0.5595748879673801,
          0.06947631595029108,
          -1.496880076780701,
          -0.042405851667648375,
          -0.6763207101836652,
          -0.3839994554936352,
          -0.1829508146021322
         ],
         "xaxis": "x",
         "y": [
          -0.6486805222531644,
          0.7461507717586893,
          -1.6102901286828675,
          -0.8280282493307072,
          -0.9147358438654833,
          -0.07373552248969306,
          -0.708224475721247,
          -1.2813135565509333,
          0.006468536474204964,
          -0.605312178878993
         ],
         "yaxis": "y"
        },
        {
         "customdata": [
          [
           "Al Horford",
           "BOS",
           "C-F",
           38,
           2.06,
           109,
           8.6,
           6.4,
           2.6,
           10.5
          ],
          [
           "Luke Kornet",
           "BOS",
           "C-F",
           28,
           2.16,
           113,
           5.3,
           4.1,
           1.1,
           11.3
          ]
         ],
         "hovertemplate": "<b style='font-size:16px; color:#000000;'> %{customdata[0]}</b><br>Team: %{customdata[1]}<br>Position: %{customdata[2]}<br>Age: %{customdata[3]} years<br>Height: %{customdata[4]} m<br>Weight: %{customdata[5]} kg<br>PPG: %{customdata[6]}<br>RPG: %{customdata[7]}<br>APG: %{customdata[8]}<br>PIE: %{customdata[9]}<br><extra></extra>",
         "legendgroup": "C-F",
         "marker": {
          "color": "#ab63fa",
          "size": 20,
          "symbol": "circle"
         },
         "mode": "markers+text",
         "name": "C-F",
         "orientation": "v",
         "showlegend": true,
         "text": [
          "Al Horford",
          "Luke Kornet"
         ],
         "textfont": {
          "size": 14
         },
         "textposition": "bottom center",
         "type": "scatter",
         "x": [
          -0.2909532988694623,
          0.8267271418092864
         ],
         "xaxis": "x",
         "y": [
          2.29507549236877,
          1.4539027839267378
         ],
         "yaxis": "y"
        },
        {
         "customdata": [
          [
           "Kristaps Porzingis",
           "BOS",
           "F-C",
           28,
           2.18,
           109,
           20.1,
           7.2,
           2,
           13.8
          ],
          [
           "Daniel Gafford",
           "DAL",
           "F-C",
           25,
           2.08,
           106,
           11,
           7.6,
           1.6,
           12.1
          ],
          [
           "Dwight Powell",
           "DAL",
           "F-C",
           32,
           2.08,
           109,
           3.3,
           3.4,
           1.3,
           7.9
          ]
         ],
         "hovertemplate": "<b style='font-size:16px; color:#000000;'> %{customdata[0]}</b><br>Team: %{customdata[1]}<br>Position: %{customdata[2]}<br>Age: %{customdata[3]} years<br>Height: %{customdata[4]} m<br>Weight: %{customdata[5]} kg<br>PPG: %{customdata[6]}<br>RPG: %{customdata[7]}<br>APG: %{customdata[8]}<br>PIE: %{customdata[9]}<br><extra></extra>",
         "legendgroup": "F-C",
         "marker": {
          "color": "#FFA15A",
          "size": 20,
          "symbol": "circle"
         },
         "mode": "markers+text",
         "name": "F-C",
         "orientation": "v",
         "showlegend": true,
         "text": [
          "Kristaps Porzingis",
          "Daniel Gafford",
          "Dwight Powell"
         ],
         "textfont": {
          "size": 14
         },
         "textposition": "bottom center",
         "type": "scatter",
         "x": [
          0.943896917417523,
          0.7385432581887332,
          0.14420475559479262
         ],
         "xaxis": "x",
         "y": [
          1.1689216556032354,
          -0.2638908701388816,
          1.6501566532588865
         ],
         "yaxis": "y"
        },
        {
         "customdata": [
          [
           "Svi Mykhailiuk",
           "BOS",
           "G-F",
           26,
           2.01,
           93,
           4,
           1.2,
           0.9,
           7.7
          ],
          [
           "Tim Hardaway Jr.",
           "DAL",
           "G-F",
           32,
           1.96,
           93,
           14.4,
           3.2,
           1.8,
           8.3
          ]
         ],
         "hovertemplate": "<b style='font-size:16px; color:#000000;'> %{customdata[0]}</b><br>Team: %{customdata[1]}<br>Position: %{customdata[2]}<br>Age: %{customdata[3]} years<br>Height: %{customdata[4]} m<br>Weight: %{customdata[5]} kg<br>PPG: %{customdata[6]}<br>RPG: %{customdata[7]}<br>APG: %{customdata[8]}<br>PIE: %{customdata[9]}<br><extra></extra>",
         "legendgroup": "G-F",
         "marker": {
          "color": "#19d3f3",
          "size": 20,
          "symbol": "circle"
         },
         "mode": "markers+text",
         "name": "G-F",
         "orientation": "v",
         "showlegend": true,
         "text": [
          "Svi Mykhailiuk",
          "Tim Hardaway Jr."
         ],
         "textfont": {
          "size": 14
         },
         "textposition": "bottom center",
         "type": "scatter",
         "x": [
          -0.34484552174951166,
          -1.0625026376493583
         ],
         "xaxis": "x",
         "y": [
          0.488563712226323,
          0.8138945117010161
         ],
         "yaxis": "y"
        },
        {
         "customdata": [
          [
           "Neemias Queta",
           "BOS",
           "C",
           24,
           2.13,
           112,
           5.5,
           4.4,
           0.7,
           12.3
          ],
          [
           "Dereck Lively II",
           "DAL",
           "C",
           20,
           2.16,
           104,
           8.8,
           6.9,
           1.1,
           10.2
          ]
         ],
         "hovertemplate": "<b style='font-size:16px; color:#000000;'> %{customdata[0]}</b><br>Team: %{customdata[1]}<br>Position: %{customdata[2]}<br>Age: %{customdata[3]} years<br>Height: %{customdata[4]} m<br>Weight: %{customdata[5]} kg<br>PPG: %{customdata[6]}<br>RPG: %{customdata[7]}<br>APG: %{customdata[8]}<br>PIE: %{customdata[9]}<br><extra></extra>",
         "legendgroup": "C",
         "marker": {
          "color": "#FF6692",
          "size": 20,
          "symbol": "circle"
         },
         "mode": "markers+text",
         "name": "C",
         "orientation": "v",
         "showlegend": true,
         "text": [
          "Neemias Queta",
          "Dereck Lively II"
         ],
         "textfont": {
          "size": 14
         },
         "textposition": "bottom center",
         "type": "scatter",
         "x": [
          0.847121960575667,
          1.701579810983435
         ],
         "xaxis": "x",
         "y": [
          0.34130772567612444,
          -0.3513539262215978
         ],
         "yaxis": "y"
        }
       ],
       "layout": {
        "font": {
         "family": "Courier New, monospace",
         "size": 18
        },
        "height": 700,
        "legend": {
         "title": {
          "text": "Position"
         },
         "tracegroupgap": 0
        },
        "margin": {
         "t": 60
        },
        "template": {
         "data": {
          "bar": [
           {
            "error_x": {
             "color": "#2a3f5f"
            },
            "error_y": {
             "color": "#2a3f5f"
            },
            "marker": {
             "line": {
              "color": "#E5ECF6",
              "width": 0.5
             },
             "pattern": {
              "fillmode": "overlay",
              "size": 10,
              "solidity": 0.2
             }
            },
            "type": "bar"
           }
          ],
          "barpolar": [
           {
            "marker": {
             "line": {
              "color": "#E5ECF6",
              "width": 0.5
             },
             "pattern": {
              "fillmode": "overlay",
              "size": 10,
              "solidity": 0.2
             }
            },
            "type": "barpolar"
           }
          ],
          "carpet": [
           {
            "aaxis": {
             "endlinecolor": "#2a3f5f",
             "gridcolor": "white",
             "linecolor": "white",
             "minorgridcolor": "white",
             "startlinecolor": "#2a3f5f"
            },
            "baxis": {
             "endlinecolor": "#2a3f5f",
             "gridcolor": "white",
             "linecolor": "white",
             "minorgridcolor": "white",
             "startlinecolor": "#2a3f5f"
            },
            "type": "carpet"
           }
          ],
          "choropleth": [
           {
            "colorbar": {
             "outlinewidth": 0,
             "ticks": ""
            },
            "type": "choropleth"
           }
          ],
          "contour": [
           {
            "colorbar": {
             "outlinewidth": 0,
             "ticks": ""
            },
            "colorscale": [
             [
              0,
              "#0d0887"
             ],
             [
              0.1111111111111111,
              "#46039f"
             ],
             [
              0.2222222222222222,
              "#7201a8"
             ],
             [
              0.3333333333333333,
              "#9c179e"
             ],
             [
              0.4444444444444444,
              "#bd3786"
             ],
             [
              0.5555555555555556,
              "#d8576b"
             ],
             [
              0.6666666666666666,
              "#ed7953"
             ],
             [
              0.7777777777777778,
              "#fb9f3a"
             ],
             [
              0.8888888888888888,
              "#fdca26"
             ],
             [
              1,
              "#f0f921"
             ]
            ],
            "type": "contour"
           }
          ],
          "contourcarpet": [
           {
            "colorbar": {
             "outlinewidth": 0,
             "ticks": ""
            },
            "type": "contourcarpet"
           }
          ],
          "heatmap": [
           {
            "colorbar": {
             "outlinewidth": 0,
             "ticks": ""
            },
            "colorscale": [
             [
              0,
              "#0d0887"
             ],
             [
              0.1111111111111111,
              "#46039f"
             ],
             [
              0.2222222222222222,
              "#7201a8"
             ],
             [
              0.3333333333333333,
              "#9c179e"
             ],
             [
              0.4444444444444444,
              "#bd3786"
             ],
             [
              0.5555555555555556,
              "#d8576b"
             ],
             [
              0.6666666666666666,
              "#ed7953"
             ],
             [
              0.7777777777777778,
              "#fb9f3a"
             ],
             [
              0.8888888888888888,
              "#fdca26"
             ],
             [
              1,
              "#f0f921"
             ]
            ],
            "type": "heatmap"
           }
          ],
          "heatmapgl": [
           {
            "colorbar": {
             "outlinewidth": 0,
             "ticks": ""
            },
            "colorscale": [
             [
              0,
              "#0d0887"
             ],
             [
              0.1111111111111111,
              "#46039f"
             ],
             [
              0.2222222222222222,
              "#7201a8"
             ],
             [
              0.3333333333333333,
              "#9c179e"
             ],
             [
              0.4444444444444444,
              "#bd3786"
             ],
             [
              0.5555555555555556,
              "#d8576b"
             ],
             [
              0.6666666666666666,
              "#ed7953"
             ],
             [
              0.7777777777777778,
              "#fb9f3a"
             ],
             [
              0.8888888888888888,
              "#fdca26"
             ],
             [
              1,
              "#f0f921"
             ]
            ],
            "type": "heatmapgl"
           }
          ],
          "histogram": [
           {
            "marker": {
             "pattern": {
              "fillmode": "overlay",
              "size": 10,
              "solidity": 0.2
             }
            },
            "type": "histogram"
           }
          ],
          "histogram2d": [
           {
            "colorbar": {
             "outlinewidth": 0,
             "ticks": ""
            },
            "colorscale": [
             [
              0,
              "#0d0887"
             ],
             [
              0.1111111111111111,
              "#46039f"
             ],
             [
              0.2222222222222222,
              "#7201a8"
             ],
             [
              0.3333333333333333,
              "#9c179e"
             ],
             [
              0.4444444444444444,
              "#bd3786"
             ],
             [
              0.5555555555555556,
              "#d8576b"
             ],
             [
              0.6666666666666666,
              "#ed7953"
             ],
             [
              0.7777777777777778,
              "#fb9f3a"
             ],
             [
              0.8888888888888888,
              "#fdca26"
             ],
             [
              1,
              "#f0f921"
             ]
            ],
            "type": "histogram2d"
           }
          ],
          "histogram2dcontour": [
           {
            "colorbar": {
             "outlinewidth": 0,
             "ticks": ""
            },
            "colorscale": [
             [
              0,
              "#0d0887"
             ],
             [
              0.1111111111111111,
              "#46039f"
             ],
             [
              0.2222222222222222,
              "#7201a8"
             ],
             [
              0.3333333333333333,
              "#9c179e"
             ],
             [
              0.4444444444444444,
              "#bd3786"
             ],
             [
              0.5555555555555556,
              "#d8576b"
             ],
             [
              0.6666666666666666,
              "#ed7953"
             ],
             [
              0.7777777777777778,
              "#fb9f3a"
             ],
             [
              0.8888888888888888,
              "#fdca26"
             ],
             [
              1,
              "#f0f921"
             ]
            ],
            "type": "histogram2dcontour"
           }
          ],
          "mesh3d": [
           {
            "colorbar": {
             "outlinewidth": 0,
             "ticks": ""
            },
            "type": "mesh3d"
           }
          ],
          "parcoords": [
           {
            "line": {
             "colorbar": {
              "outlinewidth": 0,
              "ticks": ""
             }
            },
            "type": "parcoords"
           }
          ],
          "pie": [
           {
            "automargin": true,
            "type": "pie"
           }
          ],
          "scatter": [
           {
            "fillpattern": {
             "fillmode": "overlay",
             "size": 10,
             "solidity": 0.2
            },
            "type": "scatter"
           }
          ],
          "scatter3d": [
           {
            "line": {
             "colorbar": {
              "outlinewidth": 0,
              "ticks": ""
             }
            },
            "marker": {
             "colorbar": {
              "outlinewidth": 0,
              "ticks": ""
             }
            },
            "type": "scatter3d"
           }
          ],
          "scattercarpet": [
           {
            "marker": {
             "colorbar": {
              "outlinewidth": 0,
              "ticks": ""
             }
            },
            "type": "scattercarpet"
           }
          ],
          "scattergeo": [
           {
            "marker": {
             "colorbar": {
              "outlinewidth": 0,
              "ticks": ""
             }
            },
            "type": "scattergeo"
           }
          ],
          "scattergl": [
           {
            "marker": {
             "colorbar": {
              "outlinewidth": 0,
              "ticks": ""
             }
            },
            "type": "scattergl"
           }
          ],
          "scattermapbox": [
           {
            "marker": {
             "colorbar": {
              "outlinewidth": 0,
              "ticks": ""
             }
            },
            "type": "scattermapbox"
           }
          ],
          "scatterpolar": [
           {
            "marker": {
             "colorbar": {
              "outlinewidth": 0,
              "ticks": ""
             }
            },
            "type": "scatterpolar"
           }
          ],
          "scatterpolargl": [
           {
            "marker": {
             "colorbar": {
              "outlinewidth": 0,
              "ticks": ""
             }
            },
            "type": "scatterpolargl"
           }
          ],
          "scatterternary": [
           {
            "marker": {
             "colorbar": {
              "outlinewidth": 0,
              "ticks": ""
             }
            },
            "type": "scatterternary"
           }
          ],
          "surface": [
           {
            "colorbar": {
             "outlinewidth": 0,
             "ticks": ""
            },
            "colorscale": [
             [
              0,
              "#0d0887"
             ],
             [
              0.1111111111111111,
              "#46039f"
             ],
             [
              0.2222222222222222,
              "#7201a8"
             ],
             [
              0.3333333333333333,
              "#9c179e"
             ],
             [
              0.4444444444444444,
              "#bd3786"
             ],
             [
              0.5555555555555556,
              "#d8576b"
             ],
             [
              0.6666666666666666,
              "#ed7953"
             ],
             [
              0.7777777777777778,
              "#fb9f3a"
             ],
             [
              0.8888888888888888,
              "#fdca26"
             ],
             [
              1,
              "#f0f921"
             ]
            ],
            "type": "surface"
           }
          ],
          "table": [
           {
            "cells": {
             "fill": {
              "color": "#EBF0F8"
             },
             "line": {
              "color": "white"
             }
            },
            "header": {
             "fill": {
              "color": "#C8D4E3"
             },
             "line": {
              "color": "white"
             }
            },
            "type": "table"
           }
          ]
         },
         "layout": {
          "annotationdefaults": {
           "arrowcolor": "#2a3f5f",
           "arrowhead": 0,
           "arrowwidth": 1
          },
          "autotypenumbers": "strict",
          "coloraxis": {
           "colorbar": {
            "outlinewidth": 0,
            "ticks": ""
           }
          },
          "colorscale": {
           "diverging": [
            [
             0,
             "#8e0152"
            ],
            [
             0.1,
             "#c51b7d"
            ],
            [
             0.2,
             "#de77ae"
            ],
            [
             0.3,
             "#f1b6da"
            ],
            [
             0.4,
             "#fde0ef"
            ],
            [
             0.5,
             "#f7f7f7"
            ],
            [
             0.6,
             "#e6f5d0"
            ],
            [
             0.7,
             "#b8e186"
            ],
            [
             0.8,
             "#7fbc41"
            ],
            [
             0.9,
             "#4d9221"
            ],
            [
             1,
             "#276419"
            ]
           ],
           "sequential": [
            [
             0,
             "#0d0887"
            ],
            [
             0.1111111111111111,
             "#46039f"
            ],
            [
             0.2222222222222222,
             "#7201a8"
            ],
            [
             0.3333333333333333,
             "#9c179e"
            ],
            [
             0.4444444444444444,
             "#bd3786"
            ],
            [
             0.5555555555555556,
             "#d8576b"
            ],
            [
             0.6666666666666666,
             "#ed7953"
            ],
            [
             0.7777777777777778,
             "#fb9f3a"
            ],
            [
             0.8888888888888888,
             "#fdca26"
            ],
            [
             1,
             "#f0f921"
            ]
           ],
           "sequentialminus": [
            [
             0,
             "#0d0887"
            ],
            [
             0.1111111111111111,
             "#46039f"
            ],
            [
             0.2222222222222222,
             "#7201a8"
            ],
            [
             0.3333333333333333,
             "#9c179e"
            ],
            [
             0.4444444444444444,
             "#bd3786"
            ],
            [
             0.5555555555555556,
             "#d8576b"
            ],
            [
             0.6666666666666666,
             "#ed7953"
            ],
            [
             0.7777777777777778,
             "#fb9f3a"
            ],
            [
             0.8888888888888888,
             "#fdca26"
            ],
            [
             1,
             "#f0f921"
            ]
           ]
          },
          "colorway": [
           "#636efa",
           "#EF553B",
           "#00cc96",
           "#ab63fa",
           "#FFA15A",
           "#19d3f3",
           "#FF6692",
           "#B6E880",
           "#FF97FF",
           "#FECB52"
          ],
          "font": {
           "color": "#2a3f5f"
          },
          "geo": {
           "bgcolor": "white",
           "lakecolor": "white",
           "landcolor": "#E5ECF6",
           "showlakes": true,
           "showland": true,
           "subunitcolor": "white"
          },
          "hoverlabel": {
           "align": "left"
          },
          "hovermode": "closest",
          "mapbox": {
           "style": "light"
          },
          "paper_bgcolor": "white",
          "plot_bgcolor": "#E5ECF6",
          "polar": {
           "angularaxis": {
            "gridcolor": "white",
            "linecolor": "white",
            "ticks": ""
           },
           "bgcolor": "#E5ECF6",
           "radialaxis": {
            "gridcolor": "white",
            "linecolor": "white",
            "ticks": ""
           }
          },
          "scene": {
           "xaxis": {
            "backgroundcolor": "#E5ECF6",
            "gridcolor": "white",
            "gridwidth": 2,
            "linecolor": "white",
            "showbackground": true,
            "ticks": "",
            "zerolinecolor": "white"
           },
           "yaxis": {
            "backgroundcolor": "#E5ECF6",
            "gridcolor": "white",
            "gridwidth": 2,
            "linecolor": "white",
            "showbackground": true,
            "ticks": "",
            "zerolinecolor": "white"
           },
           "zaxis": {
            "backgroundcolor": "#E5ECF6",
            "gridcolor": "white",
            "gridwidth": 2,
            "linecolor": "white",
            "showbackground": true,
            "ticks": "",
            "zerolinecolor": "white"
           }
          },
          "shapedefaults": {
           "line": {
            "color": "#2a3f5f"
           }
          },
          "ternary": {
           "aaxis": {
            "gridcolor": "white",
            "linecolor": "white",
            "ticks": ""
           },
           "baxis": {
            "gridcolor": "white",
            "linecolor": "white",
            "ticks": ""
           },
           "bgcolor": "#E5ECF6",
           "caxis": {
            "gridcolor": "white",
            "linecolor": "white",
            "ticks": ""
           }
          },
          "title": {
           "x": 0.05
          },
          "xaxis": {
           "automargin": true,
           "gridcolor": "white",
           "linecolor": "white",
           "ticks": "",
           "title": {
            "standoff": 15
           },
           "zerolinecolor": "white",
           "zerolinewidth": 2
          },
          "yaxis": {
           "automargin": true,
           "gridcolor": "white",
           "linecolor": "white",
           "ticks": "",
           "title": {
            "standoff": 15
           },
           "zerolinecolor": "white",
           "zerolinewidth": 2
          }
         }
        },
        "title": {
         "text": "Proyección de Jugadores"
        },
        "width": 800,
        "xaxis": {
         "anchor": "y",
         "domain": [
          0,
          1
         ],
         "title": {
          "text": "Ht, PPG y APG"
         }
        },
        "yaxis": {
         "anchor": "x",
         "domain": [
          0,
          1
         ],
         "title": {
          "text": "Exp y RPG"
         }
        }
       }
      }
     },
     "metadata": {},
     "output_type": "display_data"
    }
   ],
   "source": [
    "plot_FA(f_scoresDf,'F2','F3',['Ht, PPG y APG','Exp y RPG'],'Player','Pos','Position')"
   ]
  },
  {
   "cell_type": "markdown",
   "metadata": {},
   "source": [
    "## 2. Rotación por Método de Factor principal"
   ]
  },
  {
   "cell_type": "code",
   "execution_count": 127,
   "metadata": {},
   "outputs": [
    {
     "name": "stdout",
     "output_type": "stream",
     "text": [
      "Matriz de cargas para m=3\n",
      "\tF1\t \tF2\t \tF3\t \n",
      " [[ 0.497 -0.003  0.833]\n",
      " [ 0.134  0.931 -0.057]\n",
      " [ 0.262  0.825  0.092]\n",
      " [ 0.589 -0.106  0.757]\n",
      " [ 0.869 -0.258 -0.281]\n",
      " [ 0.844  0.302 -0.243]\n",
      " [ 0.806 -0.419 -0.173]\n",
      " [ 0.865  0.034 -0.332]]\n",
      "\n",
      " Comunalidades \t Varianzas Específicas\n",
      "h1^2 =  0.93\tpsi1 =  0.07\n",
      "h2^2 =  0.87\tpsi2 =  0.13\n",
      "h3^2 =  0.76\tpsi3 =  0.24\n",
      "h4^2 =  0.93\tpsi4 =  0.07\n",
      "h5^2 =  0.9\tpsi5 =  0.1\n",
      "h6^2 =  0.86\tpsi6 =  0.14\n",
      "h7^2 =  0.86\tpsi7 =  0.14\n",
      "h8^2 =  0.86\tpsi8 =  0.14\n"
     ]
    }
   ],
   "source": [
    "eps = 0.01\n",
    "L_mtx_rot, hs_rot, Psi_rot = principal_factor_method(R_mtx,3,eps,False)\n",
    "print_info(3,len(R_mtx),L_mtx_rot,hs_rot)"
   ]
  },
  {
   "cell_type": "markdown",
   "metadata": {},
   "source": [
    "### Determinar matriz de factores L, hs y Psi"
   ]
  },
  {
   "cell_type": "markdown",
   "metadata": {},
   "source": [
    "El factor 1 explica sus habilidades en la cancha. El segundo son los factores asociados al peso y altura. Mientras que el tercero es edad y experiencia."
   ]
  },
  {
   "cell_type": "code",
   "execution_count": 128,
   "metadata": {},
   "outputs": [
    {
     "name": "stdout",
     "output_type": "stream",
     "text": [
      "\n",
      "Porcentaje que supone la comunalidad \n",
      "respecto a la varianza de cada variable. (hi^2/Var(Xi))*100%\n",
      "h1^2/var(X1)=  93.0 %\n",
      "h2^2/var(X2)=  87.0 %\n",
      "h3^2/var(X3)=  76.0 %\n",
      "h4^2/var(X4)=  93.0 %\n",
      "h5^2/var(X5)=  90.0 %\n",
      "h6^2/var(X6)=  86.0 %\n",
      "h7^2/var(X7)=  86.0 %\n",
      "h8^2/var(X8)=  86.0 %\n",
      "\n",
      "Varianza acumulada para m=3 factores y p=8 variables\n",
      "var_acum1 = 0.458669\n",
      "var_acum2 = 0.716639\n",
      "var_acum3 = 0.921288\n"
     ]
    }
   ],
   "source": [
    "print_info2(3,len(R_mtx),hs_rot,cum_var_pc)"
   ]
  },
  {
   "cell_type": "markdown",
   "metadata": {},
   "source": [
    "### Calcular factor scores"
   ]
  },
  {
   "cell_type": "code",
   "execution_count": 129,
   "metadata": {},
   "outputs": [],
   "source": [
    "# Como estos datos se generaron con el método de componentes principales y estamos utilizando los\n",
    "# datos estandarizados entonces utilizamos una regresión lineal No ponderada\n",
    "f_scores_rot = np.array([\n",
    "    np.dot(np.dot(np.linalg.inv(np.dot(L_mtx_rot.T,L_mtx_rot)),L_mtx_rot.T),NumPlayers_z.loc[i]) for i in range(len(NumPlayers_z))\n",
    "])"
   ]
  },
  {
   "cell_type": "code",
   "execution_count": 130,
   "metadata": {},
   "outputs": [
    {
     "data": {
      "text/html": [
       "<div>\n",
       "<style scoped>\n",
       "    .dataframe tbody tr th:only-of-type {\n",
       "        vertical-align: middle;\n",
       "    }\n",
       "\n",
       "    .dataframe tbody tr th {\n",
       "        vertical-align: top;\n",
       "    }\n",
       "\n",
       "    .dataframe thead th {\n",
       "        text-align: right;\n",
       "    }\n",
       "</style>\n",
       "<table border=\"1\" class=\"dataframe\">\n",
       "  <thead>\n",
       "    <tr style=\"text-align: right;\">\n",
       "      <th></th>\n",
       "      <th>F1</th>\n",
       "      <th>F2</th>\n",
       "      <th>F3</th>\n",
       "      <th>Player</th>\n",
       "      <th>Team</th>\n",
       "      <th>Pos</th>\n",
       "      <th>Age</th>\n",
       "      <th>Ht</th>\n",
       "      <th>Wt</th>\n",
       "      <th>Exp</th>\n",
       "      <th>Country</th>\n",
       "      <th>PPG</th>\n",
       "      <th>RPG</th>\n",
       "      <th>APG</th>\n",
       "      <th>PIE</th>\n",
       "    </tr>\n",
       "  </thead>\n",
       "  <tbody>\n",
       "    <tr>\n",
       "      <th>0</th>\n",
       "      <td>1.619696</td>\n",
       "      <td>-0.284229</td>\n",
       "      <td>-1.204104</td>\n",
       "      <td>Jayson Tatum</td>\n",
       "      <td>BOS</td>\n",
       "      <td>F-G</td>\n",
       "      <td>26</td>\n",
       "      <td>2.03</td>\n",
       "      <td>95</td>\n",
       "      <td>6</td>\n",
       "      <td>USA</td>\n",
       "      <td>26.9</td>\n",
       "      <td>8.1</td>\n",
       "      <td>4.9</td>\n",
       "      <td>15.5</td>\n",
       "    </tr>\n",
       "    <tr>\n",
       "      <th>1</th>\n",
       "      <td>0.870350</td>\n",
       "      <td>-0.312063</td>\n",
       "      <td>-0.281267</td>\n",
       "      <td>Jaylen Brown</td>\n",
       "      <td>BOS</td>\n",
       "      <td>F</td>\n",
       "      <td>27</td>\n",
       "      <td>1.98</td>\n",
       "      <td>101</td>\n",
       "      <td>7</td>\n",
       "      <td>USA</td>\n",
       "      <td>23.0</td>\n",
       "      <td>5.5</td>\n",
       "      <td>3.6</td>\n",
       "      <td>11.6</td>\n",
       "    </tr>\n",
       "    <tr>\n",
       "      <th>2</th>\n",
       "      <td>0.464826</td>\n",
       "      <td>-1.491251</td>\n",
       "      <td>0.019575</td>\n",
       "      <td>Derrick White</td>\n",
       "      <td>BOS</td>\n",
       "      <td>G</td>\n",
       "      <td>29</td>\n",
       "      <td>1.93</td>\n",
       "      <td>86</td>\n",
       "      <td>6</td>\n",
       "      <td>USA</td>\n",
       "      <td>15.2</td>\n",
       "      <td>4.2</td>\n",
       "      <td>5.2</td>\n",
       "      <td>10.6</td>\n",
       "    </tr>\n",
       "    <tr>\n",
       "      <th>3</th>\n",
       "      <td>0.953505</td>\n",
       "      <td>-1.082262</td>\n",
       "      <td>1.608519</td>\n",
       "      <td>Jrue Holiday</td>\n",
       "      <td>BOS</td>\n",
       "      <td>G</td>\n",
       "      <td>33</td>\n",
       "      <td>1.93</td>\n",
       "      <td>93</td>\n",
       "      <td>14</td>\n",
       "      <td>USA</td>\n",
       "      <td>12.5</td>\n",
       "      <td>5.4</td>\n",
       "      <td>4.8</td>\n",
       "      <td>9.9</td>\n",
       "    </tr>\n",
       "    <tr>\n",
       "      <th>4</th>\n",
       "      <td>1.191563</td>\n",
       "      <td>0.847238</td>\n",
       "      <td>2.637032</td>\n",
       "      <td>Al Horford</td>\n",
       "      <td>BOS</td>\n",
       "      <td>C-F</td>\n",
       "      <td>38</td>\n",
       "      <td>2.06</td>\n",
       "      <td>109</td>\n",
       "      <td>16</td>\n",
       "      <td>DOM</td>\n",
       "      <td>8.6</td>\n",
       "      <td>6.4</td>\n",
       "      <td>2.6</td>\n",
       "      <td>10.5</td>\n",
       "    </tr>\n",
       "  </tbody>\n",
       "</table>\n",
       "</div>"
      ],
      "text/plain": [
       "         F1        F2        F3         Player Team  Pos  Age    Ht   Wt  Exp  \\\n",
       "0  1.619696 -0.284229 -1.204104   Jayson Tatum  BOS  F-G   26  2.03   95    6   \n",
       "1  0.870350 -0.312063 -0.281267   Jaylen Brown  BOS    F   27  1.98  101    7   \n",
       "2  0.464826 -1.491251  0.019575  Derrick White  BOS    G   29  1.93   86    6   \n",
       "3  0.953505 -1.082262  1.608519   Jrue Holiday  BOS    G   33  1.93   93   14   \n",
       "4  1.191563  0.847238  2.637032     Al Horford  BOS  C-F   38  2.06  109   16   \n",
       "\n",
       "  Country   PPG  RPG  APG   PIE  \n",
       "0     USA  26.9  8.1  4.9  15.5  \n",
       "1     USA  23.0  5.5  3.6  11.6  \n",
       "2     USA  15.2  4.2  5.2  10.6  \n",
       "3     USA  12.5  5.4  4.8   9.9  \n",
       "4     DOM   8.6  6.4  2.6  10.5  "
      ]
     },
     "execution_count": 130,
     "metadata": {},
     "output_type": "execute_result"
    }
   ],
   "source": [
    "# Se crea el dataframe para los Celtics\n",
    "f_scores_rotDf = pd.DataFrame(f_scores_rot,columns=['F1','F2','F3'])\n",
    "Players.reset_index(drop=True, inplace=True)\n",
    "f_scores_rotDf.reset_index(drop=True,inplace=True)\n",
    "f_scores_rotDf = pd.concat([f_scores_rotDf,Players],axis=1)\n",
    "f_scores_rotDf.head()"
   ]
  },
  {
   "cell_type": "code",
   "execution_count": 132,
   "metadata": {},
   "outputs": [
    {
     "data": {
      "application/vnd.plotly.v1+json": {
       "config": {
        "plotlyServerURL": "https://plot.ly"
       },
       "data": [
        {
         "customdata": [
          [
           "Jayson Tatum",
           "BOS",
           "F-G",
           26,
           2.03,
           95,
           26.9,
           8.1,
           4.9,
           15.5
          ],
          [
           "Jaylen Brown",
           "BOS",
           "F",
           27,
           1.98,
           101,
           23,
           5.5,
           3.6,
           11.6
          ],
          [
           "Derrick White",
           "BOS",
           "G",
           29,
           1.93,
           86,
           15.2,
           4.2,
           5.2,
           10.6
          ],
          [
           "Jrue Holiday",
           "BOS",
           "G",
           33,
           1.93,
           93,
           12.5,
           5.4,
           4.8,
           9.9
          ],
          [
           "Al Horford",
           "BOS",
           "C-F",
           38,
           2.06,
           109,
           8.6,
           6.4,
           2.6,
           10.5
          ],
          [
           "Payton Pritchard",
           "BOS",
           "G",
           26,
           1.85,
           88,
           9.6,
           3.2,
           3.4,
           10.3
          ],
          [
           "Sam Hauser",
           "BOS",
           "F",
           26,
           2.01,
           98,
           9,
           3.5,
           1,
           8.6
          ],
          [
           "Kristaps Porzingis",
           "BOS",
           "F-C",
           28,
           2.18,
           109,
           20.1,
           7.2,
           2,
           13.8
          ],
          [
           "Luke Kornet",
           "BOS",
           "C-F",
           28,
           2.16,
           113,
           5.3,
           4.1,
           1.1,
           11.3
          ],
          [
           "Oshae Brissett",
           "BOS",
           "F-G",
           25,
           2.01,
           95,
           3.7,
           2.9,
           0.8,
           7.6
          ],
          [
           "Xavier Tillman",
           "BOS",
           "F",
           25,
           2.01,
           111,
           5.3,
           3.9,
           1.4,
           7.8
          ],
          [
           "Jaden Springer",
           "BOS",
           "G",
           21,
           1.93,
           92,
           3.3,
           1.6,
           0.9,
           5.5
          ],
          [
           "Svi Mykhailiuk",
           "BOS",
           "G-F",
           26,
           2.01,
           93,
           4,
           1.2,
           0.9,
           7.7
          ],
          [
           "Jordan Walsh",
           "BOS",
           "G",
           20,
           1.98,
           93,
           1.7,
           2.2,
           0.6,
           5.8
          ],
          [
           "Neemias Queta",
           "BOS",
           "C",
           24,
           2.13,
           112,
           5.5,
           4.4,
           0.7,
           12.3
          ]
         ],
         "hovertemplate": "<b style='font-size:16px; color:#000000;'> %{customdata[0]}</b><br>Team: %{customdata[1]}<br>Position: %{customdata[2]}<br>Age: %{customdata[3]} years<br>Height: %{customdata[4]} m<br>Weight: %{customdata[5]} kg<br>PPG: %{customdata[6]}<br>RPG: %{customdata[7]}<br>APG: %{customdata[8]}<br>PIE: %{customdata[9]}<br><extra></extra>",
         "legendgroup": "BOS",
         "marker": {
          "color": "#636efa",
          "size": 20,
          "symbol": "circle"
         },
         "mode": "markers+text",
         "name": "BOS",
         "orientation": "v",
         "showlegend": true,
         "text": [
          "Jayson Tatum",
          "Jaylen Brown",
          "Derrick White",
          "Jrue Holiday",
          "Al Horford",
          "Payton Pritchard",
          "Sam Hauser",
          "Kristaps Porzingis",
          "Luke Kornet",
          "Oshae Brissett",
          "Xavier Tillman",
          "Jaden Springer",
          "Svi Mykhailiuk",
          "Jordan Walsh",
          "Neemias Queta"
         ],
         "textfont": {
          "size": 14
         },
         "textposition": "bottom center",
         "type": "scatter",
         "x": [
          1.6196957638746645,
          0.8703495451666614,
          0.4648263916598932,
          0.9535054988121149,
          1.1915625761775783,
          -0.2916316232308212,
          -0.5579298399948136,
          1.1524316856384036,
          0.04255790597233154,
          -0.8585916497303624,
          -0.5215584241003604,
          -1.444667280089023,
          -0.9650047806669958,
          -1.5234002754855571,
          -0.21263652387704335
         ],
         "xaxis": "x",
         "y": [
          -0.2842289996930858,
          -0.31206300416108235,
          -1.491251214429327,
          -1.0822622009654101,
          0.847238064899249,
          -1.6133898694387363,
          0.14251913381328182,
          1.649235084583501,
          1.8409737754840947,
          0.025546882513950035,
          0.8193795771935958,
          -0.6876070273389836,
          -0.23354398119433328,
          -0.20210944136917758,
          1.7390813925036248
         ],
         "yaxis": "y"
        },
        {
         "customdata": [
          [
           "Luka Doncic",
           "DAL",
           "F-G",
           25,
           2.01,
           104,
           33.9,
           9.2,
           9.8,
           20
          ],
          [
           "Kyrie Irving",
           "DAL",
           "G",
           32,
           1.88,
           88,
           25.6,
           5,
           5.2,
           14.4
          ],
          [
           "P.J. Washington",
           "DAL",
           "F",
           25,
           2.01,
           104,
           12.9,
           5.6,
           1.9,
           7.9
          ],
          [
           "Derrick Jones Jr.",
           "DAL",
           "F",
           27,
           1.98,
           95,
           8.6,
           3.3,
           1,
           6.8
          ],
          [
           "Daniel Gafford",
           "DAL",
           "F-C",
           25,
           2.08,
           106,
           11,
           7.6,
           1.6,
           12.1
          ],
          [
           "Dereck Lively II",
           "DAL",
           "C",
           20,
           2.16,
           104,
           8.8,
           6.9,
           1.1,
           10.2
          ],
          [
           "Josh Green",
           "DAL",
           "G",
           23,
           1.96,
           91,
           8.2,
           3.2,
           2.3,
           6.3
          ],
          [
           "Jaden Hardy",
           "DAL",
           "G",
           21,
           1.91,
           90,
           7.3,
           1.8,
           1.5,
           8.1
          ],
          [
           "Tim Hardaway Jr.",
           "DAL",
           "G-F",
           32,
           1.96,
           93,
           14.4,
           3.2,
           1.8,
           8.3
          ],
          [
           "Maxi Kleber",
           "DAL",
           "F",
           32,
           2.08,
           109,
           4.4,
           3.3,
           1.6,
           5.7
          ],
          [
           "Dante Exum",
           "DAL",
           "G",
           28,
           1.96,
           97,
           7.8,
           2.7,
           2.9,
           9.3
          ],
          [
           "A.J. Lawson",
           "DAL",
           "G",
           23,
           1.98,
           81,
           3.2,
           1.2,
           0.5,
           7.6
          ],
          [
           "Dwight Powell",
           "DAL",
           "F-C",
           32,
           2.08,
           109,
           3.3,
           3.4,
           1.3,
           7.9
          ]
         ],
         "hovertemplate": "<b style='font-size:16px; color:#000000;'> %{customdata[0]}</b><br>Team: %{customdata[1]}<br>Position: %{customdata[2]}<br>Age: %{customdata[3]} years<br>Height: %{customdata[4]} m<br>Weight: %{customdata[5]} kg<br>PPG: %{customdata[6]}<br>RPG: %{customdata[7]}<br>APG: %{customdata[8]}<br>PIE: %{customdata[9]}<br><extra></extra>",
         "legendgroup": "DAL",
         "marker": {
          "color": "#EF553B",
          "size": 20,
          "symbol": "circle"
         },
         "mode": "markers+text",
         "name": "DAL",
         "orientation": "v",
         "showlegend": true,
         "text": [
          "Luka Doncic",
          "Kyrie Irving",
          "P.J. Washington",
          "Derrick Jones Jr.",
          "Daniel Gafford",
          "Dereck Lively II",
          "Josh Green",
          "Jaden Hardy",
          "Tim Hardaway Jr.",
          "Maxi Kleber",
          "Dante Exum",
          "A.J. Lawson",
          "Dwight Powell"
         ],
         "textfont": {
          "size": 14
         },
         "textposition": "bottom center",
         "type": "scatter",
         "x": [
          2.8368960955170754,
          1.505968322174181,
          -0.04939287653938723,
          -0.5209337813096283,
          0.44979176493535655,
          -0.2118468884847473,
          -0.7816840083789992,
          -1.1063416797988517,
          0.11466121680502558,
          -0.3761750786069751,
          -0.21417407293954993,
          -1.426427134684407,
          -0.13985084881575865
         ],
         "xaxis": "x",
         "y": [
          -0.48790124375804683,
          -1.8720647365165202,
          0.40422425435999276,
          -0.2765388274831649,
          1.1637759017715203,
          1.6308300594917,
          -0.6822790191372268,
          -0.9961187102294378,
          -0.725485561803991,
          1.0296675430351132,
          -0.5093363298611787,
          -0.8944365995997816,
          1.0581450973298856
         ],
         "yaxis": "y"
        }
       ],
       "layout": {
        "font": {
         "family": "Courier New, monospace",
         "size": 18
        },
        "height": 700,
        "legend": {
         "title": {
          "text": "Team"
         },
         "tracegroupgap": 0
        },
        "margin": {
         "t": 60
        },
        "template": {
         "data": {
          "bar": [
           {
            "error_x": {
             "color": "#2a3f5f"
            },
            "error_y": {
             "color": "#2a3f5f"
            },
            "marker": {
             "line": {
              "color": "#E5ECF6",
              "width": 0.5
             },
             "pattern": {
              "fillmode": "overlay",
              "size": 10,
              "solidity": 0.2
             }
            },
            "type": "bar"
           }
          ],
          "barpolar": [
           {
            "marker": {
             "line": {
              "color": "#E5ECF6",
              "width": 0.5
             },
             "pattern": {
              "fillmode": "overlay",
              "size": 10,
              "solidity": 0.2
             }
            },
            "type": "barpolar"
           }
          ],
          "carpet": [
           {
            "aaxis": {
             "endlinecolor": "#2a3f5f",
             "gridcolor": "white",
             "linecolor": "white",
             "minorgridcolor": "white",
             "startlinecolor": "#2a3f5f"
            },
            "baxis": {
             "endlinecolor": "#2a3f5f",
             "gridcolor": "white",
             "linecolor": "white",
             "minorgridcolor": "white",
             "startlinecolor": "#2a3f5f"
            },
            "type": "carpet"
           }
          ],
          "choropleth": [
           {
            "colorbar": {
             "outlinewidth": 0,
             "ticks": ""
            },
            "type": "choropleth"
           }
          ],
          "contour": [
           {
            "colorbar": {
             "outlinewidth": 0,
             "ticks": ""
            },
            "colorscale": [
             [
              0,
              "#0d0887"
             ],
             [
              0.1111111111111111,
              "#46039f"
             ],
             [
              0.2222222222222222,
              "#7201a8"
             ],
             [
              0.3333333333333333,
              "#9c179e"
             ],
             [
              0.4444444444444444,
              "#bd3786"
             ],
             [
              0.5555555555555556,
              "#d8576b"
             ],
             [
              0.6666666666666666,
              "#ed7953"
             ],
             [
              0.7777777777777778,
              "#fb9f3a"
             ],
             [
              0.8888888888888888,
              "#fdca26"
             ],
             [
              1,
              "#f0f921"
             ]
            ],
            "type": "contour"
           }
          ],
          "contourcarpet": [
           {
            "colorbar": {
             "outlinewidth": 0,
             "ticks": ""
            },
            "type": "contourcarpet"
           }
          ],
          "heatmap": [
           {
            "colorbar": {
             "outlinewidth": 0,
             "ticks": ""
            },
            "colorscale": [
             [
              0,
              "#0d0887"
             ],
             [
              0.1111111111111111,
              "#46039f"
             ],
             [
              0.2222222222222222,
              "#7201a8"
             ],
             [
              0.3333333333333333,
              "#9c179e"
             ],
             [
              0.4444444444444444,
              "#bd3786"
             ],
             [
              0.5555555555555556,
              "#d8576b"
             ],
             [
              0.6666666666666666,
              "#ed7953"
             ],
             [
              0.7777777777777778,
              "#fb9f3a"
             ],
             [
              0.8888888888888888,
              "#fdca26"
             ],
             [
              1,
              "#f0f921"
             ]
            ],
            "type": "heatmap"
           }
          ],
          "heatmapgl": [
           {
            "colorbar": {
             "outlinewidth": 0,
             "ticks": ""
            },
            "colorscale": [
             [
              0,
              "#0d0887"
             ],
             [
              0.1111111111111111,
              "#46039f"
             ],
             [
              0.2222222222222222,
              "#7201a8"
             ],
             [
              0.3333333333333333,
              "#9c179e"
             ],
             [
              0.4444444444444444,
              "#bd3786"
             ],
             [
              0.5555555555555556,
              "#d8576b"
             ],
             [
              0.6666666666666666,
              "#ed7953"
             ],
             [
              0.7777777777777778,
              "#fb9f3a"
             ],
             [
              0.8888888888888888,
              "#fdca26"
             ],
             [
              1,
              "#f0f921"
             ]
            ],
            "type": "heatmapgl"
           }
          ],
          "histogram": [
           {
            "marker": {
             "pattern": {
              "fillmode": "overlay",
              "size": 10,
              "solidity": 0.2
             }
            },
            "type": "histogram"
           }
          ],
          "histogram2d": [
           {
            "colorbar": {
             "outlinewidth": 0,
             "ticks": ""
            },
            "colorscale": [
             [
              0,
              "#0d0887"
             ],
             [
              0.1111111111111111,
              "#46039f"
             ],
             [
              0.2222222222222222,
              "#7201a8"
             ],
             [
              0.3333333333333333,
              "#9c179e"
             ],
             [
              0.4444444444444444,
              "#bd3786"
             ],
             [
              0.5555555555555556,
              "#d8576b"
             ],
             [
              0.6666666666666666,
              "#ed7953"
             ],
             [
              0.7777777777777778,
              "#fb9f3a"
             ],
             [
              0.8888888888888888,
              "#fdca26"
             ],
             [
              1,
              "#f0f921"
             ]
            ],
            "type": "histogram2d"
           }
          ],
          "histogram2dcontour": [
           {
            "colorbar": {
             "outlinewidth": 0,
             "ticks": ""
            },
            "colorscale": [
             [
              0,
              "#0d0887"
             ],
             [
              0.1111111111111111,
              "#46039f"
             ],
             [
              0.2222222222222222,
              "#7201a8"
             ],
             [
              0.3333333333333333,
              "#9c179e"
             ],
             [
              0.4444444444444444,
              "#bd3786"
             ],
             [
              0.5555555555555556,
              "#d8576b"
             ],
             [
              0.6666666666666666,
              "#ed7953"
             ],
             [
              0.7777777777777778,
              "#fb9f3a"
             ],
             [
              0.8888888888888888,
              "#fdca26"
             ],
             [
              1,
              "#f0f921"
             ]
            ],
            "type": "histogram2dcontour"
           }
          ],
          "mesh3d": [
           {
            "colorbar": {
             "outlinewidth": 0,
             "ticks": ""
            },
            "type": "mesh3d"
           }
          ],
          "parcoords": [
           {
            "line": {
             "colorbar": {
              "outlinewidth": 0,
              "ticks": ""
             }
            },
            "type": "parcoords"
           }
          ],
          "pie": [
           {
            "automargin": true,
            "type": "pie"
           }
          ],
          "scatter": [
           {
            "fillpattern": {
             "fillmode": "overlay",
             "size": 10,
             "solidity": 0.2
            },
            "type": "scatter"
           }
          ],
          "scatter3d": [
           {
            "line": {
             "colorbar": {
              "outlinewidth": 0,
              "ticks": ""
             }
            },
            "marker": {
             "colorbar": {
              "outlinewidth": 0,
              "ticks": ""
             }
            },
            "type": "scatter3d"
           }
          ],
          "scattercarpet": [
           {
            "marker": {
             "colorbar": {
              "outlinewidth": 0,
              "ticks": ""
             }
            },
            "type": "scattercarpet"
           }
          ],
          "scattergeo": [
           {
            "marker": {
             "colorbar": {
              "outlinewidth": 0,
              "ticks": ""
             }
            },
            "type": "scattergeo"
           }
          ],
          "scattergl": [
           {
            "marker": {
             "colorbar": {
              "outlinewidth": 0,
              "ticks": ""
             }
            },
            "type": "scattergl"
           }
          ],
          "scattermapbox": [
           {
            "marker": {
             "colorbar": {
              "outlinewidth": 0,
              "ticks": ""
             }
            },
            "type": "scattermapbox"
           }
          ],
          "scatterpolar": [
           {
            "marker": {
             "colorbar": {
              "outlinewidth": 0,
              "ticks": ""
             }
            },
            "type": "scatterpolar"
           }
          ],
          "scatterpolargl": [
           {
            "marker": {
             "colorbar": {
              "outlinewidth": 0,
              "ticks": ""
             }
            },
            "type": "scatterpolargl"
           }
          ],
          "scatterternary": [
           {
            "marker": {
             "colorbar": {
              "outlinewidth": 0,
              "ticks": ""
             }
            },
            "type": "scatterternary"
           }
          ],
          "surface": [
           {
            "colorbar": {
             "outlinewidth": 0,
             "ticks": ""
            },
            "colorscale": [
             [
              0,
              "#0d0887"
             ],
             [
              0.1111111111111111,
              "#46039f"
             ],
             [
              0.2222222222222222,
              "#7201a8"
             ],
             [
              0.3333333333333333,
              "#9c179e"
             ],
             [
              0.4444444444444444,
              "#bd3786"
             ],
             [
              0.5555555555555556,
              "#d8576b"
             ],
             [
              0.6666666666666666,
              "#ed7953"
             ],
             [
              0.7777777777777778,
              "#fb9f3a"
             ],
             [
              0.8888888888888888,
              "#fdca26"
             ],
             [
              1,
              "#f0f921"
             ]
            ],
            "type": "surface"
           }
          ],
          "table": [
           {
            "cells": {
             "fill": {
              "color": "#EBF0F8"
             },
             "line": {
              "color": "white"
             }
            },
            "header": {
             "fill": {
              "color": "#C8D4E3"
             },
             "line": {
              "color": "white"
             }
            },
            "type": "table"
           }
          ]
         },
         "layout": {
          "annotationdefaults": {
           "arrowcolor": "#2a3f5f",
           "arrowhead": 0,
           "arrowwidth": 1
          },
          "autotypenumbers": "strict",
          "coloraxis": {
           "colorbar": {
            "outlinewidth": 0,
            "ticks": ""
           }
          },
          "colorscale": {
           "diverging": [
            [
             0,
             "#8e0152"
            ],
            [
             0.1,
             "#c51b7d"
            ],
            [
             0.2,
             "#de77ae"
            ],
            [
             0.3,
             "#f1b6da"
            ],
            [
             0.4,
             "#fde0ef"
            ],
            [
             0.5,
             "#f7f7f7"
            ],
            [
             0.6,
             "#e6f5d0"
            ],
            [
             0.7,
             "#b8e186"
            ],
            [
             0.8,
             "#7fbc41"
            ],
            [
             0.9,
             "#4d9221"
            ],
            [
             1,
             "#276419"
            ]
           ],
           "sequential": [
            [
             0,
             "#0d0887"
            ],
            [
             0.1111111111111111,
             "#46039f"
            ],
            [
             0.2222222222222222,
             "#7201a8"
            ],
            [
             0.3333333333333333,
             "#9c179e"
            ],
            [
             0.4444444444444444,
             "#bd3786"
            ],
            [
             0.5555555555555556,
             "#d8576b"
            ],
            [
             0.6666666666666666,
             "#ed7953"
            ],
            [
             0.7777777777777778,
             "#fb9f3a"
            ],
            [
             0.8888888888888888,
             "#fdca26"
            ],
            [
             1,
             "#f0f921"
            ]
           ],
           "sequentialminus": [
            [
             0,
             "#0d0887"
            ],
            [
             0.1111111111111111,
             "#46039f"
            ],
            [
             0.2222222222222222,
             "#7201a8"
            ],
            [
             0.3333333333333333,
             "#9c179e"
            ],
            [
             0.4444444444444444,
             "#bd3786"
            ],
            [
             0.5555555555555556,
             "#d8576b"
            ],
            [
             0.6666666666666666,
             "#ed7953"
            ],
            [
             0.7777777777777778,
             "#fb9f3a"
            ],
            [
             0.8888888888888888,
             "#fdca26"
            ],
            [
             1,
             "#f0f921"
            ]
           ]
          },
          "colorway": [
           "#636efa",
           "#EF553B",
           "#00cc96",
           "#ab63fa",
           "#FFA15A",
           "#19d3f3",
           "#FF6692",
           "#B6E880",
           "#FF97FF",
           "#FECB52"
          ],
          "font": {
           "color": "#2a3f5f"
          },
          "geo": {
           "bgcolor": "white",
           "lakecolor": "white",
           "landcolor": "#E5ECF6",
           "showlakes": true,
           "showland": true,
           "subunitcolor": "white"
          },
          "hoverlabel": {
           "align": "left"
          },
          "hovermode": "closest",
          "mapbox": {
           "style": "light"
          },
          "paper_bgcolor": "white",
          "plot_bgcolor": "#E5ECF6",
          "polar": {
           "angularaxis": {
            "gridcolor": "white",
            "linecolor": "white",
            "ticks": ""
           },
           "bgcolor": "#E5ECF6",
           "radialaxis": {
            "gridcolor": "white",
            "linecolor": "white",
            "ticks": ""
           }
          },
          "scene": {
           "xaxis": {
            "backgroundcolor": "#E5ECF6",
            "gridcolor": "white",
            "gridwidth": 2,
            "linecolor": "white",
            "showbackground": true,
            "ticks": "",
            "zerolinecolor": "white"
           },
           "yaxis": {
            "backgroundcolor": "#E5ECF6",
            "gridcolor": "white",
            "gridwidth": 2,
            "linecolor": "white",
            "showbackground": true,
            "ticks": "",
            "zerolinecolor": "white"
           },
           "zaxis": {
            "backgroundcolor": "#E5ECF6",
            "gridcolor": "white",
            "gridwidth": 2,
            "linecolor": "white",
            "showbackground": true,
            "ticks": "",
            "zerolinecolor": "white"
           }
          },
          "shapedefaults": {
           "line": {
            "color": "#2a3f5f"
           }
          },
          "ternary": {
           "aaxis": {
            "gridcolor": "white",
            "linecolor": "white",
            "ticks": ""
           },
           "baxis": {
            "gridcolor": "white",
            "linecolor": "white",
            "ticks": ""
           },
           "bgcolor": "#E5ECF6",
           "caxis": {
            "gridcolor": "white",
            "linecolor": "white",
            "ticks": ""
           }
          },
          "title": {
           "x": 0.05
          },
          "xaxis": {
           "automargin": true,
           "gridcolor": "white",
           "linecolor": "white",
           "ticks": "",
           "title": {
            "standoff": 15
           },
           "zerolinecolor": "white",
           "zerolinewidth": 2
          },
          "yaxis": {
           "automargin": true,
           "gridcolor": "white",
           "linecolor": "white",
           "ticks": "",
           "title": {
            "standoff": 15
           },
           "zerolinecolor": "white",
           "zerolinewidth": 2
          }
         }
        },
        "title": {
         "text": "Proyección de Jugadores"
        },
        "width": 800,
        "xaxis": {
         "anchor": "y",
         "domain": [
          0,
          1
         ],
         "title": {
          "text": "Desempeño en la cancha"
         }
        },
        "yaxis": {
         "anchor": "x",
         "domain": [
          0,
          1
         ],
         "title": {
          "text": "Talla del jugador"
         }
        }
       }
      }
     },
     "metadata": {},
     "output_type": "display_data"
    }
   ],
   "source": [
    "plot_FA(f_scores_rotDf,'F1','F2',['Desempeño en la cancha','Talla del jugador'],'Player','Team','Team')"
   ]
  },
  {
   "cell_type": "code",
   "execution_count": 133,
   "metadata": {},
   "outputs": [
    {
     "data": {
      "application/vnd.plotly.v1+json": {
       "config": {
        "plotlyServerURL": "https://plot.ly"
       },
       "data": [
        {
         "customdata": [
          [
           "Jayson Tatum",
           "BOS",
           "F-G",
           26,
           2.03,
           95,
           26.9,
           8.1,
           4.9,
           15.5
          ],
          [
           "Oshae Brissett",
           "BOS",
           "F-G",
           25,
           2.01,
           95,
           3.7,
           2.9,
           0.8,
           7.6
          ],
          [
           "Luka Doncic",
           "DAL",
           "F-G",
           25,
           2.01,
           104,
           33.9,
           9.2,
           9.8,
           20
          ]
         ],
         "hovertemplate": "<b style='font-size:16px; color:#000000;'> %{customdata[0]}</b><br>Team: %{customdata[1]}<br>Position: %{customdata[2]}<br>Age: %{customdata[3]} years<br>Height: %{customdata[4]} m<br>Weight: %{customdata[5]} kg<br>PPG: %{customdata[6]}<br>RPG: %{customdata[7]}<br>APG: %{customdata[8]}<br>PIE: %{customdata[9]}<br><extra></extra>",
         "legendgroup": "F-G",
         "marker": {
          "color": "#636efa",
          "size": 20,
          "symbol": "circle"
         },
         "mode": "markers+text",
         "name": "F-G",
         "orientation": "v",
         "showlegend": true,
         "text": [
          "Jayson Tatum",
          "Oshae Brissett",
          "Luka Doncic"
         ],
         "textfont": {
          "size": 14
         },
         "textposition": "bottom center",
         "type": "scatter",
         "x": [
          1.6196957638746645,
          -0.8585916497303624,
          2.8368960955170754
         ],
         "xaxis": "x",
         "y": [
          -0.2842289996930858,
          0.025546882513950035,
          -0.48790124375804683
         ],
         "yaxis": "y"
        },
        {
         "customdata": [
          [
           "Jaylen Brown",
           "BOS",
           "F",
           27,
           1.98,
           101,
           23,
           5.5,
           3.6,
           11.6
          ],
          [
           "Sam Hauser",
           "BOS",
           "F",
           26,
           2.01,
           98,
           9,
           3.5,
           1,
           8.6
          ],
          [
           "Xavier Tillman",
           "BOS",
           "F",
           25,
           2.01,
           111,
           5.3,
           3.9,
           1.4,
           7.8
          ],
          [
           "P.J. Washington",
           "DAL",
           "F",
           25,
           2.01,
           104,
           12.9,
           5.6,
           1.9,
           7.9
          ],
          [
           "Derrick Jones Jr.",
           "DAL",
           "F",
           27,
           1.98,
           95,
           8.6,
           3.3,
           1,
           6.8
          ],
          [
           "Maxi Kleber",
           "DAL",
           "F",
           32,
           2.08,
           109,
           4.4,
           3.3,
           1.6,
           5.7
          ]
         ],
         "hovertemplate": "<b style='font-size:16px; color:#000000;'> %{customdata[0]}</b><br>Team: %{customdata[1]}<br>Position: %{customdata[2]}<br>Age: %{customdata[3]} years<br>Height: %{customdata[4]} m<br>Weight: %{customdata[5]} kg<br>PPG: %{customdata[6]}<br>RPG: %{customdata[7]}<br>APG: %{customdata[8]}<br>PIE: %{customdata[9]}<br><extra></extra>",
         "legendgroup": "F",
         "marker": {
          "color": "#EF553B",
          "size": 20,
          "symbol": "circle"
         },
         "mode": "markers+text",
         "name": "F",
         "orientation": "v",
         "showlegend": true,
         "text": [
          "Jaylen Brown",
          "Sam Hauser",
          "Xavier Tillman",
          "P.J. Washington",
          "Derrick Jones Jr.",
          "Maxi Kleber"
         ],
         "textfont": {
          "size": 14
         },
         "textposition": "bottom center",
         "type": "scatter",
         "x": [
          0.8703495451666614,
          -0.5579298399948136,
          -0.5215584241003604,
          -0.04939287653938723,
          -0.5209337813096283,
          -0.3761750786069751
         ],
         "xaxis": "x",
         "y": [
          -0.31206300416108235,
          0.14251913381328182,
          0.8193795771935958,
          0.40422425435999276,
          -0.2765388274831649,
          1.0296675430351132
         ],
         "yaxis": "y"
        },
        {
         "customdata": [
          [
           "Derrick White",
           "BOS",
           "G",
           29,
           1.93,
           86,
           15.2,
           4.2,
           5.2,
           10.6
          ],
          [
           "Jrue Holiday",
           "BOS",
           "G",
           33,
           1.93,
           93,
           12.5,
           5.4,
           4.8,
           9.9
          ],
          [
           "Payton Pritchard",
           "BOS",
           "G",
           26,
           1.85,
           88,
           9.6,
           3.2,
           3.4,
           10.3
          ],
          [
           "Jaden Springer",
           "BOS",
           "G",
           21,
           1.93,
           92,
           3.3,
           1.6,
           0.9,
           5.5
          ],
          [
           "Jordan Walsh",
           "BOS",
           "G",
           20,
           1.98,
           93,
           1.7,
           2.2,
           0.6,
           5.8
          ],
          [
           "Kyrie Irving",
           "DAL",
           "G",
           32,
           1.88,
           88,
           25.6,
           5,
           5.2,
           14.4
          ],
          [
           "Josh Green",
           "DAL",
           "G",
           23,
           1.96,
           91,
           8.2,
           3.2,
           2.3,
           6.3
          ],
          [
           "Jaden Hardy",
           "DAL",
           "G",
           21,
           1.91,
           90,
           7.3,
           1.8,
           1.5,
           8.1
          ],
          [
           "Dante Exum",
           "DAL",
           "G",
           28,
           1.96,
           97,
           7.8,
           2.7,
           2.9,
           9.3
          ],
          [
           "A.J. Lawson",
           "DAL",
           "G",
           23,
           1.98,
           81,
           3.2,
           1.2,
           0.5,
           7.6
          ]
         ],
         "hovertemplate": "<b style='font-size:16px; color:#000000;'> %{customdata[0]}</b><br>Team: %{customdata[1]}<br>Position: %{customdata[2]}<br>Age: %{customdata[3]} years<br>Height: %{customdata[4]} m<br>Weight: %{customdata[5]} kg<br>PPG: %{customdata[6]}<br>RPG: %{customdata[7]}<br>APG: %{customdata[8]}<br>PIE: %{customdata[9]}<br><extra></extra>",
         "legendgroup": "G",
         "marker": {
          "color": "#00cc96",
          "size": 20,
          "symbol": "circle"
         },
         "mode": "markers+text",
         "name": "G",
         "orientation": "v",
         "showlegend": true,
         "text": [
          "Derrick White",
          "Jrue Holiday",
          "Payton Pritchard",
          "Jaden Springer",
          "Jordan Walsh",
          "Kyrie Irving",
          "Josh Green",
          "Jaden Hardy",
          "Dante Exum",
          "A.J. Lawson"
         ],
         "textfont": {
          "size": 14
         },
         "textposition": "bottom center",
         "type": "scatter",
         "x": [
          0.4648263916598932,
          0.9535054988121149,
          -0.2916316232308212,
          -1.444667280089023,
          -1.5234002754855571,
          1.505968322174181,
          -0.7816840083789992,
          -1.1063416797988517,
          -0.21417407293954993,
          -1.426427134684407
         ],
         "xaxis": "x",
         "y": [
          -1.491251214429327,
          -1.0822622009654101,
          -1.6133898694387363,
          -0.6876070273389836,
          -0.20210944136917758,
          -1.8720647365165202,
          -0.6822790191372268,
          -0.9961187102294378,
          -0.5093363298611787,
          -0.8944365995997816
         ],
         "yaxis": "y"
        },
        {
         "customdata": [
          [
           "Al Horford",
           "BOS",
           "C-F",
           38,
           2.06,
           109,
           8.6,
           6.4,
           2.6,
           10.5
          ],
          [
           "Luke Kornet",
           "BOS",
           "C-F",
           28,
           2.16,
           113,
           5.3,
           4.1,
           1.1,
           11.3
          ]
         ],
         "hovertemplate": "<b style='font-size:16px; color:#000000;'> %{customdata[0]}</b><br>Team: %{customdata[1]}<br>Position: %{customdata[2]}<br>Age: %{customdata[3]} years<br>Height: %{customdata[4]} m<br>Weight: %{customdata[5]} kg<br>PPG: %{customdata[6]}<br>RPG: %{customdata[7]}<br>APG: %{customdata[8]}<br>PIE: %{customdata[9]}<br><extra></extra>",
         "legendgroup": "C-F",
         "marker": {
          "color": "#ab63fa",
          "size": 20,
          "symbol": "circle"
         },
         "mode": "markers+text",
         "name": "C-F",
         "orientation": "v",
         "showlegend": true,
         "text": [
          "Al Horford",
          "Luke Kornet"
         ],
         "textfont": {
          "size": 14
         },
         "textposition": "bottom center",
         "type": "scatter",
         "x": [
          1.1915625761775783,
          0.04255790597233154
         ],
         "xaxis": "x",
         "y": [
          0.847238064899249,
          1.8409737754840947
         ],
         "yaxis": "y"
        },
        {
         "customdata": [
          [
           "Kristaps Porzingis",
           "BOS",
           "F-C",
           28,
           2.18,
           109,
           20.1,
           7.2,
           2,
           13.8
          ],
          [
           "Daniel Gafford",
           "DAL",
           "F-C",
           25,
           2.08,
           106,
           11,
           7.6,
           1.6,
           12.1
          ],
          [
           "Dwight Powell",
           "DAL",
           "F-C",
           32,
           2.08,
           109,
           3.3,
           3.4,
           1.3,
           7.9
          ]
         ],
         "hovertemplate": "<b style='font-size:16px; color:#000000;'> %{customdata[0]}</b><br>Team: %{customdata[1]}<br>Position: %{customdata[2]}<br>Age: %{customdata[3]} years<br>Height: %{customdata[4]} m<br>Weight: %{customdata[5]} kg<br>PPG: %{customdata[6]}<br>RPG: %{customdata[7]}<br>APG: %{customdata[8]}<br>PIE: %{customdata[9]}<br><extra></extra>",
         "legendgroup": "F-C",
         "marker": {
          "color": "#FFA15A",
          "size": 20,
          "symbol": "circle"
         },
         "mode": "markers+text",
         "name": "F-C",
         "orientation": "v",
         "showlegend": true,
         "text": [
          "Kristaps Porzingis",
          "Daniel Gafford",
          "Dwight Powell"
         ],
         "textfont": {
          "size": 14
         },
         "textposition": "bottom center",
         "type": "scatter",
         "x": [
          1.1524316856384036,
          0.44979176493535655,
          -0.13985084881575865
         ],
         "xaxis": "x",
         "y": [
          1.649235084583501,
          1.1637759017715203,
          1.0581450973298856
         ],
         "yaxis": "y"
        },
        {
         "customdata": [
          [
           "Svi Mykhailiuk",
           "BOS",
           "G-F",
           26,
           2.01,
           93,
           4,
           1.2,
           0.9,
           7.7
          ],
          [
           "Tim Hardaway Jr.",
           "DAL",
           "G-F",
           32,
           1.96,
           93,
           14.4,
           3.2,
           1.8,
           8.3
          ]
         ],
         "hovertemplate": "<b style='font-size:16px; color:#000000;'> %{customdata[0]}</b><br>Team: %{customdata[1]}<br>Position: %{customdata[2]}<br>Age: %{customdata[3]} years<br>Height: %{customdata[4]} m<br>Weight: %{customdata[5]} kg<br>PPG: %{customdata[6]}<br>RPG: %{customdata[7]}<br>APG: %{customdata[8]}<br>PIE: %{customdata[9]}<br><extra></extra>",
         "legendgroup": "G-F",
         "marker": {
          "color": "#19d3f3",
          "size": 20,
          "symbol": "circle"
         },
         "mode": "markers+text",
         "name": "G-F",
         "orientation": "v",
         "showlegend": true,
         "text": [
          "Svi Mykhailiuk",
          "Tim Hardaway Jr."
         ],
         "textfont": {
          "size": 14
         },
         "textposition": "bottom center",
         "type": "scatter",
         "x": [
          -0.9650047806669958,
          0.11466121680502558
         ],
         "xaxis": "x",
         "y": [
          -0.23354398119433328,
          -0.725485561803991
         ],
         "yaxis": "y"
        },
        {
         "customdata": [
          [
           "Neemias Queta",
           "BOS",
           "C",
           24,
           2.13,
           112,
           5.5,
           4.4,
           0.7,
           12.3
          ],
          [
           "Dereck Lively II",
           "DAL",
           "C",
           20,
           2.16,
           104,
           8.8,
           6.9,
           1.1,
           10.2
          ]
         ],
         "hovertemplate": "<b style='font-size:16px; color:#000000;'> %{customdata[0]}</b><br>Team: %{customdata[1]}<br>Position: %{customdata[2]}<br>Age: %{customdata[3]} years<br>Height: %{customdata[4]} m<br>Weight: %{customdata[5]} kg<br>PPG: %{customdata[6]}<br>RPG: %{customdata[7]}<br>APG: %{customdata[8]}<br>PIE: %{customdata[9]}<br><extra></extra>",
         "legendgroup": "C",
         "marker": {
          "color": "#FF6692",
          "size": 20,
          "symbol": "circle"
         },
         "mode": "markers+text",
         "name": "C",
         "orientation": "v",
         "showlegend": true,
         "text": [
          "Neemias Queta",
          "Dereck Lively II"
         ],
         "textfont": {
          "size": 14
         },
         "textposition": "bottom center",
         "type": "scatter",
         "x": [
          -0.21263652387704335,
          -0.2118468884847473
         ],
         "xaxis": "x",
         "y": [
          1.7390813925036248,
          1.6308300594917
         ],
         "yaxis": "y"
        }
       ],
       "layout": {
        "font": {
         "family": "Courier New, monospace",
         "size": 18
        },
        "height": 700,
        "legend": {
         "title": {
          "text": "Position"
         },
         "tracegroupgap": 0
        },
        "margin": {
         "t": 60
        },
        "template": {
         "data": {
          "bar": [
           {
            "error_x": {
             "color": "#2a3f5f"
            },
            "error_y": {
             "color": "#2a3f5f"
            },
            "marker": {
             "line": {
              "color": "#E5ECF6",
              "width": 0.5
             },
             "pattern": {
              "fillmode": "overlay",
              "size": 10,
              "solidity": 0.2
             }
            },
            "type": "bar"
           }
          ],
          "barpolar": [
           {
            "marker": {
             "line": {
              "color": "#E5ECF6",
              "width": 0.5
             },
             "pattern": {
              "fillmode": "overlay",
              "size": 10,
              "solidity": 0.2
             }
            },
            "type": "barpolar"
           }
          ],
          "carpet": [
           {
            "aaxis": {
             "endlinecolor": "#2a3f5f",
             "gridcolor": "white",
             "linecolor": "white",
             "minorgridcolor": "white",
             "startlinecolor": "#2a3f5f"
            },
            "baxis": {
             "endlinecolor": "#2a3f5f",
             "gridcolor": "white",
             "linecolor": "white",
             "minorgridcolor": "white",
             "startlinecolor": "#2a3f5f"
            },
            "type": "carpet"
           }
          ],
          "choropleth": [
           {
            "colorbar": {
             "outlinewidth": 0,
             "ticks": ""
            },
            "type": "choropleth"
           }
          ],
          "contour": [
           {
            "colorbar": {
             "outlinewidth": 0,
             "ticks": ""
            },
            "colorscale": [
             [
              0,
              "#0d0887"
             ],
             [
              0.1111111111111111,
              "#46039f"
             ],
             [
              0.2222222222222222,
              "#7201a8"
             ],
             [
              0.3333333333333333,
              "#9c179e"
             ],
             [
              0.4444444444444444,
              "#bd3786"
             ],
             [
              0.5555555555555556,
              "#d8576b"
             ],
             [
              0.6666666666666666,
              "#ed7953"
             ],
             [
              0.7777777777777778,
              "#fb9f3a"
             ],
             [
              0.8888888888888888,
              "#fdca26"
             ],
             [
              1,
              "#f0f921"
             ]
            ],
            "type": "contour"
           }
          ],
          "contourcarpet": [
           {
            "colorbar": {
             "outlinewidth": 0,
             "ticks": ""
            },
            "type": "contourcarpet"
           }
          ],
          "heatmap": [
           {
            "colorbar": {
             "outlinewidth": 0,
             "ticks": ""
            },
            "colorscale": [
             [
              0,
              "#0d0887"
             ],
             [
              0.1111111111111111,
              "#46039f"
             ],
             [
              0.2222222222222222,
              "#7201a8"
             ],
             [
              0.3333333333333333,
              "#9c179e"
             ],
             [
              0.4444444444444444,
              "#bd3786"
             ],
             [
              0.5555555555555556,
              "#d8576b"
             ],
             [
              0.6666666666666666,
              "#ed7953"
             ],
             [
              0.7777777777777778,
              "#fb9f3a"
             ],
             [
              0.8888888888888888,
              "#fdca26"
             ],
             [
              1,
              "#f0f921"
             ]
            ],
            "type": "heatmap"
           }
          ],
          "heatmapgl": [
           {
            "colorbar": {
             "outlinewidth": 0,
             "ticks": ""
            },
            "colorscale": [
             [
              0,
              "#0d0887"
             ],
             [
              0.1111111111111111,
              "#46039f"
             ],
             [
              0.2222222222222222,
              "#7201a8"
             ],
             [
              0.3333333333333333,
              "#9c179e"
             ],
             [
              0.4444444444444444,
              "#bd3786"
             ],
             [
              0.5555555555555556,
              "#d8576b"
             ],
             [
              0.6666666666666666,
              "#ed7953"
             ],
             [
              0.7777777777777778,
              "#fb9f3a"
             ],
             [
              0.8888888888888888,
              "#fdca26"
             ],
             [
              1,
              "#f0f921"
             ]
            ],
            "type": "heatmapgl"
           }
          ],
          "histogram": [
           {
            "marker": {
             "pattern": {
              "fillmode": "overlay",
              "size": 10,
              "solidity": 0.2
             }
            },
            "type": "histogram"
           }
          ],
          "histogram2d": [
           {
            "colorbar": {
             "outlinewidth": 0,
             "ticks": ""
            },
            "colorscale": [
             [
              0,
              "#0d0887"
             ],
             [
              0.1111111111111111,
              "#46039f"
             ],
             [
              0.2222222222222222,
              "#7201a8"
             ],
             [
              0.3333333333333333,
              "#9c179e"
             ],
             [
              0.4444444444444444,
              "#bd3786"
             ],
             [
              0.5555555555555556,
              "#d8576b"
             ],
             [
              0.6666666666666666,
              "#ed7953"
             ],
             [
              0.7777777777777778,
              "#fb9f3a"
             ],
             [
              0.8888888888888888,
              "#fdca26"
             ],
             [
              1,
              "#f0f921"
             ]
            ],
            "type": "histogram2d"
           }
          ],
          "histogram2dcontour": [
           {
            "colorbar": {
             "outlinewidth": 0,
             "ticks": ""
            },
            "colorscale": [
             [
              0,
              "#0d0887"
             ],
             [
              0.1111111111111111,
              "#46039f"
             ],
             [
              0.2222222222222222,
              "#7201a8"
             ],
             [
              0.3333333333333333,
              "#9c179e"
             ],
             [
              0.4444444444444444,
              "#bd3786"
             ],
             [
              0.5555555555555556,
              "#d8576b"
             ],
             [
              0.6666666666666666,
              "#ed7953"
             ],
             [
              0.7777777777777778,
              "#fb9f3a"
             ],
             [
              0.8888888888888888,
              "#fdca26"
             ],
             [
              1,
              "#f0f921"
             ]
            ],
            "type": "histogram2dcontour"
           }
          ],
          "mesh3d": [
           {
            "colorbar": {
             "outlinewidth": 0,
             "ticks": ""
            },
            "type": "mesh3d"
           }
          ],
          "parcoords": [
           {
            "line": {
             "colorbar": {
              "outlinewidth": 0,
              "ticks": ""
             }
            },
            "type": "parcoords"
           }
          ],
          "pie": [
           {
            "automargin": true,
            "type": "pie"
           }
          ],
          "scatter": [
           {
            "fillpattern": {
             "fillmode": "overlay",
             "size": 10,
             "solidity": 0.2
            },
            "type": "scatter"
           }
          ],
          "scatter3d": [
           {
            "line": {
             "colorbar": {
              "outlinewidth": 0,
              "ticks": ""
             }
            },
            "marker": {
             "colorbar": {
              "outlinewidth": 0,
              "ticks": ""
             }
            },
            "type": "scatter3d"
           }
          ],
          "scattercarpet": [
           {
            "marker": {
             "colorbar": {
              "outlinewidth": 0,
              "ticks": ""
             }
            },
            "type": "scattercarpet"
           }
          ],
          "scattergeo": [
           {
            "marker": {
             "colorbar": {
              "outlinewidth": 0,
              "ticks": ""
             }
            },
            "type": "scattergeo"
           }
          ],
          "scattergl": [
           {
            "marker": {
             "colorbar": {
              "outlinewidth": 0,
              "ticks": ""
             }
            },
            "type": "scattergl"
           }
          ],
          "scattermapbox": [
           {
            "marker": {
             "colorbar": {
              "outlinewidth": 0,
              "ticks": ""
             }
            },
            "type": "scattermapbox"
           }
          ],
          "scatterpolar": [
           {
            "marker": {
             "colorbar": {
              "outlinewidth": 0,
              "ticks": ""
             }
            },
            "type": "scatterpolar"
           }
          ],
          "scatterpolargl": [
           {
            "marker": {
             "colorbar": {
              "outlinewidth": 0,
              "ticks": ""
             }
            },
            "type": "scatterpolargl"
           }
          ],
          "scatterternary": [
           {
            "marker": {
             "colorbar": {
              "outlinewidth": 0,
              "ticks": ""
             }
            },
            "type": "scatterternary"
           }
          ],
          "surface": [
           {
            "colorbar": {
             "outlinewidth": 0,
             "ticks": ""
            },
            "colorscale": [
             [
              0,
              "#0d0887"
             ],
             [
              0.1111111111111111,
              "#46039f"
             ],
             [
              0.2222222222222222,
              "#7201a8"
             ],
             [
              0.3333333333333333,
              "#9c179e"
             ],
             [
              0.4444444444444444,
              "#bd3786"
             ],
             [
              0.5555555555555556,
              "#d8576b"
             ],
             [
              0.6666666666666666,
              "#ed7953"
             ],
             [
              0.7777777777777778,
              "#fb9f3a"
             ],
             [
              0.8888888888888888,
              "#fdca26"
             ],
             [
              1,
              "#f0f921"
             ]
            ],
            "type": "surface"
           }
          ],
          "table": [
           {
            "cells": {
             "fill": {
              "color": "#EBF0F8"
             },
             "line": {
              "color": "white"
             }
            },
            "header": {
             "fill": {
              "color": "#C8D4E3"
             },
             "line": {
              "color": "white"
             }
            },
            "type": "table"
           }
          ]
         },
         "layout": {
          "annotationdefaults": {
           "arrowcolor": "#2a3f5f",
           "arrowhead": 0,
           "arrowwidth": 1
          },
          "autotypenumbers": "strict",
          "coloraxis": {
           "colorbar": {
            "outlinewidth": 0,
            "ticks": ""
           }
          },
          "colorscale": {
           "diverging": [
            [
             0,
             "#8e0152"
            ],
            [
             0.1,
             "#c51b7d"
            ],
            [
             0.2,
             "#de77ae"
            ],
            [
             0.3,
             "#f1b6da"
            ],
            [
             0.4,
             "#fde0ef"
            ],
            [
             0.5,
             "#f7f7f7"
            ],
            [
             0.6,
             "#e6f5d0"
            ],
            [
             0.7,
             "#b8e186"
            ],
            [
             0.8,
             "#7fbc41"
            ],
            [
             0.9,
             "#4d9221"
            ],
            [
             1,
             "#276419"
            ]
           ],
           "sequential": [
            [
             0,
             "#0d0887"
            ],
            [
             0.1111111111111111,
             "#46039f"
            ],
            [
             0.2222222222222222,
             "#7201a8"
            ],
            [
             0.3333333333333333,
             "#9c179e"
            ],
            [
             0.4444444444444444,
             "#bd3786"
            ],
            [
             0.5555555555555556,
             "#d8576b"
            ],
            [
             0.6666666666666666,
             "#ed7953"
            ],
            [
             0.7777777777777778,
             "#fb9f3a"
            ],
            [
             0.8888888888888888,
             "#fdca26"
            ],
            [
             1,
             "#f0f921"
            ]
           ],
           "sequentialminus": [
            [
             0,
             "#0d0887"
            ],
            [
             0.1111111111111111,
             "#46039f"
            ],
            [
             0.2222222222222222,
             "#7201a8"
            ],
            [
             0.3333333333333333,
             "#9c179e"
            ],
            [
             0.4444444444444444,
             "#bd3786"
            ],
            [
             0.5555555555555556,
             "#d8576b"
            ],
            [
             0.6666666666666666,
             "#ed7953"
            ],
            [
             0.7777777777777778,
             "#fb9f3a"
            ],
            [
             0.8888888888888888,
             "#fdca26"
            ],
            [
             1,
             "#f0f921"
            ]
           ]
          },
          "colorway": [
           "#636efa",
           "#EF553B",
           "#00cc96",
           "#ab63fa",
           "#FFA15A",
           "#19d3f3",
           "#FF6692",
           "#B6E880",
           "#FF97FF",
           "#FECB52"
          ],
          "font": {
           "color": "#2a3f5f"
          },
          "geo": {
           "bgcolor": "white",
           "lakecolor": "white",
           "landcolor": "#E5ECF6",
           "showlakes": true,
           "showland": true,
           "subunitcolor": "white"
          },
          "hoverlabel": {
           "align": "left"
          },
          "hovermode": "closest",
          "mapbox": {
           "style": "light"
          },
          "paper_bgcolor": "white",
          "plot_bgcolor": "#E5ECF6",
          "polar": {
           "angularaxis": {
            "gridcolor": "white",
            "linecolor": "white",
            "ticks": ""
           },
           "bgcolor": "#E5ECF6",
           "radialaxis": {
            "gridcolor": "white",
            "linecolor": "white",
            "ticks": ""
           }
          },
          "scene": {
           "xaxis": {
            "backgroundcolor": "#E5ECF6",
            "gridcolor": "white",
            "gridwidth": 2,
            "linecolor": "white",
            "showbackground": true,
            "ticks": "",
            "zerolinecolor": "white"
           },
           "yaxis": {
            "backgroundcolor": "#E5ECF6",
            "gridcolor": "white",
            "gridwidth": 2,
            "linecolor": "white",
            "showbackground": true,
            "ticks": "",
            "zerolinecolor": "white"
           },
           "zaxis": {
            "backgroundcolor": "#E5ECF6",
            "gridcolor": "white",
            "gridwidth": 2,
            "linecolor": "white",
            "showbackground": true,
            "ticks": "",
            "zerolinecolor": "white"
           }
          },
          "shapedefaults": {
           "line": {
            "color": "#2a3f5f"
           }
          },
          "ternary": {
           "aaxis": {
            "gridcolor": "white",
            "linecolor": "white",
            "ticks": ""
           },
           "baxis": {
            "gridcolor": "white",
            "linecolor": "white",
            "ticks": ""
           },
           "bgcolor": "#E5ECF6",
           "caxis": {
            "gridcolor": "white",
            "linecolor": "white",
            "ticks": ""
           }
          },
          "title": {
           "x": 0.05
          },
          "xaxis": {
           "automargin": true,
           "gridcolor": "white",
           "linecolor": "white",
           "ticks": "",
           "title": {
            "standoff": 15
           },
           "zerolinecolor": "white",
           "zerolinewidth": 2
          },
          "yaxis": {
           "automargin": true,
           "gridcolor": "white",
           "linecolor": "white",
           "ticks": "",
           "title": {
            "standoff": 15
           },
           "zerolinecolor": "white",
           "zerolinewidth": 2
          }
         }
        },
        "title": {
         "text": "Proyección de Jugadores"
        },
        "width": 800,
        "xaxis": {
         "anchor": "y",
         "domain": [
          0,
          1
         ],
         "title": {
          "text": "Desempeño en la cancha"
         }
        },
        "yaxis": {
         "anchor": "x",
         "domain": [
          0,
          1
         ],
         "title": {
          "text": "Talla del jugador"
         }
        }
       }
      }
     },
     "metadata": {},
     "output_type": "display_data"
    }
   ],
   "source": [
    "plot_FA(f_scores_rotDf,'F1','F2',['Desempeño en la cancha','Talla del jugador'],'Player','Pos','Position')"
   ]
  },
  {
   "cell_type": "code",
   "execution_count": 134,
   "metadata": {},
   "outputs": [
    {
     "data": {
      "application/vnd.plotly.v1+json": {
       "config": {
        "plotlyServerURL": "https://plot.ly"
       },
       "data": [
        {
         "customdata": [
          [
           "Jayson Tatum",
           "BOS",
           "F-G",
           26,
           2.03,
           95,
           26.9,
           8.1,
           4.9,
           15.5
          ],
          [
           "Jaylen Brown",
           "BOS",
           "F",
           27,
           1.98,
           101,
           23,
           5.5,
           3.6,
           11.6
          ],
          [
           "Derrick White",
           "BOS",
           "G",
           29,
           1.93,
           86,
           15.2,
           4.2,
           5.2,
           10.6
          ],
          [
           "Jrue Holiday",
           "BOS",
           "G",
           33,
           1.93,
           93,
           12.5,
           5.4,
           4.8,
           9.9
          ],
          [
           "Al Horford",
           "BOS",
           "C-F",
           38,
           2.06,
           109,
           8.6,
           6.4,
           2.6,
           10.5
          ],
          [
           "Payton Pritchard",
           "BOS",
           "G",
           26,
           1.85,
           88,
           9.6,
           3.2,
           3.4,
           10.3
          ],
          [
           "Sam Hauser",
           "BOS",
           "F",
           26,
           2.01,
           98,
           9,
           3.5,
           1,
           8.6
          ],
          [
           "Kristaps Porzingis",
           "BOS",
           "F-C",
           28,
           2.18,
           109,
           20.1,
           7.2,
           2,
           13.8
          ],
          [
           "Luke Kornet",
           "BOS",
           "C-F",
           28,
           2.16,
           113,
           5.3,
           4.1,
           1.1,
           11.3
          ],
          [
           "Oshae Brissett",
           "BOS",
           "F-G",
           25,
           2.01,
           95,
           3.7,
           2.9,
           0.8,
           7.6
          ],
          [
           "Xavier Tillman",
           "BOS",
           "F",
           25,
           2.01,
           111,
           5.3,
           3.9,
           1.4,
           7.8
          ],
          [
           "Jaden Springer",
           "BOS",
           "G",
           21,
           1.93,
           92,
           3.3,
           1.6,
           0.9,
           5.5
          ],
          [
           "Svi Mykhailiuk",
           "BOS",
           "G-F",
           26,
           2.01,
           93,
           4,
           1.2,
           0.9,
           7.7
          ],
          [
           "Jordan Walsh",
           "BOS",
           "G",
           20,
           1.98,
           93,
           1.7,
           2.2,
           0.6,
           5.8
          ],
          [
           "Neemias Queta",
           "BOS",
           "C",
           24,
           2.13,
           112,
           5.5,
           4.4,
           0.7,
           12.3
          ]
         ],
         "hovertemplate": "<b style='font-size:16px; color:#000000;'> %{customdata[0]}</b><br>Team: %{customdata[1]}<br>Position: %{customdata[2]}<br>Age: %{customdata[3]} years<br>Height: %{customdata[4]} m<br>Weight: %{customdata[5]} kg<br>PPG: %{customdata[6]}<br>RPG: %{customdata[7]}<br>APG: %{customdata[8]}<br>PIE: %{customdata[9]}<br><extra></extra>",
         "legendgroup": "BOS",
         "marker": {
          "color": "#636efa",
          "size": 20,
          "symbol": "circle"
         },
         "mode": "markers+text",
         "name": "BOS",
         "orientation": "v",
         "showlegend": true,
         "text": [
          "Jayson Tatum",
          "Jaylen Brown",
          "Derrick White",
          "Jrue Holiday",
          "Al Horford",
          "Payton Pritchard",
          "Sam Hauser",
          "Kristaps Porzingis",
          "Luke Kornet",
          "Oshae Brissett",
          "Xavier Tillman",
          "Jaden Springer",
          "Svi Mykhailiuk",
          "Jordan Walsh",
          "Neemias Queta"
         ],
         "textfont": {
          "size": 14
         },
         "textposition": "bottom center",
         "type": "scatter",
         "x": [
          1.6196957638746645,
          0.8703495451666614,
          0.4648263916598932,
          0.9535054988121149,
          1.1915625761775783,
          -0.2916316232308212,
          -0.5579298399948136,
          1.1524316856384036,
          0.04255790597233154,
          -0.8585916497303624,
          -0.5215584241003604,
          -1.444667280089023,
          -0.9650047806669958,
          -1.5234002754855571,
          -0.21263652387704335
         ],
         "xaxis": "x",
         "y": [
          -1.2041040491855488,
          -0.28126725022769,
          0.019575149127245867,
          1.6085194793836233,
          2.637031559396062,
          -0.3659457051774764,
          -0.2600567362381711,
          -0.3076342967874071,
          0.38098815585899526,
          0.08151794079988314,
          -0.0917413314830422,
          -0.42183948819450284,
          0.42744673818694523,
          -0.8251769743879236,
          -0.6881679320590036
         ],
         "yaxis": "y"
        },
        {
         "customdata": [
          [
           "Luka Doncic",
           "DAL",
           "F-G",
           25,
           2.01,
           104,
           33.9,
           9.2,
           9.8,
           20
          ],
          [
           "Kyrie Irving",
           "DAL",
           "G",
           32,
           1.88,
           88,
           25.6,
           5,
           5.2,
           14.4
          ],
          [
           "P.J. Washington",
           "DAL",
           "F",
           25,
           2.01,
           104,
           12.9,
           5.6,
           1.9,
           7.9
          ],
          [
           "Derrick Jones Jr.",
           "DAL",
           "F",
           27,
           1.98,
           95,
           8.6,
           3.3,
           1,
           6.8
          ],
          [
           "Daniel Gafford",
           "DAL",
           "F-C",
           25,
           2.08,
           106,
           11,
           7.6,
           1.6,
           12.1
          ],
          [
           "Dereck Lively II",
           "DAL",
           "C",
           20,
           2.16,
           104,
           8.8,
           6.9,
           1.1,
           10.2
          ],
          [
           "Josh Green",
           "DAL",
           "G",
           23,
           1.96,
           91,
           8.2,
           3.2,
           2.3,
           6.3
          ],
          [
           "Jaden Hardy",
           "DAL",
           "G",
           21,
           1.91,
           90,
           7.3,
           1.8,
           1.5,
           8.1
          ],
          [
           "Tim Hardaway Jr.",
           "DAL",
           "G-F",
           32,
           1.96,
           93,
           14.4,
           3.2,
           1.8,
           8.3
          ],
          [
           "Maxi Kleber",
           "DAL",
           "F",
           32,
           2.08,
           109,
           4.4,
           3.3,
           1.6,
           5.7
          ],
          [
           "Dante Exum",
           "DAL",
           "G",
           28,
           1.96,
           97,
           7.8,
           2.7,
           2.9,
           9.3
          ],
          [
           "A.J. Lawson",
           "DAL",
           "G",
           23,
           1.98,
           81,
           3.2,
           1.2,
           0.5,
           7.6
          ],
          [
           "Dwight Powell",
           "DAL",
           "F-C",
           32,
           2.08,
           109,
           3.3,
           3.4,
           1.3,
           7.9
          ]
         ],
         "hovertemplate": "<b style='font-size:16px; color:#000000;'> %{customdata[0]}</b><br>Team: %{customdata[1]}<br>Position: %{customdata[2]}<br>Age: %{customdata[3]} years<br>Height: %{customdata[4]} m<br>Weight: %{customdata[5]} kg<br>PPG: %{customdata[6]}<br>RPG: %{customdata[7]}<br>APG: %{customdata[8]}<br>PIE: %{customdata[9]}<br><extra></extra>",
         "legendgroup": "DAL",
         "marker": {
          "color": "#EF553B",
          "size": 20,
          "symbol": "circle"
         },
         "mode": "markers+text",
         "name": "DAL",
         "orientation": "v",
         "showlegend": true,
         "text": [
          "Luka Doncic",
          "Kyrie Irving",
          "P.J. Washington",
          "Derrick Jones Jr.",
          "Daniel Gafford",
          "Dereck Lively II",
          "Josh Green",
          "Jaden Hardy",
          "Tim Hardaway Jr.",
          "Maxi Kleber",
          "Dante Exum",
          "A.J. Lawson",
          "Dwight Powell"
         ],
         "textfont": {
          "size": 14
         },
         "textposition": "bottom center",
         "type": "scatter",
         "x": [
          2.8368960955170754,
          1.505968322174181,
          -0.04939287653938723,
          -0.5209337813096283,
          0.44979176493535655,
          -0.2118468884847473,
          -0.7816840083789992,
          -1.1063416797988517,
          0.11466121680502558,
          -0.3761750786069751,
          -0.21417407293954993,
          -1.426427134684407,
          -0.13985084881575865
         ],
         "xaxis": "x",
         "y": [
          -2.1900307493361444,
          0.6404876192215999,
          -0.3462208606225253,
          0.6235424319397284,
          -0.729155060562565,
          -1.6576999413875362,
          -0.4225169112480349,
          -0.8587006070634345,
          1.3623482478810478,
          1.317447867997051,
          0.44309118085241644,
          -0.47179818468466567,
          1.580059708001072
         ],
         "yaxis": "y"
        }
       ],
       "layout": {
        "font": {
         "family": "Courier New, monospace",
         "size": 18
        },
        "height": 700,
        "legend": {
         "title": {
          "text": "Team"
         },
         "tracegroupgap": 0
        },
        "margin": {
         "t": 60
        },
        "template": {
         "data": {
          "bar": [
           {
            "error_x": {
             "color": "#2a3f5f"
            },
            "error_y": {
             "color": "#2a3f5f"
            },
            "marker": {
             "line": {
              "color": "#E5ECF6",
              "width": 0.5
             },
             "pattern": {
              "fillmode": "overlay",
              "size": 10,
              "solidity": 0.2
             }
            },
            "type": "bar"
           }
          ],
          "barpolar": [
           {
            "marker": {
             "line": {
              "color": "#E5ECF6",
              "width": 0.5
             },
             "pattern": {
              "fillmode": "overlay",
              "size": 10,
              "solidity": 0.2
             }
            },
            "type": "barpolar"
           }
          ],
          "carpet": [
           {
            "aaxis": {
             "endlinecolor": "#2a3f5f",
             "gridcolor": "white",
             "linecolor": "white",
             "minorgridcolor": "white",
             "startlinecolor": "#2a3f5f"
            },
            "baxis": {
             "endlinecolor": "#2a3f5f",
             "gridcolor": "white",
             "linecolor": "white",
             "minorgridcolor": "white",
             "startlinecolor": "#2a3f5f"
            },
            "type": "carpet"
           }
          ],
          "choropleth": [
           {
            "colorbar": {
             "outlinewidth": 0,
             "ticks": ""
            },
            "type": "choropleth"
           }
          ],
          "contour": [
           {
            "colorbar": {
             "outlinewidth": 0,
             "ticks": ""
            },
            "colorscale": [
             [
              0,
              "#0d0887"
             ],
             [
              0.1111111111111111,
              "#46039f"
             ],
             [
              0.2222222222222222,
              "#7201a8"
             ],
             [
              0.3333333333333333,
              "#9c179e"
             ],
             [
              0.4444444444444444,
              "#bd3786"
             ],
             [
              0.5555555555555556,
              "#d8576b"
             ],
             [
              0.6666666666666666,
              "#ed7953"
             ],
             [
              0.7777777777777778,
              "#fb9f3a"
             ],
             [
              0.8888888888888888,
              "#fdca26"
             ],
             [
              1,
              "#f0f921"
             ]
            ],
            "type": "contour"
           }
          ],
          "contourcarpet": [
           {
            "colorbar": {
             "outlinewidth": 0,
             "ticks": ""
            },
            "type": "contourcarpet"
           }
          ],
          "heatmap": [
           {
            "colorbar": {
             "outlinewidth": 0,
             "ticks": ""
            },
            "colorscale": [
             [
              0,
              "#0d0887"
             ],
             [
              0.1111111111111111,
              "#46039f"
             ],
             [
              0.2222222222222222,
              "#7201a8"
             ],
             [
              0.3333333333333333,
              "#9c179e"
             ],
             [
              0.4444444444444444,
              "#bd3786"
             ],
             [
              0.5555555555555556,
              "#d8576b"
             ],
             [
              0.6666666666666666,
              "#ed7953"
             ],
             [
              0.7777777777777778,
              "#fb9f3a"
             ],
             [
              0.8888888888888888,
              "#fdca26"
             ],
             [
              1,
              "#f0f921"
             ]
            ],
            "type": "heatmap"
           }
          ],
          "heatmapgl": [
           {
            "colorbar": {
             "outlinewidth": 0,
             "ticks": ""
            },
            "colorscale": [
             [
              0,
              "#0d0887"
             ],
             [
              0.1111111111111111,
              "#46039f"
             ],
             [
              0.2222222222222222,
              "#7201a8"
             ],
             [
              0.3333333333333333,
              "#9c179e"
             ],
             [
              0.4444444444444444,
              "#bd3786"
             ],
             [
              0.5555555555555556,
              "#d8576b"
             ],
             [
              0.6666666666666666,
              "#ed7953"
             ],
             [
              0.7777777777777778,
              "#fb9f3a"
             ],
             [
              0.8888888888888888,
              "#fdca26"
             ],
             [
              1,
              "#f0f921"
             ]
            ],
            "type": "heatmapgl"
           }
          ],
          "histogram": [
           {
            "marker": {
             "pattern": {
              "fillmode": "overlay",
              "size": 10,
              "solidity": 0.2
             }
            },
            "type": "histogram"
           }
          ],
          "histogram2d": [
           {
            "colorbar": {
             "outlinewidth": 0,
             "ticks": ""
            },
            "colorscale": [
             [
              0,
              "#0d0887"
             ],
             [
              0.1111111111111111,
              "#46039f"
             ],
             [
              0.2222222222222222,
              "#7201a8"
             ],
             [
              0.3333333333333333,
              "#9c179e"
             ],
             [
              0.4444444444444444,
              "#bd3786"
             ],
             [
              0.5555555555555556,
              "#d8576b"
             ],
             [
              0.6666666666666666,
              "#ed7953"
             ],
             [
              0.7777777777777778,
              "#fb9f3a"
             ],
             [
              0.8888888888888888,
              "#fdca26"
             ],
             [
              1,
              "#f0f921"
             ]
            ],
            "type": "histogram2d"
           }
          ],
          "histogram2dcontour": [
           {
            "colorbar": {
             "outlinewidth": 0,
             "ticks": ""
            },
            "colorscale": [
             [
              0,
              "#0d0887"
             ],
             [
              0.1111111111111111,
              "#46039f"
             ],
             [
              0.2222222222222222,
              "#7201a8"
             ],
             [
              0.3333333333333333,
              "#9c179e"
             ],
             [
              0.4444444444444444,
              "#bd3786"
             ],
             [
              0.5555555555555556,
              "#d8576b"
             ],
             [
              0.6666666666666666,
              "#ed7953"
             ],
             [
              0.7777777777777778,
              "#fb9f3a"
             ],
             [
              0.8888888888888888,
              "#fdca26"
             ],
             [
              1,
              "#f0f921"
             ]
            ],
            "type": "histogram2dcontour"
           }
          ],
          "mesh3d": [
           {
            "colorbar": {
             "outlinewidth": 0,
             "ticks": ""
            },
            "type": "mesh3d"
           }
          ],
          "parcoords": [
           {
            "line": {
             "colorbar": {
              "outlinewidth": 0,
              "ticks": ""
             }
            },
            "type": "parcoords"
           }
          ],
          "pie": [
           {
            "automargin": true,
            "type": "pie"
           }
          ],
          "scatter": [
           {
            "fillpattern": {
             "fillmode": "overlay",
             "size": 10,
             "solidity": 0.2
            },
            "type": "scatter"
           }
          ],
          "scatter3d": [
           {
            "line": {
             "colorbar": {
              "outlinewidth": 0,
              "ticks": ""
             }
            },
            "marker": {
             "colorbar": {
              "outlinewidth": 0,
              "ticks": ""
             }
            },
            "type": "scatter3d"
           }
          ],
          "scattercarpet": [
           {
            "marker": {
             "colorbar": {
              "outlinewidth": 0,
              "ticks": ""
             }
            },
            "type": "scattercarpet"
           }
          ],
          "scattergeo": [
           {
            "marker": {
             "colorbar": {
              "outlinewidth": 0,
              "ticks": ""
             }
            },
            "type": "scattergeo"
           }
          ],
          "scattergl": [
           {
            "marker": {
             "colorbar": {
              "outlinewidth": 0,
              "ticks": ""
             }
            },
            "type": "scattergl"
           }
          ],
          "scattermapbox": [
           {
            "marker": {
             "colorbar": {
              "outlinewidth": 0,
              "ticks": ""
             }
            },
            "type": "scattermapbox"
           }
          ],
          "scatterpolar": [
           {
            "marker": {
             "colorbar": {
              "outlinewidth": 0,
              "ticks": ""
             }
            },
            "type": "scatterpolar"
           }
          ],
          "scatterpolargl": [
           {
            "marker": {
             "colorbar": {
              "outlinewidth": 0,
              "ticks": ""
             }
            },
            "type": "scatterpolargl"
           }
          ],
          "scatterternary": [
           {
            "marker": {
             "colorbar": {
              "outlinewidth": 0,
              "ticks": ""
             }
            },
            "type": "scatterternary"
           }
          ],
          "surface": [
           {
            "colorbar": {
             "outlinewidth": 0,
             "ticks": ""
            },
            "colorscale": [
             [
              0,
              "#0d0887"
             ],
             [
              0.1111111111111111,
              "#46039f"
             ],
             [
              0.2222222222222222,
              "#7201a8"
             ],
             [
              0.3333333333333333,
              "#9c179e"
             ],
             [
              0.4444444444444444,
              "#bd3786"
             ],
             [
              0.5555555555555556,
              "#d8576b"
             ],
             [
              0.6666666666666666,
              "#ed7953"
             ],
             [
              0.7777777777777778,
              "#fb9f3a"
             ],
             [
              0.8888888888888888,
              "#fdca26"
             ],
             [
              1,
              "#f0f921"
             ]
            ],
            "type": "surface"
           }
          ],
          "table": [
           {
            "cells": {
             "fill": {
              "color": "#EBF0F8"
             },
             "line": {
              "color": "white"
             }
            },
            "header": {
             "fill": {
              "color": "#C8D4E3"
             },
             "line": {
              "color": "white"
             }
            },
            "type": "table"
           }
          ]
         },
         "layout": {
          "annotationdefaults": {
           "arrowcolor": "#2a3f5f",
           "arrowhead": 0,
           "arrowwidth": 1
          },
          "autotypenumbers": "strict",
          "coloraxis": {
           "colorbar": {
            "outlinewidth": 0,
            "ticks": ""
           }
          },
          "colorscale": {
           "diverging": [
            [
             0,
             "#8e0152"
            ],
            [
             0.1,
             "#c51b7d"
            ],
            [
             0.2,
             "#de77ae"
            ],
            [
             0.3,
             "#f1b6da"
            ],
            [
             0.4,
             "#fde0ef"
            ],
            [
             0.5,
             "#f7f7f7"
            ],
            [
             0.6,
             "#e6f5d0"
            ],
            [
             0.7,
             "#b8e186"
            ],
            [
             0.8,
             "#7fbc41"
            ],
            [
             0.9,
             "#4d9221"
            ],
            [
             1,
             "#276419"
            ]
           ],
           "sequential": [
            [
             0,
             "#0d0887"
            ],
            [
             0.1111111111111111,
             "#46039f"
            ],
            [
             0.2222222222222222,
             "#7201a8"
            ],
            [
             0.3333333333333333,
             "#9c179e"
            ],
            [
             0.4444444444444444,
             "#bd3786"
            ],
            [
             0.5555555555555556,
             "#d8576b"
            ],
            [
             0.6666666666666666,
             "#ed7953"
            ],
            [
             0.7777777777777778,
             "#fb9f3a"
            ],
            [
             0.8888888888888888,
             "#fdca26"
            ],
            [
             1,
             "#f0f921"
            ]
           ],
           "sequentialminus": [
            [
             0,
             "#0d0887"
            ],
            [
             0.1111111111111111,
             "#46039f"
            ],
            [
             0.2222222222222222,
             "#7201a8"
            ],
            [
             0.3333333333333333,
             "#9c179e"
            ],
            [
             0.4444444444444444,
             "#bd3786"
            ],
            [
             0.5555555555555556,
             "#d8576b"
            ],
            [
             0.6666666666666666,
             "#ed7953"
            ],
            [
             0.7777777777777778,
             "#fb9f3a"
            ],
            [
             0.8888888888888888,
             "#fdca26"
            ],
            [
             1,
             "#f0f921"
            ]
           ]
          },
          "colorway": [
           "#636efa",
           "#EF553B",
           "#00cc96",
           "#ab63fa",
           "#FFA15A",
           "#19d3f3",
           "#FF6692",
           "#B6E880",
           "#FF97FF",
           "#FECB52"
          ],
          "font": {
           "color": "#2a3f5f"
          },
          "geo": {
           "bgcolor": "white",
           "lakecolor": "white",
           "landcolor": "#E5ECF6",
           "showlakes": true,
           "showland": true,
           "subunitcolor": "white"
          },
          "hoverlabel": {
           "align": "left"
          },
          "hovermode": "closest",
          "mapbox": {
           "style": "light"
          },
          "paper_bgcolor": "white",
          "plot_bgcolor": "#E5ECF6",
          "polar": {
           "angularaxis": {
            "gridcolor": "white",
            "linecolor": "white",
            "ticks": ""
           },
           "bgcolor": "#E5ECF6",
           "radialaxis": {
            "gridcolor": "white",
            "linecolor": "white",
            "ticks": ""
           }
          },
          "scene": {
           "xaxis": {
            "backgroundcolor": "#E5ECF6",
            "gridcolor": "white",
            "gridwidth": 2,
            "linecolor": "white",
            "showbackground": true,
            "ticks": "",
            "zerolinecolor": "white"
           },
           "yaxis": {
            "backgroundcolor": "#E5ECF6",
            "gridcolor": "white",
            "gridwidth": 2,
            "linecolor": "white",
            "showbackground": true,
            "ticks": "",
            "zerolinecolor": "white"
           },
           "zaxis": {
            "backgroundcolor": "#E5ECF6",
            "gridcolor": "white",
            "gridwidth": 2,
            "linecolor": "white",
            "showbackground": true,
            "ticks": "",
            "zerolinecolor": "white"
           }
          },
          "shapedefaults": {
           "line": {
            "color": "#2a3f5f"
           }
          },
          "ternary": {
           "aaxis": {
            "gridcolor": "white",
            "linecolor": "white",
            "ticks": ""
           },
           "baxis": {
            "gridcolor": "white",
            "linecolor": "white",
            "ticks": ""
           },
           "bgcolor": "#E5ECF6",
           "caxis": {
            "gridcolor": "white",
            "linecolor": "white",
            "ticks": ""
           }
          },
          "title": {
           "x": 0.05
          },
          "xaxis": {
           "automargin": true,
           "gridcolor": "white",
           "linecolor": "white",
           "ticks": "",
           "title": {
            "standoff": 15
           },
           "zerolinecolor": "white",
           "zerolinewidth": 2
          },
          "yaxis": {
           "automargin": true,
           "gridcolor": "white",
           "linecolor": "white",
           "ticks": "",
           "title": {
            "standoff": 15
           },
           "zerolinecolor": "white",
           "zerolinewidth": 2
          }
         }
        },
        "title": {
         "text": "Proyección de Jugadores"
        },
        "width": 800,
        "xaxis": {
         "anchor": "y",
         "domain": [
          0,
          1
         ],
         "title": {
          "text": "Desempeño en la cancha"
         }
        },
        "yaxis": {
         "anchor": "x",
         "domain": [
          0,
          1
         ],
         "title": {
          "text": "Experiencia del jugador"
         }
        }
       }
      }
     },
     "metadata": {},
     "output_type": "display_data"
    }
   ],
   "source": [
    "plot_FA(f_scores_rotDf,'F1','F3',['Desempeño en la cancha','Experiencia del jugador'],'Player','Team','Team')"
   ]
  },
  {
   "cell_type": "code",
   "execution_count": 135,
   "metadata": {},
   "outputs": [
    {
     "data": {
      "application/vnd.plotly.v1+json": {
       "config": {
        "plotlyServerURL": "https://plot.ly"
       },
       "data": [
        {
         "customdata": [
          [
           "Jayson Tatum",
           "BOS",
           "F-G",
           26,
           2.03,
           95,
           26.9,
           8.1,
           4.9,
           15.5
          ],
          [
           "Oshae Brissett",
           "BOS",
           "F-G",
           25,
           2.01,
           95,
           3.7,
           2.9,
           0.8,
           7.6
          ],
          [
           "Luka Doncic",
           "DAL",
           "F-G",
           25,
           2.01,
           104,
           33.9,
           9.2,
           9.8,
           20
          ]
         ],
         "hovertemplate": "<b style='font-size:16px; color:#000000;'> %{customdata[0]}</b><br>Team: %{customdata[1]}<br>Position: %{customdata[2]}<br>Age: %{customdata[3]} years<br>Height: %{customdata[4]} m<br>Weight: %{customdata[5]} kg<br>PPG: %{customdata[6]}<br>RPG: %{customdata[7]}<br>APG: %{customdata[8]}<br>PIE: %{customdata[9]}<br><extra></extra>",
         "legendgroup": "F-G",
         "marker": {
          "color": "#636efa",
          "size": 20,
          "symbol": "circle"
         },
         "mode": "markers+text",
         "name": "F-G",
         "orientation": "v",
         "showlegend": true,
         "text": [
          "Jayson Tatum",
          "Oshae Brissett",
          "Luka Doncic"
         ],
         "textfont": {
          "size": 14
         },
         "textposition": "bottom center",
         "type": "scatter",
         "x": [
          1.6196957638746645,
          -0.8585916497303624,
          2.8368960955170754
         ],
         "xaxis": "x",
         "y": [
          -1.2041040491855488,
          0.08151794079988314,
          -2.1900307493361444
         ],
         "yaxis": "y"
        },
        {
         "customdata": [
          [
           "Jaylen Brown",
           "BOS",
           "F",
           27,
           1.98,
           101,
           23,
           5.5,
           3.6,
           11.6
          ],
          [
           "Sam Hauser",
           "BOS",
           "F",
           26,
           2.01,
           98,
           9,
           3.5,
           1,
           8.6
          ],
          [
           "Xavier Tillman",
           "BOS",
           "F",
           25,
           2.01,
           111,
           5.3,
           3.9,
           1.4,
           7.8
          ],
          [
           "P.J. Washington",
           "DAL",
           "F",
           25,
           2.01,
           104,
           12.9,
           5.6,
           1.9,
           7.9
          ],
          [
           "Derrick Jones Jr.",
           "DAL",
           "F",
           27,
           1.98,
           95,
           8.6,
           3.3,
           1,
           6.8
          ],
          [
           "Maxi Kleber",
           "DAL",
           "F",
           32,
           2.08,
           109,
           4.4,
           3.3,
           1.6,
           5.7
          ]
         ],
         "hovertemplate": "<b style='font-size:16px; color:#000000;'> %{customdata[0]}</b><br>Team: %{customdata[1]}<br>Position: %{customdata[2]}<br>Age: %{customdata[3]} years<br>Height: %{customdata[4]} m<br>Weight: %{customdata[5]} kg<br>PPG: %{customdata[6]}<br>RPG: %{customdata[7]}<br>APG: %{customdata[8]}<br>PIE: %{customdata[9]}<br><extra></extra>",
         "legendgroup": "F",
         "marker": {
          "color": "#EF553B",
          "size": 20,
          "symbol": "circle"
         },
         "mode": "markers+text",
         "name": "F",
         "orientation": "v",
         "showlegend": true,
         "text": [
          "Jaylen Brown",
          "Sam Hauser",
          "Xavier Tillman",
          "P.J. Washington",
          "Derrick Jones Jr.",
          "Maxi Kleber"
         ],
         "textfont": {
          "size": 14
         },
         "textposition": "bottom center",
         "type": "scatter",
         "x": [
          0.8703495451666614,
          -0.5579298399948136,
          -0.5215584241003604,
          -0.04939287653938723,
          -0.5209337813096283,
          -0.3761750786069751
         ],
         "xaxis": "x",
         "y": [
          -0.28126725022769,
          -0.2600567362381711,
          -0.0917413314830422,
          -0.3462208606225253,
          0.6235424319397284,
          1.317447867997051
         ],
         "yaxis": "y"
        },
        {
         "customdata": [
          [
           "Derrick White",
           "BOS",
           "G",
           29,
           1.93,
           86,
           15.2,
           4.2,
           5.2,
           10.6
          ],
          [
           "Jrue Holiday",
           "BOS",
           "G",
           33,
           1.93,
           93,
           12.5,
           5.4,
           4.8,
           9.9
          ],
          [
           "Payton Pritchard",
           "BOS",
           "G",
           26,
           1.85,
           88,
           9.6,
           3.2,
           3.4,
           10.3
          ],
          [
           "Jaden Springer",
           "BOS",
           "G",
           21,
           1.93,
           92,
           3.3,
           1.6,
           0.9,
           5.5
          ],
          [
           "Jordan Walsh",
           "BOS",
           "G",
           20,
           1.98,
           93,
           1.7,
           2.2,
           0.6,
           5.8
          ],
          [
           "Kyrie Irving",
           "DAL",
           "G",
           32,
           1.88,
           88,
           25.6,
           5,
           5.2,
           14.4
          ],
          [
           "Josh Green",
           "DAL",
           "G",
           23,
           1.96,
           91,
           8.2,
           3.2,
           2.3,
           6.3
          ],
          [
           "Jaden Hardy",
           "DAL",
           "G",
           21,
           1.91,
           90,
           7.3,
           1.8,
           1.5,
           8.1
          ],
          [
           "Dante Exum",
           "DAL",
           "G",
           28,
           1.96,
           97,
           7.8,
           2.7,
           2.9,
           9.3
          ],
          [
           "A.J. Lawson",
           "DAL",
           "G",
           23,
           1.98,
           81,
           3.2,
           1.2,
           0.5,
           7.6
          ]
         ],
         "hovertemplate": "<b style='font-size:16px; color:#000000;'> %{customdata[0]}</b><br>Team: %{customdata[1]}<br>Position: %{customdata[2]}<br>Age: %{customdata[3]} years<br>Height: %{customdata[4]} m<br>Weight: %{customdata[5]} kg<br>PPG: %{customdata[6]}<br>RPG: %{customdata[7]}<br>APG: %{customdata[8]}<br>PIE: %{customdata[9]}<br><extra></extra>",
         "legendgroup": "G",
         "marker": {
          "color": "#00cc96",
          "size": 20,
          "symbol": "circle"
         },
         "mode": "markers+text",
         "name": "G",
         "orientation": "v",
         "showlegend": true,
         "text": [
          "Derrick White",
          "Jrue Holiday",
          "Payton Pritchard",
          "Jaden Springer",
          "Jordan Walsh",
          "Kyrie Irving",
          "Josh Green",
          "Jaden Hardy",
          "Dante Exum",
          "A.J. Lawson"
         ],
         "textfont": {
          "size": 14
         },
         "textposition": "bottom center",
         "type": "scatter",
         "x": [
          0.4648263916598932,
          0.9535054988121149,
          -0.2916316232308212,
          -1.444667280089023,
          -1.5234002754855571,
          1.505968322174181,
          -0.7816840083789992,
          -1.1063416797988517,
          -0.21417407293954993,
          -1.426427134684407
         ],
         "xaxis": "x",
         "y": [
          0.019575149127245867,
          1.6085194793836233,
          -0.3659457051774764,
          -0.42183948819450284,
          -0.8251769743879236,
          0.6404876192215999,
          -0.4225169112480349,
          -0.8587006070634345,
          0.44309118085241644,
          -0.47179818468466567
         ],
         "yaxis": "y"
        },
        {
         "customdata": [
          [
           "Al Horford",
           "BOS",
           "C-F",
           38,
           2.06,
           109,
           8.6,
           6.4,
           2.6,
           10.5
          ],
          [
           "Luke Kornet",
           "BOS",
           "C-F",
           28,
           2.16,
           113,
           5.3,
           4.1,
           1.1,
           11.3
          ]
         ],
         "hovertemplate": "<b style='font-size:16px; color:#000000;'> %{customdata[0]}</b><br>Team: %{customdata[1]}<br>Position: %{customdata[2]}<br>Age: %{customdata[3]} years<br>Height: %{customdata[4]} m<br>Weight: %{customdata[5]} kg<br>PPG: %{customdata[6]}<br>RPG: %{customdata[7]}<br>APG: %{customdata[8]}<br>PIE: %{customdata[9]}<br><extra></extra>",
         "legendgroup": "C-F",
         "marker": {
          "color": "#ab63fa",
          "size": 20,
          "symbol": "circle"
         },
         "mode": "markers+text",
         "name": "C-F",
         "orientation": "v",
         "showlegend": true,
         "text": [
          "Al Horford",
          "Luke Kornet"
         ],
         "textfont": {
          "size": 14
         },
         "textposition": "bottom center",
         "type": "scatter",
         "x": [
          1.1915625761775783,
          0.04255790597233154
         ],
         "xaxis": "x",
         "y": [
          2.637031559396062,
          0.38098815585899526
         ],
         "yaxis": "y"
        },
        {
         "customdata": [
          [
           "Kristaps Porzingis",
           "BOS",
           "F-C",
           28,
           2.18,
           109,
           20.1,
           7.2,
           2,
           13.8
          ],
          [
           "Daniel Gafford",
           "DAL",
           "F-C",
           25,
           2.08,
           106,
           11,
           7.6,
           1.6,
           12.1
          ],
          [
           "Dwight Powell",
           "DAL",
           "F-C",
           32,
           2.08,
           109,
           3.3,
           3.4,
           1.3,
           7.9
          ]
         ],
         "hovertemplate": "<b style='font-size:16px; color:#000000;'> %{customdata[0]}</b><br>Team: %{customdata[1]}<br>Position: %{customdata[2]}<br>Age: %{customdata[3]} years<br>Height: %{customdata[4]} m<br>Weight: %{customdata[5]} kg<br>PPG: %{customdata[6]}<br>RPG: %{customdata[7]}<br>APG: %{customdata[8]}<br>PIE: %{customdata[9]}<br><extra></extra>",
         "legendgroup": "F-C",
         "marker": {
          "color": "#FFA15A",
          "size": 20,
          "symbol": "circle"
         },
         "mode": "markers+text",
         "name": "F-C",
         "orientation": "v",
         "showlegend": true,
         "text": [
          "Kristaps Porzingis",
          "Daniel Gafford",
          "Dwight Powell"
         ],
         "textfont": {
          "size": 14
         },
         "textposition": "bottom center",
         "type": "scatter",
         "x": [
          1.1524316856384036,
          0.44979176493535655,
          -0.13985084881575865
         ],
         "xaxis": "x",
         "y": [
          -0.3076342967874071,
          -0.729155060562565,
          1.580059708001072
         ],
         "yaxis": "y"
        },
        {
         "customdata": [
          [
           "Svi Mykhailiuk",
           "BOS",
           "G-F",
           26,
           2.01,
           93,
           4,
           1.2,
           0.9,
           7.7
          ],
          [
           "Tim Hardaway Jr.",
           "DAL",
           "G-F",
           32,
           1.96,
           93,
           14.4,
           3.2,
           1.8,
           8.3
          ]
         ],
         "hovertemplate": "<b style='font-size:16px; color:#000000;'> %{customdata[0]}</b><br>Team: %{customdata[1]}<br>Position: %{customdata[2]}<br>Age: %{customdata[3]} years<br>Height: %{customdata[4]} m<br>Weight: %{customdata[5]} kg<br>PPG: %{customdata[6]}<br>RPG: %{customdata[7]}<br>APG: %{customdata[8]}<br>PIE: %{customdata[9]}<br><extra></extra>",
         "legendgroup": "G-F",
         "marker": {
          "color": "#19d3f3",
          "size": 20,
          "symbol": "circle"
         },
         "mode": "markers+text",
         "name": "G-F",
         "orientation": "v",
         "showlegend": true,
         "text": [
          "Svi Mykhailiuk",
          "Tim Hardaway Jr."
         ],
         "textfont": {
          "size": 14
         },
         "textposition": "bottom center",
         "type": "scatter",
         "x": [
          -0.9650047806669958,
          0.11466121680502558
         ],
         "xaxis": "x",
         "y": [
          0.42744673818694523,
          1.3623482478810478
         ],
         "yaxis": "y"
        },
        {
         "customdata": [
          [
           "Neemias Queta",
           "BOS",
           "C",
           24,
           2.13,
           112,
           5.5,
           4.4,
           0.7,
           12.3
          ],
          [
           "Dereck Lively II",
           "DAL",
           "C",
           20,
           2.16,
           104,
           8.8,
           6.9,
           1.1,
           10.2
          ]
         ],
         "hovertemplate": "<b style='font-size:16px; color:#000000;'> %{customdata[0]}</b><br>Team: %{customdata[1]}<br>Position: %{customdata[2]}<br>Age: %{customdata[3]} years<br>Height: %{customdata[4]} m<br>Weight: %{customdata[5]} kg<br>PPG: %{customdata[6]}<br>RPG: %{customdata[7]}<br>APG: %{customdata[8]}<br>PIE: %{customdata[9]}<br><extra></extra>",
         "legendgroup": "C",
         "marker": {
          "color": "#FF6692",
          "size": 20,
          "symbol": "circle"
         },
         "mode": "markers+text",
         "name": "C",
         "orientation": "v",
         "showlegend": true,
         "text": [
          "Neemias Queta",
          "Dereck Lively II"
         ],
         "textfont": {
          "size": 14
         },
         "textposition": "bottom center",
         "type": "scatter",
         "x": [
          -0.21263652387704335,
          -0.2118468884847473
         ],
         "xaxis": "x",
         "y": [
          -0.6881679320590036,
          -1.6576999413875362
         ],
         "yaxis": "y"
        }
       ],
       "layout": {
        "font": {
         "family": "Courier New, monospace",
         "size": 18
        },
        "height": 700,
        "legend": {
         "title": {
          "text": "Position"
         },
         "tracegroupgap": 0
        },
        "margin": {
         "t": 60
        },
        "template": {
         "data": {
          "bar": [
           {
            "error_x": {
             "color": "#2a3f5f"
            },
            "error_y": {
             "color": "#2a3f5f"
            },
            "marker": {
             "line": {
              "color": "#E5ECF6",
              "width": 0.5
             },
             "pattern": {
              "fillmode": "overlay",
              "size": 10,
              "solidity": 0.2
             }
            },
            "type": "bar"
           }
          ],
          "barpolar": [
           {
            "marker": {
             "line": {
              "color": "#E5ECF6",
              "width": 0.5
             },
             "pattern": {
              "fillmode": "overlay",
              "size": 10,
              "solidity": 0.2
             }
            },
            "type": "barpolar"
           }
          ],
          "carpet": [
           {
            "aaxis": {
             "endlinecolor": "#2a3f5f",
             "gridcolor": "white",
             "linecolor": "white",
             "minorgridcolor": "white",
             "startlinecolor": "#2a3f5f"
            },
            "baxis": {
             "endlinecolor": "#2a3f5f",
             "gridcolor": "white",
             "linecolor": "white",
             "minorgridcolor": "white",
             "startlinecolor": "#2a3f5f"
            },
            "type": "carpet"
           }
          ],
          "choropleth": [
           {
            "colorbar": {
             "outlinewidth": 0,
             "ticks": ""
            },
            "type": "choropleth"
           }
          ],
          "contour": [
           {
            "colorbar": {
             "outlinewidth": 0,
             "ticks": ""
            },
            "colorscale": [
             [
              0,
              "#0d0887"
             ],
             [
              0.1111111111111111,
              "#46039f"
             ],
             [
              0.2222222222222222,
              "#7201a8"
             ],
             [
              0.3333333333333333,
              "#9c179e"
             ],
             [
              0.4444444444444444,
              "#bd3786"
             ],
             [
              0.5555555555555556,
              "#d8576b"
             ],
             [
              0.6666666666666666,
              "#ed7953"
             ],
             [
              0.7777777777777778,
              "#fb9f3a"
             ],
             [
              0.8888888888888888,
              "#fdca26"
             ],
             [
              1,
              "#f0f921"
             ]
            ],
            "type": "contour"
           }
          ],
          "contourcarpet": [
           {
            "colorbar": {
             "outlinewidth": 0,
             "ticks": ""
            },
            "type": "contourcarpet"
           }
          ],
          "heatmap": [
           {
            "colorbar": {
             "outlinewidth": 0,
             "ticks": ""
            },
            "colorscale": [
             [
              0,
              "#0d0887"
             ],
             [
              0.1111111111111111,
              "#46039f"
             ],
             [
              0.2222222222222222,
              "#7201a8"
             ],
             [
              0.3333333333333333,
              "#9c179e"
             ],
             [
              0.4444444444444444,
              "#bd3786"
             ],
             [
              0.5555555555555556,
              "#d8576b"
             ],
             [
              0.6666666666666666,
              "#ed7953"
             ],
             [
              0.7777777777777778,
              "#fb9f3a"
             ],
             [
              0.8888888888888888,
              "#fdca26"
             ],
             [
              1,
              "#f0f921"
             ]
            ],
            "type": "heatmap"
           }
          ],
          "heatmapgl": [
           {
            "colorbar": {
             "outlinewidth": 0,
             "ticks": ""
            },
            "colorscale": [
             [
              0,
              "#0d0887"
             ],
             [
              0.1111111111111111,
              "#46039f"
             ],
             [
              0.2222222222222222,
              "#7201a8"
             ],
             [
              0.3333333333333333,
              "#9c179e"
             ],
             [
              0.4444444444444444,
              "#bd3786"
             ],
             [
              0.5555555555555556,
              "#d8576b"
             ],
             [
              0.6666666666666666,
              "#ed7953"
             ],
             [
              0.7777777777777778,
              "#fb9f3a"
             ],
             [
              0.8888888888888888,
              "#fdca26"
             ],
             [
              1,
              "#f0f921"
             ]
            ],
            "type": "heatmapgl"
           }
          ],
          "histogram": [
           {
            "marker": {
             "pattern": {
              "fillmode": "overlay",
              "size": 10,
              "solidity": 0.2
             }
            },
            "type": "histogram"
           }
          ],
          "histogram2d": [
           {
            "colorbar": {
             "outlinewidth": 0,
             "ticks": ""
            },
            "colorscale": [
             [
              0,
              "#0d0887"
             ],
             [
              0.1111111111111111,
              "#46039f"
             ],
             [
              0.2222222222222222,
              "#7201a8"
             ],
             [
              0.3333333333333333,
              "#9c179e"
             ],
             [
              0.4444444444444444,
              "#bd3786"
             ],
             [
              0.5555555555555556,
              "#d8576b"
             ],
             [
              0.6666666666666666,
              "#ed7953"
             ],
             [
              0.7777777777777778,
              "#fb9f3a"
             ],
             [
              0.8888888888888888,
              "#fdca26"
             ],
             [
              1,
              "#f0f921"
             ]
            ],
            "type": "histogram2d"
           }
          ],
          "histogram2dcontour": [
           {
            "colorbar": {
             "outlinewidth": 0,
             "ticks": ""
            },
            "colorscale": [
             [
              0,
              "#0d0887"
             ],
             [
              0.1111111111111111,
              "#46039f"
             ],
             [
              0.2222222222222222,
              "#7201a8"
             ],
             [
              0.3333333333333333,
              "#9c179e"
             ],
             [
              0.4444444444444444,
              "#bd3786"
             ],
             [
              0.5555555555555556,
              "#d8576b"
             ],
             [
              0.6666666666666666,
              "#ed7953"
             ],
             [
              0.7777777777777778,
              "#fb9f3a"
             ],
             [
              0.8888888888888888,
              "#fdca26"
             ],
             [
              1,
              "#f0f921"
             ]
            ],
            "type": "histogram2dcontour"
           }
          ],
          "mesh3d": [
           {
            "colorbar": {
             "outlinewidth": 0,
             "ticks": ""
            },
            "type": "mesh3d"
           }
          ],
          "parcoords": [
           {
            "line": {
             "colorbar": {
              "outlinewidth": 0,
              "ticks": ""
             }
            },
            "type": "parcoords"
           }
          ],
          "pie": [
           {
            "automargin": true,
            "type": "pie"
           }
          ],
          "scatter": [
           {
            "fillpattern": {
             "fillmode": "overlay",
             "size": 10,
             "solidity": 0.2
            },
            "type": "scatter"
           }
          ],
          "scatter3d": [
           {
            "line": {
             "colorbar": {
              "outlinewidth": 0,
              "ticks": ""
             }
            },
            "marker": {
             "colorbar": {
              "outlinewidth": 0,
              "ticks": ""
             }
            },
            "type": "scatter3d"
           }
          ],
          "scattercarpet": [
           {
            "marker": {
             "colorbar": {
              "outlinewidth": 0,
              "ticks": ""
             }
            },
            "type": "scattercarpet"
           }
          ],
          "scattergeo": [
           {
            "marker": {
             "colorbar": {
              "outlinewidth": 0,
              "ticks": ""
             }
            },
            "type": "scattergeo"
           }
          ],
          "scattergl": [
           {
            "marker": {
             "colorbar": {
              "outlinewidth": 0,
              "ticks": ""
             }
            },
            "type": "scattergl"
           }
          ],
          "scattermapbox": [
           {
            "marker": {
             "colorbar": {
              "outlinewidth": 0,
              "ticks": ""
             }
            },
            "type": "scattermapbox"
           }
          ],
          "scatterpolar": [
           {
            "marker": {
             "colorbar": {
              "outlinewidth": 0,
              "ticks": ""
             }
            },
            "type": "scatterpolar"
           }
          ],
          "scatterpolargl": [
           {
            "marker": {
             "colorbar": {
              "outlinewidth": 0,
              "ticks": ""
             }
            },
            "type": "scatterpolargl"
           }
          ],
          "scatterternary": [
           {
            "marker": {
             "colorbar": {
              "outlinewidth": 0,
              "ticks": ""
             }
            },
            "type": "scatterternary"
           }
          ],
          "surface": [
           {
            "colorbar": {
             "outlinewidth": 0,
             "ticks": ""
            },
            "colorscale": [
             [
              0,
              "#0d0887"
             ],
             [
              0.1111111111111111,
              "#46039f"
             ],
             [
              0.2222222222222222,
              "#7201a8"
             ],
             [
              0.3333333333333333,
              "#9c179e"
             ],
             [
              0.4444444444444444,
              "#bd3786"
             ],
             [
              0.5555555555555556,
              "#d8576b"
             ],
             [
              0.6666666666666666,
              "#ed7953"
             ],
             [
              0.7777777777777778,
              "#fb9f3a"
             ],
             [
              0.8888888888888888,
              "#fdca26"
             ],
             [
              1,
              "#f0f921"
             ]
            ],
            "type": "surface"
           }
          ],
          "table": [
           {
            "cells": {
             "fill": {
              "color": "#EBF0F8"
             },
             "line": {
              "color": "white"
             }
            },
            "header": {
             "fill": {
              "color": "#C8D4E3"
             },
             "line": {
              "color": "white"
             }
            },
            "type": "table"
           }
          ]
         },
         "layout": {
          "annotationdefaults": {
           "arrowcolor": "#2a3f5f",
           "arrowhead": 0,
           "arrowwidth": 1
          },
          "autotypenumbers": "strict",
          "coloraxis": {
           "colorbar": {
            "outlinewidth": 0,
            "ticks": ""
           }
          },
          "colorscale": {
           "diverging": [
            [
             0,
             "#8e0152"
            ],
            [
             0.1,
             "#c51b7d"
            ],
            [
             0.2,
             "#de77ae"
            ],
            [
             0.3,
             "#f1b6da"
            ],
            [
             0.4,
             "#fde0ef"
            ],
            [
             0.5,
             "#f7f7f7"
            ],
            [
             0.6,
             "#e6f5d0"
            ],
            [
             0.7,
             "#b8e186"
            ],
            [
             0.8,
             "#7fbc41"
            ],
            [
             0.9,
             "#4d9221"
            ],
            [
             1,
             "#276419"
            ]
           ],
           "sequential": [
            [
             0,
             "#0d0887"
            ],
            [
             0.1111111111111111,
             "#46039f"
            ],
            [
             0.2222222222222222,
             "#7201a8"
            ],
            [
             0.3333333333333333,
             "#9c179e"
            ],
            [
             0.4444444444444444,
             "#bd3786"
            ],
            [
             0.5555555555555556,
             "#d8576b"
            ],
            [
             0.6666666666666666,
             "#ed7953"
            ],
            [
             0.7777777777777778,
             "#fb9f3a"
            ],
            [
             0.8888888888888888,
             "#fdca26"
            ],
            [
             1,
             "#f0f921"
            ]
           ],
           "sequentialminus": [
            [
             0,
             "#0d0887"
            ],
            [
             0.1111111111111111,
             "#46039f"
            ],
            [
             0.2222222222222222,
             "#7201a8"
            ],
            [
             0.3333333333333333,
             "#9c179e"
            ],
            [
             0.4444444444444444,
             "#bd3786"
            ],
            [
             0.5555555555555556,
             "#d8576b"
            ],
            [
             0.6666666666666666,
             "#ed7953"
            ],
            [
             0.7777777777777778,
             "#fb9f3a"
            ],
            [
             0.8888888888888888,
             "#fdca26"
            ],
            [
             1,
             "#f0f921"
            ]
           ]
          },
          "colorway": [
           "#636efa",
           "#EF553B",
           "#00cc96",
           "#ab63fa",
           "#FFA15A",
           "#19d3f3",
           "#FF6692",
           "#B6E880",
           "#FF97FF",
           "#FECB52"
          ],
          "font": {
           "color": "#2a3f5f"
          },
          "geo": {
           "bgcolor": "white",
           "lakecolor": "white",
           "landcolor": "#E5ECF6",
           "showlakes": true,
           "showland": true,
           "subunitcolor": "white"
          },
          "hoverlabel": {
           "align": "left"
          },
          "hovermode": "closest",
          "mapbox": {
           "style": "light"
          },
          "paper_bgcolor": "white",
          "plot_bgcolor": "#E5ECF6",
          "polar": {
           "angularaxis": {
            "gridcolor": "white",
            "linecolor": "white",
            "ticks": ""
           },
           "bgcolor": "#E5ECF6",
           "radialaxis": {
            "gridcolor": "white",
            "linecolor": "white",
            "ticks": ""
           }
          },
          "scene": {
           "xaxis": {
            "backgroundcolor": "#E5ECF6",
            "gridcolor": "white",
            "gridwidth": 2,
            "linecolor": "white",
            "showbackground": true,
            "ticks": "",
            "zerolinecolor": "white"
           },
           "yaxis": {
            "backgroundcolor": "#E5ECF6",
            "gridcolor": "white",
            "gridwidth": 2,
            "linecolor": "white",
            "showbackground": true,
            "ticks": "",
            "zerolinecolor": "white"
           },
           "zaxis": {
            "backgroundcolor": "#E5ECF6",
            "gridcolor": "white",
            "gridwidth": 2,
            "linecolor": "white",
            "showbackground": true,
            "ticks": "",
            "zerolinecolor": "white"
           }
          },
          "shapedefaults": {
           "line": {
            "color": "#2a3f5f"
           }
          },
          "ternary": {
           "aaxis": {
            "gridcolor": "white",
            "linecolor": "white",
            "ticks": ""
           },
           "baxis": {
            "gridcolor": "white",
            "linecolor": "white",
            "ticks": ""
           },
           "bgcolor": "#E5ECF6",
           "caxis": {
            "gridcolor": "white",
            "linecolor": "white",
            "ticks": ""
           }
          },
          "title": {
           "x": 0.05
          },
          "xaxis": {
           "automargin": true,
           "gridcolor": "white",
           "linecolor": "white",
           "ticks": "",
           "title": {
            "standoff": 15
           },
           "zerolinecolor": "white",
           "zerolinewidth": 2
          },
          "yaxis": {
           "automargin": true,
           "gridcolor": "white",
           "linecolor": "white",
           "ticks": "",
           "title": {
            "standoff": 15
           },
           "zerolinecolor": "white",
           "zerolinewidth": 2
          }
         }
        },
        "title": {
         "text": "Proyección de Jugadores"
        },
        "width": 800,
        "xaxis": {
         "anchor": "y",
         "domain": [
          0,
          1
         ],
         "title": {
          "text": "Desempeño en la cancha"
         }
        },
        "yaxis": {
         "anchor": "x",
         "domain": [
          0,
          1
         ],
         "title": {
          "text": "Experiencia del jugador"
         }
        }
       }
      }
     },
     "metadata": {},
     "output_type": "display_data"
    }
   ],
   "source": [
    "plot_FA(f_scores_rotDf,'F1','F3',['Desempeño en la cancha','Experiencia del jugador'],'Player','Pos','Position')"
   ]
  },
  {
   "cell_type": "code",
   "execution_count": 137,
   "metadata": {},
   "outputs": [
    {
     "data": {
      "application/vnd.plotly.v1+json": {
       "config": {
        "plotlyServerURL": "https://plot.ly"
       },
       "data": [
        {
         "customdata": [
          [
           "Jayson Tatum",
           "BOS",
           "F-G",
           26,
           2.03,
           95,
           26.9,
           8.1,
           4.9,
           15.5
          ],
          [
           "Jaylen Brown",
           "BOS",
           "F",
           27,
           1.98,
           101,
           23,
           5.5,
           3.6,
           11.6
          ],
          [
           "Derrick White",
           "BOS",
           "G",
           29,
           1.93,
           86,
           15.2,
           4.2,
           5.2,
           10.6
          ],
          [
           "Jrue Holiday",
           "BOS",
           "G",
           33,
           1.93,
           93,
           12.5,
           5.4,
           4.8,
           9.9
          ],
          [
           "Al Horford",
           "BOS",
           "C-F",
           38,
           2.06,
           109,
           8.6,
           6.4,
           2.6,
           10.5
          ],
          [
           "Payton Pritchard",
           "BOS",
           "G",
           26,
           1.85,
           88,
           9.6,
           3.2,
           3.4,
           10.3
          ],
          [
           "Sam Hauser",
           "BOS",
           "F",
           26,
           2.01,
           98,
           9,
           3.5,
           1,
           8.6
          ],
          [
           "Kristaps Porzingis",
           "BOS",
           "F-C",
           28,
           2.18,
           109,
           20.1,
           7.2,
           2,
           13.8
          ],
          [
           "Luke Kornet",
           "BOS",
           "C-F",
           28,
           2.16,
           113,
           5.3,
           4.1,
           1.1,
           11.3
          ],
          [
           "Oshae Brissett",
           "BOS",
           "F-G",
           25,
           2.01,
           95,
           3.7,
           2.9,
           0.8,
           7.6
          ],
          [
           "Xavier Tillman",
           "BOS",
           "F",
           25,
           2.01,
           111,
           5.3,
           3.9,
           1.4,
           7.8
          ],
          [
           "Jaden Springer",
           "BOS",
           "G",
           21,
           1.93,
           92,
           3.3,
           1.6,
           0.9,
           5.5
          ],
          [
           "Svi Mykhailiuk",
           "BOS",
           "G-F",
           26,
           2.01,
           93,
           4,
           1.2,
           0.9,
           7.7
          ],
          [
           "Jordan Walsh",
           "BOS",
           "G",
           20,
           1.98,
           93,
           1.7,
           2.2,
           0.6,
           5.8
          ],
          [
           "Neemias Queta",
           "BOS",
           "C",
           24,
           2.13,
           112,
           5.5,
           4.4,
           0.7,
           12.3
          ]
         ],
         "hovertemplate": "<b style='font-size:16px; color:#000000;'> %{customdata[0]}</b><br>Team: %{customdata[1]}<br>Position: %{customdata[2]}<br>Age: %{customdata[3]} years<br>Height: %{customdata[4]} m<br>Weight: %{customdata[5]} kg<br>PPG: %{customdata[6]}<br>RPG: %{customdata[7]}<br>APG: %{customdata[8]}<br>PIE: %{customdata[9]}<br><extra></extra>",
         "legendgroup": "BOS",
         "marker": {
          "color": "#636efa",
          "size": 20,
          "symbol": "circle"
         },
         "mode": "markers+text",
         "name": "BOS",
         "orientation": "v",
         "showlegend": true,
         "text": [
          "Jayson Tatum",
          "Jaylen Brown",
          "Derrick White",
          "Jrue Holiday",
          "Al Horford",
          "Payton Pritchard",
          "Sam Hauser",
          "Kristaps Porzingis",
          "Luke Kornet",
          "Oshae Brissett",
          "Xavier Tillman",
          "Jaden Springer",
          "Svi Mykhailiuk",
          "Jordan Walsh",
          "Neemias Queta"
         ],
         "textfont": {
          "size": 14
         },
         "textposition": "bottom center",
         "type": "scatter",
         "x": [
          -0.2842289996930858,
          -0.31206300416108235,
          -1.491251214429327,
          -1.0822622009654101,
          0.847238064899249,
          -1.6133898694387363,
          0.14251913381328182,
          1.649235084583501,
          1.8409737754840947,
          0.025546882513950035,
          0.8193795771935958,
          -0.6876070273389836,
          -0.23354398119433328,
          -0.20210944136917758,
          1.7390813925036248
         ],
         "xaxis": "x",
         "y": [
          -1.2041040491855488,
          -0.28126725022769,
          0.019575149127245867,
          1.6085194793836233,
          2.637031559396062,
          -0.3659457051774764,
          -0.2600567362381711,
          -0.3076342967874071,
          0.38098815585899526,
          0.08151794079988314,
          -0.0917413314830422,
          -0.42183948819450284,
          0.42744673818694523,
          -0.8251769743879236,
          -0.6881679320590036
         ],
         "yaxis": "y"
        },
        {
         "customdata": [
          [
           "Luka Doncic",
           "DAL",
           "F-G",
           25,
           2.01,
           104,
           33.9,
           9.2,
           9.8,
           20
          ],
          [
           "Kyrie Irving",
           "DAL",
           "G",
           32,
           1.88,
           88,
           25.6,
           5,
           5.2,
           14.4
          ],
          [
           "P.J. Washington",
           "DAL",
           "F",
           25,
           2.01,
           104,
           12.9,
           5.6,
           1.9,
           7.9
          ],
          [
           "Derrick Jones Jr.",
           "DAL",
           "F",
           27,
           1.98,
           95,
           8.6,
           3.3,
           1,
           6.8
          ],
          [
           "Daniel Gafford",
           "DAL",
           "F-C",
           25,
           2.08,
           106,
           11,
           7.6,
           1.6,
           12.1
          ],
          [
           "Dereck Lively II",
           "DAL",
           "C",
           20,
           2.16,
           104,
           8.8,
           6.9,
           1.1,
           10.2
          ],
          [
           "Josh Green",
           "DAL",
           "G",
           23,
           1.96,
           91,
           8.2,
           3.2,
           2.3,
           6.3
          ],
          [
           "Jaden Hardy",
           "DAL",
           "G",
           21,
           1.91,
           90,
           7.3,
           1.8,
           1.5,
           8.1
          ],
          [
           "Tim Hardaway Jr.",
           "DAL",
           "G-F",
           32,
           1.96,
           93,
           14.4,
           3.2,
           1.8,
           8.3
          ],
          [
           "Maxi Kleber",
           "DAL",
           "F",
           32,
           2.08,
           109,
           4.4,
           3.3,
           1.6,
           5.7
          ],
          [
           "Dante Exum",
           "DAL",
           "G",
           28,
           1.96,
           97,
           7.8,
           2.7,
           2.9,
           9.3
          ],
          [
           "A.J. Lawson",
           "DAL",
           "G",
           23,
           1.98,
           81,
           3.2,
           1.2,
           0.5,
           7.6
          ],
          [
           "Dwight Powell",
           "DAL",
           "F-C",
           32,
           2.08,
           109,
           3.3,
           3.4,
           1.3,
           7.9
          ]
         ],
         "hovertemplate": "<b style='font-size:16px; color:#000000;'> %{customdata[0]}</b><br>Team: %{customdata[1]}<br>Position: %{customdata[2]}<br>Age: %{customdata[3]} years<br>Height: %{customdata[4]} m<br>Weight: %{customdata[5]} kg<br>PPG: %{customdata[6]}<br>RPG: %{customdata[7]}<br>APG: %{customdata[8]}<br>PIE: %{customdata[9]}<br><extra></extra>",
         "legendgroup": "DAL",
         "marker": {
          "color": "#EF553B",
          "size": 20,
          "symbol": "circle"
         },
         "mode": "markers+text",
         "name": "DAL",
         "orientation": "v",
         "showlegend": true,
         "text": [
          "Luka Doncic",
          "Kyrie Irving",
          "P.J. Washington",
          "Derrick Jones Jr.",
          "Daniel Gafford",
          "Dereck Lively II",
          "Josh Green",
          "Jaden Hardy",
          "Tim Hardaway Jr.",
          "Maxi Kleber",
          "Dante Exum",
          "A.J. Lawson",
          "Dwight Powell"
         ],
         "textfont": {
          "size": 14
         },
         "textposition": "bottom center",
         "type": "scatter",
         "x": [
          -0.48790124375804683,
          -1.8720647365165202,
          0.40422425435999276,
          -0.2765388274831649,
          1.1637759017715203,
          1.6308300594917,
          -0.6822790191372268,
          -0.9961187102294378,
          -0.725485561803991,
          1.0296675430351132,
          -0.5093363298611787,
          -0.8944365995997816,
          1.0581450973298856
         ],
         "xaxis": "x",
         "y": [
          -2.1900307493361444,
          0.6404876192215999,
          -0.3462208606225253,
          0.6235424319397284,
          -0.729155060562565,
          -1.6576999413875362,
          -0.4225169112480349,
          -0.8587006070634345,
          1.3623482478810478,
          1.317447867997051,
          0.44309118085241644,
          -0.47179818468466567,
          1.580059708001072
         ],
         "yaxis": "y"
        }
       ],
       "layout": {
        "font": {
         "family": "Courier New, monospace",
         "size": 18
        },
        "height": 700,
        "legend": {
         "title": {
          "text": "Team"
         },
         "tracegroupgap": 0
        },
        "margin": {
         "t": 60
        },
        "template": {
         "data": {
          "bar": [
           {
            "error_x": {
             "color": "#2a3f5f"
            },
            "error_y": {
             "color": "#2a3f5f"
            },
            "marker": {
             "line": {
              "color": "#E5ECF6",
              "width": 0.5
             },
             "pattern": {
              "fillmode": "overlay",
              "size": 10,
              "solidity": 0.2
             }
            },
            "type": "bar"
           }
          ],
          "barpolar": [
           {
            "marker": {
             "line": {
              "color": "#E5ECF6",
              "width": 0.5
             },
             "pattern": {
              "fillmode": "overlay",
              "size": 10,
              "solidity": 0.2
             }
            },
            "type": "barpolar"
           }
          ],
          "carpet": [
           {
            "aaxis": {
             "endlinecolor": "#2a3f5f",
             "gridcolor": "white",
             "linecolor": "white",
             "minorgridcolor": "white",
             "startlinecolor": "#2a3f5f"
            },
            "baxis": {
             "endlinecolor": "#2a3f5f",
             "gridcolor": "white",
             "linecolor": "white",
             "minorgridcolor": "white",
             "startlinecolor": "#2a3f5f"
            },
            "type": "carpet"
           }
          ],
          "choropleth": [
           {
            "colorbar": {
             "outlinewidth": 0,
             "ticks": ""
            },
            "type": "choropleth"
           }
          ],
          "contour": [
           {
            "colorbar": {
             "outlinewidth": 0,
             "ticks": ""
            },
            "colorscale": [
             [
              0,
              "#0d0887"
             ],
             [
              0.1111111111111111,
              "#46039f"
             ],
             [
              0.2222222222222222,
              "#7201a8"
             ],
             [
              0.3333333333333333,
              "#9c179e"
             ],
             [
              0.4444444444444444,
              "#bd3786"
             ],
             [
              0.5555555555555556,
              "#d8576b"
             ],
             [
              0.6666666666666666,
              "#ed7953"
             ],
             [
              0.7777777777777778,
              "#fb9f3a"
             ],
             [
              0.8888888888888888,
              "#fdca26"
             ],
             [
              1,
              "#f0f921"
             ]
            ],
            "type": "contour"
           }
          ],
          "contourcarpet": [
           {
            "colorbar": {
             "outlinewidth": 0,
             "ticks": ""
            },
            "type": "contourcarpet"
           }
          ],
          "heatmap": [
           {
            "colorbar": {
             "outlinewidth": 0,
             "ticks": ""
            },
            "colorscale": [
             [
              0,
              "#0d0887"
             ],
             [
              0.1111111111111111,
              "#46039f"
             ],
             [
              0.2222222222222222,
              "#7201a8"
             ],
             [
              0.3333333333333333,
              "#9c179e"
             ],
             [
              0.4444444444444444,
              "#bd3786"
             ],
             [
              0.5555555555555556,
              "#d8576b"
             ],
             [
              0.6666666666666666,
              "#ed7953"
             ],
             [
              0.7777777777777778,
              "#fb9f3a"
             ],
             [
              0.8888888888888888,
              "#fdca26"
             ],
             [
              1,
              "#f0f921"
             ]
            ],
            "type": "heatmap"
           }
          ],
          "heatmapgl": [
           {
            "colorbar": {
             "outlinewidth": 0,
             "ticks": ""
            },
            "colorscale": [
             [
              0,
              "#0d0887"
             ],
             [
              0.1111111111111111,
              "#46039f"
             ],
             [
              0.2222222222222222,
              "#7201a8"
             ],
             [
              0.3333333333333333,
              "#9c179e"
             ],
             [
              0.4444444444444444,
              "#bd3786"
             ],
             [
              0.5555555555555556,
              "#d8576b"
             ],
             [
              0.6666666666666666,
              "#ed7953"
             ],
             [
              0.7777777777777778,
              "#fb9f3a"
             ],
             [
              0.8888888888888888,
              "#fdca26"
             ],
             [
              1,
              "#f0f921"
             ]
            ],
            "type": "heatmapgl"
           }
          ],
          "histogram": [
           {
            "marker": {
             "pattern": {
              "fillmode": "overlay",
              "size": 10,
              "solidity": 0.2
             }
            },
            "type": "histogram"
           }
          ],
          "histogram2d": [
           {
            "colorbar": {
             "outlinewidth": 0,
             "ticks": ""
            },
            "colorscale": [
             [
              0,
              "#0d0887"
             ],
             [
              0.1111111111111111,
              "#46039f"
             ],
             [
              0.2222222222222222,
              "#7201a8"
             ],
             [
              0.3333333333333333,
              "#9c179e"
             ],
             [
              0.4444444444444444,
              "#bd3786"
             ],
             [
              0.5555555555555556,
              "#d8576b"
             ],
             [
              0.6666666666666666,
              "#ed7953"
             ],
             [
              0.7777777777777778,
              "#fb9f3a"
             ],
             [
              0.8888888888888888,
              "#fdca26"
             ],
             [
              1,
              "#f0f921"
             ]
            ],
            "type": "histogram2d"
           }
          ],
          "histogram2dcontour": [
           {
            "colorbar": {
             "outlinewidth": 0,
             "ticks": ""
            },
            "colorscale": [
             [
              0,
              "#0d0887"
             ],
             [
              0.1111111111111111,
              "#46039f"
             ],
             [
              0.2222222222222222,
              "#7201a8"
             ],
             [
              0.3333333333333333,
              "#9c179e"
             ],
             [
              0.4444444444444444,
              "#bd3786"
             ],
             [
              0.5555555555555556,
              "#d8576b"
             ],
             [
              0.6666666666666666,
              "#ed7953"
             ],
             [
              0.7777777777777778,
              "#fb9f3a"
             ],
             [
              0.8888888888888888,
              "#fdca26"
             ],
             [
              1,
              "#f0f921"
             ]
            ],
            "type": "histogram2dcontour"
           }
          ],
          "mesh3d": [
           {
            "colorbar": {
             "outlinewidth": 0,
             "ticks": ""
            },
            "type": "mesh3d"
           }
          ],
          "parcoords": [
           {
            "line": {
             "colorbar": {
              "outlinewidth": 0,
              "ticks": ""
             }
            },
            "type": "parcoords"
           }
          ],
          "pie": [
           {
            "automargin": true,
            "type": "pie"
           }
          ],
          "scatter": [
           {
            "fillpattern": {
             "fillmode": "overlay",
             "size": 10,
             "solidity": 0.2
            },
            "type": "scatter"
           }
          ],
          "scatter3d": [
           {
            "line": {
             "colorbar": {
              "outlinewidth": 0,
              "ticks": ""
             }
            },
            "marker": {
             "colorbar": {
              "outlinewidth": 0,
              "ticks": ""
             }
            },
            "type": "scatter3d"
           }
          ],
          "scattercarpet": [
           {
            "marker": {
             "colorbar": {
              "outlinewidth": 0,
              "ticks": ""
             }
            },
            "type": "scattercarpet"
           }
          ],
          "scattergeo": [
           {
            "marker": {
             "colorbar": {
              "outlinewidth": 0,
              "ticks": ""
             }
            },
            "type": "scattergeo"
           }
          ],
          "scattergl": [
           {
            "marker": {
             "colorbar": {
              "outlinewidth": 0,
              "ticks": ""
             }
            },
            "type": "scattergl"
           }
          ],
          "scattermapbox": [
           {
            "marker": {
             "colorbar": {
              "outlinewidth": 0,
              "ticks": ""
             }
            },
            "type": "scattermapbox"
           }
          ],
          "scatterpolar": [
           {
            "marker": {
             "colorbar": {
              "outlinewidth": 0,
              "ticks": ""
             }
            },
            "type": "scatterpolar"
           }
          ],
          "scatterpolargl": [
           {
            "marker": {
             "colorbar": {
              "outlinewidth": 0,
              "ticks": ""
             }
            },
            "type": "scatterpolargl"
           }
          ],
          "scatterternary": [
           {
            "marker": {
             "colorbar": {
              "outlinewidth": 0,
              "ticks": ""
             }
            },
            "type": "scatterternary"
           }
          ],
          "surface": [
           {
            "colorbar": {
             "outlinewidth": 0,
             "ticks": ""
            },
            "colorscale": [
             [
              0,
              "#0d0887"
             ],
             [
              0.1111111111111111,
              "#46039f"
             ],
             [
              0.2222222222222222,
              "#7201a8"
             ],
             [
              0.3333333333333333,
              "#9c179e"
             ],
             [
              0.4444444444444444,
              "#bd3786"
             ],
             [
              0.5555555555555556,
              "#d8576b"
             ],
             [
              0.6666666666666666,
              "#ed7953"
             ],
             [
              0.7777777777777778,
              "#fb9f3a"
             ],
             [
              0.8888888888888888,
              "#fdca26"
             ],
             [
              1,
              "#f0f921"
             ]
            ],
            "type": "surface"
           }
          ],
          "table": [
           {
            "cells": {
             "fill": {
              "color": "#EBF0F8"
             },
             "line": {
              "color": "white"
             }
            },
            "header": {
             "fill": {
              "color": "#C8D4E3"
             },
             "line": {
              "color": "white"
             }
            },
            "type": "table"
           }
          ]
         },
         "layout": {
          "annotationdefaults": {
           "arrowcolor": "#2a3f5f",
           "arrowhead": 0,
           "arrowwidth": 1
          },
          "autotypenumbers": "strict",
          "coloraxis": {
           "colorbar": {
            "outlinewidth": 0,
            "ticks": ""
           }
          },
          "colorscale": {
           "diverging": [
            [
             0,
             "#8e0152"
            ],
            [
             0.1,
             "#c51b7d"
            ],
            [
             0.2,
             "#de77ae"
            ],
            [
             0.3,
             "#f1b6da"
            ],
            [
             0.4,
             "#fde0ef"
            ],
            [
             0.5,
             "#f7f7f7"
            ],
            [
             0.6,
             "#e6f5d0"
            ],
            [
             0.7,
             "#b8e186"
            ],
            [
             0.8,
             "#7fbc41"
            ],
            [
             0.9,
             "#4d9221"
            ],
            [
             1,
             "#276419"
            ]
           ],
           "sequential": [
            [
             0,
             "#0d0887"
            ],
            [
             0.1111111111111111,
             "#46039f"
            ],
            [
             0.2222222222222222,
             "#7201a8"
            ],
            [
             0.3333333333333333,
             "#9c179e"
            ],
            [
             0.4444444444444444,
             "#bd3786"
            ],
            [
             0.5555555555555556,
             "#d8576b"
            ],
            [
             0.6666666666666666,
             "#ed7953"
            ],
            [
             0.7777777777777778,
             "#fb9f3a"
            ],
            [
             0.8888888888888888,
             "#fdca26"
            ],
            [
             1,
             "#f0f921"
            ]
           ],
           "sequentialminus": [
            [
             0,
             "#0d0887"
            ],
            [
             0.1111111111111111,
             "#46039f"
            ],
            [
             0.2222222222222222,
             "#7201a8"
            ],
            [
             0.3333333333333333,
             "#9c179e"
            ],
            [
             0.4444444444444444,
             "#bd3786"
            ],
            [
             0.5555555555555556,
             "#d8576b"
            ],
            [
             0.6666666666666666,
             "#ed7953"
            ],
            [
             0.7777777777777778,
             "#fb9f3a"
            ],
            [
             0.8888888888888888,
             "#fdca26"
            ],
            [
             1,
             "#f0f921"
            ]
           ]
          },
          "colorway": [
           "#636efa",
           "#EF553B",
           "#00cc96",
           "#ab63fa",
           "#FFA15A",
           "#19d3f3",
           "#FF6692",
           "#B6E880",
           "#FF97FF",
           "#FECB52"
          ],
          "font": {
           "color": "#2a3f5f"
          },
          "geo": {
           "bgcolor": "white",
           "lakecolor": "white",
           "landcolor": "#E5ECF6",
           "showlakes": true,
           "showland": true,
           "subunitcolor": "white"
          },
          "hoverlabel": {
           "align": "left"
          },
          "hovermode": "closest",
          "mapbox": {
           "style": "light"
          },
          "paper_bgcolor": "white",
          "plot_bgcolor": "#E5ECF6",
          "polar": {
           "angularaxis": {
            "gridcolor": "white",
            "linecolor": "white",
            "ticks": ""
           },
           "bgcolor": "#E5ECF6",
           "radialaxis": {
            "gridcolor": "white",
            "linecolor": "white",
            "ticks": ""
           }
          },
          "scene": {
           "xaxis": {
            "backgroundcolor": "#E5ECF6",
            "gridcolor": "white",
            "gridwidth": 2,
            "linecolor": "white",
            "showbackground": true,
            "ticks": "",
            "zerolinecolor": "white"
           },
           "yaxis": {
            "backgroundcolor": "#E5ECF6",
            "gridcolor": "white",
            "gridwidth": 2,
            "linecolor": "white",
            "showbackground": true,
            "ticks": "",
            "zerolinecolor": "white"
           },
           "zaxis": {
            "backgroundcolor": "#E5ECF6",
            "gridcolor": "white",
            "gridwidth": 2,
            "linecolor": "white",
            "showbackground": true,
            "ticks": "",
            "zerolinecolor": "white"
           }
          },
          "shapedefaults": {
           "line": {
            "color": "#2a3f5f"
           }
          },
          "ternary": {
           "aaxis": {
            "gridcolor": "white",
            "linecolor": "white",
            "ticks": ""
           },
           "baxis": {
            "gridcolor": "white",
            "linecolor": "white",
            "ticks": ""
           },
           "bgcolor": "#E5ECF6",
           "caxis": {
            "gridcolor": "white",
            "linecolor": "white",
            "ticks": ""
           }
          },
          "title": {
           "x": 0.05
          },
          "xaxis": {
           "automargin": true,
           "gridcolor": "white",
           "linecolor": "white",
           "ticks": "",
           "title": {
            "standoff": 15
           },
           "zerolinecolor": "white",
           "zerolinewidth": 2
          },
          "yaxis": {
           "automargin": true,
           "gridcolor": "white",
           "linecolor": "white",
           "ticks": "",
           "title": {
            "standoff": 15
           },
           "zerolinecolor": "white",
           "zerolinewidth": 2
          }
         }
        },
        "title": {
         "text": "Proyección de Jugadores"
        },
        "width": 800,
        "xaxis": {
         "anchor": "y",
         "domain": [
          0,
          1
         ],
         "title": {
          "text": "Talla del jugador"
         }
        },
        "yaxis": {
         "anchor": "x",
         "domain": [
          0,
          1
         ],
         "title": {
          "text": "Experiencia del jugador"
         }
        }
       }
      }
     },
     "metadata": {},
     "output_type": "display_data"
    }
   ],
   "source": [
    "plot_FA(f_scores_rotDf,'F2','F3',['Talla del jugador','Experiencia del jugador'],'Player','Team','Team')"
   ]
  },
  {
   "cell_type": "code",
   "execution_count": 138,
   "metadata": {},
   "outputs": [
    {
     "data": {
      "application/vnd.plotly.v1+json": {
       "config": {
        "plotlyServerURL": "https://plot.ly"
       },
       "data": [
        {
         "customdata": [
          [
           "Jayson Tatum",
           "BOS",
           "F-G",
           26,
           2.03,
           95,
           26.9,
           8.1,
           4.9,
           15.5
          ],
          [
           "Oshae Brissett",
           "BOS",
           "F-G",
           25,
           2.01,
           95,
           3.7,
           2.9,
           0.8,
           7.6
          ],
          [
           "Luka Doncic",
           "DAL",
           "F-G",
           25,
           2.01,
           104,
           33.9,
           9.2,
           9.8,
           20
          ]
         ],
         "hovertemplate": "<b style='font-size:16px; color:#000000;'> %{customdata[0]}</b><br>Team: %{customdata[1]}<br>Position: %{customdata[2]}<br>Age: %{customdata[3]} years<br>Height: %{customdata[4]} m<br>Weight: %{customdata[5]} kg<br>PPG: %{customdata[6]}<br>RPG: %{customdata[7]}<br>APG: %{customdata[8]}<br>PIE: %{customdata[9]}<br><extra></extra>",
         "legendgroup": "F-G",
         "marker": {
          "color": "#636efa",
          "size": 20,
          "symbol": "circle"
         },
         "mode": "markers+text",
         "name": "F-G",
         "orientation": "v",
         "showlegend": true,
         "text": [
          "Jayson Tatum",
          "Oshae Brissett",
          "Luka Doncic"
         ],
         "textfont": {
          "size": 14
         },
         "textposition": "bottom center",
         "type": "scatter",
         "x": [
          -0.2842289996930858,
          0.025546882513950035,
          -0.48790124375804683
         ],
         "xaxis": "x",
         "y": [
          -1.2041040491855488,
          0.08151794079988314,
          -2.1900307493361444
         ],
         "yaxis": "y"
        },
        {
         "customdata": [
          [
           "Jaylen Brown",
           "BOS",
           "F",
           27,
           1.98,
           101,
           23,
           5.5,
           3.6,
           11.6
          ],
          [
           "Sam Hauser",
           "BOS",
           "F",
           26,
           2.01,
           98,
           9,
           3.5,
           1,
           8.6
          ],
          [
           "Xavier Tillman",
           "BOS",
           "F",
           25,
           2.01,
           111,
           5.3,
           3.9,
           1.4,
           7.8
          ],
          [
           "P.J. Washington",
           "DAL",
           "F",
           25,
           2.01,
           104,
           12.9,
           5.6,
           1.9,
           7.9
          ],
          [
           "Derrick Jones Jr.",
           "DAL",
           "F",
           27,
           1.98,
           95,
           8.6,
           3.3,
           1,
           6.8
          ],
          [
           "Maxi Kleber",
           "DAL",
           "F",
           32,
           2.08,
           109,
           4.4,
           3.3,
           1.6,
           5.7
          ]
         ],
         "hovertemplate": "<b style='font-size:16px; color:#000000;'> %{customdata[0]}</b><br>Team: %{customdata[1]}<br>Position: %{customdata[2]}<br>Age: %{customdata[3]} years<br>Height: %{customdata[4]} m<br>Weight: %{customdata[5]} kg<br>PPG: %{customdata[6]}<br>RPG: %{customdata[7]}<br>APG: %{customdata[8]}<br>PIE: %{customdata[9]}<br><extra></extra>",
         "legendgroup": "F",
         "marker": {
          "color": "#EF553B",
          "size": 20,
          "symbol": "circle"
         },
         "mode": "markers+text",
         "name": "F",
         "orientation": "v",
         "showlegend": true,
         "text": [
          "Jaylen Brown",
          "Sam Hauser",
          "Xavier Tillman",
          "P.J. Washington",
          "Derrick Jones Jr.",
          "Maxi Kleber"
         ],
         "textfont": {
          "size": 14
         },
         "textposition": "bottom center",
         "type": "scatter",
         "x": [
          -0.31206300416108235,
          0.14251913381328182,
          0.8193795771935958,
          0.40422425435999276,
          -0.2765388274831649,
          1.0296675430351132
         ],
         "xaxis": "x",
         "y": [
          -0.28126725022769,
          -0.2600567362381711,
          -0.0917413314830422,
          -0.3462208606225253,
          0.6235424319397284,
          1.317447867997051
         ],
         "yaxis": "y"
        },
        {
         "customdata": [
          [
           "Derrick White",
           "BOS",
           "G",
           29,
           1.93,
           86,
           15.2,
           4.2,
           5.2,
           10.6
          ],
          [
           "Jrue Holiday",
           "BOS",
           "G",
           33,
           1.93,
           93,
           12.5,
           5.4,
           4.8,
           9.9
          ],
          [
           "Payton Pritchard",
           "BOS",
           "G",
           26,
           1.85,
           88,
           9.6,
           3.2,
           3.4,
           10.3
          ],
          [
           "Jaden Springer",
           "BOS",
           "G",
           21,
           1.93,
           92,
           3.3,
           1.6,
           0.9,
           5.5
          ],
          [
           "Jordan Walsh",
           "BOS",
           "G",
           20,
           1.98,
           93,
           1.7,
           2.2,
           0.6,
           5.8
          ],
          [
           "Kyrie Irving",
           "DAL",
           "G",
           32,
           1.88,
           88,
           25.6,
           5,
           5.2,
           14.4
          ],
          [
           "Josh Green",
           "DAL",
           "G",
           23,
           1.96,
           91,
           8.2,
           3.2,
           2.3,
           6.3
          ],
          [
           "Jaden Hardy",
           "DAL",
           "G",
           21,
           1.91,
           90,
           7.3,
           1.8,
           1.5,
           8.1
          ],
          [
           "Dante Exum",
           "DAL",
           "G",
           28,
           1.96,
           97,
           7.8,
           2.7,
           2.9,
           9.3
          ],
          [
           "A.J. Lawson",
           "DAL",
           "G",
           23,
           1.98,
           81,
           3.2,
           1.2,
           0.5,
           7.6
          ]
         ],
         "hovertemplate": "<b style='font-size:16px; color:#000000;'> %{customdata[0]}</b><br>Team: %{customdata[1]}<br>Position: %{customdata[2]}<br>Age: %{customdata[3]} years<br>Height: %{customdata[4]} m<br>Weight: %{customdata[5]} kg<br>PPG: %{customdata[6]}<br>RPG: %{customdata[7]}<br>APG: %{customdata[8]}<br>PIE: %{customdata[9]}<br><extra></extra>",
         "legendgroup": "G",
         "marker": {
          "color": "#00cc96",
          "size": 20,
          "symbol": "circle"
         },
         "mode": "markers+text",
         "name": "G",
         "orientation": "v",
         "showlegend": true,
         "text": [
          "Derrick White",
          "Jrue Holiday",
          "Payton Pritchard",
          "Jaden Springer",
          "Jordan Walsh",
          "Kyrie Irving",
          "Josh Green",
          "Jaden Hardy",
          "Dante Exum",
          "A.J. Lawson"
         ],
         "textfont": {
          "size": 14
         },
         "textposition": "bottom center",
         "type": "scatter",
         "x": [
          -1.491251214429327,
          -1.0822622009654101,
          -1.6133898694387363,
          -0.6876070273389836,
          -0.20210944136917758,
          -1.8720647365165202,
          -0.6822790191372268,
          -0.9961187102294378,
          -0.5093363298611787,
          -0.8944365995997816
         ],
         "xaxis": "x",
         "y": [
          0.019575149127245867,
          1.6085194793836233,
          -0.3659457051774764,
          -0.42183948819450284,
          -0.8251769743879236,
          0.6404876192215999,
          -0.4225169112480349,
          -0.8587006070634345,
          0.44309118085241644,
          -0.47179818468466567
         ],
         "yaxis": "y"
        },
        {
         "customdata": [
          [
           "Al Horford",
           "BOS",
           "C-F",
           38,
           2.06,
           109,
           8.6,
           6.4,
           2.6,
           10.5
          ],
          [
           "Luke Kornet",
           "BOS",
           "C-F",
           28,
           2.16,
           113,
           5.3,
           4.1,
           1.1,
           11.3
          ]
         ],
         "hovertemplate": "<b style='font-size:16px; color:#000000;'> %{customdata[0]}</b><br>Team: %{customdata[1]}<br>Position: %{customdata[2]}<br>Age: %{customdata[3]} years<br>Height: %{customdata[4]} m<br>Weight: %{customdata[5]} kg<br>PPG: %{customdata[6]}<br>RPG: %{customdata[7]}<br>APG: %{customdata[8]}<br>PIE: %{customdata[9]}<br><extra></extra>",
         "legendgroup": "C-F",
         "marker": {
          "color": "#ab63fa",
          "size": 20,
          "symbol": "circle"
         },
         "mode": "markers+text",
         "name": "C-F",
         "orientation": "v",
         "showlegend": true,
         "text": [
          "Al Horford",
          "Luke Kornet"
         ],
         "textfont": {
          "size": 14
         },
         "textposition": "bottom center",
         "type": "scatter",
         "x": [
          0.847238064899249,
          1.8409737754840947
         ],
         "xaxis": "x",
         "y": [
          2.637031559396062,
          0.38098815585899526
         ],
         "yaxis": "y"
        },
        {
         "customdata": [
          [
           "Kristaps Porzingis",
           "BOS",
           "F-C",
           28,
           2.18,
           109,
           20.1,
           7.2,
           2,
           13.8
          ],
          [
           "Daniel Gafford",
           "DAL",
           "F-C",
           25,
           2.08,
           106,
           11,
           7.6,
           1.6,
           12.1
          ],
          [
           "Dwight Powell",
           "DAL",
           "F-C",
           32,
           2.08,
           109,
           3.3,
           3.4,
           1.3,
           7.9
          ]
         ],
         "hovertemplate": "<b style='font-size:16px; color:#000000;'> %{customdata[0]}</b><br>Team: %{customdata[1]}<br>Position: %{customdata[2]}<br>Age: %{customdata[3]} years<br>Height: %{customdata[4]} m<br>Weight: %{customdata[5]} kg<br>PPG: %{customdata[6]}<br>RPG: %{customdata[7]}<br>APG: %{customdata[8]}<br>PIE: %{customdata[9]}<br><extra></extra>",
         "legendgroup": "F-C",
         "marker": {
          "color": "#FFA15A",
          "size": 20,
          "symbol": "circle"
         },
         "mode": "markers+text",
         "name": "F-C",
         "orientation": "v",
         "showlegend": true,
         "text": [
          "Kristaps Porzingis",
          "Daniel Gafford",
          "Dwight Powell"
         ],
         "textfont": {
          "size": 14
         },
         "textposition": "bottom center",
         "type": "scatter",
         "x": [
          1.649235084583501,
          1.1637759017715203,
          1.0581450973298856
         ],
         "xaxis": "x",
         "y": [
          -0.3076342967874071,
          -0.729155060562565,
          1.580059708001072
         ],
         "yaxis": "y"
        },
        {
         "customdata": [
          [
           "Svi Mykhailiuk",
           "BOS",
           "G-F",
           26,
           2.01,
           93,
           4,
           1.2,
           0.9,
           7.7
          ],
          [
           "Tim Hardaway Jr.",
           "DAL",
           "G-F",
           32,
           1.96,
           93,
           14.4,
           3.2,
           1.8,
           8.3
          ]
         ],
         "hovertemplate": "<b style='font-size:16px; color:#000000;'> %{customdata[0]}</b><br>Team: %{customdata[1]}<br>Position: %{customdata[2]}<br>Age: %{customdata[3]} years<br>Height: %{customdata[4]} m<br>Weight: %{customdata[5]} kg<br>PPG: %{customdata[6]}<br>RPG: %{customdata[7]}<br>APG: %{customdata[8]}<br>PIE: %{customdata[9]}<br><extra></extra>",
         "legendgroup": "G-F",
         "marker": {
          "color": "#19d3f3",
          "size": 20,
          "symbol": "circle"
         },
         "mode": "markers+text",
         "name": "G-F",
         "orientation": "v",
         "showlegend": true,
         "text": [
          "Svi Mykhailiuk",
          "Tim Hardaway Jr."
         ],
         "textfont": {
          "size": 14
         },
         "textposition": "bottom center",
         "type": "scatter",
         "x": [
          -0.23354398119433328,
          -0.725485561803991
         ],
         "xaxis": "x",
         "y": [
          0.42744673818694523,
          1.3623482478810478
         ],
         "yaxis": "y"
        },
        {
         "customdata": [
          [
           "Neemias Queta",
           "BOS",
           "C",
           24,
           2.13,
           112,
           5.5,
           4.4,
           0.7,
           12.3
          ],
          [
           "Dereck Lively II",
           "DAL",
           "C",
           20,
           2.16,
           104,
           8.8,
           6.9,
           1.1,
           10.2
          ]
         ],
         "hovertemplate": "<b style='font-size:16px; color:#000000;'> %{customdata[0]}</b><br>Team: %{customdata[1]}<br>Position: %{customdata[2]}<br>Age: %{customdata[3]} years<br>Height: %{customdata[4]} m<br>Weight: %{customdata[5]} kg<br>PPG: %{customdata[6]}<br>RPG: %{customdata[7]}<br>APG: %{customdata[8]}<br>PIE: %{customdata[9]}<br><extra></extra>",
         "legendgroup": "C",
         "marker": {
          "color": "#FF6692",
          "size": 20,
          "symbol": "circle"
         },
         "mode": "markers+text",
         "name": "C",
         "orientation": "v",
         "showlegend": true,
         "text": [
          "Neemias Queta",
          "Dereck Lively II"
         ],
         "textfont": {
          "size": 14
         },
         "textposition": "bottom center",
         "type": "scatter",
         "x": [
          1.7390813925036248,
          1.6308300594917
         ],
         "xaxis": "x",
         "y": [
          -0.6881679320590036,
          -1.6576999413875362
         ],
         "yaxis": "y"
        }
       ],
       "layout": {
        "font": {
         "family": "Courier New, monospace",
         "size": 18
        },
        "height": 700,
        "legend": {
         "title": {
          "text": "Position"
         },
         "tracegroupgap": 0
        },
        "margin": {
         "t": 60
        },
        "template": {
         "data": {
          "bar": [
           {
            "error_x": {
             "color": "#2a3f5f"
            },
            "error_y": {
             "color": "#2a3f5f"
            },
            "marker": {
             "line": {
              "color": "#E5ECF6",
              "width": 0.5
             },
             "pattern": {
              "fillmode": "overlay",
              "size": 10,
              "solidity": 0.2
             }
            },
            "type": "bar"
           }
          ],
          "barpolar": [
           {
            "marker": {
             "line": {
              "color": "#E5ECF6",
              "width": 0.5
             },
             "pattern": {
              "fillmode": "overlay",
              "size": 10,
              "solidity": 0.2
             }
            },
            "type": "barpolar"
           }
          ],
          "carpet": [
           {
            "aaxis": {
             "endlinecolor": "#2a3f5f",
             "gridcolor": "white",
             "linecolor": "white",
             "minorgridcolor": "white",
             "startlinecolor": "#2a3f5f"
            },
            "baxis": {
             "endlinecolor": "#2a3f5f",
             "gridcolor": "white",
             "linecolor": "white",
             "minorgridcolor": "white",
             "startlinecolor": "#2a3f5f"
            },
            "type": "carpet"
           }
          ],
          "choropleth": [
           {
            "colorbar": {
             "outlinewidth": 0,
             "ticks": ""
            },
            "type": "choropleth"
           }
          ],
          "contour": [
           {
            "colorbar": {
             "outlinewidth": 0,
             "ticks": ""
            },
            "colorscale": [
             [
              0,
              "#0d0887"
             ],
             [
              0.1111111111111111,
              "#46039f"
             ],
             [
              0.2222222222222222,
              "#7201a8"
             ],
             [
              0.3333333333333333,
              "#9c179e"
             ],
             [
              0.4444444444444444,
              "#bd3786"
             ],
             [
              0.5555555555555556,
              "#d8576b"
             ],
             [
              0.6666666666666666,
              "#ed7953"
             ],
             [
              0.7777777777777778,
              "#fb9f3a"
             ],
             [
              0.8888888888888888,
              "#fdca26"
             ],
             [
              1,
              "#f0f921"
             ]
            ],
            "type": "contour"
           }
          ],
          "contourcarpet": [
           {
            "colorbar": {
             "outlinewidth": 0,
             "ticks": ""
            },
            "type": "contourcarpet"
           }
          ],
          "heatmap": [
           {
            "colorbar": {
             "outlinewidth": 0,
             "ticks": ""
            },
            "colorscale": [
             [
              0,
              "#0d0887"
             ],
             [
              0.1111111111111111,
              "#46039f"
             ],
             [
              0.2222222222222222,
              "#7201a8"
             ],
             [
              0.3333333333333333,
              "#9c179e"
             ],
             [
              0.4444444444444444,
              "#bd3786"
             ],
             [
              0.5555555555555556,
              "#d8576b"
             ],
             [
              0.6666666666666666,
              "#ed7953"
             ],
             [
              0.7777777777777778,
              "#fb9f3a"
             ],
             [
              0.8888888888888888,
              "#fdca26"
             ],
             [
              1,
              "#f0f921"
             ]
            ],
            "type": "heatmap"
           }
          ],
          "heatmapgl": [
           {
            "colorbar": {
             "outlinewidth": 0,
             "ticks": ""
            },
            "colorscale": [
             [
              0,
              "#0d0887"
             ],
             [
              0.1111111111111111,
              "#46039f"
             ],
             [
              0.2222222222222222,
              "#7201a8"
             ],
             [
              0.3333333333333333,
              "#9c179e"
             ],
             [
              0.4444444444444444,
              "#bd3786"
             ],
             [
              0.5555555555555556,
              "#d8576b"
             ],
             [
              0.6666666666666666,
              "#ed7953"
             ],
             [
              0.7777777777777778,
              "#fb9f3a"
             ],
             [
              0.8888888888888888,
              "#fdca26"
             ],
             [
              1,
              "#f0f921"
             ]
            ],
            "type": "heatmapgl"
           }
          ],
          "histogram": [
           {
            "marker": {
             "pattern": {
              "fillmode": "overlay",
              "size": 10,
              "solidity": 0.2
             }
            },
            "type": "histogram"
           }
          ],
          "histogram2d": [
           {
            "colorbar": {
             "outlinewidth": 0,
             "ticks": ""
            },
            "colorscale": [
             [
              0,
              "#0d0887"
             ],
             [
              0.1111111111111111,
              "#46039f"
             ],
             [
              0.2222222222222222,
              "#7201a8"
             ],
             [
              0.3333333333333333,
              "#9c179e"
             ],
             [
              0.4444444444444444,
              "#bd3786"
             ],
             [
              0.5555555555555556,
              "#d8576b"
             ],
             [
              0.6666666666666666,
              "#ed7953"
             ],
             [
              0.7777777777777778,
              "#fb9f3a"
             ],
             [
              0.8888888888888888,
              "#fdca26"
             ],
             [
              1,
              "#f0f921"
             ]
            ],
            "type": "histogram2d"
           }
          ],
          "histogram2dcontour": [
           {
            "colorbar": {
             "outlinewidth": 0,
             "ticks": ""
            },
            "colorscale": [
             [
              0,
              "#0d0887"
             ],
             [
              0.1111111111111111,
              "#46039f"
             ],
             [
              0.2222222222222222,
              "#7201a8"
             ],
             [
              0.3333333333333333,
              "#9c179e"
             ],
             [
              0.4444444444444444,
              "#bd3786"
             ],
             [
              0.5555555555555556,
              "#d8576b"
             ],
             [
              0.6666666666666666,
              "#ed7953"
             ],
             [
              0.7777777777777778,
              "#fb9f3a"
             ],
             [
              0.8888888888888888,
              "#fdca26"
             ],
             [
              1,
              "#f0f921"
             ]
            ],
            "type": "histogram2dcontour"
           }
          ],
          "mesh3d": [
           {
            "colorbar": {
             "outlinewidth": 0,
             "ticks": ""
            },
            "type": "mesh3d"
           }
          ],
          "parcoords": [
           {
            "line": {
             "colorbar": {
              "outlinewidth": 0,
              "ticks": ""
             }
            },
            "type": "parcoords"
           }
          ],
          "pie": [
           {
            "automargin": true,
            "type": "pie"
           }
          ],
          "scatter": [
           {
            "fillpattern": {
             "fillmode": "overlay",
             "size": 10,
             "solidity": 0.2
            },
            "type": "scatter"
           }
          ],
          "scatter3d": [
           {
            "line": {
             "colorbar": {
              "outlinewidth": 0,
              "ticks": ""
             }
            },
            "marker": {
             "colorbar": {
              "outlinewidth": 0,
              "ticks": ""
             }
            },
            "type": "scatter3d"
           }
          ],
          "scattercarpet": [
           {
            "marker": {
             "colorbar": {
              "outlinewidth": 0,
              "ticks": ""
             }
            },
            "type": "scattercarpet"
           }
          ],
          "scattergeo": [
           {
            "marker": {
             "colorbar": {
              "outlinewidth": 0,
              "ticks": ""
             }
            },
            "type": "scattergeo"
           }
          ],
          "scattergl": [
           {
            "marker": {
             "colorbar": {
              "outlinewidth": 0,
              "ticks": ""
             }
            },
            "type": "scattergl"
           }
          ],
          "scattermapbox": [
           {
            "marker": {
             "colorbar": {
              "outlinewidth": 0,
              "ticks": ""
             }
            },
            "type": "scattermapbox"
           }
          ],
          "scatterpolar": [
           {
            "marker": {
             "colorbar": {
              "outlinewidth": 0,
              "ticks": ""
             }
            },
            "type": "scatterpolar"
           }
          ],
          "scatterpolargl": [
           {
            "marker": {
             "colorbar": {
              "outlinewidth": 0,
              "ticks": ""
             }
            },
            "type": "scatterpolargl"
           }
          ],
          "scatterternary": [
           {
            "marker": {
             "colorbar": {
              "outlinewidth": 0,
              "ticks": ""
             }
            },
            "type": "scatterternary"
           }
          ],
          "surface": [
           {
            "colorbar": {
             "outlinewidth": 0,
             "ticks": ""
            },
            "colorscale": [
             [
              0,
              "#0d0887"
             ],
             [
              0.1111111111111111,
              "#46039f"
             ],
             [
              0.2222222222222222,
              "#7201a8"
             ],
             [
              0.3333333333333333,
              "#9c179e"
             ],
             [
              0.4444444444444444,
              "#bd3786"
             ],
             [
              0.5555555555555556,
              "#d8576b"
             ],
             [
              0.6666666666666666,
              "#ed7953"
             ],
             [
              0.7777777777777778,
              "#fb9f3a"
             ],
             [
              0.8888888888888888,
              "#fdca26"
             ],
             [
              1,
              "#f0f921"
             ]
            ],
            "type": "surface"
           }
          ],
          "table": [
           {
            "cells": {
             "fill": {
              "color": "#EBF0F8"
             },
             "line": {
              "color": "white"
             }
            },
            "header": {
             "fill": {
              "color": "#C8D4E3"
             },
             "line": {
              "color": "white"
             }
            },
            "type": "table"
           }
          ]
         },
         "layout": {
          "annotationdefaults": {
           "arrowcolor": "#2a3f5f",
           "arrowhead": 0,
           "arrowwidth": 1
          },
          "autotypenumbers": "strict",
          "coloraxis": {
           "colorbar": {
            "outlinewidth": 0,
            "ticks": ""
           }
          },
          "colorscale": {
           "diverging": [
            [
             0,
             "#8e0152"
            ],
            [
             0.1,
             "#c51b7d"
            ],
            [
             0.2,
             "#de77ae"
            ],
            [
             0.3,
             "#f1b6da"
            ],
            [
             0.4,
             "#fde0ef"
            ],
            [
             0.5,
             "#f7f7f7"
            ],
            [
             0.6,
             "#e6f5d0"
            ],
            [
             0.7,
             "#b8e186"
            ],
            [
             0.8,
             "#7fbc41"
            ],
            [
             0.9,
             "#4d9221"
            ],
            [
             1,
             "#276419"
            ]
           ],
           "sequential": [
            [
             0,
             "#0d0887"
            ],
            [
             0.1111111111111111,
             "#46039f"
            ],
            [
             0.2222222222222222,
             "#7201a8"
            ],
            [
             0.3333333333333333,
             "#9c179e"
            ],
            [
             0.4444444444444444,
             "#bd3786"
            ],
            [
             0.5555555555555556,
             "#d8576b"
            ],
            [
             0.6666666666666666,
             "#ed7953"
            ],
            [
             0.7777777777777778,
             "#fb9f3a"
            ],
            [
             0.8888888888888888,
             "#fdca26"
            ],
            [
             1,
             "#f0f921"
            ]
           ],
           "sequentialminus": [
            [
             0,
             "#0d0887"
            ],
            [
             0.1111111111111111,
             "#46039f"
            ],
            [
             0.2222222222222222,
             "#7201a8"
            ],
            [
             0.3333333333333333,
             "#9c179e"
            ],
            [
             0.4444444444444444,
             "#bd3786"
            ],
            [
             0.5555555555555556,
             "#d8576b"
            ],
            [
             0.6666666666666666,
             "#ed7953"
            ],
            [
             0.7777777777777778,
             "#fb9f3a"
            ],
            [
             0.8888888888888888,
             "#fdca26"
            ],
            [
             1,
             "#f0f921"
            ]
           ]
          },
          "colorway": [
           "#636efa",
           "#EF553B",
           "#00cc96",
           "#ab63fa",
           "#FFA15A",
           "#19d3f3",
           "#FF6692",
           "#B6E880",
           "#FF97FF",
           "#FECB52"
          ],
          "font": {
           "color": "#2a3f5f"
          },
          "geo": {
           "bgcolor": "white",
           "lakecolor": "white",
           "landcolor": "#E5ECF6",
           "showlakes": true,
           "showland": true,
           "subunitcolor": "white"
          },
          "hoverlabel": {
           "align": "left"
          },
          "hovermode": "closest",
          "mapbox": {
           "style": "light"
          },
          "paper_bgcolor": "white",
          "plot_bgcolor": "#E5ECF6",
          "polar": {
           "angularaxis": {
            "gridcolor": "white",
            "linecolor": "white",
            "ticks": ""
           },
           "bgcolor": "#E5ECF6",
           "radialaxis": {
            "gridcolor": "white",
            "linecolor": "white",
            "ticks": ""
           }
          },
          "scene": {
           "xaxis": {
            "backgroundcolor": "#E5ECF6",
            "gridcolor": "white",
            "gridwidth": 2,
            "linecolor": "white",
            "showbackground": true,
            "ticks": "",
            "zerolinecolor": "white"
           },
           "yaxis": {
            "backgroundcolor": "#E5ECF6",
            "gridcolor": "white",
            "gridwidth": 2,
            "linecolor": "white",
            "showbackground": true,
            "ticks": "",
            "zerolinecolor": "white"
           },
           "zaxis": {
            "backgroundcolor": "#E5ECF6",
            "gridcolor": "white",
            "gridwidth": 2,
            "linecolor": "white",
            "showbackground": true,
            "ticks": "",
            "zerolinecolor": "white"
           }
          },
          "shapedefaults": {
           "line": {
            "color": "#2a3f5f"
           }
          },
          "ternary": {
           "aaxis": {
            "gridcolor": "white",
            "linecolor": "white",
            "ticks": ""
           },
           "baxis": {
            "gridcolor": "white",
            "linecolor": "white",
            "ticks": ""
           },
           "bgcolor": "#E5ECF6",
           "caxis": {
            "gridcolor": "white",
            "linecolor": "white",
            "ticks": ""
           }
          },
          "title": {
           "x": 0.05
          },
          "xaxis": {
           "automargin": true,
           "gridcolor": "white",
           "linecolor": "white",
           "ticks": "",
           "title": {
            "standoff": 15
           },
           "zerolinecolor": "white",
           "zerolinewidth": 2
          },
          "yaxis": {
           "automargin": true,
           "gridcolor": "white",
           "linecolor": "white",
           "ticks": "",
           "title": {
            "standoff": 15
           },
           "zerolinecolor": "white",
           "zerolinewidth": 2
          }
         }
        },
        "title": {
         "text": "Proyección de Jugadores"
        },
        "width": 800,
        "xaxis": {
         "anchor": "y",
         "domain": [
          0,
          1
         ],
         "title": {
          "text": "Talla del jugador"
         }
        },
        "yaxis": {
         "anchor": "x",
         "domain": [
          0,
          1
         ],
         "title": {
          "text": "Experiencia del jugador"
         }
        }
       }
      }
     },
     "metadata": {},
     "output_type": "display_data"
    }
   ],
   "source": [
    "plot_FA(f_scores_rotDf,'F2','F3',['Talla del jugador','Experiencia del jugador'],'Player','Pos','Position')"
   ]
  },
  {
   "cell_type": "markdown",
   "metadata": {},
   "source": [
    "## 3. Por Máxima Verosimilitud"
   ]
  },
  {
   "cell_type": "markdown",
   "metadata": {},
   "source": [
    "### Sin rotación"
   ]
  },
  {
   "cell_type": "code",
   "execution_count": 140,
   "metadata": {},
   "outputs": [],
   "source": [
    "Lmtx_LL_norot, Psi_LL_norot = fit_FA(NumPlayers_z,3,None)\n",
    "# m = 3 (Weighted Least Squares Factor Scores)\n",
    "fscores_var_LS = factor_scores_LS(Lmtx_LL_norot,Psi_LL_norot*np.eye(len(R_mtx)),NumPlayers_z)"
   ]
  },
  {
   "cell_type": "code",
   "execution_count": 141,
   "metadata": {},
   "outputs": [],
   "source": [
    "# Comunalidades\n",
    "hs_norot = np.sum(Lmtx_LL_norot**2,axis=1)\n",
    "# Varianzas\n",
    "cumvar_norot = np.cumsum((Lmtx_LL_norot**2).sum(axis=0)/8)"
   ]
  },
  {
   "cell_type": "code",
   "execution_count": 142,
   "metadata": {},
   "outputs": [
    {
     "name": "stdout",
     "output_type": "stream",
     "text": [
      "Matriz de cargas para m=3\n",
      "\tF1\t \tF2\t \tF3\t \n",
      " [[ 0.868 -0.348 -0.281]\n",
      " [ 0.024  0.615 -0.748]\n",
      " [ 0.215  0.487 -0.667]\n",
      " [ 0.907 -0.298 -0.135]\n",
      " [ 0.602  0.482  0.554]\n",
      " [ 0.56   0.731  0.073]\n",
      " [ 0.614  0.278  0.635]\n",
      " [ 0.553  0.671  0.329]]\n",
      "\n",
      " Comunalidades \t Varianzas Específicas\n",
      "h1^2 =  0.95\tpsi1 =  0.05\n",
      "h2^2 =  0.94\tpsi2 =  0.06\n",
      "h3^2 =  0.73\tpsi3 =  0.27\n",
      "h4^2 =  0.93\tpsi4 =  0.07\n",
      "h5^2 =  0.9\tpsi5 =  0.1\n",
      "h6^2 =  0.85\tpsi6 =  0.15\n",
      "h7^2 =  0.86\tpsi7 =  0.14\n",
      "h8^2 =  0.86\tpsi8 =  0.14\n"
     ]
    }
   ],
   "source": [
    "print_info(3,len(R_mtx),Lmtx_LL_norot,hs_norot)"
   ]
  },
  {
   "cell_type": "code",
   "execution_count": 148,
   "metadata": {},
   "outputs": [
    {
     "name": "stdout",
     "output_type": "stream",
     "text": [
      "\n",
      "Porcentaje que supone la comunalidad \n",
      "respecto a la varianza de cada variable. (hi^2/Var(Xi))*100%\n",
      "h1^2/var(X1)=  95.0 %\n",
      "h2^2/var(X2)=  94.0 %\n",
      "h3^2/var(X3)=  73.0 %\n",
      "h4^2/var(X4)=  93.0 %\n",
      "h5^2/var(X5)=  90.0 %\n",
      "h6^2/var(X6)=  85.0 %\n",
      "h7^2/var(X7)=  86.0 %\n",
      "h8^2/var(X8)=  86.0 %\n",
      "\n",
      "Varianza acumulada para m=3 factores y p=8 variables\n",
      "var_acum1 = 0.372795\n",
      "var_acum2 = 0.637739\n",
      "var_acum3 = 0.878470\n"
     ]
    }
   ],
   "source": [
    "print_info2(3,len(R_mtx),hs_norot,cumvar_norot)"
   ]
  },
  {
   "cell_type": "markdown",
   "metadata": {},
   "source": [
    "### Con rotación Varimax"
   ]
  },
  {
   "cell_type": "code",
   "execution_count": 144,
   "metadata": {},
   "outputs": [],
   "source": [
    "Lmtx_LL_varimax, Psi_LL_varimax = fit_FA(NumPlayers_z,3,'varimax')\n",
    "# m = 3 (Weighted Least Squares Factor Scores)\n",
    "fscores_varimax_LS = factor_scores_LS(Lmtx_LL_varimax,Psi_LL_varimax*np.eye(len(R_mtx)),NumPlayers_z)"
   ]
  },
  {
   "cell_type": "code",
   "execution_count": 146,
   "metadata": {},
   "outputs": [],
   "source": [
    "# Comunalidades\n",
    "hs_varimax = np.sum(Lmtx_LL_varimax**2,axis=1)\n",
    "# Varianzas\n",
    "cumvar_varimax = np.cumsum((Lmtx_LL_varimax**2).sum(axis=0)/8)"
   ]
  },
  {
   "cell_type": "code",
   "execution_count": 147,
   "metadata": {},
   "outputs": [
    {
     "name": "stdout",
     "output_type": "stream",
     "text": [
      "Matriz de cargas para m=3\n",
      "\tF1\t \tF2\t \tF3\t \n",
      " [[ 0.971  0.078 -0.066]\n",
      " [-0.049 -0.005 -0.968]\n",
      " [ 0.149  0.058 -0.839]\n",
      " [ 0.94   0.212  0.015]\n",
      " [ 0.136  0.935  0.096]\n",
      " [ 0.122  0.807 -0.432]\n",
      " [ 0.216  0.854  0.284]\n",
      " [ 0.072  0.906 -0.194]]\n",
      "\n",
      " Comunalidades \t Varianzas Específicas\n",
      "h1^2 =  0.95\tpsi1 =  0.05\n",
      "h2^2 =  0.94\tpsi2 =  0.06\n",
      "h3^2 =  0.73\tpsi3 =  0.27\n",
      "h4^2 =  0.93\tpsi4 =  0.07\n",
      "h5^2 =  0.9\tpsi5 =  0.1\n",
      "h6^2 =  0.85\tpsi6 =  0.15\n",
      "h7^2 =  0.86\tpsi7 =  0.14\n",
      "h8^2 =  0.86\tpsi8 =  0.14\n"
     ]
    }
   ],
   "source": [
    "print_info(3,len(R_mtx),Lmtx_LL_varimax,hs_varimax)"
   ]
  },
  {
   "cell_type": "code",
   "execution_count": 149,
   "metadata": {},
   "outputs": [
    {
     "name": "stdout",
     "output_type": "stream",
     "text": [
      "\n",
      "Porcentaje que supone la comunalidad \n",
      "respecto a la varianza de cada variable. (hi^2/Var(Xi))*100%\n",
      "h1^2/var(X1)=  95.0 %\n",
      "h2^2/var(X2)=  94.0 %\n",
      "h3^2/var(X3)=  73.0 %\n",
      "h4^2/var(X4)=  93.0 %\n",
      "h5^2/var(X5)=  90.0 %\n",
      "h6^2/var(X6)=  85.0 %\n",
      "h7^2/var(X7)=  86.0 %\n",
      "h8^2/var(X8)=  86.0 %\n",
      "\n",
      "Varianza acumulada para m=3 factores y p=8 variables\n",
      "var_acum1 = 0.242208\n",
      "var_acum2 = 0.633635\n",
      "var_acum3 = 0.878470\n"
     ]
    }
   ],
   "source": [
    "print_info2(3,len(R_mtx),hs_varimax,cumvar_varimax)"
   ]
  },
  {
   "cell_type": "markdown",
   "metadata": {},
   "source": [
    "### Calcular Factor Scores"
   ]
  },
  {
   "cell_type": "code",
   "execution_count": 145,
   "metadata": {},
   "outputs": [
    {
     "data": {
      "text/html": [
       "<div>\n",
       "<style scoped>\n",
       "    .dataframe tbody tr th:only-of-type {\n",
       "        vertical-align: middle;\n",
       "    }\n",
       "\n",
       "    .dataframe tbody tr th {\n",
       "        vertical-align: top;\n",
       "    }\n",
       "\n",
       "    .dataframe thead th {\n",
       "        text-align: right;\n",
       "    }\n",
       "</style>\n",
       "<table border=\"1\" class=\"dataframe\">\n",
       "  <thead>\n",
       "    <tr style=\"text-align: right;\">\n",
       "      <th></th>\n",
       "      <th>F1</th>\n",
       "      <th>F2</th>\n",
       "      <th>F3</th>\n",
       "      <th>Player</th>\n",
       "      <th>Team</th>\n",
       "      <th>Pos</th>\n",
       "      <th>Age</th>\n",
       "      <th>Ht</th>\n",
       "      <th>Wt</th>\n",
       "      <th>Exp</th>\n",
       "      <th>Country</th>\n",
       "      <th>PPG</th>\n",
       "      <th>RPG</th>\n",
       "      <th>APG</th>\n",
       "      <th>PIE</th>\n",
       "    </tr>\n",
       "  </thead>\n",
       "  <tbody>\n",
       "    <tr>\n",
       "      <th>0</th>\n",
       "      <td>-0.337738</td>\n",
       "      <td>2.014062</td>\n",
       "      <td>-0.185047</td>\n",
       "      <td>Jayson Tatum</td>\n",
       "      <td>BOS</td>\n",
       "      <td>F-G</td>\n",
       "      <td>26</td>\n",
       "      <td>2.03</td>\n",
       "      <td>95</td>\n",
       "      <td>6</td>\n",
       "      <td>USA</td>\n",
       "      <td>26.9</td>\n",
       "      <td>8.1</td>\n",
       "      <td>4.9</td>\n",
       "      <td>15.5</td>\n",
       "    </tr>\n",
       "    <tr>\n",
       "      <th>1</th>\n",
       "      <td>0.091193</td>\n",
       "      <td>1.031483</td>\n",
       "      <td>0.306693</td>\n",
       "      <td>Jaylen Brown</td>\n",
       "      <td>BOS</td>\n",
       "      <td>F</td>\n",
       "      <td>27</td>\n",
       "      <td>1.98</td>\n",
       "      <td>101</td>\n",
       "      <td>7</td>\n",
       "      <td>USA</td>\n",
       "      <td>23.0</td>\n",
       "      <td>5.5</td>\n",
       "      <td>3.6</td>\n",
       "      <td>11.6</td>\n",
       "    </tr>\n",
       "    <tr>\n",
       "      <th>2</th>\n",
       "      <td>0.376525</td>\n",
       "      <td>0.571617</td>\n",
       "      <td>1.137773</td>\n",
       "      <td>Derrick White</td>\n",
       "      <td>BOS</td>\n",
       "      <td>G</td>\n",
       "      <td>29</td>\n",
       "      <td>1.93</td>\n",
       "      <td>86</td>\n",
       "      <td>6</td>\n",
       "      <td>USA</td>\n",
       "      <td>15.2</td>\n",
       "      <td>4.2</td>\n",
       "      <td>5.2</td>\n",
       "      <td>10.6</td>\n",
       "    </tr>\n",
       "    <tr>\n",
       "      <th>3</th>\n",
       "      <td>1.847642</td>\n",
       "      <td>0.288340</td>\n",
       "      <td>0.902973</td>\n",
       "      <td>Jrue Holiday</td>\n",
       "      <td>BOS</td>\n",
       "      <td>G</td>\n",
       "      <td>33</td>\n",
       "      <td>1.93</td>\n",
       "      <td>93</td>\n",
       "      <td>14</td>\n",
       "      <td>USA</td>\n",
       "      <td>12.5</td>\n",
       "      <td>5.4</td>\n",
       "      <td>4.8</td>\n",
       "      <td>9.9</td>\n",
       "    </tr>\n",
       "    <tr>\n",
       "      <th>4</th>\n",
       "      <td>2.816202</td>\n",
       "      <td>-0.252386</td>\n",
       "      <td>-0.904445</td>\n",
       "      <td>Al Horford</td>\n",
       "      <td>BOS</td>\n",
       "      <td>C-F</td>\n",
       "      <td>38</td>\n",
       "      <td>2.06</td>\n",
       "      <td>109</td>\n",
       "      <td>16</td>\n",
       "      <td>DOM</td>\n",
       "      <td>8.6</td>\n",
       "      <td>6.4</td>\n",
       "      <td>2.6</td>\n",
       "      <td>10.5</td>\n",
       "    </tr>\n",
       "  </tbody>\n",
       "</table>\n",
       "</div>"
      ],
      "text/plain": [
       "         F1        F2        F3         Player Team  Pos  Age    Ht   Wt  Exp  \\\n",
       "0 -0.337738  2.014062 -0.185047   Jayson Tatum  BOS  F-G   26  2.03   95    6   \n",
       "1  0.091193  1.031483  0.306693   Jaylen Brown  BOS    F   27  1.98  101    7   \n",
       "2  0.376525  0.571617  1.137773  Derrick White  BOS    G   29  1.93   86    6   \n",
       "3  1.847642  0.288340  0.902973   Jrue Holiday  BOS    G   33  1.93   93   14   \n",
       "4  2.816202 -0.252386 -0.904445     Al Horford  BOS  C-F   38  2.06  109   16   \n",
       "\n",
       "  Country   PPG  RPG  APG   PIE  \n",
       "0     USA  26.9  8.1  4.9  15.5  \n",
       "1     USA  23.0  5.5  3.6  11.6  \n",
       "2     USA  15.2  4.2  5.2  10.6  \n",
       "3     USA  12.5  5.4  4.8   9.9  \n",
       "4     DOM   8.6  6.4  2.6  10.5  "
      ]
     },
     "execution_count": 145,
     "metadata": {},
     "output_type": "execute_result"
    }
   ],
   "source": [
    "# Se crea el dataframe para los Celtics\n",
    "f_scores_varimax_LS = pd.DataFrame(fscores_varimax_LS,columns=['F1','F2','F3'])\n",
    "#Players.reset_index(drop=True, inplace=True)\n",
    "#f_scores_varimax_LS.reset_index(drop=True,inplace=True)\n",
    "f_scores_varimax_LS = pd.concat([f_scores_varimax_LS,Players],axis=1)\n",
    "f_scores_varimax_LS.head()"
   ]
  },
  {
   "cell_type": "markdown",
   "metadata": {},
   "source": [
    "### Gráficos ilustrativos"
   ]
  },
  {
   "cell_type": "code",
   "execution_count": 150,
   "metadata": {},
   "outputs": [
    {
     "data": {
      "application/vnd.plotly.v1+json": {
       "config": {
        "plotlyServerURL": "https://plot.ly"
       },
       "data": [
        {
         "customdata": [
          [
           "Jayson Tatum",
           "BOS",
           "F-G",
           26,
           2.03,
           95,
           26.9,
           8.1,
           4.9,
           15.5
          ],
          [
           "Jaylen Brown",
           "BOS",
           "F",
           27,
           1.98,
           101,
           23,
           5.5,
           3.6,
           11.6
          ],
          [
           "Derrick White",
           "BOS",
           "G",
           29,
           1.93,
           86,
           15.2,
           4.2,
           5.2,
           10.6
          ],
          [
           "Jrue Holiday",
           "BOS",
           "G",
           33,
           1.93,
           93,
           12.5,
           5.4,
           4.8,
           9.9
          ],
          [
           "Al Horford",
           "BOS",
           "C-F",
           38,
           2.06,
           109,
           8.6,
           6.4,
           2.6,
           10.5
          ],
          [
           "Payton Pritchard",
           "BOS",
           "G",
           26,
           1.85,
           88,
           9.6,
           3.2,
           3.4,
           10.3
          ],
          [
           "Sam Hauser",
           "BOS",
           "F",
           26,
           2.01,
           98,
           9,
           3.5,
           1,
           8.6
          ],
          [
           "Kristaps Porzingis",
           "BOS",
           "F-C",
           28,
           2.18,
           109,
           20.1,
           7.2,
           2,
           13.8
          ],
          [
           "Luke Kornet",
           "BOS",
           "C-F",
           28,
           2.16,
           113,
           5.3,
           4.1,
           1.1,
           11.3
          ],
          [
           "Oshae Brissett",
           "BOS",
           "F-G",
           25,
           2.01,
           95,
           3.7,
           2.9,
           0.8,
           7.6
          ],
          [
           "Xavier Tillman",
           "BOS",
           "F",
           25,
           2.01,
           111,
           5.3,
           3.9,
           1.4,
           7.8
          ],
          [
           "Jaden Springer",
           "BOS",
           "G",
           21,
           1.93,
           92,
           3.3,
           1.6,
           0.9,
           5.5
          ],
          [
           "Svi Mykhailiuk",
           "BOS",
           "G-F",
           26,
           2.01,
           93,
           4,
           1.2,
           0.9,
           7.7
          ],
          [
           "Jordan Walsh",
           "BOS",
           "G",
           20,
           1.98,
           93,
           1.7,
           2.2,
           0.6,
           5.8
          ],
          [
           "Neemias Queta",
           "BOS",
           "C",
           24,
           2.13,
           112,
           5.5,
           4.4,
           0.7,
           12.3
          ]
         ],
         "hovertemplate": "<b style='font-size:16px; color:#000000;'> %{customdata[0]}</b><br>Team: %{customdata[1]}<br>Position: %{customdata[2]}<br>Age: %{customdata[3]} years<br>Height: %{customdata[4]} m<br>Weight: %{customdata[5]} kg<br>PPG: %{customdata[6]}<br>RPG: %{customdata[7]}<br>APG: %{customdata[8]}<br>PIE: %{customdata[9]}<br><extra></extra>",
         "legendgroup": "BOS",
         "marker": {
          "color": "#636efa",
          "size": 20,
          "symbol": "circle"
         },
         "mode": "markers+text",
         "name": "BOS",
         "orientation": "v",
         "showlegend": true,
         "text": [
          "Jayson Tatum",
          "Jaylen Brown",
          "Derrick White",
          "Jrue Holiday",
          "Al Horford",
          "Payton Pritchard",
          "Sam Hauser",
          "Kristaps Porzingis",
          "Luke Kornet",
          "Oshae Brissett",
          "Xavier Tillman",
          "Jaden Springer",
          "Svi Mykhailiuk",
          "Jordan Walsh",
          "Neemias Queta"
         ],
         "textfont": {
          "size": 14
         },
         "textposition": "bottom center",
         "type": "scatter",
         "x": [
          -0.3377384355850771,
          0.09119330173140405,
          0.3765249383312794,
          1.8476418832365797,
          2.816202389151934,
          -0.29219492352057,
          -0.40374758126996446,
          0.14234323965150797,
          0.25067722646849855,
          -0.29401841661155725,
          -0.4058673014767572,
          -1.0356348696777353,
          -0.016451801710292792,
          -1.4180462265415401,
          -0.7924054086015827
         ],
         "xaxis": "x",
         "y": [
          2.0140620185738753,
          1.0314829819002322,
          0.5716169227828655,
          0.2883404602722436,
          -0.2523857616526491,
          0.08752326816438445,
          -0.4070929195879227,
          0.9498577808475879,
          -0.4265268156222929,
          -0.8121281738166484,
          -0.5407066750643976,
          -0.9588118801260379,
          -0.9935669283682771,
          -0.9629736412130885,
          -0.1829366870655057
         ],
         "yaxis": "y"
        },
        {
         "customdata": [
          [
           "Luka Doncic",
           "DAL",
           "F-G",
           25,
           2.01,
           104,
           33.9,
           9.2,
           9.8,
           20
          ],
          [
           "Kyrie Irving",
           "DAL",
           "G",
           32,
           1.88,
           88,
           25.6,
           5,
           5.2,
           14.4
          ],
          [
           "P.J. Washington",
           "DAL",
           "F",
           25,
           2.01,
           104,
           12.9,
           5.6,
           1.9,
           7.9
          ],
          [
           "Derrick Jones Jr.",
           "DAL",
           "F",
           27,
           1.98,
           95,
           8.6,
           3.3,
           1,
           6.8
          ],
          [
           "Daniel Gafford",
           "DAL",
           "F-C",
           25,
           2.08,
           106,
           11,
           7.6,
           1.6,
           12.1
          ],
          [
           "Dereck Lively II",
           "DAL",
           "C",
           20,
           2.16,
           104,
           8.8,
           6.9,
           1.1,
           10.2
          ],
          [
           "Josh Green",
           "DAL",
           "G",
           23,
           1.96,
           91,
           8.2,
           3.2,
           2.3,
           6.3
          ],
          [
           "Jaden Hardy",
           "DAL",
           "G",
           21,
           1.91,
           90,
           7.3,
           1.8,
           1.5,
           8.1
          ],
          [
           "Tim Hardaway Jr.",
           "DAL",
           "G-F",
           32,
           1.96,
           93,
           14.4,
           3.2,
           1.8,
           8.3
          ],
          [
           "Maxi Kleber",
           "DAL",
           "F",
           32,
           2.08,
           109,
           4.4,
           3.3,
           1.6,
           5.7
          ],
          [
           "Dante Exum",
           "DAL",
           "G",
           28,
           1.96,
           97,
           7.8,
           2.7,
           2.9,
           9.3
          ],
          [
           "A.J. Lawson",
           "DAL",
           "G",
           23,
           1.98,
           81,
           3.2,
           1.2,
           0.5,
           7.6
          ],
          [
           "Dwight Powell",
           "DAL",
           "F-C",
           32,
           2.08,
           109,
           3.3,
           3.4,
           1.3,
           7.9
          ]
         ],
         "hovertemplate": "<b style='font-size:16px; color:#000000;'> %{customdata[0]}</b><br>Team: %{customdata[1]}<br>Position: %{customdata[2]}<br>Age: %{customdata[3]} years<br>Height: %{customdata[4]} m<br>Weight: %{customdata[5]} kg<br>PPG: %{customdata[6]}<br>RPG: %{customdata[7]}<br>APG: %{customdata[8]}<br>PIE: %{customdata[9]}<br><extra></extra>",
         "legendgroup": "DAL",
         "marker": {
          "color": "#EF553B",
          "size": 20,
          "symbol": "circle"
         },
         "mode": "markers+text",
         "name": "DAL",
         "orientation": "v",
         "showlegend": true,
         "text": [
          "Luka Doncic",
          "Kyrie Irving",
          "P.J. Washington",
          "Derrick Jones Jr.",
          "Daniel Gafford",
          "Dereck Lively II",
          "Josh Green",
          "Jaden Hardy",
          "Tim Hardaway Jr.",
          "Maxi Kleber",
          "Dante Exum",
          "A.J. Lawson",
          "Dwight Powell"
         ],
         "textfont": {
          "size": 14
         },
         "textposition": "bottom center",
         "type": "scatter",
         "x": [
          -0.7444214211365937,
          1.3384347659163132,
          -0.39700391727694795,
          0.31081316457106406,
          -0.509251014521021,
          -1.6742406531754295,
          -0.7164798794425553,
          -1.2109961450070954,
          1.3340654762467077,
          1.0077951186015506,
          0.3358855207637832,
          -0.8915107383932017,
          1.2884317092773023
         ],
         "xaxis": "x",
         "y": [
          3.5002195053036216,
          1.3915628994417863,
          0.08493136610730734,
          -0.639795054015679,
          0.4991425673187983,
          0.2533304945200033,
          -0.3928280576956869,
          -0.4327045291872179,
          -0.31521019484454976,
          -1.0866377783109764,
          -0.324102838323078,
          -0.956818763158667,
          -0.9868435671800307
         ],
         "yaxis": "y"
        }
       ],
       "layout": {
        "font": {
         "family": "Courier New, monospace",
         "size": 18
        },
        "height": 700,
        "legend": {
         "title": {
          "text": "Team"
         },
         "tracegroupgap": 0
        },
        "margin": {
         "t": 60
        },
        "template": {
         "data": {
          "bar": [
           {
            "error_x": {
             "color": "#2a3f5f"
            },
            "error_y": {
             "color": "#2a3f5f"
            },
            "marker": {
             "line": {
              "color": "#E5ECF6",
              "width": 0.5
             },
             "pattern": {
              "fillmode": "overlay",
              "size": 10,
              "solidity": 0.2
             }
            },
            "type": "bar"
           }
          ],
          "barpolar": [
           {
            "marker": {
             "line": {
              "color": "#E5ECF6",
              "width": 0.5
             },
             "pattern": {
              "fillmode": "overlay",
              "size": 10,
              "solidity": 0.2
             }
            },
            "type": "barpolar"
           }
          ],
          "carpet": [
           {
            "aaxis": {
             "endlinecolor": "#2a3f5f",
             "gridcolor": "white",
             "linecolor": "white",
             "minorgridcolor": "white",
             "startlinecolor": "#2a3f5f"
            },
            "baxis": {
             "endlinecolor": "#2a3f5f",
             "gridcolor": "white",
             "linecolor": "white",
             "minorgridcolor": "white",
             "startlinecolor": "#2a3f5f"
            },
            "type": "carpet"
           }
          ],
          "choropleth": [
           {
            "colorbar": {
             "outlinewidth": 0,
             "ticks": ""
            },
            "type": "choropleth"
           }
          ],
          "contour": [
           {
            "colorbar": {
             "outlinewidth": 0,
             "ticks": ""
            },
            "colorscale": [
             [
              0,
              "#0d0887"
             ],
             [
              0.1111111111111111,
              "#46039f"
             ],
             [
              0.2222222222222222,
              "#7201a8"
             ],
             [
              0.3333333333333333,
              "#9c179e"
             ],
             [
              0.4444444444444444,
              "#bd3786"
             ],
             [
              0.5555555555555556,
              "#d8576b"
             ],
             [
              0.6666666666666666,
              "#ed7953"
             ],
             [
              0.7777777777777778,
              "#fb9f3a"
             ],
             [
              0.8888888888888888,
              "#fdca26"
             ],
             [
              1,
              "#f0f921"
             ]
            ],
            "type": "contour"
           }
          ],
          "contourcarpet": [
           {
            "colorbar": {
             "outlinewidth": 0,
             "ticks": ""
            },
            "type": "contourcarpet"
           }
          ],
          "heatmap": [
           {
            "colorbar": {
             "outlinewidth": 0,
             "ticks": ""
            },
            "colorscale": [
             [
              0,
              "#0d0887"
             ],
             [
              0.1111111111111111,
              "#46039f"
             ],
             [
              0.2222222222222222,
              "#7201a8"
             ],
             [
              0.3333333333333333,
              "#9c179e"
             ],
             [
              0.4444444444444444,
              "#bd3786"
             ],
             [
              0.5555555555555556,
              "#d8576b"
             ],
             [
              0.6666666666666666,
              "#ed7953"
             ],
             [
              0.7777777777777778,
              "#fb9f3a"
             ],
             [
              0.8888888888888888,
              "#fdca26"
             ],
             [
              1,
              "#f0f921"
             ]
            ],
            "type": "heatmap"
           }
          ],
          "heatmapgl": [
           {
            "colorbar": {
             "outlinewidth": 0,
             "ticks": ""
            },
            "colorscale": [
             [
              0,
              "#0d0887"
             ],
             [
              0.1111111111111111,
              "#46039f"
             ],
             [
              0.2222222222222222,
              "#7201a8"
             ],
             [
              0.3333333333333333,
              "#9c179e"
             ],
             [
              0.4444444444444444,
              "#bd3786"
             ],
             [
              0.5555555555555556,
              "#d8576b"
             ],
             [
              0.6666666666666666,
              "#ed7953"
             ],
             [
              0.7777777777777778,
              "#fb9f3a"
             ],
             [
              0.8888888888888888,
              "#fdca26"
             ],
             [
              1,
              "#f0f921"
             ]
            ],
            "type": "heatmapgl"
           }
          ],
          "histogram": [
           {
            "marker": {
             "pattern": {
              "fillmode": "overlay",
              "size": 10,
              "solidity": 0.2
             }
            },
            "type": "histogram"
           }
          ],
          "histogram2d": [
           {
            "colorbar": {
             "outlinewidth": 0,
             "ticks": ""
            },
            "colorscale": [
             [
              0,
              "#0d0887"
             ],
             [
              0.1111111111111111,
              "#46039f"
             ],
             [
              0.2222222222222222,
              "#7201a8"
             ],
             [
              0.3333333333333333,
              "#9c179e"
             ],
             [
              0.4444444444444444,
              "#bd3786"
             ],
             [
              0.5555555555555556,
              "#d8576b"
             ],
             [
              0.6666666666666666,
              "#ed7953"
             ],
             [
              0.7777777777777778,
              "#fb9f3a"
             ],
             [
              0.8888888888888888,
              "#fdca26"
             ],
             [
              1,
              "#f0f921"
             ]
            ],
            "type": "histogram2d"
           }
          ],
          "histogram2dcontour": [
           {
            "colorbar": {
             "outlinewidth": 0,
             "ticks": ""
            },
            "colorscale": [
             [
              0,
              "#0d0887"
             ],
             [
              0.1111111111111111,
              "#46039f"
             ],
             [
              0.2222222222222222,
              "#7201a8"
             ],
             [
              0.3333333333333333,
              "#9c179e"
             ],
             [
              0.4444444444444444,
              "#bd3786"
             ],
             [
              0.5555555555555556,
              "#d8576b"
             ],
             [
              0.6666666666666666,
              "#ed7953"
             ],
             [
              0.7777777777777778,
              "#fb9f3a"
             ],
             [
              0.8888888888888888,
              "#fdca26"
             ],
             [
              1,
              "#f0f921"
             ]
            ],
            "type": "histogram2dcontour"
           }
          ],
          "mesh3d": [
           {
            "colorbar": {
             "outlinewidth": 0,
             "ticks": ""
            },
            "type": "mesh3d"
           }
          ],
          "parcoords": [
           {
            "line": {
             "colorbar": {
              "outlinewidth": 0,
              "ticks": ""
             }
            },
            "type": "parcoords"
           }
          ],
          "pie": [
           {
            "automargin": true,
            "type": "pie"
           }
          ],
          "scatter": [
           {
            "fillpattern": {
             "fillmode": "overlay",
             "size": 10,
             "solidity": 0.2
            },
            "type": "scatter"
           }
          ],
          "scatter3d": [
           {
            "line": {
             "colorbar": {
              "outlinewidth": 0,
              "ticks": ""
             }
            },
            "marker": {
             "colorbar": {
              "outlinewidth": 0,
              "ticks": ""
             }
            },
            "type": "scatter3d"
           }
          ],
          "scattercarpet": [
           {
            "marker": {
             "colorbar": {
              "outlinewidth": 0,
              "ticks": ""
             }
            },
            "type": "scattercarpet"
           }
          ],
          "scattergeo": [
           {
            "marker": {
             "colorbar": {
              "outlinewidth": 0,
              "ticks": ""
             }
            },
            "type": "scattergeo"
           }
          ],
          "scattergl": [
           {
            "marker": {
             "colorbar": {
              "outlinewidth": 0,
              "ticks": ""
             }
            },
            "type": "scattergl"
           }
          ],
          "scattermapbox": [
           {
            "marker": {
             "colorbar": {
              "outlinewidth": 0,
              "ticks": ""
             }
            },
            "type": "scattermapbox"
           }
          ],
          "scatterpolar": [
           {
            "marker": {
             "colorbar": {
              "outlinewidth": 0,
              "ticks": ""
             }
            },
            "type": "scatterpolar"
           }
          ],
          "scatterpolargl": [
           {
            "marker": {
             "colorbar": {
              "outlinewidth": 0,
              "ticks": ""
             }
            },
            "type": "scatterpolargl"
           }
          ],
          "scatterternary": [
           {
            "marker": {
             "colorbar": {
              "outlinewidth": 0,
              "ticks": ""
             }
            },
            "type": "scatterternary"
           }
          ],
          "surface": [
           {
            "colorbar": {
             "outlinewidth": 0,
             "ticks": ""
            },
            "colorscale": [
             [
              0,
              "#0d0887"
             ],
             [
              0.1111111111111111,
              "#46039f"
             ],
             [
              0.2222222222222222,
              "#7201a8"
             ],
             [
              0.3333333333333333,
              "#9c179e"
             ],
             [
              0.4444444444444444,
              "#bd3786"
             ],
             [
              0.5555555555555556,
              "#d8576b"
             ],
             [
              0.6666666666666666,
              "#ed7953"
             ],
             [
              0.7777777777777778,
              "#fb9f3a"
             ],
             [
              0.8888888888888888,
              "#fdca26"
             ],
             [
              1,
              "#f0f921"
             ]
            ],
            "type": "surface"
           }
          ],
          "table": [
           {
            "cells": {
             "fill": {
              "color": "#EBF0F8"
             },
             "line": {
              "color": "white"
             }
            },
            "header": {
             "fill": {
              "color": "#C8D4E3"
             },
             "line": {
              "color": "white"
             }
            },
            "type": "table"
           }
          ]
         },
         "layout": {
          "annotationdefaults": {
           "arrowcolor": "#2a3f5f",
           "arrowhead": 0,
           "arrowwidth": 1
          },
          "autotypenumbers": "strict",
          "coloraxis": {
           "colorbar": {
            "outlinewidth": 0,
            "ticks": ""
           }
          },
          "colorscale": {
           "diverging": [
            [
             0,
             "#8e0152"
            ],
            [
             0.1,
             "#c51b7d"
            ],
            [
             0.2,
             "#de77ae"
            ],
            [
             0.3,
             "#f1b6da"
            ],
            [
             0.4,
             "#fde0ef"
            ],
            [
             0.5,
             "#f7f7f7"
            ],
            [
             0.6,
             "#e6f5d0"
            ],
            [
             0.7,
             "#b8e186"
            ],
            [
             0.8,
             "#7fbc41"
            ],
            [
             0.9,
             "#4d9221"
            ],
            [
             1,
             "#276419"
            ]
           ],
           "sequential": [
            [
             0,
             "#0d0887"
            ],
            [
             0.1111111111111111,
             "#46039f"
            ],
            [
             0.2222222222222222,
             "#7201a8"
            ],
            [
             0.3333333333333333,
             "#9c179e"
            ],
            [
             0.4444444444444444,
             "#bd3786"
            ],
            [
             0.5555555555555556,
             "#d8576b"
            ],
            [
             0.6666666666666666,
             "#ed7953"
            ],
            [
             0.7777777777777778,
             "#fb9f3a"
            ],
            [
             0.8888888888888888,
             "#fdca26"
            ],
            [
             1,
             "#f0f921"
            ]
           ],
           "sequentialminus": [
            [
             0,
             "#0d0887"
            ],
            [
             0.1111111111111111,
             "#46039f"
            ],
            [
             0.2222222222222222,
             "#7201a8"
            ],
            [
             0.3333333333333333,
             "#9c179e"
            ],
            [
             0.4444444444444444,
             "#bd3786"
            ],
            [
             0.5555555555555556,
             "#d8576b"
            ],
            [
             0.6666666666666666,
             "#ed7953"
            ],
            [
             0.7777777777777778,
             "#fb9f3a"
            ],
            [
             0.8888888888888888,
             "#fdca26"
            ],
            [
             1,
             "#f0f921"
            ]
           ]
          },
          "colorway": [
           "#636efa",
           "#EF553B",
           "#00cc96",
           "#ab63fa",
           "#FFA15A",
           "#19d3f3",
           "#FF6692",
           "#B6E880",
           "#FF97FF",
           "#FECB52"
          ],
          "font": {
           "color": "#2a3f5f"
          },
          "geo": {
           "bgcolor": "white",
           "lakecolor": "white",
           "landcolor": "#E5ECF6",
           "showlakes": true,
           "showland": true,
           "subunitcolor": "white"
          },
          "hoverlabel": {
           "align": "left"
          },
          "hovermode": "closest",
          "mapbox": {
           "style": "light"
          },
          "paper_bgcolor": "white",
          "plot_bgcolor": "#E5ECF6",
          "polar": {
           "angularaxis": {
            "gridcolor": "white",
            "linecolor": "white",
            "ticks": ""
           },
           "bgcolor": "#E5ECF6",
           "radialaxis": {
            "gridcolor": "white",
            "linecolor": "white",
            "ticks": ""
           }
          },
          "scene": {
           "xaxis": {
            "backgroundcolor": "#E5ECF6",
            "gridcolor": "white",
            "gridwidth": 2,
            "linecolor": "white",
            "showbackground": true,
            "ticks": "",
            "zerolinecolor": "white"
           },
           "yaxis": {
            "backgroundcolor": "#E5ECF6",
            "gridcolor": "white",
            "gridwidth": 2,
            "linecolor": "white",
            "showbackground": true,
            "ticks": "",
            "zerolinecolor": "white"
           },
           "zaxis": {
            "backgroundcolor": "#E5ECF6",
            "gridcolor": "white",
            "gridwidth": 2,
            "linecolor": "white",
            "showbackground": true,
            "ticks": "",
            "zerolinecolor": "white"
           }
          },
          "shapedefaults": {
           "line": {
            "color": "#2a3f5f"
           }
          },
          "ternary": {
           "aaxis": {
            "gridcolor": "white",
            "linecolor": "white",
            "ticks": ""
           },
           "baxis": {
            "gridcolor": "white",
            "linecolor": "white",
            "ticks": ""
           },
           "bgcolor": "#E5ECF6",
           "caxis": {
            "gridcolor": "white",
            "linecolor": "white",
            "ticks": ""
           }
          },
          "title": {
           "x": 0.05
          },
          "xaxis": {
           "automargin": true,
           "gridcolor": "white",
           "linecolor": "white",
           "ticks": "",
           "title": {
            "standoff": 15
           },
           "zerolinecolor": "white",
           "zerolinewidth": 2
          },
          "yaxis": {
           "automargin": true,
           "gridcolor": "white",
           "linecolor": "white",
           "ticks": "",
           "title": {
            "standoff": 15
           },
           "zerolinecolor": "white",
           "zerolinewidth": 2
          }
         }
        },
        "title": {
         "text": "Proyección de Jugadores"
        },
        "width": 800,
        "xaxis": {
         "anchor": "y",
         "domain": [
          0,
          1
         ],
         "title": {
          "text": "Experiencia del jugador"
         }
        },
        "yaxis": {
         "anchor": "x",
         "domain": [
          0,
          1
         ],
         "title": {
          "text": "Desempeño en la cancha"
         }
        }
       }
      }
     },
     "metadata": {},
     "output_type": "display_data"
    }
   ],
   "source": [
    "plot_FA(f_scores_varimax_LS,'F1','F2',['Experiencia del jugador','Desempeño en la cancha'],'Player','Team','Team')"
   ]
  },
  {
   "cell_type": "code",
   "execution_count": 151,
   "metadata": {},
   "outputs": [
    {
     "data": {
      "application/vnd.plotly.v1+json": {
       "config": {
        "plotlyServerURL": "https://plot.ly"
       },
       "data": [
        {
         "customdata": [
          [
           "Jayson Tatum",
           "BOS",
           "F-G",
           26,
           2.03,
           95,
           26.9,
           8.1,
           4.9,
           15.5
          ],
          [
           "Oshae Brissett",
           "BOS",
           "F-G",
           25,
           2.01,
           95,
           3.7,
           2.9,
           0.8,
           7.6
          ],
          [
           "Luka Doncic",
           "DAL",
           "F-G",
           25,
           2.01,
           104,
           33.9,
           9.2,
           9.8,
           20
          ]
         ],
         "hovertemplate": "<b style='font-size:16px; color:#000000;'> %{customdata[0]}</b><br>Team: %{customdata[1]}<br>Position: %{customdata[2]}<br>Age: %{customdata[3]} years<br>Height: %{customdata[4]} m<br>Weight: %{customdata[5]} kg<br>PPG: %{customdata[6]}<br>RPG: %{customdata[7]}<br>APG: %{customdata[8]}<br>PIE: %{customdata[9]}<br><extra></extra>",
         "legendgroup": "F-G",
         "marker": {
          "color": "#636efa",
          "size": 20,
          "symbol": "circle"
         },
         "mode": "markers+text",
         "name": "F-G",
         "orientation": "v",
         "showlegend": true,
         "text": [
          "Jayson Tatum",
          "Oshae Brissett",
          "Luka Doncic"
         ],
         "textfont": {
          "size": 14
         },
         "textposition": "bottom center",
         "type": "scatter",
         "x": [
          -0.3377384355850771,
          -0.29401841661155725,
          -0.7444214211365937
         ],
         "xaxis": "x",
         "y": [
          2.0140620185738753,
          -0.8121281738166484,
          3.5002195053036216
         ],
         "yaxis": "y"
        },
        {
         "customdata": [
          [
           "Jaylen Brown",
           "BOS",
           "F",
           27,
           1.98,
           101,
           23,
           5.5,
           3.6,
           11.6
          ],
          [
           "Sam Hauser",
           "BOS",
           "F",
           26,
           2.01,
           98,
           9,
           3.5,
           1,
           8.6
          ],
          [
           "Xavier Tillman",
           "BOS",
           "F",
           25,
           2.01,
           111,
           5.3,
           3.9,
           1.4,
           7.8
          ],
          [
           "P.J. Washington",
           "DAL",
           "F",
           25,
           2.01,
           104,
           12.9,
           5.6,
           1.9,
           7.9
          ],
          [
           "Derrick Jones Jr.",
           "DAL",
           "F",
           27,
           1.98,
           95,
           8.6,
           3.3,
           1,
           6.8
          ],
          [
           "Maxi Kleber",
           "DAL",
           "F",
           32,
           2.08,
           109,
           4.4,
           3.3,
           1.6,
           5.7
          ]
         ],
         "hovertemplate": "<b style='font-size:16px; color:#000000;'> %{customdata[0]}</b><br>Team: %{customdata[1]}<br>Position: %{customdata[2]}<br>Age: %{customdata[3]} years<br>Height: %{customdata[4]} m<br>Weight: %{customdata[5]} kg<br>PPG: %{customdata[6]}<br>RPG: %{customdata[7]}<br>APG: %{customdata[8]}<br>PIE: %{customdata[9]}<br><extra></extra>",
         "legendgroup": "F",
         "marker": {
          "color": "#EF553B",
          "size": 20,
          "symbol": "circle"
         },
         "mode": "markers+text",
         "name": "F",
         "orientation": "v",
         "showlegend": true,
         "text": [
          "Jaylen Brown",
          "Sam Hauser",
          "Xavier Tillman",
          "P.J. Washington",
          "Derrick Jones Jr.",
          "Maxi Kleber"
         ],
         "textfont": {
          "size": 14
         },
         "textposition": "bottom center",
         "type": "scatter",
         "x": [
          0.09119330173140405,
          -0.40374758126996446,
          -0.4058673014767572,
          -0.39700391727694795,
          0.31081316457106406,
          1.0077951186015506
         ],
         "xaxis": "x",
         "y": [
          1.0314829819002322,
          -0.4070929195879227,
          -0.5407066750643976,
          0.08493136610730734,
          -0.639795054015679,
          -1.0866377783109764
         ],
         "yaxis": "y"
        },
        {
         "customdata": [
          [
           "Derrick White",
           "BOS",
           "G",
           29,
           1.93,
           86,
           15.2,
           4.2,
           5.2,
           10.6
          ],
          [
           "Jrue Holiday",
           "BOS",
           "G",
           33,
           1.93,
           93,
           12.5,
           5.4,
           4.8,
           9.9
          ],
          [
           "Payton Pritchard",
           "BOS",
           "G",
           26,
           1.85,
           88,
           9.6,
           3.2,
           3.4,
           10.3
          ],
          [
           "Jaden Springer",
           "BOS",
           "G",
           21,
           1.93,
           92,
           3.3,
           1.6,
           0.9,
           5.5
          ],
          [
           "Jordan Walsh",
           "BOS",
           "G",
           20,
           1.98,
           93,
           1.7,
           2.2,
           0.6,
           5.8
          ],
          [
           "Kyrie Irving",
           "DAL",
           "G",
           32,
           1.88,
           88,
           25.6,
           5,
           5.2,
           14.4
          ],
          [
           "Josh Green",
           "DAL",
           "G",
           23,
           1.96,
           91,
           8.2,
           3.2,
           2.3,
           6.3
          ],
          [
           "Jaden Hardy",
           "DAL",
           "G",
           21,
           1.91,
           90,
           7.3,
           1.8,
           1.5,
           8.1
          ],
          [
           "Dante Exum",
           "DAL",
           "G",
           28,
           1.96,
           97,
           7.8,
           2.7,
           2.9,
           9.3
          ],
          [
           "A.J. Lawson",
           "DAL",
           "G",
           23,
           1.98,
           81,
           3.2,
           1.2,
           0.5,
           7.6
          ]
         ],
         "hovertemplate": "<b style='font-size:16px; color:#000000;'> %{customdata[0]}</b><br>Team: %{customdata[1]}<br>Position: %{customdata[2]}<br>Age: %{customdata[3]} years<br>Height: %{customdata[4]} m<br>Weight: %{customdata[5]} kg<br>PPG: %{customdata[6]}<br>RPG: %{customdata[7]}<br>APG: %{customdata[8]}<br>PIE: %{customdata[9]}<br><extra></extra>",
         "legendgroup": "G",
         "marker": {
          "color": "#00cc96",
          "size": 20,
          "symbol": "circle"
         },
         "mode": "markers+text",
         "name": "G",
         "orientation": "v",
         "showlegend": true,
         "text": [
          "Derrick White",
          "Jrue Holiday",
          "Payton Pritchard",
          "Jaden Springer",
          "Jordan Walsh",
          "Kyrie Irving",
          "Josh Green",
          "Jaden Hardy",
          "Dante Exum",
          "A.J. Lawson"
         ],
         "textfont": {
          "size": 14
         },
         "textposition": "bottom center",
         "type": "scatter",
         "x": [
          0.3765249383312794,
          1.8476418832365797,
          -0.29219492352057,
          -1.0356348696777353,
          -1.4180462265415401,
          1.3384347659163132,
          -0.7164798794425553,
          -1.2109961450070954,
          0.3358855207637832,
          -0.8915107383932017
         ],
         "xaxis": "x",
         "y": [
          0.5716169227828655,
          0.2883404602722436,
          0.08752326816438445,
          -0.9588118801260379,
          -0.9629736412130885,
          1.3915628994417863,
          -0.3928280576956869,
          -0.4327045291872179,
          -0.324102838323078,
          -0.956818763158667
         ],
         "yaxis": "y"
        },
        {
         "customdata": [
          [
           "Al Horford",
           "BOS",
           "C-F",
           38,
           2.06,
           109,
           8.6,
           6.4,
           2.6,
           10.5
          ],
          [
           "Luke Kornet",
           "BOS",
           "C-F",
           28,
           2.16,
           113,
           5.3,
           4.1,
           1.1,
           11.3
          ]
         ],
         "hovertemplate": "<b style='font-size:16px; color:#000000;'> %{customdata[0]}</b><br>Team: %{customdata[1]}<br>Position: %{customdata[2]}<br>Age: %{customdata[3]} years<br>Height: %{customdata[4]} m<br>Weight: %{customdata[5]} kg<br>PPG: %{customdata[6]}<br>RPG: %{customdata[7]}<br>APG: %{customdata[8]}<br>PIE: %{customdata[9]}<br><extra></extra>",
         "legendgroup": "C-F",
         "marker": {
          "color": "#ab63fa",
          "size": 20,
          "symbol": "circle"
         },
         "mode": "markers+text",
         "name": "C-F",
         "orientation": "v",
         "showlegend": true,
         "text": [
          "Al Horford",
          "Luke Kornet"
         ],
         "textfont": {
          "size": 14
         },
         "textposition": "bottom center",
         "type": "scatter",
         "x": [
          2.816202389151934,
          0.25067722646849855
         ],
         "xaxis": "x",
         "y": [
          -0.2523857616526491,
          -0.4265268156222929
         ],
         "yaxis": "y"
        },
        {
         "customdata": [
          [
           "Kristaps Porzingis",
           "BOS",
           "F-C",
           28,
           2.18,
           109,
           20.1,
           7.2,
           2,
           13.8
          ],
          [
           "Daniel Gafford",
           "DAL",
           "F-C",
           25,
           2.08,
           106,
           11,
           7.6,
           1.6,
           12.1
          ],
          [
           "Dwight Powell",
           "DAL",
           "F-C",
           32,
           2.08,
           109,
           3.3,
           3.4,
           1.3,
           7.9
          ]
         ],
         "hovertemplate": "<b style='font-size:16px; color:#000000;'> %{customdata[0]}</b><br>Team: %{customdata[1]}<br>Position: %{customdata[2]}<br>Age: %{customdata[3]} years<br>Height: %{customdata[4]} m<br>Weight: %{customdata[5]} kg<br>PPG: %{customdata[6]}<br>RPG: %{customdata[7]}<br>APG: %{customdata[8]}<br>PIE: %{customdata[9]}<br><extra></extra>",
         "legendgroup": "F-C",
         "marker": {
          "color": "#FFA15A",
          "size": 20,
          "symbol": "circle"
         },
         "mode": "markers+text",
         "name": "F-C",
         "orientation": "v",
         "showlegend": true,
         "text": [
          "Kristaps Porzingis",
          "Daniel Gafford",
          "Dwight Powell"
         ],
         "textfont": {
          "size": 14
         },
         "textposition": "bottom center",
         "type": "scatter",
         "x": [
          0.14234323965150797,
          -0.509251014521021,
          1.2884317092773023
         ],
         "xaxis": "x",
         "y": [
          0.9498577808475879,
          0.4991425673187983,
          -0.9868435671800307
         ],
         "yaxis": "y"
        },
        {
         "customdata": [
          [
           "Svi Mykhailiuk",
           "BOS",
           "G-F",
           26,
           2.01,
           93,
           4,
           1.2,
           0.9,
           7.7
          ],
          [
           "Tim Hardaway Jr.",
           "DAL",
           "G-F",
           32,
           1.96,
           93,
           14.4,
           3.2,
           1.8,
           8.3
          ]
         ],
         "hovertemplate": "<b style='font-size:16px; color:#000000;'> %{customdata[0]}</b><br>Team: %{customdata[1]}<br>Position: %{customdata[2]}<br>Age: %{customdata[3]} years<br>Height: %{customdata[4]} m<br>Weight: %{customdata[5]} kg<br>PPG: %{customdata[6]}<br>RPG: %{customdata[7]}<br>APG: %{customdata[8]}<br>PIE: %{customdata[9]}<br><extra></extra>",
         "legendgroup": "G-F",
         "marker": {
          "color": "#19d3f3",
          "size": 20,
          "symbol": "circle"
         },
         "mode": "markers+text",
         "name": "G-F",
         "orientation": "v",
         "showlegend": true,
         "text": [
          "Svi Mykhailiuk",
          "Tim Hardaway Jr."
         ],
         "textfont": {
          "size": 14
         },
         "textposition": "bottom center",
         "type": "scatter",
         "x": [
          -0.016451801710292792,
          1.3340654762467077
         ],
         "xaxis": "x",
         "y": [
          -0.9935669283682771,
          -0.31521019484454976
         ],
         "yaxis": "y"
        },
        {
         "customdata": [
          [
           "Neemias Queta",
           "BOS",
           "C",
           24,
           2.13,
           112,
           5.5,
           4.4,
           0.7,
           12.3
          ],
          [
           "Dereck Lively II",
           "DAL",
           "C",
           20,
           2.16,
           104,
           8.8,
           6.9,
           1.1,
           10.2
          ]
         ],
         "hovertemplate": "<b style='font-size:16px; color:#000000;'> %{customdata[0]}</b><br>Team: %{customdata[1]}<br>Position: %{customdata[2]}<br>Age: %{customdata[3]} years<br>Height: %{customdata[4]} m<br>Weight: %{customdata[5]} kg<br>PPG: %{customdata[6]}<br>RPG: %{customdata[7]}<br>APG: %{customdata[8]}<br>PIE: %{customdata[9]}<br><extra></extra>",
         "legendgroup": "C",
         "marker": {
          "color": "#FF6692",
          "size": 20,
          "symbol": "circle"
         },
         "mode": "markers+text",
         "name": "C",
         "orientation": "v",
         "showlegend": true,
         "text": [
          "Neemias Queta",
          "Dereck Lively II"
         ],
         "textfont": {
          "size": 14
         },
         "textposition": "bottom center",
         "type": "scatter",
         "x": [
          -0.7924054086015827,
          -1.6742406531754295
         ],
         "xaxis": "x",
         "y": [
          -0.1829366870655057,
          0.2533304945200033
         ],
         "yaxis": "y"
        }
       ],
       "layout": {
        "font": {
         "family": "Courier New, monospace",
         "size": 18
        },
        "height": 700,
        "legend": {
         "title": {
          "text": "Position"
         },
         "tracegroupgap": 0
        },
        "margin": {
         "t": 60
        },
        "template": {
         "data": {
          "bar": [
           {
            "error_x": {
             "color": "#2a3f5f"
            },
            "error_y": {
             "color": "#2a3f5f"
            },
            "marker": {
             "line": {
              "color": "#E5ECF6",
              "width": 0.5
             },
             "pattern": {
              "fillmode": "overlay",
              "size": 10,
              "solidity": 0.2
             }
            },
            "type": "bar"
           }
          ],
          "barpolar": [
           {
            "marker": {
             "line": {
              "color": "#E5ECF6",
              "width": 0.5
             },
             "pattern": {
              "fillmode": "overlay",
              "size": 10,
              "solidity": 0.2
             }
            },
            "type": "barpolar"
           }
          ],
          "carpet": [
           {
            "aaxis": {
             "endlinecolor": "#2a3f5f",
             "gridcolor": "white",
             "linecolor": "white",
             "minorgridcolor": "white",
             "startlinecolor": "#2a3f5f"
            },
            "baxis": {
             "endlinecolor": "#2a3f5f",
             "gridcolor": "white",
             "linecolor": "white",
             "minorgridcolor": "white",
             "startlinecolor": "#2a3f5f"
            },
            "type": "carpet"
           }
          ],
          "choropleth": [
           {
            "colorbar": {
             "outlinewidth": 0,
             "ticks": ""
            },
            "type": "choropleth"
           }
          ],
          "contour": [
           {
            "colorbar": {
             "outlinewidth": 0,
             "ticks": ""
            },
            "colorscale": [
             [
              0,
              "#0d0887"
             ],
             [
              0.1111111111111111,
              "#46039f"
             ],
             [
              0.2222222222222222,
              "#7201a8"
             ],
             [
              0.3333333333333333,
              "#9c179e"
             ],
             [
              0.4444444444444444,
              "#bd3786"
             ],
             [
              0.5555555555555556,
              "#d8576b"
             ],
             [
              0.6666666666666666,
              "#ed7953"
             ],
             [
              0.7777777777777778,
              "#fb9f3a"
             ],
             [
              0.8888888888888888,
              "#fdca26"
             ],
             [
              1,
              "#f0f921"
             ]
            ],
            "type": "contour"
           }
          ],
          "contourcarpet": [
           {
            "colorbar": {
             "outlinewidth": 0,
             "ticks": ""
            },
            "type": "contourcarpet"
           }
          ],
          "heatmap": [
           {
            "colorbar": {
             "outlinewidth": 0,
             "ticks": ""
            },
            "colorscale": [
             [
              0,
              "#0d0887"
             ],
             [
              0.1111111111111111,
              "#46039f"
             ],
             [
              0.2222222222222222,
              "#7201a8"
             ],
             [
              0.3333333333333333,
              "#9c179e"
             ],
             [
              0.4444444444444444,
              "#bd3786"
             ],
             [
              0.5555555555555556,
              "#d8576b"
             ],
             [
              0.6666666666666666,
              "#ed7953"
             ],
             [
              0.7777777777777778,
              "#fb9f3a"
             ],
             [
              0.8888888888888888,
              "#fdca26"
             ],
             [
              1,
              "#f0f921"
             ]
            ],
            "type": "heatmap"
           }
          ],
          "heatmapgl": [
           {
            "colorbar": {
             "outlinewidth": 0,
             "ticks": ""
            },
            "colorscale": [
             [
              0,
              "#0d0887"
             ],
             [
              0.1111111111111111,
              "#46039f"
             ],
             [
              0.2222222222222222,
              "#7201a8"
             ],
             [
              0.3333333333333333,
              "#9c179e"
             ],
             [
              0.4444444444444444,
              "#bd3786"
             ],
             [
              0.5555555555555556,
              "#d8576b"
             ],
             [
              0.6666666666666666,
              "#ed7953"
             ],
             [
              0.7777777777777778,
              "#fb9f3a"
             ],
             [
              0.8888888888888888,
              "#fdca26"
             ],
             [
              1,
              "#f0f921"
             ]
            ],
            "type": "heatmapgl"
           }
          ],
          "histogram": [
           {
            "marker": {
             "pattern": {
              "fillmode": "overlay",
              "size": 10,
              "solidity": 0.2
             }
            },
            "type": "histogram"
           }
          ],
          "histogram2d": [
           {
            "colorbar": {
             "outlinewidth": 0,
             "ticks": ""
            },
            "colorscale": [
             [
              0,
              "#0d0887"
             ],
             [
              0.1111111111111111,
              "#46039f"
             ],
             [
              0.2222222222222222,
              "#7201a8"
             ],
             [
              0.3333333333333333,
              "#9c179e"
             ],
             [
              0.4444444444444444,
              "#bd3786"
             ],
             [
              0.5555555555555556,
              "#d8576b"
             ],
             [
              0.6666666666666666,
              "#ed7953"
             ],
             [
              0.7777777777777778,
              "#fb9f3a"
             ],
             [
              0.8888888888888888,
              "#fdca26"
             ],
             [
              1,
              "#f0f921"
             ]
            ],
            "type": "histogram2d"
           }
          ],
          "histogram2dcontour": [
           {
            "colorbar": {
             "outlinewidth": 0,
             "ticks": ""
            },
            "colorscale": [
             [
              0,
              "#0d0887"
             ],
             [
              0.1111111111111111,
              "#46039f"
             ],
             [
              0.2222222222222222,
              "#7201a8"
             ],
             [
              0.3333333333333333,
              "#9c179e"
             ],
             [
              0.4444444444444444,
              "#bd3786"
             ],
             [
              0.5555555555555556,
              "#d8576b"
             ],
             [
              0.6666666666666666,
              "#ed7953"
             ],
             [
              0.7777777777777778,
              "#fb9f3a"
             ],
             [
              0.8888888888888888,
              "#fdca26"
             ],
             [
              1,
              "#f0f921"
             ]
            ],
            "type": "histogram2dcontour"
           }
          ],
          "mesh3d": [
           {
            "colorbar": {
             "outlinewidth": 0,
             "ticks": ""
            },
            "type": "mesh3d"
           }
          ],
          "parcoords": [
           {
            "line": {
             "colorbar": {
              "outlinewidth": 0,
              "ticks": ""
             }
            },
            "type": "parcoords"
           }
          ],
          "pie": [
           {
            "automargin": true,
            "type": "pie"
           }
          ],
          "scatter": [
           {
            "fillpattern": {
             "fillmode": "overlay",
             "size": 10,
             "solidity": 0.2
            },
            "type": "scatter"
           }
          ],
          "scatter3d": [
           {
            "line": {
             "colorbar": {
              "outlinewidth": 0,
              "ticks": ""
             }
            },
            "marker": {
             "colorbar": {
              "outlinewidth": 0,
              "ticks": ""
             }
            },
            "type": "scatter3d"
           }
          ],
          "scattercarpet": [
           {
            "marker": {
             "colorbar": {
              "outlinewidth": 0,
              "ticks": ""
             }
            },
            "type": "scattercarpet"
           }
          ],
          "scattergeo": [
           {
            "marker": {
             "colorbar": {
              "outlinewidth": 0,
              "ticks": ""
             }
            },
            "type": "scattergeo"
           }
          ],
          "scattergl": [
           {
            "marker": {
             "colorbar": {
              "outlinewidth": 0,
              "ticks": ""
             }
            },
            "type": "scattergl"
           }
          ],
          "scattermapbox": [
           {
            "marker": {
             "colorbar": {
              "outlinewidth": 0,
              "ticks": ""
             }
            },
            "type": "scattermapbox"
           }
          ],
          "scatterpolar": [
           {
            "marker": {
             "colorbar": {
              "outlinewidth": 0,
              "ticks": ""
             }
            },
            "type": "scatterpolar"
           }
          ],
          "scatterpolargl": [
           {
            "marker": {
             "colorbar": {
              "outlinewidth": 0,
              "ticks": ""
             }
            },
            "type": "scatterpolargl"
           }
          ],
          "scatterternary": [
           {
            "marker": {
             "colorbar": {
              "outlinewidth": 0,
              "ticks": ""
             }
            },
            "type": "scatterternary"
           }
          ],
          "surface": [
           {
            "colorbar": {
             "outlinewidth": 0,
             "ticks": ""
            },
            "colorscale": [
             [
              0,
              "#0d0887"
             ],
             [
              0.1111111111111111,
              "#46039f"
             ],
             [
              0.2222222222222222,
              "#7201a8"
             ],
             [
              0.3333333333333333,
              "#9c179e"
             ],
             [
              0.4444444444444444,
              "#bd3786"
             ],
             [
              0.5555555555555556,
              "#d8576b"
             ],
             [
              0.6666666666666666,
              "#ed7953"
             ],
             [
              0.7777777777777778,
              "#fb9f3a"
             ],
             [
              0.8888888888888888,
              "#fdca26"
             ],
             [
              1,
              "#f0f921"
             ]
            ],
            "type": "surface"
           }
          ],
          "table": [
           {
            "cells": {
             "fill": {
              "color": "#EBF0F8"
             },
             "line": {
              "color": "white"
             }
            },
            "header": {
             "fill": {
              "color": "#C8D4E3"
             },
             "line": {
              "color": "white"
             }
            },
            "type": "table"
           }
          ]
         },
         "layout": {
          "annotationdefaults": {
           "arrowcolor": "#2a3f5f",
           "arrowhead": 0,
           "arrowwidth": 1
          },
          "autotypenumbers": "strict",
          "coloraxis": {
           "colorbar": {
            "outlinewidth": 0,
            "ticks": ""
           }
          },
          "colorscale": {
           "diverging": [
            [
             0,
             "#8e0152"
            ],
            [
             0.1,
             "#c51b7d"
            ],
            [
             0.2,
             "#de77ae"
            ],
            [
             0.3,
             "#f1b6da"
            ],
            [
             0.4,
             "#fde0ef"
            ],
            [
             0.5,
             "#f7f7f7"
            ],
            [
             0.6,
             "#e6f5d0"
            ],
            [
             0.7,
             "#b8e186"
            ],
            [
             0.8,
             "#7fbc41"
            ],
            [
             0.9,
             "#4d9221"
            ],
            [
             1,
             "#276419"
            ]
           ],
           "sequential": [
            [
             0,
             "#0d0887"
            ],
            [
             0.1111111111111111,
             "#46039f"
            ],
            [
             0.2222222222222222,
             "#7201a8"
            ],
            [
             0.3333333333333333,
             "#9c179e"
            ],
            [
             0.4444444444444444,
             "#bd3786"
            ],
            [
             0.5555555555555556,
             "#d8576b"
            ],
            [
             0.6666666666666666,
             "#ed7953"
            ],
            [
             0.7777777777777778,
             "#fb9f3a"
            ],
            [
             0.8888888888888888,
             "#fdca26"
            ],
            [
             1,
             "#f0f921"
            ]
           ],
           "sequentialminus": [
            [
             0,
             "#0d0887"
            ],
            [
             0.1111111111111111,
             "#46039f"
            ],
            [
             0.2222222222222222,
             "#7201a8"
            ],
            [
             0.3333333333333333,
             "#9c179e"
            ],
            [
             0.4444444444444444,
             "#bd3786"
            ],
            [
             0.5555555555555556,
             "#d8576b"
            ],
            [
             0.6666666666666666,
             "#ed7953"
            ],
            [
             0.7777777777777778,
             "#fb9f3a"
            ],
            [
             0.8888888888888888,
             "#fdca26"
            ],
            [
             1,
             "#f0f921"
            ]
           ]
          },
          "colorway": [
           "#636efa",
           "#EF553B",
           "#00cc96",
           "#ab63fa",
           "#FFA15A",
           "#19d3f3",
           "#FF6692",
           "#B6E880",
           "#FF97FF",
           "#FECB52"
          ],
          "font": {
           "color": "#2a3f5f"
          },
          "geo": {
           "bgcolor": "white",
           "lakecolor": "white",
           "landcolor": "#E5ECF6",
           "showlakes": true,
           "showland": true,
           "subunitcolor": "white"
          },
          "hoverlabel": {
           "align": "left"
          },
          "hovermode": "closest",
          "mapbox": {
           "style": "light"
          },
          "paper_bgcolor": "white",
          "plot_bgcolor": "#E5ECF6",
          "polar": {
           "angularaxis": {
            "gridcolor": "white",
            "linecolor": "white",
            "ticks": ""
           },
           "bgcolor": "#E5ECF6",
           "radialaxis": {
            "gridcolor": "white",
            "linecolor": "white",
            "ticks": ""
           }
          },
          "scene": {
           "xaxis": {
            "backgroundcolor": "#E5ECF6",
            "gridcolor": "white",
            "gridwidth": 2,
            "linecolor": "white",
            "showbackground": true,
            "ticks": "",
            "zerolinecolor": "white"
           },
           "yaxis": {
            "backgroundcolor": "#E5ECF6",
            "gridcolor": "white",
            "gridwidth": 2,
            "linecolor": "white",
            "showbackground": true,
            "ticks": "",
            "zerolinecolor": "white"
           },
           "zaxis": {
            "backgroundcolor": "#E5ECF6",
            "gridcolor": "white",
            "gridwidth": 2,
            "linecolor": "white",
            "showbackground": true,
            "ticks": "",
            "zerolinecolor": "white"
           }
          },
          "shapedefaults": {
           "line": {
            "color": "#2a3f5f"
           }
          },
          "ternary": {
           "aaxis": {
            "gridcolor": "white",
            "linecolor": "white",
            "ticks": ""
           },
           "baxis": {
            "gridcolor": "white",
            "linecolor": "white",
            "ticks": ""
           },
           "bgcolor": "#E5ECF6",
           "caxis": {
            "gridcolor": "white",
            "linecolor": "white",
            "ticks": ""
           }
          },
          "title": {
           "x": 0.05
          },
          "xaxis": {
           "automargin": true,
           "gridcolor": "white",
           "linecolor": "white",
           "ticks": "",
           "title": {
            "standoff": 15
           },
           "zerolinecolor": "white",
           "zerolinewidth": 2
          },
          "yaxis": {
           "automargin": true,
           "gridcolor": "white",
           "linecolor": "white",
           "ticks": "",
           "title": {
            "standoff": 15
           },
           "zerolinecolor": "white",
           "zerolinewidth": 2
          }
         }
        },
        "title": {
         "text": "Proyección de Jugadores"
        },
        "width": 800,
        "xaxis": {
         "anchor": "y",
         "domain": [
          0,
          1
         ],
         "title": {
          "text": "Experiencia del jugador"
         }
        },
        "yaxis": {
         "anchor": "x",
         "domain": [
          0,
          1
         ],
         "title": {
          "text": "Desempeño en la cancha"
         }
        }
       }
      }
     },
     "metadata": {},
     "output_type": "display_data"
    }
   ],
   "source": [
    "plot_FA(f_scores_varimax_LS,'F1','F2',['Experiencia del jugador','Desempeño en la cancha'],'Player','Pos','Position')"
   ]
  },
  {
   "cell_type": "code",
   "execution_count": 152,
   "metadata": {},
   "outputs": [
    {
     "data": {
      "application/vnd.plotly.v1+json": {
       "config": {
        "plotlyServerURL": "https://plot.ly"
       },
       "data": [
        {
         "customdata": [
          [
           "Jayson Tatum",
           "BOS",
           "F-G",
           26,
           2.03,
           95,
           26.9,
           8.1,
           4.9,
           15.5
          ],
          [
           "Jaylen Brown",
           "BOS",
           "F",
           27,
           1.98,
           101,
           23,
           5.5,
           3.6,
           11.6
          ],
          [
           "Derrick White",
           "BOS",
           "G",
           29,
           1.93,
           86,
           15.2,
           4.2,
           5.2,
           10.6
          ],
          [
           "Jrue Holiday",
           "BOS",
           "G",
           33,
           1.93,
           93,
           12.5,
           5.4,
           4.8,
           9.9
          ],
          [
           "Al Horford",
           "BOS",
           "C-F",
           38,
           2.06,
           109,
           8.6,
           6.4,
           2.6,
           10.5
          ],
          [
           "Payton Pritchard",
           "BOS",
           "G",
           26,
           1.85,
           88,
           9.6,
           3.2,
           3.4,
           10.3
          ],
          [
           "Sam Hauser",
           "BOS",
           "F",
           26,
           2.01,
           98,
           9,
           3.5,
           1,
           8.6
          ],
          [
           "Kristaps Porzingis",
           "BOS",
           "F-C",
           28,
           2.18,
           109,
           20.1,
           7.2,
           2,
           13.8
          ],
          [
           "Luke Kornet",
           "BOS",
           "C-F",
           28,
           2.16,
           113,
           5.3,
           4.1,
           1.1,
           11.3
          ],
          [
           "Oshae Brissett",
           "BOS",
           "F-G",
           25,
           2.01,
           95,
           3.7,
           2.9,
           0.8,
           7.6
          ],
          [
           "Xavier Tillman",
           "BOS",
           "F",
           25,
           2.01,
           111,
           5.3,
           3.9,
           1.4,
           7.8
          ],
          [
           "Jaden Springer",
           "BOS",
           "G",
           21,
           1.93,
           92,
           3.3,
           1.6,
           0.9,
           5.5
          ],
          [
           "Svi Mykhailiuk",
           "BOS",
           "G-F",
           26,
           2.01,
           93,
           4,
           1.2,
           0.9,
           7.7
          ],
          [
           "Jordan Walsh",
           "BOS",
           "G",
           20,
           1.98,
           93,
           1.7,
           2.2,
           0.6,
           5.8
          ],
          [
           "Neemias Queta",
           "BOS",
           "C",
           24,
           2.13,
           112,
           5.5,
           4.4,
           0.7,
           12.3
          ]
         ],
         "hovertemplate": "<b style='font-size:16px; color:#000000;'> %{customdata[0]}</b><br>Team: %{customdata[1]}<br>Position: %{customdata[2]}<br>Age: %{customdata[3]} years<br>Height: %{customdata[4]} m<br>Weight: %{customdata[5]} kg<br>PPG: %{customdata[6]}<br>RPG: %{customdata[7]}<br>APG: %{customdata[8]}<br>PIE: %{customdata[9]}<br><extra></extra>",
         "legendgroup": "BOS",
         "marker": {
          "color": "#636efa",
          "size": 20,
          "symbol": "circle"
         },
         "mode": "markers+text",
         "name": "BOS",
         "orientation": "v",
         "showlegend": true,
         "text": [
          "Jayson Tatum",
          "Jaylen Brown",
          "Derrick White",
          "Jrue Holiday",
          "Al Horford",
          "Payton Pritchard",
          "Sam Hauser",
          "Kristaps Porzingis",
          "Luke Kornet",
          "Oshae Brissett",
          "Xavier Tillman",
          "Jaden Springer",
          "Svi Mykhailiuk",
          "Jordan Walsh",
          "Neemias Queta"
         ],
         "textfont": {
          "size": 14
         },
         "textposition": "bottom center",
         "type": "scatter",
         "x": [
          -0.3377384355850771,
          0.09119330173140405,
          0.3765249383312794,
          1.8476418832365797,
          2.816202389151934,
          -0.29219492352057,
          -0.40374758126996446,
          0.14234323965150797,
          0.25067722646849855,
          -0.29401841661155725,
          -0.4058673014767572,
          -1.0356348696777353,
          -0.016451801710292792,
          -1.4180462265415401,
          -0.7924054086015827
         ],
         "xaxis": "x",
         "y": [
          -0.18504662741586858,
          0.30669254840931276,
          1.1377732965430927,
          0.9029731696836315,
          -0.9044445873719712,
          1.8030300095521257,
          -0.036370902574330906,
          -2.0186595346513445,
          -1.844410035406464,
          0.040077005665556276,
          -0.2683850624641648,
          1.017043831774288,
          0.18482579948581046,
          0.44747939742397447,
          -1.5723857570605348
         ],
         "yaxis": "y"
        },
        {
         "customdata": [
          [
           "Luka Doncic",
           "DAL",
           "F-G",
           25,
           2.01,
           104,
           33.9,
           9.2,
           9.8,
           20
          ],
          [
           "Kyrie Irving",
           "DAL",
           "G",
           32,
           1.88,
           88,
           25.6,
           5,
           5.2,
           14.4
          ],
          [
           "P.J. Washington",
           "DAL",
           "F",
           25,
           2.01,
           104,
           12.9,
           5.6,
           1.9,
           7.9
          ],
          [
           "Derrick Jones Jr.",
           "DAL",
           "F",
           27,
           1.98,
           95,
           8.6,
           3.3,
           1,
           6.8
          ],
          [
           "Daniel Gafford",
           "DAL",
           "F-C",
           25,
           2.08,
           106,
           11,
           7.6,
           1.6,
           12.1
          ],
          [
           "Dereck Lively II",
           "DAL",
           "C",
           20,
           2.16,
           104,
           8.8,
           6.9,
           1.1,
           10.2
          ],
          [
           "Josh Green",
           "DAL",
           "G",
           23,
           1.96,
           91,
           8.2,
           3.2,
           2.3,
           6.3
          ],
          [
           "Jaden Hardy",
           "DAL",
           "G",
           21,
           1.91,
           90,
           7.3,
           1.8,
           1.5,
           8.1
          ],
          [
           "Tim Hardaway Jr.",
           "DAL",
           "G-F",
           32,
           1.96,
           93,
           14.4,
           3.2,
           1.8,
           8.3
          ],
          [
           "Maxi Kleber",
           "DAL",
           "F",
           32,
           2.08,
           109,
           4.4,
           3.3,
           1.6,
           5.7
          ],
          [
           "Dante Exum",
           "DAL",
           "G",
           28,
           1.96,
           97,
           7.8,
           2.7,
           2.9,
           9.3
          ],
          [
           "A.J. Lawson",
           "DAL",
           "G",
           23,
           1.98,
           81,
           3.2,
           1.2,
           0.5,
           7.6
          ],
          [
           "Dwight Powell",
           "DAL",
           "F-C",
           32,
           2.08,
           109,
           3.3,
           3.4,
           1.3,
           7.9
          ]
         ],
         "hovertemplate": "<b style='font-size:16px; color:#000000;'> %{customdata[0]}</b><br>Team: %{customdata[1]}<br>Position: %{customdata[2]}<br>Age: %{customdata[3]} years<br>Height: %{customdata[4]} m<br>Weight: %{customdata[5]} kg<br>PPG: %{customdata[6]}<br>RPG: %{customdata[7]}<br>APG: %{customdata[8]}<br>PIE: %{customdata[9]}<br><extra></extra>",
         "legendgroup": "DAL",
         "marker": {
          "color": "#EF553B",
          "size": 20,
          "symbol": "circle"
         },
         "mode": "markers+text",
         "name": "DAL",
         "orientation": "v",
         "showlegend": true,
         "text": [
          "Luka Doncic",
          "Kyrie Irving",
          "P.J. Washington",
          "Derrick Jones Jr.",
          "Daniel Gafford",
          "Dereck Lively II",
          "Josh Green",
          "Jaden Hardy",
          "Tim Hardaway Jr.",
          "Maxi Kleber",
          "Dante Exum",
          "A.J. Lawson",
          "Dwight Powell"
         ],
         "textfont": {
          "size": 14
         },
         "textposition": "bottom center",
         "type": "scatter",
         "x": [
          -0.7444214211365937,
          1.3384347659163132,
          -0.39700391727694795,
          0.31081316457106406,
          -0.509251014521021,
          -1.6742406531754295,
          -0.7164798794425553,
          -1.2109961450070954,
          1.3340654762467077,
          1.0077951186015506,
          0.3358855207637832,
          -0.8915107383932017,
          1.2884317092773023
         ],
         "xaxis": "x",
         "y": [
          0.042967284750253326,
          1.554409196257591,
          -0.15370043180807438,
          0.3628970833258698,
          -1.0922341384616263,
          -1.750967110771012,
          0.7348928614794275,
          1.2478583453203649,
          0.6207712179439857,
          -0.8933625878224865,
          0.5940790867336365,
          0.6675190680613964,
          -0.9453224266024909
         ],
         "yaxis": "y"
        }
       ],
       "layout": {
        "font": {
         "family": "Courier New, monospace",
         "size": 18
        },
        "height": 700,
        "legend": {
         "title": {
          "text": "Team"
         },
         "tracegroupgap": 0
        },
        "margin": {
         "t": 60
        },
        "template": {
         "data": {
          "bar": [
           {
            "error_x": {
             "color": "#2a3f5f"
            },
            "error_y": {
             "color": "#2a3f5f"
            },
            "marker": {
             "line": {
              "color": "#E5ECF6",
              "width": 0.5
             },
             "pattern": {
              "fillmode": "overlay",
              "size": 10,
              "solidity": 0.2
             }
            },
            "type": "bar"
           }
          ],
          "barpolar": [
           {
            "marker": {
             "line": {
              "color": "#E5ECF6",
              "width": 0.5
             },
             "pattern": {
              "fillmode": "overlay",
              "size": 10,
              "solidity": 0.2
             }
            },
            "type": "barpolar"
           }
          ],
          "carpet": [
           {
            "aaxis": {
             "endlinecolor": "#2a3f5f",
             "gridcolor": "white",
             "linecolor": "white",
             "minorgridcolor": "white",
             "startlinecolor": "#2a3f5f"
            },
            "baxis": {
             "endlinecolor": "#2a3f5f",
             "gridcolor": "white",
             "linecolor": "white",
             "minorgridcolor": "white",
             "startlinecolor": "#2a3f5f"
            },
            "type": "carpet"
           }
          ],
          "choropleth": [
           {
            "colorbar": {
             "outlinewidth": 0,
             "ticks": ""
            },
            "type": "choropleth"
           }
          ],
          "contour": [
           {
            "colorbar": {
             "outlinewidth": 0,
             "ticks": ""
            },
            "colorscale": [
             [
              0,
              "#0d0887"
             ],
             [
              0.1111111111111111,
              "#46039f"
             ],
             [
              0.2222222222222222,
              "#7201a8"
             ],
             [
              0.3333333333333333,
              "#9c179e"
             ],
             [
              0.4444444444444444,
              "#bd3786"
             ],
             [
              0.5555555555555556,
              "#d8576b"
             ],
             [
              0.6666666666666666,
              "#ed7953"
             ],
             [
              0.7777777777777778,
              "#fb9f3a"
             ],
             [
              0.8888888888888888,
              "#fdca26"
             ],
             [
              1,
              "#f0f921"
             ]
            ],
            "type": "contour"
           }
          ],
          "contourcarpet": [
           {
            "colorbar": {
             "outlinewidth": 0,
             "ticks": ""
            },
            "type": "contourcarpet"
           }
          ],
          "heatmap": [
           {
            "colorbar": {
             "outlinewidth": 0,
             "ticks": ""
            },
            "colorscale": [
             [
              0,
              "#0d0887"
             ],
             [
              0.1111111111111111,
              "#46039f"
             ],
             [
              0.2222222222222222,
              "#7201a8"
             ],
             [
              0.3333333333333333,
              "#9c179e"
             ],
             [
              0.4444444444444444,
              "#bd3786"
             ],
             [
              0.5555555555555556,
              "#d8576b"
             ],
             [
              0.6666666666666666,
              "#ed7953"
             ],
             [
              0.7777777777777778,
              "#fb9f3a"
             ],
             [
              0.8888888888888888,
              "#fdca26"
             ],
             [
              1,
              "#f0f921"
             ]
            ],
            "type": "heatmap"
           }
          ],
          "heatmapgl": [
           {
            "colorbar": {
             "outlinewidth": 0,
             "ticks": ""
            },
            "colorscale": [
             [
              0,
              "#0d0887"
             ],
             [
              0.1111111111111111,
              "#46039f"
             ],
             [
              0.2222222222222222,
              "#7201a8"
             ],
             [
              0.3333333333333333,
              "#9c179e"
             ],
             [
              0.4444444444444444,
              "#bd3786"
             ],
             [
              0.5555555555555556,
              "#d8576b"
             ],
             [
              0.6666666666666666,
              "#ed7953"
             ],
             [
              0.7777777777777778,
              "#fb9f3a"
             ],
             [
              0.8888888888888888,
              "#fdca26"
             ],
             [
              1,
              "#f0f921"
             ]
            ],
            "type": "heatmapgl"
           }
          ],
          "histogram": [
           {
            "marker": {
             "pattern": {
              "fillmode": "overlay",
              "size": 10,
              "solidity": 0.2
             }
            },
            "type": "histogram"
           }
          ],
          "histogram2d": [
           {
            "colorbar": {
             "outlinewidth": 0,
             "ticks": ""
            },
            "colorscale": [
             [
              0,
              "#0d0887"
             ],
             [
              0.1111111111111111,
              "#46039f"
             ],
             [
              0.2222222222222222,
              "#7201a8"
             ],
             [
              0.3333333333333333,
              "#9c179e"
             ],
             [
              0.4444444444444444,
              "#bd3786"
             ],
             [
              0.5555555555555556,
              "#d8576b"
             ],
             [
              0.6666666666666666,
              "#ed7953"
             ],
             [
              0.7777777777777778,
              "#fb9f3a"
             ],
             [
              0.8888888888888888,
              "#fdca26"
             ],
             [
              1,
              "#f0f921"
             ]
            ],
            "type": "histogram2d"
           }
          ],
          "histogram2dcontour": [
           {
            "colorbar": {
             "outlinewidth": 0,
             "ticks": ""
            },
            "colorscale": [
             [
              0,
              "#0d0887"
             ],
             [
              0.1111111111111111,
              "#46039f"
             ],
             [
              0.2222222222222222,
              "#7201a8"
             ],
             [
              0.3333333333333333,
              "#9c179e"
             ],
             [
              0.4444444444444444,
              "#bd3786"
             ],
             [
              0.5555555555555556,
              "#d8576b"
             ],
             [
              0.6666666666666666,
              "#ed7953"
             ],
             [
              0.7777777777777778,
              "#fb9f3a"
             ],
             [
              0.8888888888888888,
              "#fdca26"
             ],
             [
              1,
              "#f0f921"
             ]
            ],
            "type": "histogram2dcontour"
           }
          ],
          "mesh3d": [
           {
            "colorbar": {
             "outlinewidth": 0,
             "ticks": ""
            },
            "type": "mesh3d"
           }
          ],
          "parcoords": [
           {
            "line": {
             "colorbar": {
              "outlinewidth": 0,
              "ticks": ""
             }
            },
            "type": "parcoords"
           }
          ],
          "pie": [
           {
            "automargin": true,
            "type": "pie"
           }
          ],
          "scatter": [
           {
            "fillpattern": {
             "fillmode": "overlay",
             "size": 10,
             "solidity": 0.2
            },
            "type": "scatter"
           }
          ],
          "scatter3d": [
           {
            "line": {
             "colorbar": {
              "outlinewidth": 0,
              "ticks": ""
             }
            },
            "marker": {
             "colorbar": {
              "outlinewidth": 0,
              "ticks": ""
             }
            },
            "type": "scatter3d"
           }
          ],
          "scattercarpet": [
           {
            "marker": {
             "colorbar": {
              "outlinewidth": 0,
              "ticks": ""
             }
            },
            "type": "scattercarpet"
           }
          ],
          "scattergeo": [
           {
            "marker": {
             "colorbar": {
              "outlinewidth": 0,
              "ticks": ""
             }
            },
            "type": "scattergeo"
           }
          ],
          "scattergl": [
           {
            "marker": {
             "colorbar": {
              "outlinewidth": 0,
              "ticks": ""
             }
            },
            "type": "scattergl"
           }
          ],
          "scattermapbox": [
           {
            "marker": {
             "colorbar": {
              "outlinewidth": 0,
              "ticks": ""
             }
            },
            "type": "scattermapbox"
           }
          ],
          "scatterpolar": [
           {
            "marker": {
             "colorbar": {
              "outlinewidth": 0,
              "ticks": ""
             }
            },
            "type": "scatterpolar"
           }
          ],
          "scatterpolargl": [
           {
            "marker": {
             "colorbar": {
              "outlinewidth": 0,
              "ticks": ""
             }
            },
            "type": "scatterpolargl"
           }
          ],
          "scatterternary": [
           {
            "marker": {
             "colorbar": {
              "outlinewidth": 0,
              "ticks": ""
             }
            },
            "type": "scatterternary"
           }
          ],
          "surface": [
           {
            "colorbar": {
             "outlinewidth": 0,
             "ticks": ""
            },
            "colorscale": [
             [
              0,
              "#0d0887"
             ],
             [
              0.1111111111111111,
              "#46039f"
             ],
             [
              0.2222222222222222,
              "#7201a8"
             ],
             [
              0.3333333333333333,
              "#9c179e"
             ],
             [
              0.4444444444444444,
              "#bd3786"
             ],
             [
              0.5555555555555556,
              "#d8576b"
             ],
             [
              0.6666666666666666,
              "#ed7953"
             ],
             [
              0.7777777777777778,
              "#fb9f3a"
             ],
             [
              0.8888888888888888,
              "#fdca26"
             ],
             [
              1,
              "#f0f921"
             ]
            ],
            "type": "surface"
           }
          ],
          "table": [
           {
            "cells": {
             "fill": {
              "color": "#EBF0F8"
             },
             "line": {
              "color": "white"
             }
            },
            "header": {
             "fill": {
              "color": "#C8D4E3"
             },
             "line": {
              "color": "white"
             }
            },
            "type": "table"
           }
          ]
         },
         "layout": {
          "annotationdefaults": {
           "arrowcolor": "#2a3f5f",
           "arrowhead": 0,
           "arrowwidth": 1
          },
          "autotypenumbers": "strict",
          "coloraxis": {
           "colorbar": {
            "outlinewidth": 0,
            "ticks": ""
           }
          },
          "colorscale": {
           "diverging": [
            [
             0,
             "#8e0152"
            ],
            [
             0.1,
             "#c51b7d"
            ],
            [
             0.2,
             "#de77ae"
            ],
            [
             0.3,
             "#f1b6da"
            ],
            [
             0.4,
             "#fde0ef"
            ],
            [
             0.5,
             "#f7f7f7"
            ],
            [
             0.6,
             "#e6f5d0"
            ],
            [
             0.7,
             "#b8e186"
            ],
            [
             0.8,
             "#7fbc41"
            ],
            [
             0.9,
             "#4d9221"
            ],
            [
             1,
             "#276419"
            ]
           ],
           "sequential": [
            [
             0,
             "#0d0887"
            ],
            [
             0.1111111111111111,
             "#46039f"
            ],
            [
             0.2222222222222222,
             "#7201a8"
            ],
            [
             0.3333333333333333,
             "#9c179e"
            ],
            [
             0.4444444444444444,
             "#bd3786"
            ],
            [
             0.5555555555555556,
             "#d8576b"
            ],
            [
             0.6666666666666666,
             "#ed7953"
            ],
            [
             0.7777777777777778,
             "#fb9f3a"
            ],
            [
             0.8888888888888888,
             "#fdca26"
            ],
            [
             1,
             "#f0f921"
            ]
           ],
           "sequentialminus": [
            [
             0,
             "#0d0887"
            ],
            [
             0.1111111111111111,
             "#46039f"
            ],
            [
             0.2222222222222222,
             "#7201a8"
            ],
            [
             0.3333333333333333,
             "#9c179e"
            ],
            [
             0.4444444444444444,
             "#bd3786"
            ],
            [
             0.5555555555555556,
             "#d8576b"
            ],
            [
             0.6666666666666666,
             "#ed7953"
            ],
            [
             0.7777777777777778,
             "#fb9f3a"
            ],
            [
             0.8888888888888888,
             "#fdca26"
            ],
            [
             1,
             "#f0f921"
            ]
           ]
          },
          "colorway": [
           "#636efa",
           "#EF553B",
           "#00cc96",
           "#ab63fa",
           "#FFA15A",
           "#19d3f3",
           "#FF6692",
           "#B6E880",
           "#FF97FF",
           "#FECB52"
          ],
          "font": {
           "color": "#2a3f5f"
          },
          "geo": {
           "bgcolor": "white",
           "lakecolor": "white",
           "landcolor": "#E5ECF6",
           "showlakes": true,
           "showland": true,
           "subunitcolor": "white"
          },
          "hoverlabel": {
           "align": "left"
          },
          "hovermode": "closest",
          "mapbox": {
           "style": "light"
          },
          "paper_bgcolor": "white",
          "plot_bgcolor": "#E5ECF6",
          "polar": {
           "angularaxis": {
            "gridcolor": "white",
            "linecolor": "white",
            "ticks": ""
           },
           "bgcolor": "#E5ECF6",
           "radialaxis": {
            "gridcolor": "white",
            "linecolor": "white",
            "ticks": ""
           }
          },
          "scene": {
           "xaxis": {
            "backgroundcolor": "#E5ECF6",
            "gridcolor": "white",
            "gridwidth": 2,
            "linecolor": "white",
            "showbackground": true,
            "ticks": "",
            "zerolinecolor": "white"
           },
           "yaxis": {
            "backgroundcolor": "#E5ECF6",
            "gridcolor": "white",
            "gridwidth": 2,
            "linecolor": "white",
            "showbackground": true,
            "ticks": "",
            "zerolinecolor": "white"
           },
           "zaxis": {
            "backgroundcolor": "#E5ECF6",
            "gridcolor": "white",
            "gridwidth": 2,
            "linecolor": "white",
            "showbackground": true,
            "ticks": "",
            "zerolinecolor": "white"
           }
          },
          "shapedefaults": {
           "line": {
            "color": "#2a3f5f"
           }
          },
          "ternary": {
           "aaxis": {
            "gridcolor": "white",
            "linecolor": "white",
            "ticks": ""
           },
           "baxis": {
            "gridcolor": "white",
            "linecolor": "white",
            "ticks": ""
           },
           "bgcolor": "#E5ECF6",
           "caxis": {
            "gridcolor": "white",
            "linecolor": "white",
            "ticks": ""
           }
          },
          "title": {
           "x": 0.05
          },
          "xaxis": {
           "automargin": true,
           "gridcolor": "white",
           "linecolor": "white",
           "ticks": "",
           "title": {
            "standoff": 15
           },
           "zerolinecolor": "white",
           "zerolinewidth": 2
          },
          "yaxis": {
           "automargin": true,
           "gridcolor": "white",
           "linecolor": "white",
           "ticks": "",
           "title": {
            "standoff": 15
           },
           "zerolinecolor": "white",
           "zerolinewidth": 2
          }
         }
        },
        "title": {
         "text": "Proyección de Jugadores"
        },
        "width": 800,
        "xaxis": {
         "anchor": "y",
         "domain": [
          0,
          1
         ],
         "title": {
          "text": "Experiencia del jugador"
         }
        },
        "yaxis": {
         "anchor": "x",
         "domain": [
          0,
          1
         ],
         "title": {
          "text": "Talla del jugador"
         }
        }
       }
      }
     },
     "metadata": {},
     "output_type": "display_data"
    }
   ],
   "source": [
    "plot_FA(f_scores_varimax_LS,'F1','F3',['Experiencia del jugador','Talla del jugador'],'Player','Team','Team')"
   ]
  },
  {
   "cell_type": "code",
   "execution_count": 153,
   "metadata": {},
   "outputs": [
    {
     "data": {
      "application/vnd.plotly.v1+json": {
       "config": {
        "plotlyServerURL": "https://plot.ly"
       },
       "data": [
        {
         "customdata": [
          [
           "Jayson Tatum",
           "BOS",
           "F-G",
           26,
           2.03,
           95,
           26.9,
           8.1,
           4.9,
           15.5
          ],
          [
           "Oshae Brissett",
           "BOS",
           "F-G",
           25,
           2.01,
           95,
           3.7,
           2.9,
           0.8,
           7.6
          ],
          [
           "Luka Doncic",
           "DAL",
           "F-G",
           25,
           2.01,
           104,
           33.9,
           9.2,
           9.8,
           20
          ]
         ],
         "hovertemplate": "<b style='font-size:16px; color:#000000;'> %{customdata[0]}</b><br>Team: %{customdata[1]}<br>Position: %{customdata[2]}<br>Age: %{customdata[3]} years<br>Height: %{customdata[4]} m<br>Weight: %{customdata[5]} kg<br>PPG: %{customdata[6]}<br>RPG: %{customdata[7]}<br>APG: %{customdata[8]}<br>PIE: %{customdata[9]}<br><extra></extra>",
         "legendgroup": "F-G",
         "marker": {
          "color": "#636efa",
          "size": 20,
          "symbol": "circle"
         },
         "mode": "markers+text",
         "name": "F-G",
         "orientation": "v",
         "showlegend": true,
         "text": [
          "Jayson Tatum",
          "Oshae Brissett",
          "Luka Doncic"
         ],
         "textfont": {
          "size": 14
         },
         "textposition": "bottom center",
         "type": "scatter",
         "x": [
          -0.3377384355850771,
          -0.29401841661155725,
          -0.7444214211365937
         ],
         "xaxis": "x",
         "y": [
          -0.18504662741586858,
          0.040077005665556276,
          0.042967284750253326
         ],
         "yaxis": "y"
        },
        {
         "customdata": [
          [
           "Jaylen Brown",
           "BOS",
           "F",
           27,
           1.98,
           101,
           23,
           5.5,
           3.6,
           11.6
          ],
          [
           "Sam Hauser",
           "BOS",
           "F",
           26,
           2.01,
           98,
           9,
           3.5,
           1,
           8.6
          ],
          [
           "Xavier Tillman",
           "BOS",
           "F",
           25,
           2.01,
           111,
           5.3,
           3.9,
           1.4,
           7.8
          ],
          [
           "P.J. Washington",
           "DAL",
           "F",
           25,
           2.01,
           104,
           12.9,
           5.6,
           1.9,
           7.9
          ],
          [
           "Derrick Jones Jr.",
           "DAL",
           "F",
           27,
           1.98,
           95,
           8.6,
           3.3,
           1,
           6.8
          ],
          [
           "Maxi Kleber",
           "DAL",
           "F",
           32,
           2.08,
           109,
           4.4,
           3.3,
           1.6,
           5.7
          ]
         ],
         "hovertemplate": "<b style='font-size:16px; color:#000000;'> %{customdata[0]}</b><br>Team: %{customdata[1]}<br>Position: %{customdata[2]}<br>Age: %{customdata[3]} years<br>Height: %{customdata[4]} m<br>Weight: %{customdata[5]} kg<br>PPG: %{customdata[6]}<br>RPG: %{customdata[7]}<br>APG: %{customdata[8]}<br>PIE: %{customdata[9]}<br><extra></extra>",
         "legendgroup": "F",
         "marker": {
          "color": "#EF553B",
          "size": 20,
          "symbol": "circle"
         },
         "mode": "markers+text",
         "name": "F",
         "orientation": "v",
         "showlegend": true,
         "text": [
          "Jaylen Brown",
          "Sam Hauser",
          "Xavier Tillman",
          "P.J. Washington",
          "Derrick Jones Jr.",
          "Maxi Kleber"
         ],
         "textfont": {
          "size": 14
         },
         "textposition": "bottom center",
         "type": "scatter",
         "x": [
          0.09119330173140405,
          -0.40374758126996446,
          -0.4058673014767572,
          -0.39700391727694795,
          0.31081316457106406,
          1.0077951186015506
         ],
         "xaxis": "x",
         "y": [
          0.30669254840931276,
          -0.036370902574330906,
          -0.2683850624641648,
          -0.15370043180807438,
          0.3628970833258698,
          -0.8933625878224865
         ],
         "yaxis": "y"
        },
        {
         "customdata": [
          [
           "Derrick White",
           "BOS",
           "G",
           29,
           1.93,
           86,
           15.2,
           4.2,
           5.2,
           10.6
          ],
          [
           "Jrue Holiday",
           "BOS",
           "G",
           33,
           1.93,
           93,
           12.5,
           5.4,
           4.8,
           9.9
          ],
          [
           "Payton Pritchard",
           "BOS",
           "G",
           26,
           1.85,
           88,
           9.6,
           3.2,
           3.4,
           10.3
          ],
          [
           "Jaden Springer",
           "BOS",
           "G",
           21,
           1.93,
           92,
           3.3,
           1.6,
           0.9,
           5.5
          ],
          [
           "Jordan Walsh",
           "BOS",
           "G",
           20,
           1.98,
           93,
           1.7,
           2.2,
           0.6,
           5.8
          ],
          [
           "Kyrie Irving",
           "DAL",
           "G",
           32,
           1.88,
           88,
           25.6,
           5,
           5.2,
           14.4
          ],
          [
           "Josh Green",
           "DAL",
           "G",
           23,
           1.96,
           91,
           8.2,
           3.2,
           2.3,
           6.3
          ],
          [
           "Jaden Hardy",
           "DAL",
           "G",
           21,
           1.91,
           90,
           7.3,
           1.8,
           1.5,
           8.1
          ],
          [
           "Dante Exum",
           "DAL",
           "G",
           28,
           1.96,
           97,
           7.8,
           2.7,
           2.9,
           9.3
          ],
          [
           "A.J. Lawson",
           "DAL",
           "G",
           23,
           1.98,
           81,
           3.2,
           1.2,
           0.5,
           7.6
          ]
         ],
         "hovertemplate": "<b style='font-size:16px; color:#000000;'> %{customdata[0]}</b><br>Team: %{customdata[1]}<br>Position: %{customdata[2]}<br>Age: %{customdata[3]} years<br>Height: %{customdata[4]} m<br>Weight: %{customdata[5]} kg<br>PPG: %{customdata[6]}<br>RPG: %{customdata[7]}<br>APG: %{customdata[8]}<br>PIE: %{customdata[9]}<br><extra></extra>",
         "legendgroup": "G",
         "marker": {
          "color": "#00cc96",
          "size": 20,
          "symbol": "circle"
         },
         "mode": "markers+text",
         "name": "G",
         "orientation": "v",
         "showlegend": true,
         "text": [
          "Derrick White",
          "Jrue Holiday",
          "Payton Pritchard",
          "Jaden Springer",
          "Jordan Walsh",
          "Kyrie Irving",
          "Josh Green",
          "Jaden Hardy",
          "Dante Exum",
          "A.J. Lawson"
         ],
         "textfont": {
          "size": 14
         },
         "textposition": "bottom center",
         "type": "scatter",
         "x": [
          0.3765249383312794,
          1.8476418832365797,
          -0.29219492352057,
          -1.0356348696777353,
          -1.4180462265415401,
          1.3384347659163132,
          -0.7164798794425553,
          -1.2109961450070954,
          0.3358855207637832,
          -0.8915107383932017
         ],
         "xaxis": "x",
         "y": [
          1.1377732965430927,
          0.9029731696836315,
          1.8030300095521257,
          1.017043831774288,
          0.44747939742397447,
          1.554409196257591,
          0.7348928614794275,
          1.2478583453203649,
          0.5940790867336365,
          0.6675190680613964
         ],
         "yaxis": "y"
        },
        {
         "customdata": [
          [
           "Al Horford",
           "BOS",
           "C-F",
           38,
           2.06,
           109,
           8.6,
           6.4,
           2.6,
           10.5
          ],
          [
           "Luke Kornet",
           "BOS",
           "C-F",
           28,
           2.16,
           113,
           5.3,
           4.1,
           1.1,
           11.3
          ]
         ],
         "hovertemplate": "<b style='font-size:16px; color:#000000;'> %{customdata[0]}</b><br>Team: %{customdata[1]}<br>Position: %{customdata[2]}<br>Age: %{customdata[3]} years<br>Height: %{customdata[4]} m<br>Weight: %{customdata[5]} kg<br>PPG: %{customdata[6]}<br>RPG: %{customdata[7]}<br>APG: %{customdata[8]}<br>PIE: %{customdata[9]}<br><extra></extra>",
         "legendgroup": "C-F",
         "marker": {
          "color": "#ab63fa",
          "size": 20,
          "symbol": "circle"
         },
         "mode": "markers+text",
         "name": "C-F",
         "orientation": "v",
         "showlegend": true,
         "text": [
          "Al Horford",
          "Luke Kornet"
         ],
         "textfont": {
          "size": 14
         },
         "textposition": "bottom center",
         "type": "scatter",
         "x": [
          2.816202389151934,
          0.25067722646849855
         ],
         "xaxis": "x",
         "y": [
          -0.9044445873719712,
          -1.844410035406464
         ],
         "yaxis": "y"
        },
        {
         "customdata": [
          [
           "Kristaps Porzingis",
           "BOS",
           "F-C",
           28,
           2.18,
           109,
           20.1,
           7.2,
           2,
           13.8
          ],
          [
           "Daniel Gafford",
           "DAL",
           "F-C",
           25,
           2.08,
           106,
           11,
           7.6,
           1.6,
           12.1
          ],
          [
           "Dwight Powell",
           "DAL",
           "F-C",
           32,
           2.08,
           109,
           3.3,
           3.4,
           1.3,
           7.9
          ]
         ],
         "hovertemplate": "<b style='font-size:16px; color:#000000;'> %{customdata[0]}</b><br>Team: %{customdata[1]}<br>Position: %{customdata[2]}<br>Age: %{customdata[3]} years<br>Height: %{customdata[4]} m<br>Weight: %{customdata[5]} kg<br>PPG: %{customdata[6]}<br>RPG: %{customdata[7]}<br>APG: %{customdata[8]}<br>PIE: %{customdata[9]}<br><extra></extra>",
         "legendgroup": "F-C",
         "marker": {
          "color": "#FFA15A",
          "size": 20,
          "symbol": "circle"
         },
         "mode": "markers+text",
         "name": "F-C",
         "orientation": "v",
         "showlegend": true,
         "text": [
          "Kristaps Porzingis",
          "Daniel Gafford",
          "Dwight Powell"
         ],
         "textfont": {
          "size": 14
         },
         "textposition": "bottom center",
         "type": "scatter",
         "x": [
          0.14234323965150797,
          -0.509251014521021,
          1.2884317092773023
         ],
         "xaxis": "x",
         "y": [
          -2.0186595346513445,
          -1.0922341384616263,
          -0.9453224266024909
         ],
         "yaxis": "y"
        },
        {
         "customdata": [
          [
           "Svi Mykhailiuk",
           "BOS",
           "G-F",
           26,
           2.01,
           93,
           4,
           1.2,
           0.9,
           7.7
          ],
          [
           "Tim Hardaway Jr.",
           "DAL",
           "G-F",
           32,
           1.96,
           93,
           14.4,
           3.2,
           1.8,
           8.3
          ]
         ],
         "hovertemplate": "<b style='font-size:16px; color:#000000;'> %{customdata[0]}</b><br>Team: %{customdata[1]}<br>Position: %{customdata[2]}<br>Age: %{customdata[3]} years<br>Height: %{customdata[4]} m<br>Weight: %{customdata[5]} kg<br>PPG: %{customdata[6]}<br>RPG: %{customdata[7]}<br>APG: %{customdata[8]}<br>PIE: %{customdata[9]}<br><extra></extra>",
         "legendgroup": "G-F",
         "marker": {
          "color": "#19d3f3",
          "size": 20,
          "symbol": "circle"
         },
         "mode": "markers+text",
         "name": "G-F",
         "orientation": "v",
         "showlegend": true,
         "text": [
          "Svi Mykhailiuk",
          "Tim Hardaway Jr."
         ],
         "textfont": {
          "size": 14
         },
         "textposition": "bottom center",
         "type": "scatter",
         "x": [
          -0.016451801710292792,
          1.3340654762467077
         ],
         "xaxis": "x",
         "y": [
          0.18482579948581046,
          0.6207712179439857
         ],
         "yaxis": "y"
        },
        {
         "customdata": [
          [
           "Neemias Queta",
           "BOS",
           "C",
           24,
           2.13,
           112,
           5.5,
           4.4,
           0.7,
           12.3
          ],
          [
           "Dereck Lively II",
           "DAL",
           "C",
           20,
           2.16,
           104,
           8.8,
           6.9,
           1.1,
           10.2
          ]
         ],
         "hovertemplate": "<b style='font-size:16px; color:#000000;'> %{customdata[0]}</b><br>Team: %{customdata[1]}<br>Position: %{customdata[2]}<br>Age: %{customdata[3]} years<br>Height: %{customdata[4]} m<br>Weight: %{customdata[5]} kg<br>PPG: %{customdata[6]}<br>RPG: %{customdata[7]}<br>APG: %{customdata[8]}<br>PIE: %{customdata[9]}<br><extra></extra>",
         "legendgroup": "C",
         "marker": {
          "color": "#FF6692",
          "size": 20,
          "symbol": "circle"
         },
         "mode": "markers+text",
         "name": "C",
         "orientation": "v",
         "showlegend": true,
         "text": [
          "Neemias Queta",
          "Dereck Lively II"
         ],
         "textfont": {
          "size": 14
         },
         "textposition": "bottom center",
         "type": "scatter",
         "x": [
          -0.7924054086015827,
          -1.6742406531754295
         ],
         "xaxis": "x",
         "y": [
          -1.5723857570605348,
          -1.750967110771012
         ],
         "yaxis": "y"
        }
       ],
       "layout": {
        "font": {
         "family": "Courier New, monospace",
         "size": 18
        },
        "height": 700,
        "legend": {
         "title": {
          "text": "Position"
         },
         "tracegroupgap": 0
        },
        "margin": {
         "t": 60
        },
        "template": {
         "data": {
          "bar": [
           {
            "error_x": {
             "color": "#2a3f5f"
            },
            "error_y": {
             "color": "#2a3f5f"
            },
            "marker": {
             "line": {
              "color": "#E5ECF6",
              "width": 0.5
             },
             "pattern": {
              "fillmode": "overlay",
              "size": 10,
              "solidity": 0.2
             }
            },
            "type": "bar"
           }
          ],
          "barpolar": [
           {
            "marker": {
             "line": {
              "color": "#E5ECF6",
              "width": 0.5
             },
             "pattern": {
              "fillmode": "overlay",
              "size": 10,
              "solidity": 0.2
             }
            },
            "type": "barpolar"
           }
          ],
          "carpet": [
           {
            "aaxis": {
             "endlinecolor": "#2a3f5f",
             "gridcolor": "white",
             "linecolor": "white",
             "minorgridcolor": "white",
             "startlinecolor": "#2a3f5f"
            },
            "baxis": {
             "endlinecolor": "#2a3f5f",
             "gridcolor": "white",
             "linecolor": "white",
             "minorgridcolor": "white",
             "startlinecolor": "#2a3f5f"
            },
            "type": "carpet"
           }
          ],
          "choropleth": [
           {
            "colorbar": {
             "outlinewidth": 0,
             "ticks": ""
            },
            "type": "choropleth"
           }
          ],
          "contour": [
           {
            "colorbar": {
             "outlinewidth": 0,
             "ticks": ""
            },
            "colorscale": [
             [
              0,
              "#0d0887"
             ],
             [
              0.1111111111111111,
              "#46039f"
             ],
             [
              0.2222222222222222,
              "#7201a8"
             ],
             [
              0.3333333333333333,
              "#9c179e"
             ],
             [
              0.4444444444444444,
              "#bd3786"
             ],
             [
              0.5555555555555556,
              "#d8576b"
             ],
             [
              0.6666666666666666,
              "#ed7953"
             ],
             [
              0.7777777777777778,
              "#fb9f3a"
             ],
             [
              0.8888888888888888,
              "#fdca26"
             ],
             [
              1,
              "#f0f921"
             ]
            ],
            "type": "contour"
           }
          ],
          "contourcarpet": [
           {
            "colorbar": {
             "outlinewidth": 0,
             "ticks": ""
            },
            "type": "contourcarpet"
           }
          ],
          "heatmap": [
           {
            "colorbar": {
             "outlinewidth": 0,
             "ticks": ""
            },
            "colorscale": [
             [
              0,
              "#0d0887"
             ],
             [
              0.1111111111111111,
              "#46039f"
             ],
             [
              0.2222222222222222,
              "#7201a8"
             ],
             [
              0.3333333333333333,
              "#9c179e"
             ],
             [
              0.4444444444444444,
              "#bd3786"
             ],
             [
              0.5555555555555556,
              "#d8576b"
             ],
             [
              0.6666666666666666,
              "#ed7953"
             ],
             [
              0.7777777777777778,
              "#fb9f3a"
             ],
             [
              0.8888888888888888,
              "#fdca26"
             ],
             [
              1,
              "#f0f921"
             ]
            ],
            "type": "heatmap"
           }
          ],
          "heatmapgl": [
           {
            "colorbar": {
             "outlinewidth": 0,
             "ticks": ""
            },
            "colorscale": [
             [
              0,
              "#0d0887"
             ],
             [
              0.1111111111111111,
              "#46039f"
             ],
             [
              0.2222222222222222,
              "#7201a8"
             ],
             [
              0.3333333333333333,
              "#9c179e"
             ],
             [
              0.4444444444444444,
              "#bd3786"
             ],
             [
              0.5555555555555556,
              "#d8576b"
             ],
             [
              0.6666666666666666,
              "#ed7953"
             ],
             [
              0.7777777777777778,
              "#fb9f3a"
             ],
             [
              0.8888888888888888,
              "#fdca26"
             ],
             [
              1,
              "#f0f921"
             ]
            ],
            "type": "heatmapgl"
           }
          ],
          "histogram": [
           {
            "marker": {
             "pattern": {
              "fillmode": "overlay",
              "size": 10,
              "solidity": 0.2
             }
            },
            "type": "histogram"
           }
          ],
          "histogram2d": [
           {
            "colorbar": {
             "outlinewidth": 0,
             "ticks": ""
            },
            "colorscale": [
             [
              0,
              "#0d0887"
             ],
             [
              0.1111111111111111,
              "#46039f"
             ],
             [
              0.2222222222222222,
              "#7201a8"
             ],
             [
              0.3333333333333333,
              "#9c179e"
             ],
             [
              0.4444444444444444,
              "#bd3786"
             ],
             [
              0.5555555555555556,
              "#d8576b"
             ],
             [
              0.6666666666666666,
              "#ed7953"
             ],
             [
              0.7777777777777778,
              "#fb9f3a"
             ],
             [
              0.8888888888888888,
              "#fdca26"
             ],
             [
              1,
              "#f0f921"
             ]
            ],
            "type": "histogram2d"
           }
          ],
          "histogram2dcontour": [
           {
            "colorbar": {
             "outlinewidth": 0,
             "ticks": ""
            },
            "colorscale": [
             [
              0,
              "#0d0887"
             ],
             [
              0.1111111111111111,
              "#46039f"
             ],
             [
              0.2222222222222222,
              "#7201a8"
             ],
             [
              0.3333333333333333,
              "#9c179e"
             ],
             [
              0.4444444444444444,
              "#bd3786"
             ],
             [
              0.5555555555555556,
              "#d8576b"
             ],
             [
              0.6666666666666666,
              "#ed7953"
             ],
             [
              0.7777777777777778,
              "#fb9f3a"
             ],
             [
              0.8888888888888888,
              "#fdca26"
             ],
             [
              1,
              "#f0f921"
             ]
            ],
            "type": "histogram2dcontour"
           }
          ],
          "mesh3d": [
           {
            "colorbar": {
             "outlinewidth": 0,
             "ticks": ""
            },
            "type": "mesh3d"
           }
          ],
          "parcoords": [
           {
            "line": {
             "colorbar": {
              "outlinewidth": 0,
              "ticks": ""
             }
            },
            "type": "parcoords"
           }
          ],
          "pie": [
           {
            "automargin": true,
            "type": "pie"
           }
          ],
          "scatter": [
           {
            "fillpattern": {
             "fillmode": "overlay",
             "size": 10,
             "solidity": 0.2
            },
            "type": "scatter"
           }
          ],
          "scatter3d": [
           {
            "line": {
             "colorbar": {
              "outlinewidth": 0,
              "ticks": ""
             }
            },
            "marker": {
             "colorbar": {
              "outlinewidth": 0,
              "ticks": ""
             }
            },
            "type": "scatter3d"
           }
          ],
          "scattercarpet": [
           {
            "marker": {
             "colorbar": {
              "outlinewidth": 0,
              "ticks": ""
             }
            },
            "type": "scattercarpet"
           }
          ],
          "scattergeo": [
           {
            "marker": {
             "colorbar": {
              "outlinewidth": 0,
              "ticks": ""
             }
            },
            "type": "scattergeo"
           }
          ],
          "scattergl": [
           {
            "marker": {
             "colorbar": {
              "outlinewidth": 0,
              "ticks": ""
             }
            },
            "type": "scattergl"
           }
          ],
          "scattermapbox": [
           {
            "marker": {
             "colorbar": {
              "outlinewidth": 0,
              "ticks": ""
             }
            },
            "type": "scattermapbox"
           }
          ],
          "scatterpolar": [
           {
            "marker": {
             "colorbar": {
              "outlinewidth": 0,
              "ticks": ""
             }
            },
            "type": "scatterpolar"
           }
          ],
          "scatterpolargl": [
           {
            "marker": {
             "colorbar": {
              "outlinewidth": 0,
              "ticks": ""
             }
            },
            "type": "scatterpolargl"
           }
          ],
          "scatterternary": [
           {
            "marker": {
             "colorbar": {
              "outlinewidth": 0,
              "ticks": ""
             }
            },
            "type": "scatterternary"
           }
          ],
          "surface": [
           {
            "colorbar": {
             "outlinewidth": 0,
             "ticks": ""
            },
            "colorscale": [
             [
              0,
              "#0d0887"
             ],
             [
              0.1111111111111111,
              "#46039f"
             ],
             [
              0.2222222222222222,
              "#7201a8"
             ],
             [
              0.3333333333333333,
              "#9c179e"
             ],
             [
              0.4444444444444444,
              "#bd3786"
             ],
             [
              0.5555555555555556,
              "#d8576b"
             ],
             [
              0.6666666666666666,
              "#ed7953"
             ],
             [
              0.7777777777777778,
              "#fb9f3a"
             ],
             [
              0.8888888888888888,
              "#fdca26"
             ],
             [
              1,
              "#f0f921"
             ]
            ],
            "type": "surface"
           }
          ],
          "table": [
           {
            "cells": {
             "fill": {
              "color": "#EBF0F8"
             },
             "line": {
              "color": "white"
             }
            },
            "header": {
             "fill": {
              "color": "#C8D4E3"
             },
             "line": {
              "color": "white"
             }
            },
            "type": "table"
           }
          ]
         },
         "layout": {
          "annotationdefaults": {
           "arrowcolor": "#2a3f5f",
           "arrowhead": 0,
           "arrowwidth": 1
          },
          "autotypenumbers": "strict",
          "coloraxis": {
           "colorbar": {
            "outlinewidth": 0,
            "ticks": ""
           }
          },
          "colorscale": {
           "diverging": [
            [
             0,
             "#8e0152"
            ],
            [
             0.1,
             "#c51b7d"
            ],
            [
             0.2,
             "#de77ae"
            ],
            [
             0.3,
             "#f1b6da"
            ],
            [
             0.4,
             "#fde0ef"
            ],
            [
             0.5,
             "#f7f7f7"
            ],
            [
             0.6,
             "#e6f5d0"
            ],
            [
             0.7,
             "#b8e186"
            ],
            [
             0.8,
             "#7fbc41"
            ],
            [
             0.9,
             "#4d9221"
            ],
            [
             1,
             "#276419"
            ]
           ],
           "sequential": [
            [
             0,
             "#0d0887"
            ],
            [
             0.1111111111111111,
             "#46039f"
            ],
            [
             0.2222222222222222,
             "#7201a8"
            ],
            [
             0.3333333333333333,
             "#9c179e"
            ],
            [
             0.4444444444444444,
             "#bd3786"
            ],
            [
             0.5555555555555556,
             "#d8576b"
            ],
            [
             0.6666666666666666,
             "#ed7953"
            ],
            [
             0.7777777777777778,
             "#fb9f3a"
            ],
            [
             0.8888888888888888,
             "#fdca26"
            ],
            [
             1,
             "#f0f921"
            ]
           ],
           "sequentialminus": [
            [
             0,
             "#0d0887"
            ],
            [
             0.1111111111111111,
             "#46039f"
            ],
            [
             0.2222222222222222,
             "#7201a8"
            ],
            [
             0.3333333333333333,
             "#9c179e"
            ],
            [
             0.4444444444444444,
             "#bd3786"
            ],
            [
             0.5555555555555556,
             "#d8576b"
            ],
            [
             0.6666666666666666,
             "#ed7953"
            ],
            [
             0.7777777777777778,
             "#fb9f3a"
            ],
            [
             0.8888888888888888,
             "#fdca26"
            ],
            [
             1,
             "#f0f921"
            ]
           ]
          },
          "colorway": [
           "#636efa",
           "#EF553B",
           "#00cc96",
           "#ab63fa",
           "#FFA15A",
           "#19d3f3",
           "#FF6692",
           "#B6E880",
           "#FF97FF",
           "#FECB52"
          ],
          "font": {
           "color": "#2a3f5f"
          },
          "geo": {
           "bgcolor": "white",
           "lakecolor": "white",
           "landcolor": "#E5ECF6",
           "showlakes": true,
           "showland": true,
           "subunitcolor": "white"
          },
          "hoverlabel": {
           "align": "left"
          },
          "hovermode": "closest",
          "mapbox": {
           "style": "light"
          },
          "paper_bgcolor": "white",
          "plot_bgcolor": "#E5ECF6",
          "polar": {
           "angularaxis": {
            "gridcolor": "white",
            "linecolor": "white",
            "ticks": ""
           },
           "bgcolor": "#E5ECF6",
           "radialaxis": {
            "gridcolor": "white",
            "linecolor": "white",
            "ticks": ""
           }
          },
          "scene": {
           "xaxis": {
            "backgroundcolor": "#E5ECF6",
            "gridcolor": "white",
            "gridwidth": 2,
            "linecolor": "white",
            "showbackground": true,
            "ticks": "",
            "zerolinecolor": "white"
           },
           "yaxis": {
            "backgroundcolor": "#E5ECF6",
            "gridcolor": "white",
            "gridwidth": 2,
            "linecolor": "white",
            "showbackground": true,
            "ticks": "",
            "zerolinecolor": "white"
           },
           "zaxis": {
            "backgroundcolor": "#E5ECF6",
            "gridcolor": "white",
            "gridwidth": 2,
            "linecolor": "white",
            "showbackground": true,
            "ticks": "",
            "zerolinecolor": "white"
           }
          },
          "shapedefaults": {
           "line": {
            "color": "#2a3f5f"
           }
          },
          "ternary": {
           "aaxis": {
            "gridcolor": "white",
            "linecolor": "white",
            "ticks": ""
           },
           "baxis": {
            "gridcolor": "white",
            "linecolor": "white",
            "ticks": ""
           },
           "bgcolor": "#E5ECF6",
           "caxis": {
            "gridcolor": "white",
            "linecolor": "white",
            "ticks": ""
           }
          },
          "title": {
           "x": 0.05
          },
          "xaxis": {
           "automargin": true,
           "gridcolor": "white",
           "linecolor": "white",
           "ticks": "",
           "title": {
            "standoff": 15
           },
           "zerolinecolor": "white",
           "zerolinewidth": 2
          },
          "yaxis": {
           "automargin": true,
           "gridcolor": "white",
           "linecolor": "white",
           "ticks": "",
           "title": {
            "standoff": 15
           },
           "zerolinecolor": "white",
           "zerolinewidth": 2
          }
         }
        },
        "title": {
         "text": "Proyección de Jugadores"
        },
        "width": 800,
        "xaxis": {
         "anchor": "y",
         "domain": [
          0,
          1
         ],
         "title": {
          "text": "Experiencia del jugador"
         }
        },
        "yaxis": {
         "anchor": "x",
         "domain": [
          0,
          1
         ],
         "title": {
          "text": "Talla del jugador"
         }
        }
       }
      }
     },
     "metadata": {},
     "output_type": "display_data"
    }
   ],
   "source": [
    "plot_FA(f_scores_varimax_LS,'F1','F3',['Experiencia del jugador','Talla del jugador'],'Player','Pos','Position')"
   ]
  },
  {
   "cell_type": "code",
   "execution_count": 154,
   "metadata": {},
   "outputs": [
    {
     "data": {
      "application/vnd.plotly.v1+json": {
       "config": {
        "plotlyServerURL": "https://plot.ly"
       },
       "data": [
        {
         "customdata": [
          [
           "Jayson Tatum",
           "BOS",
           "F-G",
           26,
           2.03,
           95,
           26.9,
           8.1,
           4.9,
           15.5
          ],
          [
           "Jaylen Brown",
           "BOS",
           "F",
           27,
           1.98,
           101,
           23,
           5.5,
           3.6,
           11.6
          ],
          [
           "Derrick White",
           "BOS",
           "G",
           29,
           1.93,
           86,
           15.2,
           4.2,
           5.2,
           10.6
          ],
          [
           "Jrue Holiday",
           "BOS",
           "G",
           33,
           1.93,
           93,
           12.5,
           5.4,
           4.8,
           9.9
          ],
          [
           "Al Horford",
           "BOS",
           "C-F",
           38,
           2.06,
           109,
           8.6,
           6.4,
           2.6,
           10.5
          ],
          [
           "Payton Pritchard",
           "BOS",
           "G",
           26,
           1.85,
           88,
           9.6,
           3.2,
           3.4,
           10.3
          ],
          [
           "Sam Hauser",
           "BOS",
           "F",
           26,
           2.01,
           98,
           9,
           3.5,
           1,
           8.6
          ],
          [
           "Kristaps Porzingis",
           "BOS",
           "F-C",
           28,
           2.18,
           109,
           20.1,
           7.2,
           2,
           13.8
          ],
          [
           "Luke Kornet",
           "BOS",
           "C-F",
           28,
           2.16,
           113,
           5.3,
           4.1,
           1.1,
           11.3
          ],
          [
           "Oshae Brissett",
           "BOS",
           "F-G",
           25,
           2.01,
           95,
           3.7,
           2.9,
           0.8,
           7.6
          ],
          [
           "Xavier Tillman",
           "BOS",
           "F",
           25,
           2.01,
           111,
           5.3,
           3.9,
           1.4,
           7.8
          ],
          [
           "Jaden Springer",
           "BOS",
           "G",
           21,
           1.93,
           92,
           3.3,
           1.6,
           0.9,
           5.5
          ],
          [
           "Svi Mykhailiuk",
           "BOS",
           "G-F",
           26,
           2.01,
           93,
           4,
           1.2,
           0.9,
           7.7
          ],
          [
           "Jordan Walsh",
           "BOS",
           "G",
           20,
           1.98,
           93,
           1.7,
           2.2,
           0.6,
           5.8
          ],
          [
           "Neemias Queta",
           "BOS",
           "C",
           24,
           2.13,
           112,
           5.5,
           4.4,
           0.7,
           12.3
          ]
         ],
         "hovertemplate": "<b style='font-size:16px; color:#000000;'> %{customdata[0]}</b><br>Team: %{customdata[1]}<br>Position: %{customdata[2]}<br>Age: %{customdata[3]} years<br>Height: %{customdata[4]} m<br>Weight: %{customdata[5]} kg<br>PPG: %{customdata[6]}<br>RPG: %{customdata[7]}<br>APG: %{customdata[8]}<br>PIE: %{customdata[9]}<br><extra></extra>",
         "legendgroup": "BOS",
         "marker": {
          "color": "#636efa",
          "size": 20,
          "symbol": "circle"
         },
         "mode": "markers+text",
         "name": "BOS",
         "orientation": "v",
         "showlegend": true,
         "text": [
          "Jayson Tatum",
          "Jaylen Brown",
          "Derrick White",
          "Jrue Holiday",
          "Al Horford",
          "Payton Pritchard",
          "Sam Hauser",
          "Kristaps Porzingis",
          "Luke Kornet",
          "Oshae Brissett",
          "Xavier Tillman",
          "Jaden Springer",
          "Svi Mykhailiuk",
          "Jordan Walsh",
          "Neemias Queta"
         ],
         "textfont": {
          "size": 14
         },
         "textposition": "bottom center",
         "type": "scatter",
         "x": [
          2.0140620185738753,
          1.0314829819002322,
          0.5716169227828655,
          0.2883404602722436,
          -0.2523857616526491,
          0.08752326816438445,
          -0.4070929195879227,
          0.9498577808475879,
          -0.4265268156222929,
          -0.8121281738166484,
          -0.5407066750643976,
          -0.9588118801260379,
          -0.9935669283682771,
          -0.9629736412130885,
          -0.1829366870655057
         ],
         "xaxis": "x",
         "y": [
          -0.18504662741586858,
          0.30669254840931276,
          1.1377732965430927,
          0.9029731696836315,
          -0.9044445873719712,
          1.8030300095521257,
          -0.036370902574330906,
          -2.0186595346513445,
          -1.844410035406464,
          0.040077005665556276,
          -0.2683850624641648,
          1.017043831774288,
          0.18482579948581046,
          0.44747939742397447,
          -1.5723857570605348
         ],
         "yaxis": "y"
        },
        {
         "customdata": [
          [
           "Luka Doncic",
           "DAL",
           "F-G",
           25,
           2.01,
           104,
           33.9,
           9.2,
           9.8,
           20
          ],
          [
           "Kyrie Irving",
           "DAL",
           "G",
           32,
           1.88,
           88,
           25.6,
           5,
           5.2,
           14.4
          ],
          [
           "P.J. Washington",
           "DAL",
           "F",
           25,
           2.01,
           104,
           12.9,
           5.6,
           1.9,
           7.9
          ],
          [
           "Derrick Jones Jr.",
           "DAL",
           "F",
           27,
           1.98,
           95,
           8.6,
           3.3,
           1,
           6.8
          ],
          [
           "Daniel Gafford",
           "DAL",
           "F-C",
           25,
           2.08,
           106,
           11,
           7.6,
           1.6,
           12.1
          ],
          [
           "Dereck Lively II",
           "DAL",
           "C",
           20,
           2.16,
           104,
           8.8,
           6.9,
           1.1,
           10.2
          ],
          [
           "Josh Green",
           "DAL",
           "G",
           23,
           1.96,
           91,
           8.2,
           3.2,
           2.3,
           6.3
          ],
          [
           "Jaden Hardy",
           "DAL",
           "G",
           21,
           1.91,
           90,
           7.3,
           1.8,
           1.5,
           8.1
          ],
          [
           "Tim Hardaway Jr.",
           "DAL",
           "G-F",
           32,
           1.96,
           93,
           14.4,
           3.2,
           1.8,
           8.3
          ],
          [
           "Maxi Kleber",
           "DAL",
           "F",
           32,
           2.08,
           109,
           4.4,
           3.3,
           1.6,
           5.7
          ],
          [
           "Dante Exum",
           "DAL",
           "G",
           28,
           1.96,
           97,
           7.8,
           2.7,
           2.9,
           9.3
          ],
          [
           "A.J. Lawson",
           "DAL",
           "G",
           23,
           1.98,
           81,
           3.2,
           1.2,
           0.5,
           7.6
          ],
          [
           "Dwight Powell",
           "DAL",
           "F-C",
           32,
           2.08,
           109,
           3.3,
           3.4,
           1.3,
           7.9
          ]
         ],
         "hovertemplate": "<b style='font-size:16px; color:#000000;'> %{customdata[0]}</b><br>Team: %{customdata[1]}<br>Position: %{customdata[2]}<br>Age: %{customdata[3]} years<br>Height: %{customdata[4]} m<br>Weight: %{customdata[5]} kg<br>PPG: %{customdata[6]}<br>RPG: %{customdata[7]}<br>APG: %{customdata[8]}<br>PIE: %{customdata[9]}<br><extra></extra>",
         "legendgroup": "DAL",
         "marker": {
          "color": "#EF553B",
          "size": 20,
          "symbol": "circle"
         },
         "mode": "markers+text",
         "name": "DAL",
         "orientation": "v",
         "showlegend": true,
         "text": [
          "Luka Doncic",
          "Kyrie Irving",
          "P.J. Washington",
          "Derrick Jones Jr.",
          "Daniel Gafford",
          "Dereck Lively II",
          "Josh Green",
          "Jaden Hardy",
          "Tim Hardaway Jr.",
          "Maxi Kleber",
          "Dante Exum",
          "A.J. Lawson",
          "Dwight Powell"
         ],
         "textfont": {
          "size": 14
         },
         "textposition": "bottom center",
         "type": "scatter",
         "x": [
          3.5002195053036216,
          1.3915628994417863,
          0.08493136610730734,
          -0.639795054015679,
          0.4991425673187983,
          0.2533304945200033,
          -0.3928280576956869,
          -0.4327045291872179,
          -0.31521019484454976,
          -1.0866377783109764,
          -0.324102838323078,
          -0.956818763158667,
          -0.9868435671800307
         ],
         "xaxis": "x",
         "y": [
          0.042967284750253326,
          1.554409196257591,
          -0.15370043180807438,
          0.3628970833258698,
          -1.0922341384616263,
          -1.750967110771012,
          0.7348928614794275,
          1.2478583453203649,
          0.6207712179439857,
          -0.8933625878224865,
          0.5940790867336365,
          0.6675190680613964,
          -0.9453224266024909
         ],
         "yaxis": "y"
        }
       ],
       "layout": {
        "font": {
         "family": "Courier New, monospace",
         "size": 18
        },
        "height": 700,
        "legend": {
         "title": {
          "text": "Team"
         },
         "tracegroupgap": 0
        },
        "margin": {
         "t": 60
        },
        "template": {
         "data": {
          "bar": [
           {
            "error_x": {
             "color": "#2a3f5f"
            },
            "error_y": {
             "color": "#2a3f5f"
            },
            "marker": {
             "line": {
              "color": "#E5ECF6",
              "width": 0.5
             },
             "pattern": {
              "fillmode": "overlay",
              "size": 10,
              "solidity": 0.2
             }
            },
            "type": "bar"
           }
          ],
          "barpolar": [
           {
            "marker": {
             "line": {
              "color": "#E5ECF6",
              "width": 0.5
             },
             "pattern": {
              "fillmode": "overlay",
              "size": 10,
              "solidity": 0.2
             }
            },
            "type": "barpolar"
           }
          ],
          "carpet": [
           {
            "aaxis": {
             "endlinecolor": "#2a3f5f",
             "gridcolor": "white",
             "linecolor": "white",
             "minorgridcolor": "white",
             "startlinecolor": "#2a3f5f"
            },
            "baxis": {
             "endlinecolor": "#2a3f5f",
             "gridcolor": "white",
             "linecolor": "white",
             "minorgridcolor": "white",
             "startlinecolor": "#2a3f5f"
            },
            "type": "carpet"
           }
          ],
          "choropleth": [
           {
            "colorbar": {
             "outlinewidth": 0,
             "ticks": ""
            },
            "type": "choropleth"
           }
          ],
          "contour": [
           {
            "colorbar": {
             "outlinewidth": 0,
             "ticks": ""
            },
            "colorscale": [
             [
              0,
              "#0d0887"
             ],
             [
              0.1111111111111111,
              "#46039f"
             ],
             [
              0.2222222222222222,
              "#7201a8"
             ],
             [
              0.3333333333333333,
              "#9c179e"
             ],
             [
              0.4444444444444444,
              "#bd3786"
             ],
             [
              0.5555555555555556,
              "#d8576b"
             ],
             [
              0.6666666666666666,
              "#ed7953"
             ],
             [
              0.7777777777777778,
              "#fb9f3a"
             ],
             [
              0.8888888888888888,
              "#fdca26"
             ],
             [
              1,
              "#f0f921"
             ]
            ],
            "type": "contour"
           }
          ],
          "contourcarpet": [
           {
            "colorbar": {
             "outlinewidth": 0,
             "ticks": ""
            },
            "type": "contourcarpet"
           }
          ],
          "heatmap": [
           {
            "colorbar": {
             "outlinewidth": 0,
             "ticks": ""
            },
            "colorscale": [
             [
              0,
              "#0d0887"
             ],
             [
              0.1111111111111111,
              "#46039f"
             ],
             [
              0.2222222222222222,
              "#7201a8"
             ],
             [
              0.3333333333333333,
              "#9c179e"
             ],
             [
              0.4444444444444444,
              "#bd3786"
             ],
             [
              0.5555555555555556,
              "#d8576b"
             ],
             [
              0.6666666666666666,
              "#ed7953"
             ],
             [
              0.7777777777777778,
              "#fb9f3a"
             ],
             [
              0.8888888888888888,
              "#fdca26"
             ],
             [
              1,
              "#f0f921"
             ]
            ],
            "type": "heatmap"
           }
          ],
          "heatmapgl": [
           {
            "colorbar": {
             "outlinewidth": 0,
             "ticks": ""
            },
            "colorscale": [
             [
              0,
              "#0d0887"
             ],
             [
              0.1111111111111111,
              "#46039f"
             ],
             [
              0.2222222222222222,
              "#7201a8"
             ],
             [
              0.3333333333333333,
              "#9c179e"
             ],
             [
              0.4444444444444444,
              "#bd3786"
             ],
             [
              0.5555555555555556,
              "#d8576b"
             ],
             [
              0.6666666666666666,
              "#ed7953"
             ],
             [
              0.7777777777777778,
              "#fb9f3a"
             ],
             [
              0.8888888888888888,
              "#fdca26"
             ],
             [
              1,
              "#f0f921"
             ]
            ],
            "type": "heatmapgl"
           }
          ],
          "histogram": [
           {
            "marker": {
             "pattern": {
              "fillmode": "overlay",
              "size": 10,
              "solidity": 0.2
             }
            },
            "type": "histogram"
           }
          ],
          "histogram2d": [
           {
            "colorbar": {
             "outlinewidth": 0,
             "ticks": ""
            },
            "colorscale": [
             [
              0,
              "#0d0887"
             ],
             [
              0.1111111111111111,
              "#46039f"
             ],
             [
              0.2222222222222222,
              "#7201a8"
             ],
             [
              0.3333333333333333,
              "#9c179e"
             ],
             [
              0.4444444444444444,
              "#bd3786"
             ],
             [
              0.5555555555555556,
              "#d8576b"
             ],
             [
              0.6666666666666666,
              "#ed7953"
             ],
             [
              0.7777777777777778,
              "#fb9f3a"
             ],
             [
              0.8888888888888888,
              "#fdca26"
             ],
             [
              1,
              "#f0f921"
             ]
            ],
            "type": "histogram2d"
           }
          ],
          "histogram2dcontour": [
           {
            "colorbar": {
             "outlinewidth": 0,
             "ticks": ""
            },
            "colorscale": [
             [
              0,
              "#0d0887"
             ],
             [
              0.1111111111111111,
              "#46039f"
             ],
             [
              0.2222222222222222,
              "#7201a8"
             ],
             [
              0.3333333333333333,
              "#9c179e"
             ],
             [
              0.4444444444444444,
              "#bd3786"
             ],
             [
              0.5555555555555556,
              "#d8576b"
             ],
             [
              0.6666666666666666,
              "#ed7953"
             ],
             [
              0.7777777777777778,
              "#fb9f3a"
             ],
             [
              0.8888888888888888,
              "#fdca26"
             ],
             [
              1,
              "#f0f921"
             ]
            ],
            "type": "histogram2dcontour"
           }
          ],
          "mesh3d": [
           {
            "colorbar": {
             "outlinewidth": 0,
             "ticks": ""
            },
            "type": "mesh3d"
           }
          ],
          "parcoords": [
           {
            "line": {
             "colorbar": {
              "outlinewidth": 0,
              "ticks": ""
             }
            },
            "type": "parcoords"
           }
          ],
          "pie": [
           {
            "automargin": true,
            "type": "pie"
           }
          ],
          "scatter": [
           {
            "fillpattern": {
             "fillmode": "overlay",
             "size": 10,
             "solidity": 0.2
            },
            "type": "scatter"
           }
          ],
          "scatter3d": [
           {
            "line": {
             "colorbar": {
              "outlinewidth": 0,
              "ticks": ""
             }
            },
            "marker": {
             "colorbar": {
              "outlinewidth": 0,
              "ticks": ""
             }
            },
            "type": "scatter3d"
           }
          ],
          "scattercarpet": [
           {
            "marker": {
             "colorbar": {
              "outlinewidth": 0,
              "ticks": ""
             }
            },
            "type": "scattercarpet"
           }
          ],
          "scattergeo": [
           {
            "marker": {
             "colorbar": {
              "outlinewidth": 0,
              "ticks": ""
             }
            },
            "type": "scattergeo"
           }
          ],
          "scattergl": [
           {
            "marker": {
             "colorbar": {
              "outlinewidth": 0,
              "ticks": ""
             }
            },
            "type": "scattergl"
           }
          ],
          "scattermapbox": [
           {
            "marker": {
             "colorbar": {
              "outlinewidth": 0,
              "ticks": ""
             }
            },
            "type": "scattermapbox"
           }
          ],
          "scatterpolar": [
           {
            "marker": {
             "colorbar": {
              "outlinewidth": 0,
              "ticks": ""
             }
            },
            "type": "scatterpolar"
           }
          ],
          "scatterpolargl": [
           {
            "marker": {
             "colorbar": {
              "outlinewidth": 0,
              "ticks": ""
             }
            },
            "type": "scatterpolargl"
           }
          ],
          "scatterternary": [
           {
            "marker": {
             "colorbar": {
              "outlinewidth": 0,
              "ticks": ""
             }
            },
            "type": "scatterternary"
           }
          ],
          "surface": [
           {
            "colorbar": {
             "outlinewidth": 0,
             "ticks": ""
            },
            "colorscale": [
             [
              0,
              "#0d0887"
             ],
             [
              0.1111111111111111,
              "#46039f"
             ],
             [
              0.2222222222222222,
              "#7201a8"
             ],
             [
              0.3333333333333333,
              "#9c179e"
             ],
             [
              0.4444444444444444,
              "#bd3786"
             ],
             [
              0.5555555555555556,
              "#d8576b"
             ],
             [
              0.6666666666666666,
              "#ed7953"
             ],
             [
              0.7777777777777778,
              "#fb9f3a"
             ],
             [
              0.8888888888888888,
              "#fdca26"
             ],
             [
              1,
              "#f0f921"
             ]
            ],
            "type": "surface"
           }
          ],
          "table": [
           {
            "cells": {
             "fill": {
              "color": "#EBF0F8"
             },
             "line": {
              "color": "white"
             }
            },
            "header": {
             "fill": {
              "color": "#C8D4E3"
             },
             "line": {
              "color": "white"
             }
            },
            "type": "table"
           }
          ]
         },
         "layout": {
          "annotationdefaults": {
           "arrowcolor": "#2a3f5f",
           "arrowhead": 0,
           "arrowwidth": 1
          },
          "autotypenumbers": "strict",
          "coloraxis": {
           "colorbar": {
            "outlinewidth": 0,
            "ticks": ""
           }
          },
          "colorscale": {
           "diverging": [
            [
             0,
             "#8e0152"
            ],
            [
             0.1,
             "#c51b7d"
            ],
            [
             0.2,
             "#de77ae"
            ],
            [
             0.3,
             "#f1b6da"
            ],
            [
             0.4,
             "#fde0ef"
            ],
            [
             0.5,
             "#f7f7f7"
            ],
            [
             0.6,
             "#e6f5d0"
            ],
            [
             0.7,
             "#b8e186"
            ],
            [
             0.8,
             "#7fbc41"
            ],
            [
             0.9,
             "#4d9221"
            ],
            [
             1,
             "#276419"
            ]
           ],
           "sequential": [
            [
             0,
             "#0d0887"
            ],
            [
             0.1111111111111111,
             "#46039f"
            ],
            [
             0.2222222222222222,
             "#7201a8"
            ],
            [
             0.3333333333333333,
             "#9c179e"
            ],
            [
             0.4444444444444444,
             "#bd3786"
            ],
            [
             0.5555555555555556,
             "#d8576b"
            ],
            [
             0.6666666666666666,
             "#ed7953"
            ],
            [
             0.7777777777777778,
             "#fb9f3a"
            ],
            [
             0.8888888888888888,
             "#fdca26"
            ],
            [
             1,
             "#f0f921"
            ]
           ],
           "sequentialminus": [
            [
             0,
             "#0d0887"
            ],
            [
             0.1111111111111111,
             "#46039f"
            ],
            [
             0.2222222222222222,
             "#7201a8"
            ],
            [
             0.3333333333333333,
             "#9c179e"
            ],
            [
             0.4444444444444444,
             "#bd3786"
            ],
            [
             0.5555555555555556,
             "#d8576b"
            ],
            [
             0.6666666666666666,
             "#ed7953"
            ],
            [
             0.7777777777777778,
             "#fb9f3a"
            ],
            [
             0.8888888888888888,
             "#fdca26"
            ],
            [
             1,
             "#f0f921"
            ]
           ]
          },
          "colorway": [
           "#636efa",
           "#EF553B",
           "#00cc96",
           "#ab63fa",
           "#FFA15A",
           "#19d3f3",
           "#FF6692",
           "#B6E880",
           "#FF97FF",
           "#FECB52"
          ],
          "font": {
           "color": "#2a3f5f"
          },
          "geo": {
           "bgcolor": "white",
           "lakecolor": "white",
           "landcolor": "#E5ECF6",
           "showlakes": true,
           "showland": true,
           "subunitcolor": "white"
          },
          "hoverlabel": {
           "align": "left"
          },
          "hovermode": "closest",
          "mapbox": {
           "style": "light"
          },
          "paper_bgcolor": "white",
          "plot_bgcolor": "#E5ECF6",
          "polar": {
           "angularaxis": {
            "gridcolor": "white",
            "linecolor": "white",
            "ticks": ""
           },
           "bgcolor": "#E5ECF6",
           "radialaxis": {
            "gridcolor": "white",
            "linecolor": "white",
            "ticks": ""
           }
          },
          "scene": {
           "xaxis": {
            "backgroundcolor": "#E5ECF6",
            "gridcolor": "white",
            "gridwidth": 2,
            "linecolor": "white",
            "showbackground": true,
            "ticks": "",
            "zerolinecolor": "white"
           },
           "yaxis": {
            "backgroundcolor": "#E5ECF6",
            "gridcolor": "white",
            "gridwidth": 2,
            "linecolor": "white",
            "showbackground": true,
            "ticks": "",
            "zerolinecolor": "white"
           },
           "zaxis": {
            "backgroundcolor": "#E5ECF6",
            "gridcolor": "white",
            "gridwidth": 2,
            "linecolor": "white",
            "showbackground": true,
            "ticks": "",
            "zerolinecolor": "white"
           }
          },
          "shapedefaults": {
           "line": {
            "color": "#2a3f5f"
           }
          },
          "ternary": {
           "aaxis": {
            "gridcolor": "white",
            "linecolor": "white",
            "ticks": ""
           },
           "baxis": {
            "gridcolor": "white",
            "linecolor": "white",
            "ticks": ""
           },
           "bgcolor": "#E5ECF6",
           "caxis": {
            "gridcolor": "white",
            "linecolor": "white",
            "ticks": ""
           }
          },
          "title": {
           "x": 0.05
          },
          "xaxis": {
           "automargin": true,
           "gridcolor": "white",
           "linecolor": "white",
           "ticks": "",
           "title": {
            "standoff": 15
           },
           "zerolinecolor": "white",
           "zerolinewidth": 2
          },
          "yaxis": {
           "automargin": true,
           "gridcolor": "white",
           "linecolor": "white",
           "ticks": "",
           "title": {
            "standoff": 15
           },
           "zerolinecolor": "white",
           "zerolinewidth": 2
          }
         }
        },
        "title": {
         "text": "Proyección de Jugadores"
        },
        "width": 800,
        "xaxis": {
         "anchor": "y",
         "domain": [
          0,
          1
         ],
         "title": {
          "text": "Desempeño en la cancha"
         }
        },
        "yaxis": {
         "anchor": "x",
         "domain": [
          0,
          1
         ],
         "title": {
          "text": "Talla del jugador"
         }
        }
       }
      }
     },
     "metadata": {},
     "output_type": "display_data"
    }
   ],
   "source": [
    "plot_FA(f_scores_varimax_LS,'F2','F3',['Desempeño en la cancha','Talla del jugador'],'Player','Team','Team')"
   ]
  },
  {
   "cell_type": "code",
   "execution_count": 155,
   "metadata": {},
   "outputs": [
    {
     "data": {
      "application/vnd.plotly.v1+json": {
       "config": {
        "plotlyServerURL": "https://plot.ly"
       },
       "data": [
        {
         "customdata": [
          [
           "Jayson Tatum",
           "BOS",
           "F-G",
           26,
           2.03,
           95,
           26.9,
           8.1,
           4.9,
           15.5
          ],
          [
           "Oshae Brissett",
           "BOS",
           "F-G",
           25,
           2.01,
           95,
           3.7,
           2.9,
           0.8,
           7.6
          ],
          [
           "Luka Doncic",
           "DAL",
           "F-G",
           25,
           2.01,
           104,
           33.9,
           9.2,
           9.8,
           20
          ]
         ],
         "hovertemplate": "<b style='font-size:16px; color:#000000;'> %{customdata[0]}</b><br>Team: %{customdata[1]}<br>Position: %{customdata[2]}<br>Age: %{customdata[3]} years<br>Height: %{customdata[4]} m<br>Weight: %{customdata[5]} kg<br>PPG: %{customdata[6]}<br>RPG: %{customdata[7]}<br>APG: %{customdata[8]}<br>PIE: %{customdata[9]}<br><extra></extra>",
         "legendgroup": "F-G",
         "marker": {
          "color": "#636efa",
          "size": 20,
          "symbol": "circle"
         },
         "mode": "markers+text",
         "name": "F-G",
         "orientation": "v",
         "showlegend": true,
         "text": [
          "Jayson Tatum",
          "Oshae Brissett",
          "Luka Doncic"
         ],
         "textfont": {
          "size": 14
         },
         "textposition": "bottom center",
         "type": "scatter",
         "x": [
          2.0140620185738753,
          -0.8121281738166484,
          3.5002195053036216
         ],
         "xaxis": "x",
         "y": [
          -0.18504662741586858,
          0.040077005665556276,
          0.042967284750253326
         ],
         "yaxis": "y"
        },
        {
         "customdata": [
          [
           "Jaylen Brown",
           "BOS",
           "F",
           27,
           1.98,
           101,
           23,
           5.5,
           3.6,
           11.6
          ],
          [
           "Sam Hauser",
           "BOS",
           "F",
           26,
           2.01,
           98,
           9,
           3.5,
           1,
           8.6
          ],
          [
           "Xavier Tillman",
           "BOS",
           "F",
           25,
           2.01,
           111,
           5.3,
           3.9,
           1.4,
           7.8
          ],
          [
           "P.J. Washington",
           "DAL",
           "F",
           25,
           2.01,
           104,
           12.9,
           5.6,
           1.9,
           7.9
          ],
          [
           "Derrick Jones Jr.",
           "DAL",
           "F",
           27,
           1.98,
           95,
           8.6,
           3.3,
           1,
           6.8
          ],
          [
           "Maxi Kleber",
           "DAL",
           "F",
           32,
           2.08,
           109,
           4.4,
           3.3,
           1.6,
           5.7
          ]
         ],
         "hovertemplate": "<b style='font-size:16px; color:#000000;'> %{customdata[0]}</b><br>Team: %{customdata[1]}<br>Position: %{customdata[2]}<br>Age: %{customdata[3]} years<br>Height: %{customdata[4]} m<br>Weight: %{customdata[5]} kg<br>PPG: %{customdata[6]}<br>RPG: %{customdata[7]}<br>APG: %{customdata[8]}<br>PIE: %{customdata[9]}<br><extra></extra>",
         "legendgroup": "F",
         "marker": {
          "color": "#EF553B",
          "size": 20,
          "symbol": "circle"
         },
         "mode": "markers+text",
         "name": "F",
         "orientation": "v",
         "showlegend": true,
         "text": [
          "Jaylen Brown",
          "Sam Hauser",
          "Xavier Tillman",
          "P.J. Washington",
          "Derrick Jones Jr.",
          "Maxi Kleber"
         ],
         "textfont": {
          "size": 14
         },
         "textposition": "bottom center",
         "type": "scatter",
         "x": [
          1.0314829819002322,
          -0.4070929195879227,
          -0.5407066750643976,
          0.08493136610730734,
          -0.639795054015679,
          -1.0866377783109764
         ],
         "xaxis": "x",
         "y": [
          0.30669254840931276,
          -0.036370902574330906,
          -0.2683850624641648,
          -0.15370043180807438,
          0.3628970833258698,
          -0.8933625878224865
         ],
         "yaxis": "y"
        },
        {
         "customdata": [
          [
           "Derrick White",
           "BOS",
           "G",
           29,
           1.93,
           86,
           15.2,
           4.2,
           5.2,
           10.6
          ],
          [
           "Jrue Holiday",
           "BOS",
           "G",
           33,
           1.93,
           93,
           12.5,
           5.4,
           4.8,
           9.9
          ],
          [
           "Payton Pritchard",
           "BOS",
           "G",
           26,
           1.85,
           88,
           9.6,
           3.2,
           3.4,
           10.3
          ],
          [
           "Jaden Springer",
           "BOS",
           "G",
           21,
           1.93,
           92,
           3.3,
           1.6,
           0.9,
           5.5
          ],
          [
           "Jordan Walsh",
           "BOS",
           "G",
           20,
           1.98,
           93,
           1.7,
           2.2,
           0.6,
           5.8
          ],
          [
           "Kyrie Irving",
           "DAL",
           "G",
           32,
           1.88,
           88,
           25.6,
           5,
           5.2,
           14.4
          ],
          [
           "Josh Green",
           "DAL",
           "G",
           23,
           1.96,
           91,
           8.2,
           3.2,
           2.3,
           6.3
          ],
          [
           "Jaden Hardy",
           "DAL",
           "G",
           21,
           1.91,
           90,
           7.3,
           1.8,
           1.5,
           8.1
          ],
          [
           "Dante Exum",
           "DAL",
           "G",
           28,
           1.96,
           97,
           7.8,
           2.7,
           2.9,
           9.3
          ],
          [
           "A.J. Lawson",
           "DAL",
           "G",
           23,
           1.98,
           81,
           3.2,
           1.2,
           0.5,
           7.6
          ]
         ],
         "hovertemplate": "<b style='font-size:16px; color:#000000;'> %{customdata[0]}</b><br>Team: %{customdata[1]}<br>Position: %{customdata[2]}<br>Age: %{customdata[3]} years<br>Height: %{customdata[4]} m<br>Weight: %{customdata[5]} kg<br>PPG: %{customdata[6]}<br>RPG: %{customdata[7]}<br>APG: %{customdata[8]}<br>PIE: %{customdata[9]}<br><extra></extra>",
         "legendgroup": "G",
         "marker": {
          "color": "#00cc96",
          "size": 20,
          "symbol": "circle"
         },
         "mode": "markers+text",
         "name": "G",
         "orientation": "v",
         "showlegend": true,
         "text": [
          "Derrick White",
          "Jrue Holiday",
          "Payton Pritchard",
          "Jaden Springer",
          "Jordan Walsh",
          "Kyrie Irving",
          "Josh Green",
          "Jaden Hardy",
          "Dante Exum",
          "A.J. Lawson"
         ],
         "textfont": {
          "size": 14
         },
         "textposition": "bottom center",
         "type": "scatter",
         "x": [
          0.5716169227828655,
          0.2883404602722436,
          0.08752326816438445,
          -0.9588118801260379,
          -0.9629736412130885,
          1.3915628994417863,
          -0.3928280576956869,
          -0.4327045291872179,
          -0.324102838323078,
          -0.956818763158667
         ],
         "xaxis": "x",
         "y": [
          1.1377732965430927,
          0.9029731696836315,
          1.8030300095521257,
          1.017043831774288,
          0.44747939742397447,
          1.554409196257591,
          0.7348928614794275,
          1.2478583453203649,
          0.5940790867336365,
          0.6675190680613964
         ],
         "yaxis": "y"
        },
        {
         "customdata": [
          [
           "Al Horford",
           "BOS",
           "C-F",
           38,
           2.06,
           109,
           8.6,
           6.4,
           2.6,
           10.5
          ],
          [
           "Luke Kornet",
           "BOS",
           "C-F",
           28,
           2.16,
           113,
           5.3,
           4.1,
           1.1,
           11.3
          ]
         ],
         "hovertemplate": "<b style='font-size:16px; color:#000000;'> %{customdata[0]}</b><br>Team: %{customdata[1]}<br>Position: %{customdata[2]}<br>Age: %{customdata[3]} years<br>Height: %{customdata[4]} m<br>Weight: %{customdata[5]} kg<br>PPG: %{customdata[6]}<br>RPG: %{customdata[7]}<br>APG: %{customdata[8]}<br>PIE: %{customdata[9]}<br><extra></extra>",
         "legendgroup": "C-F",
         "marker": {
          "color": "#ab63fa",
          "size": 20,
          "symbol": "circle"
         },
         "mode": "markers+text",
         "name": "C-F",
         "orientation": "v",
         "showlegend": true,
         "text": [
          "Al Horford",
          "Luke Kornet"
         ],
         "textfont": {
          "size": 14
         },
         "textposition": "bottom center",
         "type": "scatter",
         "x": [
          -0.2523857616526491,
          -0.4265268156222929
         ],
         "xaxis": "x",
         "y": [
          -0.9044445873719712,
          -1.844410035406464
         ],
         "yaxis": "y"
        },
        {
         "customdata": [
          [
           "Kristaps Porzingis",
           "BOS",
           "F-C",
           28,
           2.18,
           109,
           20.1,
           7.2,
           2,
           13.8
          ],
          [
           "Daniel Gafford",
           "DAL",
           "F-C",
           25,
           2.08,
           106,
           11,
           7.6,
           1.6,
           12.1
          ],
          [
           "Dwight Powell",
           "DAL",
           "F-C",
           32,
           2.08,
           109,
           3.3,
           3.4,
           1.3,
           7.9
          ]
         ],
         "hovertemplate": "<b style='font-size:16px; color:#000000;'> %{customdata[0]}</b><br>Team: %{customdata[1]}<br>Position: %{customdata[2]}<br>Age: %{customdata[3]} years<br>Height: %{customdata[4]} m<br>Weight: %{customdata[5]} kg<br>PPG: %{customdata[6]}<br>RPG: %{customdata[7]}<br>APG: %{customdata[8]}<br>PIE: %{customdata[9]}<br><extra></extra>",
         "legendgroup": "F-C",
         "marker": {
          "color": "#FFA15A",
          "size": 20,
          "symbol": "circle"
         },
         "mode": "markers+text",
         "name": "F-C",
         "orientation": "v",
         "showlegend": true,
         "text": [
          "Kristaps Porzingis",
          "Daniel Gafford",
          "Dwight Powell"
         ],
         "textfont": {
          "size": 14
         },
         "textposition": "bottom center",
         "type": "scatter",
         "x": [
          0.9498577808475879,
          0.4991425673187983,
          -0.9868435671800307
         ],
         "xaxis": "x",
         "y": [
          -2.0186595346513445,
          -1.0922341384616263,
          -0.9453224266024909
         ],
         "yaxis": "y"
        },
        {
         "customdata": [
          [
           "Svi Mykhailiuk",
           "BOS",
           "G-F",
           26,
           2.01,
           93,
           4,
           1.2,
           0.9,
           7.7
          ],
          [
           "Tim Hardaway Jr.",
           "DAL",
           "G-F",
           32,
           1.96,
           93,
           14.4,
           3.2,
           1.8,
           8.3
          ]
         ],
         "hovertemplate": "<b style='font-size:16px; color:#000000;'> %{customdata[0]}</b><br>Team: %{customdata[1]}<br>Position: %{customdata[2]}<br>Age: %{customdata[3]} years<br>Height: %{customdata[4]} m<br>Weight: %{customdata[5]} kg<br>PPG: %{customdata[6]}<br>RPG: %{customdata[7]}<br>APG: %{customdata[8]}<br>PIE: %{customdata[9]}<br><extra></extra>",
         "legendgroup": "G-F",
         "marker": {
          "color": "#19d3f3",
          "size": 20,
          "symbol": "circle"
         },
         "mode": "markers+text",
         "name": "G-F",
         "orientation": "v",
         "showlegend": true,
         "text": [
          "Svi Mykhailiuk",
          "Tim Hardaway Jr."
         ],
         "textfont": {
          "size": 14
         },
         "textposition": "bottom center",
         "type": "scatter",
         "x": [
          -0.9935669283682771,
          -0.31521019484454976
         ],
         "xaxis": "x",
         "y": [
          0.18482579948581046,
          0.6207712179439857
         ],
         "yaxis": "y"
        },
        {
         "customdata": [
          [
           "Neemias Queta",
           "BOS",
           "C",
           24,
           2.13,
           112,
           5.5,
           4.4,
           0.7,
           12.3
          ],
          [
           "Dereck Lively II",
           "DAL",
           "C",
           20,
           2.16,
           104,
           8.8,
           6.9,
           1.1,
           10.2
          ]
         ],
         "hovertemplate": "<b style='font-size:16px; color:#000000;'> %{customdata[0]}</b><br>Team: %{customdata[1]}<br>Position: %{customdata[2]}<br>Age: %{customdata[3]} years<br>Height: %{customdata[4]} m<br>Weight: %{customdata[5]} kg<br>PPG: %{customdata[6]}<br>RPG: %{customdata[7]}<br>APG: %{customdata[8]}<br>PIE: %{customdata[9]}<br><extra></extra>",
         "legendgroup": "C",
         "marker": {
          "color": "#FF6692",
          "size": 20,
          "symbol": "circle"
         },
         "mode": "markers+text",
         "name": "C",
         "orientation": "v",
         "showlegend": true,
         "text": [
          "Neemias Queta",
          "Dereck Lively II"
         ],
         "textfont": {
          "size": 14
         },
         "textposition": "bottom center",
         "type": "scatter",
         "x": [
          -0.1829366870655057,
          0.2533304945200033
         ],
         "xaxis": "x",
         "y": [
          -1.5723857570605348,
          -1.750967110771012
         ],
         "yaxis": "y"
        }
       ],
       "layout": {
        "font": {
         "family": "Courier New, monospace",
         "size": 18
        },
        "height": 700,
        "legend": {
         "title": {
          "text": "Position"
         },
         "tracegroupgap": 0
        },
        "margin": {
         "t": 60
        },
        "template": {
         "data": {
          "bar": [
           {
            "error_x": {
             "color": "#2a3f5f"
            },
            "error_y": {
             "color": "#2a3f5f"
            },
            "marker": {
             "line": {
              "color": "#E5ECF6",
              "width": 0.5
             },
             "pattern": {
              "fillmode": "overlay",
              "size": 10,
              "solidity": 0.2
             }
            },
            "type": "bar"
           }
          ],
          "barpolar": [
           {
            "marker": {
             "line": {
              "color": "#E5ECF6",
              "width": 0.5
             },
             "pattern": {
              "fillmode": "overlay",
              "size": 10,
              "solidity": 0.2
             }
            },
            "type": "barpolar"
           }
          ],
          "carpet": [
           {
            "aaxis": {
             "endlinecolor": "#2a3f5f",
             "gridcolor": "white",
             "linecolor": "white",
             "minorgridcolor": "white",
             "startlinecolor": "#2a3f5f"
            },
            "baxis": {
             "endlinecolor": "#2a3f5f",
             "gridcolor": "white",
             "linecolor": "white",
             "minorgridcolor": "white",
             "startlinecolor": "#2a3f5f"
            },
            "type": "carpet"
           }
          ],
          "choropleth": [
           {
            "colorbar": {
             "outlinewidth": 0,
             "ticks": ""
            },
            "type": "choropleth"
           }
          ],
          "contour": [
           {
            "colorbar": {
             "outlinewidth": 0,
             "ticks": ""
            },
            "colorscale": [
             [
              0,
              "#0d0887"
             ],
             [
              0.1111111111111111,
              "#46039f"
             ],
             [
              0.2222222222222222,
              "#7201a8"
             ],
             [
              0.3333333333333333,
              "#9c179e"
             ],
             [
              0.4444444444444444,
              "#bd3786"
             ],
             [
              0.5555555555555556,
              "#d8576b"
             ],
             [
              0.6666666666666666,
              "#ed7953"
             ],
             [
              0.7777777777777778,
              "#fb9f3a"
             ],
             [
              0.8888888888888888,
              "#fdca26"
             ],
             [
              1,
              "#f0f921"
             ]
            ],
            "type": "contour"
           }
          ],
          "contourcarpet": [
           {
            "colorbar": {
             "outlinewidth": 0,
             "ticks": ""
            },
            "type": "contourcarpet"
           }
          ],
          "heatmap": [
           {
            "colorbar": {
             "outlinewidth": 0,
             "ticks": ""
            },
            "colorscale": [
             [
              0,
              "#0d0887"
             ],
             [
              0.1111111111111111,
              "#46039f"
             ],
             [
              0.2222222222222222,
              "#7201a8"
             ],
             [
              0.3333333333333333,
              "#9c179e"
             ],
             [
              0.4444444444444444,
              "#bd3786"
             ],
             [
              0.5555555555555556,
              "#d8576b"
             ],
             [
              0.6666666666666666,
              "#ed7953"
             ],
             [
              0.7777777777777778,
              "#fb9f3a"
             ],
             [
              0.8888888888888888,
              "#fdca26"
             ],
             [
              1,
              "#f0f921"
             ]
            ],
            "type": "heatmap"
           }
          ],
          "heatmapgl": [
           {
            "colorbar": {
             "outlinewidth": 0,
             "ticks": ""
            },
            "colorscale": [
             [
              0,
              "#0d0887"
             ],
             [
              0.1111111111111111,
              "#46039f"
             ],
             [
              0.2222222222222222,
              "#7201a8"
             ],
             [
              0.3333333333333333,
              "#9c179e"
             ],
             [
              0.4444444444444444,
              "#bd3786"
             ],
             [
              0.5555555555555556,
              "#d8576b"
             ],
             [
              0.6666666666666666,
              "#ed7953"
             ],
             [
              0.7777777777777778,
              "#fb9f3a"
             ],
             [
              0.8888888888888888,
              "#fdca26"
             ],
             [
              1,
              "#f0f921"
             ]
            ],
            "type": "heatmapgl"
           }
          ],
          "histogram": [
           {
            "marker": {
             "pattern": {
              "fillmode": "overlay",
              "size": 10,
              "solidity": 0.2
             }
            },
            "type": "histogram"
           }
          ],
          "histogram2d": [
           {
            "colorbar": {
             "outlinewidth": 0,
             "ticks": ""
            },
            "colorscale": [
             [
              0,
              "#0d0887"
             ],
             [
              0.1111111111111111,
              "#46039f"
             ],
             [
              0.2222222222222222,
              "#7201a8"
             ],
             [
              0.3333333333333333,
              "#9c179e"
             ],
             [
              0.4444444444444444,
              "#bd3786"
             ],
             [
              0.5555555555555556,
              "#d8576b"
             ],
             [
              0.6666666666666666,
              "#ed7953"
             ],
             [
              0.7777777777777778,
              "#fb9f3a"
             ],
             [
              0.8888888888888888,
              "#fdca26"
             ],
             [
              1,
              "#f0f921"
             ]
            ],
            "type": "histogram2d"
           }
          ],
          "histogram2dcontour": [
           {
            "colorbar": {
             "outlinewidth": 0,
             "ticks": ""
            },
            "colorscale": [
             [
              0,
              "#0d0887"
             ],
             [
              0.1111111111111111,
              "#46039f"
             ],
             [
              0.2222222222222222,
              "#7201a8"
             ],
             [
              0.3333333333333333,
              "#9c179e"
             ],
             [
              0.4444444444444444,
              "#bd3786"
             ],
             [
              0.5555555555555556,
              "#d8576b"
             ],
             [
              0.6666666666666666,
              "#ed7953"
             ],
             [
              0.7777777777777778,
              "#fb9f3a"
             ],
             [
              0.8888888888888888,
              "#fdca26"
             ],
             [
              1,
              "#f0f921"
             ]
            ],
            "type": "histogram2dcontour"
           }
          ],
          "mesh3d": [
           {
            "colorbar": {
             "outlinewidth": 0,
             "ticks": ""
            },
            "type": "mesh3d"
           }
          ],
          "parcoords": [
           {
            "line": {
             "colorbar": {
              "outlinewidth": 0,
              "ticks": ""
             }
            },
            "type": "parcoords"
           }
          ],
          "pie": [
           {
            "automargin": true,
            "type": "pie"
           }
          ],
          "scatter": [
           {
            "fillpattern": {
             "fillmode": "overlay",
             "size": 10,
             "solidity": 0.2
            },
            "type": "scatter"
           }
          ],
          "scatter3d": [
           {
            "line": {
             "colorbar": {
              "outlinewidth": 0,
              "ticks": ""
             }
            },
            "marker": {
             "colorbar": {
              "outlinewidth": 0,
              "ticks": ""
             }
            },
            "type": "scatter3d"
           }
          ],
          "scattercarpet": [
           {
            "marker": {
             "colorbar": {
              "outlinewidth": 0,
              "ticks": ""
             }
            },
            "type": "scattercarpet"
           }
          ],
          "scattergeo": [
           {
            "marker": {
             "colorbar": {
              "outlinewidth": 0,
              "ticks": ""
             }
            },
            "type": "scattergeo"
           }
          ],
          "scattergl": [
           {
            "marker": {
             "colorbar": {
              "outlinewidth": 0,
              "ticks": ""
             }
            },
            "type": "scattergl"
           }
          ],
          "scattermapbox": [
           {
            "marker": {
             "colorbar": {
              "outlinewidth": 0,
              "ticks": ""
             }
            },
            "type": "scattermapbox"
           }
          ],
          "scatterpolar": [
           {
            "marker": {
             "colorbar": {
              "outlinewidth": 0,
              "ticks": ""
             }
            },
            "type": "scatterpolar"
           }
          ],
          "scatterpolargl": [
           {
            "marker": {
             "colorbar": {
              "outlinewidth": 0,
              "ticks": ""
             }
            },
            "type": "scatterpolargl"
           }
          ],
          "scatterternary": [
           {
            "marker": {
             "colorbar": {
              "outlinewidth": 0,
              "ticks": ""
             }
            },
            "type": "scatterternary"
           }
          ],
          "surface": [
           {
            "colorbar": {
             "outlinewidth": 0,
             "ticks": ""
            },
            "colorscale": [
             [
              0,
              "#0d0887"
             ],
             [
              0.1111111111111111,
              "#46039f"
             ],
             [
              0.2222222222222222,
              "#7201a8"
             ],
             [
              0.3333333333333333,
              "#9c179e"
             ],
             [
              0.4444444444444444,
              "#bd3786"
             ],
             [
              0.5555555555555556,
              "#d8576b"
             ],
             [
              0.6666666666666666,
              "#ed7953"
             ],
             [
              0.7777777777777778,
              "#fb9f3a"
             ],
             [
              0.8888888888888888,
              "#fdca26"
             ],
             [
              1,
              "#f0f921"
             ]
            ],
            "type": "surface"
           }
          ],
          "table": [
           {
            "cells": {
             "fill": {
              "color": "#EBF0F8"
             },
             "line": {
              "color": "white"
             }
            },
            "header": {
             "fill": {
              "color": "#C8D4E3"
             },
             "line": {
              "color": "white"
             }
            },
            "type": "table"
           }
          ]
         },
         "layout": {
          "annotationdefaults": {
           "arrowcolor": "#2a3f5f",
           "arrowhead": 0,
           "arrowwidth": 1
          },
          "autotypenumbers": "strict",
          "coloraxis": {
           "colorbar": {
            "outlinewidth": 0,
            "ticks": ""
           }
          },
          "colorscale": {
           "diverging": [
            [
             0,
             "#8e0152"
            ],
            [
             0.1,
             "#c51b7d"
            ],
            [
             0.2,
             "#de77ae"
            ],
            [
             0.3,
             "#f1b6da"
            ],
            [
             0.4,
             "#fde0ef"
            ],
            [
             0.5,
             "#f7f7f7"
            ],
            [
             0.6,
             "#e6f5d0"
            ],
            [
             0.7,
             "#b8e186"
            ],
            [
             0.8,
             "#7fbc41"
            ],
            [
             0.9,
             "#4d9221"
            ],
            [
             1,
             "#276419"
            ]
           ],
           "sequential": [
            [
             0,
             "#0d0887"
            ],
            [
             0.1111111111111111,
             "#46039f"
            ],
            [
             0.2222222222222222,
             "#7201a8"
            ],
            [
             0.3333333333333333,
             "#9c179e"
            ],
            [
             0.4444444444444444,
             "#bd3786"
            ],
            [
             0.5555555555555556,
             "#d8576b"
            ],
            [
             0.6666666666666666,
             "#ed7953"
            ],
            [
             0.7777777777777778,
             "#fb9f3a"
            ],
            [
             0.8888888888888888,
             "#fdca26"
            ],
            [
             1,
             "#f0f921"
            ]
           ],
           "sequentialminus": [
            [
             0,
             "#0d0887"
            ],
            [
             0.1111111111111111,
             "#46039f"
            ],
            [
             0.2222222222222222,
             "#7201a8"
            ],
            [
             0.3333333333333333,
             "#9c179e"
            ],
            [
             0.4444444444444444,
             "#bd3786"
            ],
            [
             0.5555555555555556,
             "#d8576b"
            ],
            [
             0.6666666666666666,
             "#ed7953"
            ],
            [
             0.7777777777777778,
             "#fb9f3a"
            ],
            [
             0.8888888888888888,
             "#fdca26"
            ],
            [
             1,
             "#f0f921"
            ]
           ]
          },
          "colorway": [
           "#636efa",
           "#EF553B",
           "#00cc96",
           "#ab63fa",
           "#FFA15A",
           "#19d3f3",
           "#FF6692",
           "#B6E880",
           "#FF97FF",
           "#FECB52"
          ],
          "font": {
           "color": "#2a3f5f"
          },
          "geo": {
           "bgcolor": "white",
           "lakecolor": "white",
           "landcolor": "#E5ECF6",
           "showlakes": true,
           "showland": true,
           "subunitcolor": "white"
          },
          "hoverlabel": {
           "align": "left"
          },
          "hovermode": "closest",
          "mapbox": {
           "style": "light"
          },
          "paper_bgcolor": "white",
          "plot_bgcolor": "#E5ECF6",
          "polar": {
           "angularaxis": {
            "gridcolor": "white",
            "linecolor": "white",
            "ticks": ""
           },
           "bgcolor": "#E5ECF6",
           "radialaxis": {
            "gridcolor": "white",
            "linecolor": "white",
            "ticks": ""
           }
          },
          "scene": {
           "xaxis": {
            "backgroundcolor": "#E5ECF6",
            "gridcolor": "white",
            "gridwidth": 2,
            "linecolor": "white",
            "showbackground": true,
            "ticks": "",
            "zerolinecolor": "white"
           },
           "yaxis": {
            "backgroundcolor": "#E5ECF6",
            "gridcolor": "white",
            "gridwidth": 2,
            "linecolor": "white",
            "showbackground": true,
            "ticks": "",
            "zerolinecolor": "white"
           },
           "zaxis": {
            "backgroundcolor": "#E5ECF6",
            "gridcolor": "white",
            "gridwidth": 2,
            "linecolor": "white",
            "showbackground": true,
            "ticks": "",
            "zerolinecolor": "white"
           }
          },
          "shapedefaults": {
           "line": {
            "color": "#2a3f5f"
           }
          },
          "ternary": {
           "aaxis": {
            "gridcolor": "white",
            "linecolor": "white",
            "ticks": ""
           },
           "baxis": {
            "gridcolor": "white",
            "linecolor": "white",
            "ticks": ""
           },
           "bgcolor": "#E5ECF6",
           "caxis": {
            "gridcolor": "white",
            "linecolor": "white",
            "ticks": ""
           }
          },
          "title": {
           "x": 0.05
          },
          "xaxis": {
           "automargin": true,
           "gridcolor": "white",
           "linecolor": "white",
           "ticks": "",
           "title": {
            "standoff": 15
           },
           "zerolinecolor": "white",
           "zerolinewidth": 2
          },
          "yaxis": {
           "automargin": true,
           "gridcolor": "white",
           "linecolor": "white",
           "ticks": "",
           "title": {
            "standoff": 15
           },
           "zerolinecolor": "white",
           "zerolinewidth": 2
          }
         }
        },
        "title": {
         "text": "Proyección de Jugadores"
        },
        "width": 800,
        "xaxis": {
         "anchor": "y",
         "domain": [
          0,
          1
         ],
         "title": {
          "text": "Desempeño en la cancha"
         }
        },
        "yaxis": {
         "anchor": "x",
         "domain": [
          0,
          1
         ],
         "title": {
          "text": "Talla del jugador"
         }
        }
       }
      }
     },
     "metadata": {},
     "output_type": "display_data"
    }
   ],
   "source": [
    "plot_FA(f_scores_varimax_LS,'F2','F3',['Desempeño en la cancha','Talla del jugador'],'Player','Pos','Position')"
   ]
  },
  {
   "cell_type": "markdown",
   "metadata": {},
   "source": [
    "# Prueba de hipótesis"
   ]
  },
  {
   "cell_type": "code",
   "execution_count": 158,
   "metadata": {},
   "outputs": [
    {
     "name": "stdout",
     "output_type": "stream",
     "text": [
      "Grados de libertad:  7.0\n",
      "Estadístico Chi cuadrado 14.067140449340169\n",
      "El valor del estadístico de prueba es: 0.43392535446828856\n",
      "0.433925 < 14.067140\n",
      "De modo, que la hipótesis H0 NO se rechaza con un grado de confianza de  0.95\n"
     ]
    }
   ],
   "source": [
    "n = len(NumPlayers)\n",
    "p = 8\n",
    "\n",
    "# Compute the original variance and covariance matrix\n",
    "Smtx_or = NumPlayers_z.cov()\n",
    "\n",
    "# Perform the hypothesis test for m = 3\n",
    "decision(n,p,3,Lmtx_LL_varimax,Psi_LL_varimax,Smtx_or,alpha_5)"
   ]
  },
  {
   "cell_type": "code",
   "execution_count": 166,
   "metadata": {},
   "outputs": [
    {
     "data": {
      "text/plain": [
       "0.0002698428989532276"
      ]
     },
     "execution_count": 166,
     "metadata": {},
     "output_type": "execute_result"
    }
   ],
   "source": [
    "# numerador\n",
    "a = np.linalg.det(np.dot(Lmtx_LL_varimax,Lmtx_LL_varimax.T)+np.diag(Psi_LL_varimax))\n",
    "a"
   ]
  },
  {
   "cell_type": "code",
   "execution_count": 167,
   "metadata": {},
   "outputs": [
    {
     "data": {
      "text/plain": [
       "0.000264451365038209"
      ]
     },
     "execution_count": 167,
     "metadata": {},
     "output_type": "execute_result"
    }
   ],
   "source": [
    "# Denominador\n",
    "b = np.linalg.det(NumPlayers_z.cov())\n",
    "b"
   ]
  },
  {
   "cell_type": "code",
   "execution_count": 168,
   "metadata": {},
   "outputs": [
    {
     "data": {
      "text/plain": [
       "0.020182574626432026"
      ]
     },
     "execution_count": 168,
     "metadata": {},
     "output_type": "execute_result"
    }
   ],
   "source": [
    "np.log(a/b)"
   ]
  }
 ],
 "metadata": {
  "kernelspec": {
   "display_name": "base",
   "language": "python",
   "name": "python3"
  },
  "language_info": {
   "codemirror_mode": {
    "name": "ipython",
    "version": 3
   },
   "file_extension": ".py",
   "mimetype": "text/x-python",
   "name": "python",
   "nbconvert_exporter": "python",
   "pygments_lexer": "ipython3",
   "version": "3.1.undefined"
  }
 },
 "nbformat": 4,
 "nbformat_minor": 2
}
